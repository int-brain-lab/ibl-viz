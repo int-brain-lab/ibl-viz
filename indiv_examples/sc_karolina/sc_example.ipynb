{
 "cells": [
  {
   "cell_type": "code",
   "execution_count": 47,
   "metadata": {},
   "outputs": [],
   "source": [
    "import pandas as pd\n",
    "import iblatlas.atlas as atlas\n",
    "CCFAtlas = atlas.AllenAtlas()\n",
    "\n",
    "# to run this script you need to install the unityneuro package by running `pip install unityneuro` inside your iblenv environment\n",
    "# see https://virtualbrainlab.org/03_unity_neuro/01_urn_intro.html for additional details\n",
    "import unityneuro.render as urn"
   ]
  },
  {
   "cell_type": "code",
   "execution_count": 2,
   "metadata": {},
   "outputs": [],
   "source": [
    "all_clusters = pd.read_csv('./df_SC_allClusters.csv')"
   ]
  },
  {
   "cell_type": "code",
   "execution_count": 19,
   "metadata": {},
   "outputs": [],
   "source": [
    "# convert xyz coordinates to CCF mlapdv coordinates\n",
    "ml = []\n",
    "ap = []\n",
    "dv = []\n",
    "\n",
    "for i, row in all_clusters.iterrows():\n",
    "    xyz = [row['x'], row['y'], row['z']]\n",
    "    mlapdv = CCFAtlas.xyz2ccf(xyz)\n",
    "    ml.append(round(mlapdv[0]))\n",
    "    ap.append(round(mlapdv[1]))\n",
    "    dv.append(round(mlapdv[2]))\n",
    "\n",
    "all_clusters['ml'] = ml\n",
    "all_clusters['ap'] = ap\n",
    "all_clusters['dv'] = dv"
   ]
  },
  {
   "cell_type": "code",
   "execution_count": 11,
   "metadata": {},
   "outputs": [
    {
     "name": "stdout",
     "output_type": "stream",
     "text": [
      "(URN) connected to server\n",
      "Login sent with ID: Dan\n"
     ]
    }
   ],
   "source": [
    "# open the renderer webpage -- only need to run this once\n",
    "urn.setup()\n",
    "# documentation for urchin API is here: https://virtualbrainlab.org/_autosummary/unityneuro.render.html"
   ]
  },
  {
   "cell_type": "code",
   "execution_count": 38,
   "metadata": {},
   "outputs": [],
   "source": [
    "# move the camera \n",
    "urn.set_camera_target_area('SCs')"
   ]
  },
  {
   "cell_type": "code",
   "execution_count": 40,
   "metadata": {},
   "outputs": [],
   "source": [
    "# clear areas, then add the whole brain as a very transparent background \n",
    "urn.clear_areas()\n",
    "\n",
    "urn.set_area_visibility({'grey':True})\n",
    "urn.set_area_material({'grey':'transparent-unlit'})\n",
    "urn.set_area_alpha({'grey':0.15})\n",
    "\n",
    "# then add SCs and SCm, you can optionally set colors by using urn.set_area_color\n",
    "urn.set_area_visibility({'SCs':True, 'SCm':True})\n",
    "urn.set_area_material({'SCs':'transparent-unlit', 'SCm':'transparent-unlit'})\n",
    "urn.set_area_alpha({'SCs':0.25, 'SCm':0.25})"
   ]
  },
  {
   "cell_type": "code",
   "execution_count": 44,
   "metadata": {},
   "outputs": [],
   "source": [
    "# clear neurons, then re-build the neuron dictionaries\n",
    "# if you want to do per-neuron colors you can add that inside the loop\n",
    "urn.clear_neurons()\n",
    "\n",
    "neuron_names = []\n",
    "neuron_pos = {}\n",
    "neuron_size = {}\n",
    "neuron_shape = {}\n",
    "neuron_color = {}\n",
    "\n",
    "for i, row in all_clusters.iterrows():\n",
    "    name = 'n' + str(i)\n",
    "\n",
    "    neuron_names.append(name)\n",
    "    neuron_pos[name] = [row.ml, row.ap, row.dv]\n",
    "    neuron_size[name] = 0.020\n",
    "    neuron_shape[name] = 'sphere'\n",
    "    neuron_color[name] = '#00ffff'\n"
   ]
  },
  {
   "cell_type": "code",
   "execution_count": 45,
   "metadata": {},
   "outputs": [],
   "source": [
    "\n",
    "# create the neuron objects\n",
    "urn.create_neurons(neuron_names)"
   ]
  },
  {
   "cell_type": "code",
   "execution_count": 46,
   "metadata": {},
   "outputs": [],
   "source": [
    "\n",
    "# set the neuron object data\n",
    "urn.set_neuron_positions(neuron_pos)\n",
    "urn.set_neuron_sizes(neuron_size)\n",
    "urn.set_neuron_shapes(neuron_shape)\n",
    "urn.set_neuron_colors(neuron_color)"
   ]
  }
 ],
 "metadata": {
  "kernelspec": {
   "display_name": "Python 3.9.0 ('iblenv')",
   "language": "python",
   "name": "python3"
  },
  "language_info": {
   "codemirror_mode": {
    "name": "ipython",
    "version": 3
   },
   "file_extension": ".py",
   "mimetype": "text/x-python",
   "name": "python",
   "nbconvert_exporter": "python",
   "pygments_lexer": "ipython3",
   "version": "3.9.0"
  },
  "orig_nbformat": 4,
  "vscode": {
   "interpreter": {
    "hash": "e571d860348ccccbb87c9afaea3b8de5dc8c1513265a6c0fcfe6ac69a4d3ce4b"
   }
  }
 },
 "nbformat": 4,
 "nbformat_minor": 2
}
