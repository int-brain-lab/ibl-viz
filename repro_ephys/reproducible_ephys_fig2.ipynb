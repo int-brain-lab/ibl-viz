{
 "cells": [
  {
   "cell_type": "code",
   "execution_count": null,
   "id": "ab18064c-ed63-491b-a4ba-1de2d47659cb",
   "metadata": {},
   "outputs": [
    {
     "name": "stdout",
     "output_type": "stream",
     "text": [
      "The autoreload extension is already loaded. To reload it, use:\n",
      "  %reload_ext autoreload\n"
     ]
    }
   ],
   "source": [
    "%load_ext autoreload\n",
    "%autoreload 2\n",
    "import time\n",
    "import numpy as np\n",
    "from ibllib.atlas.regions import BrainRegions\n",
    "from one.api import ONE\n",
    "import ibllib.atlas as atlas\n",
    "import pickle\n",
    "import pandas as pd\n",
    "import unityneuro.render as urn\n",
    "\"\"\"\n",
    "Display all trajectories in one single brain volume\n",
    "Author: Mayo, Gaelle, Dan\n",
    "\"\"\"\n",
    "\n",
    "import numpy as np\n",
    "\n",
    "one = ONE()\n",
    "ba = atlas.AllenAtlas(25)"
   ]
  },
  {
   "cell_type": "code",
   "execution_count": 2,
   "id": "f72fd51b-9f75-4731-9cf6-faed16fa2692",
   "metadata": {},
   "outputs": [],
   "source": [
    "from brainbox.io.one import SpikeSortingLoader"
   ]
  },
  {
   "cell_type": "code",
   "execution_count": 2,
   "id": "3617eaaf-ee44-4067-a40a-234e8e60f555",
   "metadata": {},
   "outputs": [
    {
     "name": "stdout",
     "output_type": "stream",
     "text": [
      "(URN) connected to server\n",
      "Login sent with ID: Dan\n"
     ]
    }
   ],
   "source": [
    "urn.setup(standalone=True)"
   ]
  },
  {
   "cell_type": "markdown",
   "id": "bc1bbdfc-8a29-49b5-b4c0-be7d37489133",
   "metadata": {
    "tags": []
   },
   "source": [
    "# Export all histology alignments"
   ]
  },
  {
   "cell_type": "code",
   "execution_count": 6,
   "id": "7008a052-7843-4195-a848-8d2b66a23322",
   "metadata": {},
   "outputs": [],
   "source": [
    "bwm_trajs = one.alyx.rest('trajectories', 'list', provenance='Ephys aligned histology track',\n",
    "                                   project='ibl_neuropixel_brainwide_01', use_cache=False)"
   ]
  },
  {
   "cell_type": "code",
   "execution_count": 52,
   "id": "0e83b572-9d4c-4385-a9b1-d494aec52a99",
   "metadata": {
    "scrolled": true,
    "tags": []
   },
   "outputs": [],
   "source": [
    "traj_data = pd.DataFrame(columns=['pid','lab','ml','ap','dv','phi','theta','depth'])\n",
    "for i,traj in enumerate(bwm_trajs):\n",
    "    ins = atlas.Insertion.from_dict(traj)\n",
    "\n",
    "    mlapdv = np.round(ba.xyz2ccf(ins.tip))\n",
    "\n",
    "    traj_data.loc[i] = [traj['probe_insertion'],traj['session']['lab'],mlapdv[0],mlapdv[1],mlapdv[2],traj['phi'],traj['theta'],traj['depth']]"
   ]
  },
  {
   "cell_type": "code",
   "execution_count": 57,
   "id": "6a9d8e9b-91ac-42f9-a8d5-a623eabe6c9c",
   "metadata": {},
   "outputs": [],
   "source": [
    "traj_data.to_csv('bwm_trajectory_data.csv',float_format='%.03f')"
   ]
  },
  {
   "cell_type": "code",
   "execution_count": 59,
   "id": "6d93c03c-86cf-4ba8-83ab-e6008db47ad5",
   "metadata": {},
   "outputs": [
    {
     "data": {
      "text/plain": [
       "array(['angelakilab', 'churchlandlab', 'churchlandlab_ucla', 'cortexlab',\n",
       "       'danlab', 'hoferlab', 'mainenlab', 'mrsicflogellab',\n",
       "       'steinmetzlab', 'wittenlab', 'zadorlab'], dtype=object)"
      ]
     },
     "execution_count": 59,
     "metadata": {},
     "output_type": "execute_result"
    }
   ],
   "source": [
    "np.unique(traj_data['lab'].values)"
   ]
  },
  {
   "cell_type": "markdown",
   "id": "05059101-6869-4b6b-9472-249e31a534aa",
   "metadata": {},
   "source": [
    "# Reproducible ephys trajectories"
   ]
  },
  {
   "cell_type": "code",
   "execution_count": 3,
   "id": "756ca645-456c-4e67-be46-ec72b03b95da",
   "metadata": {},
   "outputs": [],
   "source": [
    "trajectories = one.alyx.rest('trajectories', 'list', provenance='Planned', x=-2243, y=-2000, theta=15,\n",
    "                                   project='ibl_neuropixel_brainwide_01', use_cache=False)"
   ]
  },
  {
   "cell_type": "code",
   "execution_count": 4,
   "id": "ef20a45f-c7a7-41e1-8bc5-117e301e4601",
   "metadata": {},
   "outputs": [],
   "source": [
    "def getCoords(ins):\n",
    "    entry_coords = ba.xyz2ccf(ins.entry)\n",
    "    tip_coords = ba.xyz2ccf(ins.tip)\n",
    "    tip_angles = [ins.phi, ins.theta, ins.beta]\n",
    "    recording_size = np.sqrt(np.sum(np.power(entry_coords-tip_coords,2)))\n",
    "    return (tip_coords, tip_angles, recording_size)"
   ]
  },
  {
   "cell_type": "code",
   "execution_count": null,
   "id": "f5fdf2b2-da13-44c6-aa2f-e0bc6ff34354",
   "metadata": {},
   "outputs": [],
   "source": [
    "#This block is only needed if you are re-running this from scratch, otherwise just load the .pkl file\n",
    "\n",
    "# Pull the micro-manip and histology tracks for each of these recordings\n",
    "data = {}\n",
    "\n",
    "\n",
    "\n",
    "for traj in trajectories:\n",
    "    pid = traj['probe_insertion']\n",
    "    \n",
    "    \n",
    "    traj_histology = one.alyx.rest('trajectories', 'list',\n",
    "        provenance='Ephys aligned histology track',\n",
    "        probe_insertion=pid, use_cache=False)\n",
    "\n",
    "    if len(traj_histology) == 0:\n",
    "        traj_histology = one.alyx.rest('trajectories', 'list', provenance='Histology track',\n",
    "            probe_insertion=pid, use_cache=False)\n",
    "        \n",
    "    traj_micro = one.alyx.rest('trajectories', 'list',\n",
    "        provenance='Micro-manipulator',\n",
    "        probe_insertion=pid, use_cahce=False)\n",
    "\n",
    "    # skip any sessions that we are missing histology for\n",
    "    if len(traj_histology) == 0:\n",
    "        continue\n",
    "\n",
    "    if not traj_histology[0]['x']:\n",
    "        continue\n",
    "\n",
    "    ins_planned = atlas.Insertion.from_dict(traj)\n",
    "    ins_micro = atlas.Insertion.from_dict(traj_histology[0])\n",
    "    ins_histology = atlas.Insertion.from_dict(traj_micro[0])\n",
    "    \n",
    "    \n",
    "\n",
    "    data[pid] = {}\n",
    "    data[pid]['planned'] = getCoords(ins_planned)\n",
    "    data[pid]['micro-manip'] = getCoords(ins_micro)\n",
    "    data[pid]['histology'] = getCoords(ins_histology)\n",
    "    \n",
    "pickle.dump(data,open( './data/gaelle/ibl_repro_ephys_traj.pkl', \"wb\" ))"
   ]
  },
  {
   "cell_type": "code",
   "execution_count": 5,
   "id": "40e9eddd-2087-4501-a3e4-8f7f40ca5066",
   "metadata": {},
   "outputs": [],
   "source": [
    "data = pickle.load( open( \"./data/gaelle/ibl_repro_ephys_traj.pkl\", \"rb\" ) )\n"
   ]
  },
  {
   "cell_type": "code",
   "execution_count": 6,
   "id": "d05626c1-f066-4516-9761-85cfc5dfe43d",
   "metadata": {},
   "outputs": [],
   "source": [
    "import random\n",
    "r = lambda: random.randint(0,255)\n",
    "randHexColor = lambda : '#%02X%02X%02X' % (r(),r(),r())"
   ]
  },
  {
   "cell_type": "code",
   "execution_count": 11,
   "id": "210797b7-ace3-4b2a-a545-5fe6df4f60d3",
   "metadata": {},
   "outputs": [
    {
     "name": "stdout",
     "output_type": "stream",
     "text": [
      "(URN) disconnected from server\n",
      "(URN) connected to server\n",
      "Login sent with ID: Dan\n",
      "(URN) disconnected from server\n",
      "(URN) connected to server\n",
      "Login sent with ID: Dan\n",
      "(URN) disconnected from server\n",
      "(URN) connected to server\n",
      "Login sent with ID: Dan\n"
     ]
    }
   ],
   "source": [
    "# VIEW 1: Probe positions planned vs micro-manipulator\n",
    "urn.clear()\n",
    "count = 0\n",
    "\n",
    "vdata = {'VISa': True, 'CA1': True, 'DG': True, 'LP': True, 'PO': True}\n",
    "urn.set_area_visibility(vdata)\n",
    "vdata = {'VISa': 'transparent-lit', 'CA1': 'transparent-lit', 'DG': 'transparent-lit', 'LP': 'transparent-lit', 'PO': 'transparent-lit'}\n",
    "urn.set_area_material(vdata)\n",
    "vdata = {'VISa': 0.4, 'CA1': 0.4, 'DG': 0.4, 'LP': 0.4, 'PO': 0.4}\n",
    "urn.set_area_alpha(vdata)\n",
    "\n",
    "for i, (pid, trajs) in enumerate(data.items()):\n",
    "    probeColor = randHexColor()\n",
    "    for j, (traj_type, traj) in enumerate(trajs.items()):\n",
    "        if traj_type == \"micro-manip\":\n",
    "            probename = 'p'+str(count)\n",
    "            count+=1\n",
    "            \n",
    "            tip_coords = traj[0]\n",
    "            tip_angles = traj[1]\n",
    "            recording_size = traj[2]\n",
    "\n",
    "            urn.create_probes([probename])\n",
    "            urn.set_probe_positions({probename:tip_coords.tolist()})\n",
    "            urn.set_probe_colors({probename:probeColor})\n",
    "            urn.set_probe_angles({probename:tip_angles})\n",
    "            urn.set_probe_size({probename:[0.07,recording_size/1000,0.02]})\n",
    "\n",
    "# # for some reason 'root' doesn't work?\n",
    "urn.set_area_visibility({8:True})\n",
    "urn.set_area_material({8:'transparent-unlit'})\n",
    "urn.set_area_color({8:'#000000'})\n",
    "urn.set_area_alpha({8:0.025})"
   ]
  },
  {
   "cell_type": "code",
   "execution_count": 9,
   "id": "4da99a77-a002-485d-af6c-f00d174b0034",
   "metadata": {},
   "outputs": [
    {
     "name": "stdout",
     "output_type": "stream",
     "text": [
      "(URN) disconnected from server\n"
     ]
    }
   ],
   "source": [
    "# VIEW 2: Probe positions micro-manip vs. histology\n",
    "\n",
    "urn.clear()\n",
    "count = 0\n",
    "\n",
    "for i, (pid, trajs) in enumerate(data.items()):\n",
    "    probeColor = randHexColor()\n",
    "\n",
    "#     vdata = {'VISa': True, 'CA1': True, 'DG': True, 'LP': True, 'PO': True}\n",
    "#     umr.set_area_visibility(vdata)\n",
    "#     vdata = {'VISa': 'transparent-lit', 'CA1': 'transparent-lit', 'DG': 'transparent-lit', 'LP': 'transparent-lit', 'PO': 'transparent-lit'}\n",
    "#     umr.set_area_shader(vdata)\n",
    "#     vdata = {'VISa': 0.4, 'CA1': 0.4, 'DG': 0.4, 'LP': 0.4, 'PO': 0.4}\n",
    "#     umr.set_area_alpha(vdata)\n",
    "\n",
    "#     # # for some reason 'root' doesn't work?\n",
    "#     umr.set_area_visibility({8:True})\n",
    "#     umr.set_area_shader({8:'transparent-unlit'})\n",
    "#     umr.set_area_color({8:'#000000'})\n",
    "#     umr.set_area_alpha({8:0.025})\n",
    "\n",
    "    for j, (traj_type, traj) in enumerate(trajs.items()):\n",
    "        if traj_type == \"planned\":\n",
    "            probename = 'p'+str(count)\n",
    "            count+=1\n",
    "            \n",
    "            tip_coords = traj[0]\n",
    "            tip_angles = traj[1]\n",
    "            recording_size = traj[2]\n",
    "\n",
    "            urn.create_probes([probename])\n",
    "            urn.set_probe_positions({probename:tip_coords.tolist()})\n",
    "            urn.set_probe_colors({probename:\"#000000\"})\n",
    "            urn.set_probe_angles({probename:tip_angles})\n",
    "            urn.set_probe_size({probename:[0.07,recording_size/1000,0.02]})\n",
    "            \n",
    "        if traj_type == \"micro-manip\":\n",
    "            probename = 'p'+str(count)\n",
    "            count+=1\n",
    "            \n",
    "            tip_coords = traj[0]\n",
    "            tip_angles = traj[1]\n",
    "            recording_size = traj[2]\n",
    "\n",
    "            urn.create_probes([probename])\n",
    "            urn.set_probe_positions({probename:tip_coords.tolist()})\n",
    "            urn.set_probe_colors({probename:\"#FF0000\"})\n",
    "            urn.set_probe_angles({probename:tip_angles})\n",
    "            urn.set_probe_size({probename:[0.07,recording_size/1000,0.02]})\n",
    "            \n",
    "        if traj_type == \"histology\":\n",
    "            probename = 'p'+str(count)\n",
    "            count+=1\n",
    "            \n",
    "            tip_coords = traj[0]\n",
    "            tip_angles = traj[1]\n",
    "            recording_size = traj[2]\n",
    "\n",
    "            urn.create_probes([probename])\n",
    "            urn.set_probe_positions({probename:tip_coords.tolist()})\n",
    "            urn.set_probe_colors({probename:\"#00FF00\"})\n",
    "            urn.set_probe_angles({probename:tip_angles})\n",
    "            urn.set_probe_size({probename:[0.07,recording_size/1000,0.02]})\n",
    "            \n"
   ]
  },
  {
   "cell_type": "code",
   "execution_count": null,
   "id": "15d9ef72-6e78-481b-b41f-001c9e5f6569",
   "metadata": {},
   "outputs": [],
   "source": []
  }
 ],
 "metadata": {
  "kernelspec": {
   "display_name": "Python 3 (ipykernel)",
   "language": "python",
   "name": "python3"
  },
  "language_info": {
   "codemirror_mode": {
    "name": "ipython",
    "version": 3
   },
   "file_extension": ".py",
   "mimetype": "text/x-python",
   "name": "python",
   "nbconvert_exporter": "python",
   "pygments_lexer": "ipython3",
   "version": "3.9.0"
  }
 },
 "nbformat": 4,
 "nbformat_minor": 5
}
