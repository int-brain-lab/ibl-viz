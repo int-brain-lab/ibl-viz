{
 "cells": [
  {
   "cell_type": "code",
   "execution_count": 58,
   "id": "4b31c198-751b-4319-bffe-7f857b88d961",
   "metadata": {},
   "outputs": [],
   "source": [
    "import oursin as urchin\n",
    "import pandas as pd\n",
    "import numpy as np\n",
    "from one.api import ONE\n",
    "one = ONE(base_url='https://openalyx.internationalbrainlab.org', password='international', silent=True)\n",
    "from reproducible_ephys_functions import *\n",
    "\n",
    "import ibllib.atlas as atlas\n",
    "CCFAtlas = atlas.AllenAtlas(25)\n",
    "NeedlesAtlas = atlas.NeedlesAtlas(25)\n",
    "\n",
    "import pandas as pd"
   ]
  },
  {
   "cell_type": "code",
   "execution_count": 2,
   "id": "fdec5cbc",
   "metadata": {},
   "outputs": [
    {
     "name": "stdout",
     "output_type": "stream",
     "text": [
      "/Users/dan/Documents/data/openalyx.internationalbrainlab.org/paper_repro_ephys_data/figure1\n",
      "/Users/dan/Documents/data/openalyx.internationalbrainlab.org/paper_repro_ephys_data/figure1/figures\n"
     ]
    }
   ],
   "source": [
    "\n",
    "from reproducible_ephys_functions import save_data_path, save_figure_path\n",
    "print(save_data_path(figure='figure1'))\n",
    "print(save_figure_path(figure='figure1'))\n"
   ]
  },
  {
   "cell_type": "code",
   "execution_count": 3,
   "id": "fe6a9179-d487-4b29-9b8b-70aa87bf897e",
   "metadata": {},
   "outputs": [],
   "source": [
    "def rgb_to_hex(rgb):\n",
    "    return '#%02x%02x%02x' % rgb"
   ]
  },
  {
   "cell_type": "code",
   "execution_count": 4,
   "id": "94a92ffb-cf81-4b24-864a-51e4a478fbd8",
   "metadata": {},
   "outputs": [],
   "source": [
    "def vec_dist(coord0, coord1):\n",
    "    return np.sqrt(np.sum(np.power([coord0[0]-coord1[0],coord0[1]-coord1[1],coord0[2]-coord1[2]],2)))"
   ]
  },
  {
   "cell_type": "code",
   "execution_count": 59,
   "id": "27d033f2",
   "metadata": {},
   "outputs": [],
   "source": [
    "insertions = get_histology_insertions(one=one, freeze='biorxiv_2022_05')\n",
    "\n",
    "# todo before you run this: run the actual download script reproducible_ephys_run.py"
   ]
  },
  {
   "cell_type": "code",
   "execution_count": 77,
   "id": "012afcaa",
   "metadata": {},
   "outputs": [
    {
     "data": {
      "text/plain": [
       "{'id': '034b3fbb-a901-40e8-af00-908a489d800f',\n",
       " 'probe_insertion': '0b8ea3ec-e75b-41a1-9442-64f5fbc11a5a',\n",
       " 'x': -2243.0,\n",
       " 'y': -2000.0,\n",
       " 'z': -169.0,\n",
       " 'depth': 4000.0,\n",
       " 'theta': 15.0,\n",
       " 'phi': 180.0,\n",
       " 'roll': 0.0,\n",
       " 'provenance': 'Planned',\n",
       " 'session': {'subject': 'ZFM-02368',\n",
       "  'start_time': '2021-06-01T16:24:33.849360',\n",
       "  'number': 1,\n",
       "  'lab': 'mainenlab',\n",
       "  'id': 'a4a74102-2af5-45dc-9e41-ef7f5aed88be',\n",
       "  'task_protocol': '_iblrig_tasks_ephysChoiceWorld6.4.2'},\n",
       " 'probe_name': 'probe00',\n",
       " 'coordinate_system': None,\n",
       " 'datetime': '2021-07-07T15:07:40.451799',\n",
       " 'json': None,\n",
       " 'chronic_insertion': None}"
      ]
     },
     "execution_count": 77,
     "metadata": {},
     "output_type": "execute_result"
    }
   ],
   "source": [
    "    insertions = get_insertions(level=0, one=one, freeze='biorxiv_2022_05')\n",
    "    for ins in insertions:\n",
    "        traj = one.alyx.rest('trajectories', 'list', provenance='Ephys aligned histology track',\n",
    "                             probe_insertion=ins['probe_insertion'])[0]\n",
    "\n",
    "        ins = Insertion.from_dict(traj)\n",
    "        mlapdv = ba.xyz2ccf(ins.xyz)"
   ]
  },
  {
   "cell_type": "code",
   "execution_count": null,
   "id": "f8d8e3df",
   "metadata": {},
   "outputs": [],
   "source": []
  },
  {
   "cell_type": "code",
   "execution_count": 76,
   "id": "f90c00d6",
   "metadata": {},
   "outputs": [
    {
     "ename": "HTTPError",
     "evalue": "[Errno 503] /trajectories?provenance=Ephys+aligned+histology+track&pid=36362f75-96d8-4ed4-a728-5e72284d0995: '<!DOCTYPE HTML PUBLIC \"-//IETF//DTD HTML 2.0//EN\">\\n<html><head>\\n<title>503 Service Unavailable</title>\\n</head><body>\\n<h1>Service Unavailable</h1>\\n<p>The server is temporarily unable to service your\\nrequest due to maintenance downtime or capacity\\nproblems. Please try again later.</p>\\n<hr>\\n<address>Apache/2.4.41 (Ubuntu) Server at openalyx.internationalbrainlab.org Port 443</address>\\n</body></html>\\n'",
     "output_type": "error",
     "traceback": [
      "\u001b[0;31m---------------------------------------------------------------------------\u001b[0m",
      "\u001b[0;31mHTTPError\u001b[0m                                 Traceback (most recent call last)",
      "Cell \u001b[0;32mIn[76], line 5\u001b[0m\n\u001b[1;32m      1\u001b[0m repro \u001b[39m=\u001b[39m pd\u001b[39m.\u001b[39mDataFrame(columns\u001b[39m=\u001b[39m[\u001b[39m'\u001b[39m\u001b[39mml\u001b[39m\u001b[39m'\u001b[39m,\u001b[39m'\u001b[39m\u001b[39map\u001b[39m\u001b[39m'\u001b[39m,\u001b[39m'\u001b[39m\u001b[39mdv\u001b[39m\u001b[39m'\u001b[39m,\u001b[39m'\u001b[39m\u001b[39mphi\u001b[39m\u001b[39m'\u001b[39m,\u001b[39m'\u001b[39m\u001b[39mtheta\u001b[39m\u001b[39m'\u001b[39m,\u001b[39m'\u001b[39m\u001b[39mdepth\u001b[39m\u001b[39m'\u001b[39m])\n\u001b[1;32m      3\u001b[0m \u001b[39mfor\u001b[39;00m i, insertion \u001b[39min\u001b[39;00m \u001b[39menumerate\u001b[39m(insertions):\n\u001b[0;32m----> 5\u001b[0m     real_insertion \u001b[39m=\u001b[39m one\u001b[39m.\u001b[39;49malyx\u001b[39m.\u001b[39;49mrest(\u001b[39m'\u001b[39;49m\u001b[39mtrajectories\u001b[39;49m\u001b[39m'\u001b[39;49m, \u001b[39m'\u001b[39;49m\u001b[39mlist\u001b[39;49m\u001b[39m'\u001b[39;49m, provenance\u001b[39m=\u001b[39;49m\u001b[39m'\u001b[39;49m\u001b[39mEphys aligned histology track\u001b[39;49m\u001b[39m'\u001b[39;49m,pid\u001b[39m=\u001b[39;49minsertion[\u001b[39m'\u001b[39;49m\u001b[39mprobe_insertion\u001b[39;49m\u001b[39m'\u001b[39;49m])\n\u001b[1;32m      6\u001b[0m     real_insertion \u001b[39m=\u001b[39m real_insertion[\u001b[39m0\u001b[39m]\n\u001b[1;32m      7\u001b[0m     ins \u001b[39m=\u001b[39m atlas\u001b[39m.\u001b[39mInsertion\u001b[39m.\u001b[39mfrom_dict(real_insertion)\n",
      "File \u001b[0;32m~/anaconda3/envs/iblenv/lib/python3.9/site-packages/one/webclient.py:1053\u001b[0m, in \u001b[0;36mAlyxClient.rest\u001b[0;34m(self, url, action, id, data, files, no_cache, **kwargs)\u001b[0m\n\u001b[1;32m   1051\u001b[0m         query_params \u001b[39m=\u001b[39m {k: \u001b[39m'\u001b[39m\u001b[39m,\u001b[39m\u001b[39m'\u001b[39m\u001b[39m.\u001b[39mjoin(\u001b[39mmap\u001b[39m(\u001b[39mstr\u001b[39m, ensure_list(v))) \u001b[39mfor\u001b[39;00m k, v \u001b[39min\u001b[39;00m kwargs\u001b[39m.\u001b[39mitems()}\n\u001b[1;32m   1052\u001b[0m         url \u001b[39m=\u001b[39m update_url_params(url, query_params)\n\u001b[0;32m-> 1053\u001b[0m     \u001b[39mreturn\u001b[39;00m \u001b[39mself\u001b[39;49m\u001b[39m.\u001b[39;49mget(\u001b[39m'\u001b[39;49m\u001b[39m/\u001b[39;49m\u001b[39m'\u001b[39;49m \u001b[39m+\u001b[39;49m url, \u001b[39m*\u001b[39;49m\u001b[39m*\u001b[39;49mcache_args)\n\u001b[1;32m   1054\u001b[0m \u001b[39mif\u001b[39;00m \u001b[39mnot\u001b[39;00m \u001b[39misinstance\u001b[39m(\u001b[39mid\u001b[39m, \u001b[39mstr\u001b[39m) \u001b[39mand\u001b[39;00m \u001b[39mid\u001b[39m \u001b[39mis\u001b[39;00m \u001b[39mnot\u001b[39;00m \u001b[39mNone\u001b[39;00m:\n\u001b[1;32m   1055\u001b[0m     \u001b[39mid\u001b[39m \u001b[39m=\u001b[39m \u001b[39mstr\u001b[39m(\u001b[39mid\u001b[39m)  \u001b[39m# e.g. may be uuid.UUID\u001b[39;00m\n",
      "File \u001b[0;32m~/anaconda3/envs/iblenv/lib/python3.9/site-packages/one/webclient.py:879\u001b[0m, in \u001b[0;36mAlyxClient.get\u001b[0;34m(self, rest_query, **kwargs)\u001b[0m\n\u001b[1;32m    861\u001b[0m \u001b[39mdef\u001b[39;00m \u001b[39mget\u001b[39m(\u001b[39mself\u001b[39m, rest_query, \u001b[39m*\u001b[39m\u001b[39m*\u001b[39mkwargs):\n\u001b[1;32m    862\u001b[0m \u001b[39m    \u001b[39m\u001b[39m\"\"\"\u001b[39;00m\n\u001b[1;32m    863\u001b[0m \u001b[39m    Sends a GET request to the Alyx server. Will raise an exception on any status_code\u001b[39;00m\n\u001b[1;32m    864\u001b[0m \u001b[39m    other than 200, 201.\u001b[39;00m\n\u001b[0;32m   (...)\u001b[0m\n\u001b[1;32m    877\u001b[0m \u001b[39m    JSON interpreted dictionary from response\u001b[39;00m\n\u001b[1;32m    878\u001b[0m \u001b[39m    \"\"\"\u001b[39;00m\n\u001b[0;32m--> 879\u001b[0m     rep \u001b[39m=\u001b[39m \u001b[39mself\u001b[39;49m\u001b[39m.\u001b[39;49m_generic_request(requests\u001b[39m.\u001b[39;49mget, rest_query, \u001b[39m*\u001b[39;49m\u001b[39m*\u001b[39;49mkwargs)\n\u001b[1;32m    880\u001b[0m     \u001b[39mif\u001b[39;00m \u001b[39misinstance\u001b[39m(rep, \u001b[39mdict\u001b[39m) \u001b[39mand\u001b[39;00m \u001b[39mlist\u001b[39m(rep\u001b[39m.\u001b[39mkeys()) \u001b[39m==\u001b[39m [\u001b[39m'\u001b[39m\u001b[39mcount\u001b[39m\u001b[39m'\u001b[39m, \u001b[39m'\u001b[39m\u001b[39mnext\u001b[39m\u001b[39m'\u001b[39m, \u001b[39m'\u001b[39m\u001b[39mprevious\u001b[39m\u001b[39m'\u001b[39m, \u001b[39m'\u001b[39m\u001b[39mresults\u001b[39m\u001b[39m'\u001b[39m]:\n\u001b[1;32m    881\u001b[0m         \u001b[39mif\u001b[39;00m \u001b[39mlen\u001b[39m(rep[\u001b[39m'\u001b[39m\u001b[39mresults\u001b[39m\u001b[39m'\u001b[39m]) \u001b[39m<\u001b[39m rep[\u001b[39m'\u001b[39m\u001b[39mcount\u001b[39m\u001b[39m'\u001b[39m]:\n",
      "File \u001b[0;32m~/anaconda3/envs/iblenv/lib/python3.9/site-packages/one/webclient.py:124\u001b[0m, in \u001b[0;36m_cache_response.<locals>.wrapper_decorator\u001b[0;34m(alyx_client, expires, clobber, *args, **kwargs)\u001b[0m\n\u001b[1;32m    122\u001b[0m         \u001b[39mreturn\u001b[39;00m cached\n\u001b[1;32m    123\u001b[0m \u001b[39mtry\u001b[39;00m:\n\u001b[0;32m--> 124\u001b[0m     response \u001b[39m=\u001b[39m method(alyx_client, \u001b[39m*\u001b[39;49margs, \u001b[39m*\u001b[39;49m\u001b[39m*\u001b[39;49mkwargs)\n\u001b[1;32m    125\u001b[0m \u001b[39mexcept\u001b[39;00m requests\u001b[39m.\u001b[39mexceptions\u001b[39m.\u001b[39mConnectionError \u001b[39mas\u001b[39;00m ex:\n\u001b[1;32m    126\u001b[0m     \u001b[39mif\u001b[39;00m cached \u001b[39mand\u001b[39;00m \u001b[39mnot\u001b[39;00m clobber:\n",
      "File \u001b[0;32m~/anaconda3/envs/iblenv/lib/python3.9/site-packages/one/webclient.py:623\u001b[0m, in \u001b[0;36mAlyxClient._generic_request\u001b[0;34m(self, reqfunction, rest_query, data, files)\u001b[0m\n\u001b[1;32m    621\u001b[0m \u001b[39mexcept\u001b[39;00m json\u001b[39m.\u001b[39mdecoder\u001b[39m.\u001b[39mJSONDecodeError:\n\u001b[1;32m    622\u001b[0m     message \u001b[39m=\u001b[39m r\u001b[39m.\u001b[39mtext\n\u001b[0;32m--> 623\u001b[0m \u001b[39mraise\u001b[39;00m requests\u001b[39m.\u001b[39mHTTPError(r\u001b[39m.\u001b[39mstatus_code, rest_query, message, response\u001b[39m=\u001b[39mr)\n",
      "\u001b[0;31mHTTPError\u001b[0m: [Errno 503] /trajectories?provenance=Ephys+aligned+histology+track&pid=36362f75-96d8-4ed4-a728-5e72284d0995: '<!DOCTYPE HTML PUBLIC \"-//IETF//DTD HTML 2.0//EN\">\\n<html><head>\\n<title>503 Service Unavailable</title>\\n</head><body>\\n<h1>Service Unavailable</h1>\\n<p>The server is temporarily unable to service your\\nrequest due to maintenance downtime or capacity\\nproblems. Please try again later.</p>\\n<hr>\\n<address>Apache/2.4.41 (Ubuntu) Server at openalyx.internationalbrainlab.org Port 443</address>\\n</body></html>\\n'"
     ]
    }
   ],
   "source": [
    "repro = pd.DataFrame(columns=['ml','ap','dv','phi','theta','depth'])\n",
    "\n",
    "for i, insertion in enumerate(insertions):\n",
    "\n",
    "    real_insertion = one.alyx.rest('trajectories', 'list', provenance='Ephys aligned histology track',probe_insertion=insertion['probe_insertion'])[0]\n",
    "    ins = atlas.Insertion.from_dict(real_insertion)\n",
    "    mlapdv = NeedlesAtlas.xyz2ccf(ins.tip)\n",
    "\n",
    "    repro.loc[i] = [mlapdv[0], mlapdv[1], mlapdv[2], ins.phi, ins.theta, ins.depth]"
   ]
  },
  {
   "cell_type": "code",
   "execution_count": 75,
   "id": "16dc4e5b",
   "metadata": {},
   "outputs": [
    {
     "data": {
      "text/plain": [
       "{'id': '809b8c0c-7991-4192-978b-a17de23077bd',\n",
       " 'probe_insertion': 'dec6ad00-01c8-4bfd-bcdc-b37c5e0cdb0e',\n",
       " 'x': -1764.0,\n",
       " 'y': -1024.9999999999998,\n",
       " 'z': -143.0,\n",
       " 'depth': 3684.1483971717175,\n",
       " 'theta': 17.328180338109032,\n",
       " 'phi': 152.37765067903203,\n",
       " 'roll': 0.0,\n",
       " 'provenance': 'Ephys aligned histology track',\n",
       " 'session': {'subject': 'CSHL047',\n",
       "  'start_time': '2020-01-22T08:28:49',\n",
       "  'number': 2,\n",
       "  'lab': 'churchlandlab',\n",
       "  'id': '2d5f6d81-38c4-4bdc-ac3c-302ea4d5f46e',\n",
       "  'task_protocol': '_iblrig_tasks_ephysChoiceWorld6.2.5'},\n",
       " 'probe_name': 'probe00',\n",
       " 'coordinate_system': 'IBL-Allen',\n",
       " 'datetime': '2022-09-28T17:40:02.534761',\n",
       " 'json': {'2020-06-24T12:36:41_7339a9d0': [[-1.0033776232735496,\n",
       "    0.001359948213700426,\n",
       "    0.0016075653883972473,\n",
       "    0.001993556866601116,\n",
       "    0.0026125998033431656,\n",
       "    1.0045212482600285],\n",
       "   [-1.0160497239889348,\n",
       "    0.0015559203786006393,\n",
       "    0.0017703068820033967,\n",
       "    0.002131931170108161,\n",
       "    0.00281926319964149,\n",
       "    1.0175114426549592]],\n",
       "  '2022-09-28T17:40:01_a410f103': [[-4.301607763836144,\n",
       "    0.0011523017031630173,\n",
       "    0.0016845268310439307,\n",
       "    0.0019549921259842513,\n",
       "    0.0025017440944881896,\n",
       "    0.002618384514435695,\n",
       "    0.00379207874015748,\n",
       "    4.301530204090404],\n",
       "   [-4.513259192208625,\n",
       "    0.0012420085584254892,\n",
       "    0.0017123523867068613,\n",
       "    0.0020217053295938396,\n",
       "    0.0026328660530609356,\n",
       "    0.0027783956648577733,\n",
       "    0.00396703937007874,\n",
       "    4.513169841242917],\n",
       "   'PASS: None']},\n",
       " 'chronic_insertion': None}"
      ]
     },
     "execution_count": 75,
     "metadata": {},
     "output_type": "execute_result"
    }
   ],
   "source": [
    "real_insertion"
   ]
  },
  {
   "cell_type": "code",
   "execution_count": 7,
   "id": "21b7400c-44bd-4ec2-a4c2-a9da4aa3395f",
   "metadata": {},
   "outputs": [],
   "source": [
    "probeNames = []\n",
    "probePos = {}\n",
    "probeAngle = {}\n",
    "probeColor = {}\n",
    "probeMaterial = {}\n",
    "probeDepth = {}\n",
    "\n",
    "for i,row in bwm.iterrows():\n",
    "    if row['ml_e_p']==3496:\n",
    "        name = 'p'+str(i)\n",
    "        probeNames.append(name)\n",
    "        \n",
    "        probePos[name] = [row['ml_t_e'],row['ap_t_e'],row['dv_t_e']]\n",
    "        probeAngle[name] = [row['phi_e'],row['theta_e'],0]\n",
    "        probeColor[name] = rgb_to_hex((150,150,150))\n",
    "        \n",
    "        depth = vec_dist((row['ml_t_e'],row['ap_t_e'],row['dv_t_e']),(row['ml_e_e'],row['ap_e_e'],row['dv_e_e'])) \n",
    "        probeDepth[name] = [0.070, int(np.round(depth)/1000), 0.020]\n",
    "        \n",
    "        probeMaterial[name] = 'opaque-unlit'"
   ]
  },
  {
   "cell_type": "code",
   "execution_count": 11,
   "id": "f813036f-8935-43b7-ab50-c89b9e9b0beb",
   "metadata": {},
   "outputs": [
    {
     "name": "stdout",
     "output_type": "stream",
     "text": [
      "(URN) connected to server\n",
      "Login sent with ID: root\n"
     ]
    }
   ],
   "source": [
    "urchin.setup()"
   ]
  },
  {
   "cell_type": "code",
   "execution_count": 13,
   "id": "90db2e0a-d3b4-4e33-97a3-ed8222401d5a",
   "metadata": {},
   "outputs": [],
   "source": [
    "areas = ['VISa','CA1','DG','LP','PO']\n",
    "\n",
    "area_vis = {}\n",
    "area_mat = {}\n",
    "area_alpha = {}\n",
    "\n",
    "for area in areas:\n",
    "  area = str(area)\n",
    "  area_vis[area] = True\n",
    "  area_mat[area] = 'transparent-unlit'\n",
    "  area_alpha[area] = 0.4\n",
    "\n",
    "urchin.clear()\n",
    "\n",
    "# root area\n",
    "urchin.ccf.set_visibility({'grey':True})\n",
    "urchin.ccf.set_material({'grey':'transparent-unlit'})\n",
    "urchin.ccf.set_color({'grey':'#d3d3d3'})\n",
    "urchin.ccf.set_alpha({'grey':0.1})\n",
    "\n",
    "# individual areas\n",
    "urchin.ccf.set_visibility(area_vis)\n",
    "urchin.ccf.set_material(area_mat)\n",
    "urchin.ccf.set_alpha(area_alpha)\n",
    "\n",
    "urchin.camera.set_rotation(45,0,135)"
   ]
  },
  {
   "cell_type": "code",
   "execution_count": null,
   "id": "08810dc0",
   "metadata": {},
   "outputs": [],
   "source": []
  },
  {
   "cell_type": "code",
   "execution_count": 16,
   "id": "16389e67-3fe4-4b05-85cf-1273791ad2d7",
   "metadata": {},
   "outputs": [],
   "source": [
    "urn.clear()"
   ]
  },
  {
   "cell_type": "code",
   "execution_count": 18,
   "id": "c547a2fc",
   "metadata": {},
   "outputs": [],
   "source": [
    "urn.set_area_visibility(area_vis)"
   ]
  },
  {
   "cell_type": "code",
   "execution_count": 19,
   "id": "3a98c48d",
   "metadata": {},
   "outputs": [],
   "source": [
    "\n",
    "urn.set_area_material(area_mat)\n",
    "urn.set_area_alpha(area_alpha)"
   ]
  },
  {
   "cell_type": "code",
   "execution_count": null,
   "id": "1142c45a-e027-4969-a52a-c6209c61abdd",
   "metadata": {},
   "outputs": [],
   "source": [
    "urn.clear_probes()"
   ]
  },
  {
   "cell_type": "code",
   "execution_count": 20,
   "id": "8d97b4c9-0fa1-4f8a-bda3-4e949fdeca2c",
   "metadata": {},
   "outputs": [],
   "source": [
    "urn.create_probes(probeNames)\n",
    "urn.set_probe_positions(probePos)\n",
    "urn.set_probe_angles(probeAngle)\n",
    "urn.set_probe_colors(probeColor)\n",
    "urn.set_probe_size(probeDepth)"
   ]
  },
  {
   "cell_type": "code",
   "execution_count": 22,
   "id": "d46571d8-5914-46a4-89b0-c49eb7ae132e",
   "metadata": {},
   "outputs": [],
   "source": [
    "urn.set_camera_rotation(45,0,135)"
   ]
  }
 ],
 "metadata": {
  "kernelspec": {
   "display_name": "Python 3.9.0 ('iblenv')",
   "language": "python",
   "name": "python3"
  },
  "language_info": {
   "codemirror_mode": {
    "name": "ipython",
    "version": 3
   },
   "file_extension": ".py",
   "mimetype": "text/x-python",
   "name": "python",
   "nbconvert_exporter": "python",
   "pygments_lexer": "ipython3",
   "version": "3.9.16"
  },
  "vscode": {
   "interpreter": {
    "hash": "e571d860348ccccbb87c9afaea3b8de5dc8c1513265a6c0fcfe6ac69a4d3ce4b"
   }
  }
 },
 "nbformat": 4,
 "nbformat_minor": 5
}
