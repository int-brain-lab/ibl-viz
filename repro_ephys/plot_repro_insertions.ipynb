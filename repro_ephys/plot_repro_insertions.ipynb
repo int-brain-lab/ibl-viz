{
 "cells": [
  {
   "cell_type": "code",
   "execution_count": 1,
   "id": "4b31c198-751b-4319-bffe-7f857b88d961",
   "metadata": {},
   "outputs": [],
   "source": [
    "import oursin as urchin\n",
    "import pandas as pd\n",
    "import numpy as np\n",
    "from one.api import ONE\n",
    "one = ONE(base_url='https://openalyx.internationalbrainlab.org', password='international', silent=True)\n",
    "# one = ONE(base_url='https://alyx.internationalbrainlab.org', silent=False)\n",
    "from reproducible_ephys_functions import *\n",
    "\n",
    "import ibllib.atlas as atlas\n",
    "CCFAtlas = atlas.AllenAtlas(25)\n",
    "NeedlesAtlas = atlas.NeedlesAtlas(25)\n",
    "\n",
    "import pandas as pd"
   ]
  },
  {
   "cell_type": "code",
   "execution_count": 3,
   "id": "fe6a9179-d487-4b29-9b8b-70aa87bf897e",
   "metadata": {},
   "outputs": [],
   "source": [
    "def rgb_to_hex(rgb):\n",
    "    return '#%02x%02x%02x' % rgb"
   ]
  },
  {
   "cell_type": "code",
   "execution_count": 4,
   "id": "27d033f2",
   "metadata": {},
   "outputs": [],
   "source": [
    "# insertions = get_histology_insertions(one=one, freeze='biorxiv_2022_05')\n",
    "\n",
    "insertions_11 = get_insertions(level=0, one=one, freeze='release_2022_11', recompute=False)\n",
    "\n",
    "\n",
    "\n",
    "\n",
    "\n",
    "\n",
    "# todo before you run this: run the actual download script reproducible_ephys_run.py"
   ]
  },
  {
   "cell_type": "code",
   "execution_count": 31,
   "id": "0801f06d",
   "metadata": {},
   "outputs": [],
   "source": [
    "temp = insertions_11[0]\n",
    "temp['depth'] = 6000"
   ]
  },
  {
   "cell_type": "code",
   "execution_count": 37,
   "id": "b4b49b9a",
   "metadata": {},
   "outputs": [],
   "source": [
    "# create one example optimal insertion\n",
    "planned_ins = atlas.Insertion.from_dict(temp)\n",
    "planned_mlapdv = list(NeedlesAtlas.xyz2ccf(planned_ins.tip))\n",
    "planned_angles = [planned_ins.phi, planned_ins.theta, 0]"
   ]
  },
  {
   "cell_type": "code",
   "execution_count": 38,
   "id": "f90c00d6",
   "metadata": {},
   "outputs": [],
   "source": [
    "repro = pd.DataFrame(columns=['ml','ap','dv','phi','theta','depth'])\n",
    "\n",
    "for i, insertion in enumerate(insertions_11):\n",
    "\n",
    "    real_insertion = one.alyx.rest('trajectories', 'list', provenance='Ephys aligned histology track',probe_insertion=insertion['probe_insertion'])\n",
    "    if len(real_insertion) > 0:\n",
    "        real_insertion = real_insertion[0]\n",
    "        ins = atlas.Insertion.from_dict(real_insertion)\n",
    "        mlapdv = NeedlesAtlas.xyz2ccf(ins.tip)\n",
    "\n",
    "        repro.loc[i] = [mlapdv[0], mlapdv[1], mlapdv[2], ins.phi, ins.theta, ins.depth]"
   ]
  },
  {
   "cell_type": "code",
   "execution_count": 8,
   "id": "16dc4e5b",
   "metadata": {},
   "outputs": [
    {
     "data": {
      "text/html": [
       "<div>\n",
       "<style scoped>\n",
       "    .dataframe tbody tr th:only-of-type {\n",
       "        vertical-align: middle;\n",
       "    }\n",
       "\n",
       "    .dataframe tbody tr th {\n",
       "        vertical-align: top;\n",
       "    }\n",
       "\n",
       "    .dataframe thead th {\n",
       "        text-align: right;\n",
       "    }\n",
       "</style>\n",
       "<table border=\"1\" class=\"dataframe\">\n",
       "  <thead>\n",
       "    <tr style=\"text-align: right;\">\n",
       "      <th></th>\n",
       "      <th>ml</th>\n",
       "      <th>ap</th>\n",
       "      <th>dv</th>\n",
       "      <th>phi</th>\n",
       "      <th>theta</th>\n",
       "      <th>depth</th>\n",
       "    </tr>\n",
       "  </thead>\n",
       "  <tbody>\n",
       "    <tr>\n",
       "      <th>0</th>\n",
       "      <td>4125.941471</td>\n",
       "      <td>7595.473550</td>\n",
       "      <td>4896.364506</td>\n",
       "      <td>156.630500</td>\n",
       "      <td>8.767287</td>\n",
       "      <td>0.004474</td>\n",
       "    </tr>\n",
       "    <tr>\n",
       "      <th>1</th>\n",
       "      <td>4164.419198</td>\n",
       "      <td>8637.391136</td>\n",
       "      <td>4669.309954</td>\n",
       "      <td>137.428414</td>\n",
       "      <td>11.561574</td>\n",
       "      <td>0.004332</td>\n",
       "    </tr>\n",
       "    <tr>\n",
       "      <th>2</th>\n",
       "      <td>4577.826682</td>\n",
       "      <td>7756.631760</td>\n",
       "      <td>4623.343641</td>\n",
       "      <td>152.702252</td>\n",
       "      <td>15.598882</td>\n",
       "      <td>0.004333</td>\n",
       "    </tr>\n",
       "    <tr>\n",
       "      <th>3</th>\n",
       "      <td>4624.268572</td>\n",
       "      <td>9080.011132</td>\n",
       "      <td>4035.252208</td>\n",
       "      <td>135.518175</td>\n",
       "      <td>22.498909</td>\n",
       "      <td>0.003935</td>\n",
       "    </tr>\n",
       "    <tr>\n",
       "      <th>4</th>\n",
       "      <td>4345.399131</td>\n",
       "      <td>7710.907315</td>\n",
       "      <td>4645.161821</td>\n",
       "      <td>144.936123</td>\n",
       "      <td>14.305560</td>\n",
       "      <td>0.004304</td>\n",
       "    </tr>\n",
       "  </tbody>\n",
       "</table>\n",
       "</div>"
      ],
      "text/plain": [
       "            ml           ap           dv         phi      theta     depth\n",
       "0  4125.941471  7595.473550  4896.364506  156.630500   8.767287  0.004474\n",
       "1  4164.419198  8637.391136  4669.309954  137.428414  11.561574  0.004332\n",
       "2  4577.826682  7756.631760  4623.343641  152.702252  15.598882  0.004333\n",
       "3  4624.268572  9080.011132  4035.252208  135.518175  22.498909  0.003935\n",
       "4  4345.399131  7710.907315  4645.161821  144.936123  14.305560  0.004304"
      ]
     },
     "execution_count": 8,
     "metadata": {},
     "output_type": "execute_result"
    }
   ],
   "source": [
    "repro.head()"
   ]
  },
  {
   "cell_type": "code",
   "execution_count": 9,
   "id": "aaca42b4",
   "metadata": {},
   "outputs": [
    {
     "name": "stdout",
     "output_type": "stream",
     "text": [
      "(URN) connected to server\n",
      "Login sent with ID: root\n"
     ]
    }
   ],
   "source": [
    "urchin.setup()"
   ]
  },
  {
   "cell_type": "code",
   "execution_count": 39,
   "id": "90db2e0a-d3b4-4e33-97a3-ed8222401d5a",
   "metadata": {},
   "outputs": [],
   "source": [
    "areas = ['VISa','CA1','DG','LP','PO']\n",
    "\n",
    "area_vis = {}\n",
    "area_mat = {}\n",
    "area_alpha = {}\n",
    "\n",
    "for area in areas:\n",
    "  area = str(area)\n",
    "  area_vis[area] = True\n",
    "  area_mat[area] = 'transparent-unlit'\n",
    "  area_alpha[area] = 0.4\n",
    "\n",
    "urchin.clear()\n",
    "\n",
    "# root area\n",
    "urchin.ccf.set_visibility({'grey':True})\n",
    "urchin.ccf.set_material({'grey':'transparent-unlit'})\n",
    "urchin.ccf.set_color({'grey':'#d3d3d3'})\n",
    "urchin.ccf.set_alpha({'grey':0.2})\n",
    "\n",
    "# individual areas\n",
    "urchin.ccf.set_visibility(area_vis)\n",
    "urchin.ccf.set_material(area_mat)\n",
    "urchin.ccf.set_alpha(area_alpha)\n",
    "\n",
    "urchin.camera.set_rotation(60,0,150)\n",
    "# urchin.camera.set_mode('perspective')"
   ]
  },
  {
   "cell_type": "code",
   "execution_count": 40,
   "id": "21b7400c-44bd-4ec2-a4c2-a9da4aa3395f",
   "metadata": {},
   "outputs": [],
   "source": [
    "probeNames = []\n",
    "probePos = {}\n",
    "probeAngle = {}\n",
    "probeColor = {}\n",
    "probeMaterial = {}\n",
    "probe_sizes = {}\n",
    "\n",
    "for i,row in repro.iterrows():\n",
    "    name = 'p'+str(i)\n",
    "    probeNames.append(name)\n",
    "    \n",
    "    probePos[name] = [row['ml'],row['ap'],row['dv']]\n",
    "    probeAngle[name] = [row['phi'],row['theta'],0]\n",
    "    probeColor[name] = rgb_to_hex((75,75,75))\n",
    "    \n",
    "    probe_sizes[name] = [0.070, np.round(row['depth']*1000000)/1000, 0.020]\n",
    "\n",
    "# add also the planned insertion\n",
    "pname = 'planned'\n",
    "probeNames.append(pname)\n",
    "probePos[pname] = planned_mlapdv\n",
    "probeAngle[pname] = planned_angles\n",
    "probeColor[pname] = rgb_to_hex((255,0,0))\n",
    "probe_sizes[pname] = [0.01, 8, 0.01]"
   ]
  },
  {
   "cell_type": "code",
   "execution_count": 41,
   "id": "721e7edf",
   "metadata": {},
   "outputs": [],
   "source": [
    "urchin.clear_probes()\n",
    "urchin.probes.create(probeNames)\n",
    "urchin.probes.set_position(probePos)\n",
    "urchin.probes.set_angle(probeAngle)\n",
    "urchin.probes.set_color(probeColor)\n",
    "urchin.probes.set_size(probe_sizes)"
   ]
  },
  {
   "cell_type": "code",
   "execution_count": null,
   "id": "192b7ffe",
   "metadata": {},
   "outputs": [],
   "source": []
  }
 ],
 "metadata": {
  "kernelspec": {
   "display_name": "Python 3.9.0 ('iblenv')",
   "language": "python",
   "name": "python3"
  },
  "language_info": {
   "codemirror_mode": {
    "name": "ipython",
    "version": 3
   },
   "file_extension": ".py",
   "mimetype": "text/x-python",
   "name": "python",
   "nbconvert_exporter": "python",
   "pygments_lexer": "ipython3",
   "version": "3.9.16"
  },
  "vscode": {
   "interpreter": {
    "hash": "e571d860348ccccbb87c9afaea3b8de5dc8c1513265a6c0fcfe6ac69a4d3ce4b"
   }
  }
 },
 "nbformat": 4,
 "nbformat_minor": 5
}
