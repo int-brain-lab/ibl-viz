{
 "cells": [
  {
   "cell_type": "code",
   "execution_count": 1,
   "metadata": {},
   "outputs": [
    {
     "name": "stderr",
     "output_type": "stream",
     "text": [
      "c:\\Users\\Dan\\.conda\\envs\\iblenv\\lib\\site-packages\\numpy\\_distributor_init.py:30: UserWarning: loaded more than 1 DLL from .libs:\n",
      "c:\\Users\\Dan\\.conda\\envs\\iblenv\\lib\\site-packages\\numpy\\.libs\\libopenblas.FB5AE2TYXYH2IJRDKGDGQ3XBKLKTF43H.gfortran-win_amd64.dll\n",
      "c:\\Users\\Dan\\.conda\\envs\\iblenv\\lib\\site-packages\\numpy\\.libs\\libopenblas.GK7GX5KEQ4F6UYO3P26ULGBQYHGQO7J4.gfortran-win_amd64.dll\n",
      "  warnings.warn(\"loaded more than 1 DLL from .libs:\"\n",
      "100%|██████████| 10/10.0 [00:03<00:00,  2.76it/s]\n"
     ]
    }
   ],
   "source": [
    "from one.api import ONE\n",
    "import spikeglx\n",
    "import numpy as np\n",
    "from brainbox.io.one import SpikeSortingLoader\n",
    "from neurodsp.voltage import destripe\n",
    "import h5py\n",
    "\n",
    "one = ONE()\n",
    "\n",
    "pid = 'da8dfec1-d265-44e8-84ce-6ae9c109b8bd'\n",
    "eid, probe = one.pid2eid(pid)\n",
    "\n",
    "band = 'ap' # either 'ap','lf'\n",
    "\n",
    "# Find the relevant datasets and download them\n",
    "dsets = one.list_datasets(eid, collection=f'raw_ephys_data/{probe}', filename='*.lf.*')\n",
    "data_files, _ = one.load_datasets(eid, dsets, download_only=True)\n",
    "bin_file = next(df for df in data_files if df.suffix == '.cbin')\n",
    "\n",
    "# Use spikeglx reader to read in the whole raw data\n",
    "sr = spikeglx.Reader(bin_file)\n",
    "sr.shape\n",
    "\n",
    "# also get the spikes for this session\n",
    "ssl = SpikeSortingLoader(pid=pid, one=one)\n",
    "spikes, clusters, channels = ssl.load_spike_sorting(dataset_types=['spikes.samples'])\n",
    "clusters = ssl.merge_clusters(spikes, clusters, channels)"
   ]
  },
  {
   "cell_type": "code",
   "execution_count": 5,
   "metadata": {},
   "outputs": [],
   "source": [
    "\n",
    "f.close()"
   ]
  },
  {
   "cell_type": "code",
   "execution_count": 6,
   "metadata": {},
   "outputs": [],
   "source": [
    "# go through the raw data a little bit at a time and save it back out\n",
    "f = h5py.File('./data.hdf5','w')\n",
    "data = f.create_dataset('destriped', (sr.shape[0], sr.shape[1]-1))"
   ]
  },
  {
   "cell_type": "code",
   "execution_count": 7,
   "metadata": {},
   "outputs": [
    {
     "data": {
      "text/plain": [
       "(10739995, 385)"
      ]
     },
     "execution_count": 7,
     "metadata": {},
     "output_type": "execute_result"
    }
   ],
   "source": [
    "sr.shape"
   ]
  },
  {
   "cell_type": "code",
   "execution_count": 11,
   "metadata": {},
   "outputs": [
    {
     "ename": "KeyboardInterrupt",
     "evalue": "",
     "output_type": "error",
     "traceback": [
      "\u001b[1;31m---------------------------------------------------------------------------\u001b[0m",
      "\u001b[1;31mKeyboardInterrupt\u001b[0m                         Traceback (most recent call last)",
      "\u001b[1;32mc:\\proj\\int-brain-lab\\ibl-viz\\heer\\test.ipynb Cell 5\u001b[0m in \u001b[0;36m<cell line: 1>\u001b[1;34m()\u001b[0m\n\u001b[0;32m      <a href='vscode-notebook-cell:/c%3A/proj/int-brain-lab/ibl-viz/heer/test.ipynb#X11sZmlsZQ%3D%3D?line=2'>3</a>\u001b[0m stop \u001b[39m=\u001b[39m i \u001b[39m+\u001b[39m \u001b[39m99999\u001b[39m\n\u001b[0;32m      <a href='vscode-notebook-cell:/c%3A/proj/int-brain-lab/ibl-viz/heer/test.ipynb#X11sZmlsZQ%3D%3D?line=4'>5</a>\u001b[0m raw \u001b[39m=\u001b[39m sr[start:stop, :\u001b[39m-\u001b[39msr\u001b[39m.\u001b[39mnsync]\u001b[39m.\u001b[39mT\n\u001b[1;32m----> <a href='vscode-notebook-cell:/c%3A/proj/int-brain-lab/ibl-viz/heer/test.ipynb#X11sZmlsZQ%3D%3D?line=5'>6</a>\u001b[0m data[start:stop,:] \u001b[39m=\u001b[39m destripe(raw, fs\u001b[39m=\u001b[39;49msr\u001b[39m.\u001b[39;49mfs)\u001b[39m.\u001b[39mT\n",
      "File \u001b[1;32mc:\\Users\\Dan\\.conda\\envs\\iblenv\\lib\\site-packages\\neurodsp\\voltage.py:297\u001b[0m, in \u001b[0;36mdestripe\u001b[1;34m(x, fs, h, neuropixel_version, butter_kwargs, k_kwargs, channel_labels, k_filter)\u001b[0m\n\u001b[0;32m    295\u001b[0m \u001b[39m# butterworth\u001b[39;00m\n\u001b[0;32m    296\u001b[0m sos \u001b[39m=\u001b[39m scipy\u001b[39m.\u001b[39msignal\u001b[39m.\u001b[39mbutter(\u001b[39m*\u001b[39m\u001b[39m*\u001b[39mbutter_kwargs, output\u001b[39m=\u001b[39m\u001b[39m'\u001b[39m\u001b[39msos\u001b[39m\u001b[39m'\u001b[39m)\n\u001b[1;32m--> 297\u001b[0m x \u001b[39m=\u001b[39m scipy\u001b[39m.\u001b[39;49msignal\u001b[39m.\u001b[39;49msosfiltfilt(sos, x)\n\u001b[0;32m    298\u001b[0m \u001b[39m# channel interpolation\u001b[39;00m\n\u001b[0;32m    299\u001b[0m \u001b[39m# apply ADC shift\u001b[39;00m\n\u001b[0;32m    300\u001b[0m \u001b[39mif\u001b[39;00m neuropixel_version \u001b[39mis\u001b[39;00m \u001b[39mnot\u001b[39;00m \u001b[39mNone\u001b[39;00m:\n",
      "File \u001b[1;32mc:\\Users\\Dan\\.conda\\envs\\iblenv\\lib\\site-packages\\scipy\\signal\\_signaltools.py:4362\u001b[0m, in \u001b[0;36msosfiltfilt\u001b[1;34m(sos, x, axis, padtype, padlen)\u001b[0m\n\u001b[0;32m   4360\u001b[0m zi\u001b[39m.\u001b[39mshape \u001b[39m=\u001b[39m [n_sections] \u001b[39m+\u001b[39m zi_shape\n\u001b[0;32m   4361\u001b[0m x_0 \u001b[39m=\u001b[39m axis_slice(ext, stop\u001b[39m=\u001b[39m\u001b[39m1\u001b[39m, axis\u001b[39m=\u001b[39maxis)\n\u001b[1;32m-> 4362\u001b[0m (y, zf) \u001b[39m=\u001b[39m sosfilt(sos, ext, axis\u001b[39m=\u001b[39;49maxis, zi\u001b[39m=\u001b[39;49mzi \u001b[39m*\u001b[39;49m x_0)\n\u001b[0;32m   4363\u001b[0m y_0 \u001b[39m=\u001b[39m axis_slice(y, start\u001b[39m=\u001b[39m\u001b[39m-\u001b[39m\u001b[39m1\u001b[39m, axis\u001b[39m=\u001b[39maxis)\n\u001b[0;32m   4364\u001b[0m (y, zf) \u001b[39m=\u001b[39m sosfilt(sos, axis_reverse(y, axis\u001b[39m=\u001b[39maxis), axis\u001b[39m=\u001b[39maxis, zi\u001b[39m=\u001b[39mzi \u001b[39m*\u001b[39m y_0)\n",
      "File \u001b[1;32mc:\\Users\\Dan\\.conda\\envs\\iblenv\\lib\\site-packages\\scipy\\signal\\_signaltools.py:4244\u001b[0m, in \u001b[0;36msosfilt\u001b[1;34m(sos, x, axis, zi)\u001b[0m\n\u001b[0;32m   4242\u001b[0m x_shape, zi_shape \u001b[39m=\u001b[39m x\u001b[39m.\u001b[39mshape, zi\u001b[39m.\u001b[39mshape\n\u001b[0;32m   4243\u001b[0m x \u001b[39m=\u001b[39m np\u001b[39m.\u001b[39mreshape(x, (\u001b[39m-\u001b[39m\u001b[39m1\u001b[39m, x\u001b[39m.\u001b[39mshape[\u001b[39m-\u001b[39m\u001b[39m1\u001b[39m]))\n\u001b[1;32m-> 4244\u001b[0m x \u001b[39m=\u001b[39m np\u001b[39m.\u001b[39;49marray(x, dtype, order\u001b[39m=\u001b[39;49m\u001b[39m'\u001b[39;49m\u001b[39mC\u001b[39;49m\u001b[39m'\u001b[39;49m)  \u001b[39m# make a copy, can modify in place\u001b[39;00m\n\u001b[0;32m   4245\u001b[0m zi \u001b[39m=\u001b[39m np\u001b[39m.\u001b[39mascontiguousarray(np\u001b[39m.\u001b[39mreshape(zi, (\u001b[39m-\u001b[39m\u001b[39m1\u001b[39m, n_sections, \u001b[39m2\u001b[39m)))\n\u001b[0;32m   4246\u001b[0m sos \u001b[39m=\u001b[39m sos\u001b[39m.\u001b[39mastype(dtype, copy\u001b[39m=\u001b[39m\u001b[39mFalse\u001b[39;00m)\n",
      "\u001b[1;31mKeyboardInterrupt\u001b[0m: "
     ]
    }
   ],
   "source": [
    "for i in np.arange(0,sr.shape[0], 10000):\n",
    "    start = i\n",
    "    stop = i + 99999\n",
    "\n",
    "    raw = sr[start:stop, :-sr.nsync].T\n",
    "    data[start:stop,:] = destripe(raw, fs=sr.fs).T"
   ]
  },
  {
   "cell_type": "code",
   "execution_count": null,
   "metadata": {},
   "outputs": [],
   "source": []
  }
 ],
 "metadata": {
  "kernelspec": {
   "display_name": "iblenv",
   "language": "python",
   "name": "python3"
  },
  "language_info": {
   "codemirror_mode": {
    "name": "ipython",
    "version": 3
   },
   "file_extension": ".py",
   "mimetype": "text/x-python",
   "name": "python",
   "nbconvert_exporter": "python",
   "pygments_lexer": "ipython3",
   "version": "3.9.10"
  },
  "orig_nbformat": 4,
  "vscode": {
   "interpreter": {
    "hash": "4225be81b5357c529c38c12afdf9f4987fe9414ca9962627f4f2d77123f1f35a"
   }
  }
 },
 "nbformat": 4,
 "nbformat_minor": 2
}
