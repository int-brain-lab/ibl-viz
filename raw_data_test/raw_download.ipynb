{
 "cells": [
  {
   "cell_type": "code",
   "execution_count": 1,
   "metadata": {},
   "outputs": [
    {
     "name": "stderr",
     "output_type": "stream",
     "text": [
      "c:\\Users\\Dan\\.conda\\envs\\iblenv\\lib\\site-packages\\numpy\\_distributor_init.py:30: UserWarning: loaded more than 1 DLL from .libs:\n",
      "c:\\Users\\Dan\\.conda\\envs\\iblenv\\lib\\site-packages\\numpy\\.libs\\libopenblas.FB5AE2TYXYH2IJRDKGDGQ3XBKLKTF43H.gfortran-win_amd64.dll\n",
      "c:\\Users\\Dan\\.conda\\envs\\iblenv\\lib\\site-packages\\numpy\\.libs\\libopenblas.GK7GX5KEQ4F6UYO3P26ULGBQYHGQO7J4.gfortran-win_amd64.dll\n",
      "  warnings.warn(\"loaded more than 1 DLL from .libs:\"\n"
     ]
    },
    {
     "name": "stdout",
     "output_type": "stream",
     "text": [
      "Downloading: D:\\ONE\\tmp4fp6hkvk\\cache.zip Bytes: 89655950\n"
     ]
    },
    {
     "name": "stderr",
     "output_type": "stream",
     "text": [
      "100%|██████████| 85.50257682800293/85.50257682800293 [00:10<00:00,  7.84it/s]\n",
      "D:\\ONE\\hoferlab\\Subjects\\SWC_043\\2020-09-21\\001\\raw_ephys_data\\probe00\\_spikeglx_ephysData_g0_t0.imec0.lf.cbin: 100%|██████████| 2.48G/2.48G [00:18<00:00, 134MB/s] \n",
      "D:\\ONE\\hoferlab\\Subjects\\SWC_043\\2020-09-21\\001\\raw_ephys_data\\probe00\\_spikeglx_ephysData_g0_t0.imec0.lf.ch: 100%|██████████| 123k/123k [00:00<00:00, 255kB/s]\n",
      "D:\\ONE\\hoferlab\\Subjects\\SWC_043\\2020-09-21\\001\\raw_ephys_data\\probe00\\_spikeglx_ephysData_g0_t0.imec0.lf.meta: 100%|██████████| 14.0k/14.0k [00:00<00:00, 69.0kB/s]\n"
     ]
    },
    {
     "data": {
      "text/plain": [
       "(10739995, 385)"
      ]
     },
     "execution_count": 1,
     "metadata": {},
     "output_type": "execute_result"
    }
   ],
   "source": [
    "from one.api import ONE\n",
    "import spikeglx\n",
    "one = ONE()\n",
    "\n",
    "pid = 'da8dfec1-d265-44e8-84ce-6ae9c109b8bd'\n",
    "eid, probe = one.pid2eid(pid)\n",
    "\n",
    "band = 'ap' # either 'ap','lf'\n",
    "\n",
    "# Find the relevant datasets and download them\n",
    "dsets = one.list_datasets(eid, collection=f'raw_ephys_data/{probe}', filename='*.lf.*')\n",
    "data_files, _ = one.load_datasets(eid, dsets, download_only=True)\n",
    "bin_file = next(df for df in data_files if df.suffix == '.cbin')\n",
    "\n",
    "# Use spikeglx reader to read in the whole raw data\n",
    "sr = spikeglx.Reader(bin_file)\n",
    "sr.shape\n"
   ]
  },
  {
   "cell_type": "code",
   "execution_count": 2,
   "metadata": {},
   "outputs": [
    {
     "data": {
      "text/plain": [
       "'lf'"
      ]
     },
     "execution_count": 2,
     "metadata": {},
     "output_type": "execute_result"
    }
   ],
   "source": [
    "sr.type"
   ]
  },
  {
   "cell_type": "code",
   "execution_count": 6,
   "metadata": {},
   "outputs": [
    {
     "data": {
      "text/plain": [
       "WindowsPath('D:/ONE/hoferlab/Subjects/SWC_043/2020-09-21/001/raw_ephys_data/probe00/_spikeglx_ephysData_g0_t0.imec0.lf.cbin')"
      ]
     },
     "execution_count": 6,
     "metadata": {},
     "output_type": "execute_result"
    }
   ],
   "source": [
    "bin_file"
   ]
  },
  {
   "cell_type": "code",
   "execution_count": 7,
   "metadata": {},
   "outputs": [
    {
     "data": {
      "text/plain": [
       "2481225826"
      ]
     },
     "execution_count": 7,
     "metadata": {},
     "output_type": "execute_result"
    }
   ],
   "source": [
    "sr.nbytes"
   ]
  },
  {
   "cell_type": "code",
   "execution_count": 9,
   "metadata": {},
   "outputs": [],
   "source": [
    "import matplotlib.pyplot"
   ]
  },
  {
   "cell_type": "code",
   "execution_count": null,
   "metadata": {},
   "outputs": [],
   "source": []
  },
  {
   "cell_type": "code",
   "execution_count": 8,
   "metadata": {},
   "outputs": [
    {
     "data": {
      "text/plain": [
       "array([1.12500005e-04, 1.68750004e-04, 1.54687514e-04, 1.45312501e-04,\n",
       "       1.31250010e-04, 1.40625008e-04, 1.26562503e-04, 1.45312501e-04,\n",
       "       1.26562503e-04, 1.21875004e-04, 1.17187505e-04, 1.12500005e-04,\n",
       "       1.17187505e-04, 1.07812506e-04, 1.07812506e-04, 1.17187505e-04,\n",
       "       1.17187505e-04, 1.26562503e-04, 1.26562503e-04, 1.21875004e-04,\n",
       "       1.54687514e-04, 1.64062512e-04, 1.64062512e-04, 1.54687514e-04,\n",
       "       1.64062512e-04, 1.64062512e-04, 1.82812510e-04, 1.82812510e-04,\n",
       "       1.59375006e-04, 1.54687514e-04, 1.45312501e-04, 1.45312501e-04,\n",
       "       1.31250010e-04, 1.21875004e-04, 1.35937502e-04, 1.07812506e-04,\n",
       "       1.35937502e-04, 1.45312501e-04, 1.35937502e-04, 1.31250010e-04,\n",
       "       1.31250010e-04, 1.26562503e-04, 1.17187505e-04, 1.07812506e-04,\n",
       "       7.96875029e-05, 7.96875029e-05, 1.12500005e-04, 9.84375074e-05,\n",
       "       8.90625015e-05, 1.12500005e-04, 1.03125007e-04, 1.03125007e-04,\n",
       "       1.07812506e-04, 8.90625015e-05, 8.90625015e-05, 1.26562503e-04,\n",
       "       1.26562503e-04, 1.45312501e-04, 1.31250010e-04, 1.07812506e-04,\n",
       "       1.26562503e-04, 1.40625008e-04, 1.35937502e-04, 1.45312501e-04,\n",
       "       1.45312501e-04, 1.40625008e-04, 1.54687514e-04, 1.50000007e-04,\n",
       "       1.54687514e-04, 1.45312501e-04, 1.78125003e-04, 1.64062512e-04,\n",
       "       1.54687514e-04, 1.59375006e-04, 1.73437511e-04, 1.54687514e-04,\n",
       "       1.17187505e-04, 1.68750004e-04, 1.68750004e-04, 1.87500002e-04,\n",
       "       1.82812510e-04, 1.50000007e-04, 1.40625008e-04, 1.40625008e-04,\n",
       "       1.26562503e-04, 1.26562503e-04, 1.26562503e-04, 1.03125007e-04,\n",
       "       1.07812506e-04, 1.21875004e-04, 9.84375074e-05, 1.17187505e-04,\n",
       "       1.31250010e-04, 1.31250010e-04, 1.73437511e-04, 1.64062512e-04,\n",
       "       1.45312501e-04, 1.64062512e-04, 1.73437511e-04, 1.54687514e-04],\n",
       "      dtype=float32)"
      ]
     },
     "execution_count": 8,
     "metadata": {},
     "output_type": "execute_result"
    }
   ],
   "source": [
    "sr[0:100,0]"
   ]
  },
  {
   "cell_type": "code",
   "execution_count": null,
   "metadata": {},
   "outputs": [],
   "source": []
  }
 ],
 "metadata": {
  "kernelspec": {
   "display_name": "iblenv",
   "language": "python",
   "name": "python3"
  },
  "language_info": {
   "codemirror_mode": {
    "name": "ipython",
    "version": 3
   },
   "file_extension": ".py",
   "mimetype": "text/x-python",
   "name": "python",
   "nbconvert_exporter": "python",
   "pygments_lexer": "ipython3",
   "version": "3.9.10"
  },
  "orig_nbformat": 4,
  "vscode": {
   "interpreter": {
    "hash": "4225be81b5357c529c38c12afdf9f4987fe9414ca9962627f4f2d77123f1f35a"
   }
  }
 },
 "nbformat": 4,
 "nbformat_minor": 2
}
