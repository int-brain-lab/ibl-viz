{
 "cells": [
  {
   "cell_type": "markdown",
   "metadata": {},
   "source": [
    "# Ephys Atlas encoding model\n",
    "\n",
    "Download `encoding_model_ephys_atlas.npy` from https://drive.google.com/drive/u/2/folders/1t8y-O5wV8aDOgbIV2IMQpoYtG2cat0jl"
   ]
  },
  {
   "cell_type": "code",
   "execution_count": 15,
   "metadata": {},
   "outputs": [],
   "source": [
    "import numpy as np\n",
    "import oursin as urchin"
   ]
  },
  {
   "cell_type": "code",
   "execution_count": 16,
   "metadata": {},
   "outputs": [],
   "source": [
    "data = np.load('./encoding_model_ephys_atlas.npy')"
   ]
  },
  {
   "cell_type": "code",
   "execution_count": 17,
   "metadata": {},
   "outputs": [
    {
     "data": {
      "text/plain": [
       "(528, 456, 320, 8)"
      ]
     },
     "execution_count": 17,
     "metadata": {},
     "output_type": "execute_result"
    }
   ],
   "source": [
    "data.shape"
   ]
  },
  {
   "cell_type": "code",
   "execution_count": 18,
   "metadata": {},
   "outputs": [],
   "source": [
    "spike_rate = data[:,:,:,0]"
   ]
  },
  {
   "cell_type": "code",
   "execution_count": 19,
   "metadata": {},
   "outputs": [],
   "source": [
    "volume, quantiles = urchin.volumes.compress_volume(spike_rate)"
   ]
  },
  {
   "cell_type": "code",
   "execution_count": 20,
   "metadata": {},
   "outputs": [],
   "source": [
    "colormap = urchin.volumes.colormap(datapoints=quantiles)"
   ]
  },
  {
   "cell_type": "code",
   "execution_count": 21,
   "metadata": {},
   "outputs": [
    {
     "name": "stdout",
     "output_type": "stream",
     "text": [
      "(urchin) Client is already connected. Use ID: 46319f68\n"
     ]
    }
   ],
   "source": [
    "urchin.setup(localhost=True)"
   ]
  },
  {
   "cell_type": "code",
   "execution_count": 24,
   "metadata": {},
   "outputs": [
    {
     "name": "stdout",
     "output_type": "stream",
     "text": [
      "(Warning) Atlas was already loaded, the renderer can have issues if you try to load an atlas twice.\n"
     ]
    }
   ],
   "source": [
    "urchin.ccf25.load()\n",
    "urchin.camera.main.set_mode('perspective')"
   ]
  },
  {
   "cell_type": "code",
   "execution_count": 25,
   "metadata": {},
   "outputs": [
    {
     "name": "stdout",
     "output_type": "stream",
     "text": [
      "Data fits in 3 chunks of 1MB or less\n"
     ]
    }
   ],
   "source": [
    "vol = urchin.volumes.Volume(volume, colormap)"
   ]
  },
  {
   "cell_type": "code",
   "execution_count": 11,
   "metadata": {},
   "outputs": [],
   "source": [
    "urchin.volumes.save_clicks('temp.csv')"
   ]
  },
  {
   "cell_type": "code",
   "execution_count": 27,
   "metadata": {},
   "outputs": [
    {
     "data": {
      "text/plain": [
       "[{'ap': 237.80169677734375, 'ml': 89.87051391601562, 'dv': 78.14886474609375},\n",
       " {'ap': 237.80169677734375, 'ml': 72.08683013916016, 'dv': 148.0049285888672},\n",
       " {'ap': 237.80169677734375, 'ml': 107.6339340209961, 'dv': 190.99057006835938},\n",
       " {'ap': 237.80169677734375,\n",
       "  'ml': 120.09197998046875,\n",
       "  'dv': 243.85958862304688},\n",
       " {'ap': 237.80169677734375, 'ml': 139.82937622070312, 'dv': 266.79150390625},\n",
       " {'ap': 272.6932373046875, 'ml': 144.93603515625, 'dv': 159.94931030273438},\n",
       " {'ap': 272.6932373046875, 'ml': 153.08255004882812, 'dv': 167.84864807128906},\n",
       " {'ap': 272.6932373046875, 'ml': 154.67588806152344, 'dv': 171.57705688476562},\n",
       " {'ap': 264.0, 'ml': 345.85809326171875, 'dv': 66.28426361083984},\n",
       " {'ap': 391.54705810546875, 'ml': 335.6207275390625, 'dv': 10.33294677734375},\n",
       " {'ap': 194.47357177734375, 'ml': 400.10040283203125, 'dv': 55.38106918334961},\n",
       " {'ap': 194.47357177734375, 'ml': 357.9488830566406, 'dv': 24.782447814941406},\n",
       " {'ap': 194.47357177734375, 'ml': 138.8797149658203, 'dv': 104.53239440917969},\n",
       " {'ap': 194.47357177734375, 'ml': 208.8098907470703, 'dv': 90.35579681396484},\n",
       " {'ap': 194.47357177734375, 'ml': 161.3713836669922, 'dv': 191.80718994140625},\n",
       " {'ap': 194.47357177734375, 'ml': 274.3600158691406, 'dv': 149.37364196777344},\n",
       " {'ap': 194.47357177734375, 'ml': 260.623779296875, 'dv': 79.69493865966797},\n",
       " {'ap': 194.47357177734375,\n",
       "  'ml': 244.32518005371094,\n",
       "  'dv': 214.11569213867188},\n",
       " {'ap': 194.47357177734375,\n",
       "  'ml': 171.26849365234375,\n",
       "  'dv': 152.18202209472656},\n",
       " {'ap': 194.47357177734375, 'ml': 292.6675720214844, 'dv': 129.0156707763672},\n",
       " {'ap': 194.47357177734375, 'ml': 220.9368133544922, 'dv': 197.35633850097656},\n",
       " {'ap': 194.47357177734375,\n",
       "  'ml': 155.92587280273438,\n",
       "  'dv': 210.49966430664062},\n",
       " {'ap': 194.47357177734375, 'ml': 258.0234375, 'dv': 135.01010131835938},\n",
       " {'ap': 194.47357177734375, 'ml': 287.534423828125, 'dv': 189.21597290039062}]"
      ]
     },
     "execution_count": 27,
     "metadata": {},
     "output_type": "execute_result"
    },
    {
     "name": "stdout",
     "output_type": "stream",
     "text": [
      "(URN) disconnected from server\n",
      "(URN) connected to server\n",
      "Login sent with ID: 46319f68, copy this ID into the renderer to connect.\n"
     ]
    }
   ],
   "source": [
    "urchin.volumes.click_list"
   ]
  },
  {
   "cell_type": "code",
   "execution_count": 13,
   "metadata": {},
   "outputs": [],
   "source": [
    "urchin.volumes.clear_clicks()"
   ]
  }
 ],
 "metadata": {
  "kernelspec": {
   "display_name": "iblenv",
   "language": "python",
   "name": "python3"
  },
  "language_info": {
   "codemirror_mode": {
    "name": "ipython",
    "version": 3
   },
   "file_extension": ".py",
   "mimetype": "text/x-python",
   "name": "python",
   "nbconvert_exporter": "python",
   "pygments_lexer": "ipython3",
   "version": "3.10.13"
  }
 },
 "nbformat": 4,
 "nbformat_minor": 2
}
