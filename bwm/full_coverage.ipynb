{
 "cells": [
  {
   "cell_type": "markdown",
   "id": "f276eb55-70e6-475d-a01a-1ab93289c7c4",
   "metadata": {},
   "source": [
    "# BWM Full Coverage (static img and video)\n",
    "We'll load here all the trajectories of the insertions in the bwm as well as the positions of the clusters in every insertion. Then we'll render these inside of the Allen CCF volume renderer."
   ]
  },
  {
   "cell_type": "code",
   "execution_count": 1,
   "id": "41e0ec51-7455-4376-8ef1-94317e8ffbfd",
   "metadata": {},
   "outputs": [
    {
     "name": "stderr",
     "output_type": "stream",
     "text": [
      "C:\\Users\\Dan\\.conda\\envs\\iblenv\\lib\\site-packages\\one\\api.py:1416: UserWarning: Newer cache tables require ONE version 1.13.0 or greater\n",
      "  warnings.warn(f'Newer cache tables require ONE version {min_version} or greater')\n"
     ]
    }
   ],
   "source": [
    "# urn and other imports\n",
    "import unityneuro.render as urn\n",
    "import numpy as np\n",
    "import pandas as pd\n",
    "# ibl imports\n",
    "from one.api import ONE\n",
    "one = ONE(base_url='https://alyx.internationalbrainlab.org')\n",
    "from brainbox.io.one import SpikeSortingLoader\n",
    "from ibllib.atlas import AllenAtlas\n",
    "atlas = AllenAtlas(25)"
   ]
  },
  {
   "cell_type": "markdown",
   "id": "c5952772-62a1-4096-8f62-ea0325d57dfe",
   "metadata": {},
   "source": [
    "# Define helper functions"
   ]
  },
  {
   "cell_type": "code",
   "execution_count": 2,
   "id": "76adb802-17d0-4a2d-aab1-8545832e9d0f",
   "metadata": {},
   "outputs": [],
   "source": [
    "def get_bwm_sessions():\n",
    "\n",
    "    '''\n",
    "    Gaelle, 06.04.2022\n",
    "    '''\n",
    "\n",
    "    str_query = (  \n",
    "       'session__project__name__icontains,ibl_neuropixel_brainwide_01,'\n",
    "       'session__json__IS_MOCK,False,session__qc__lt'\n",
    "       ',50,~json__qc,CRITICAL,'\n",
    "       'session__extended_qc__behavior,1,'\n",
    "       'json__extended_qc__tracing_exists,True,'\n",
    "       '~session__extended_qc___task_stimOn_goCue_delays__lt,0.9,'\n",
    "       '~session__extended_qc___task_response_feedback_delays__lt,0.9,'\n",
    "       '~session__extended_qc___task_wheel_move_before_feedback__lt,0.9,'\n",
    "       '~session__extended_qc___task_wheel_freeze_during_quiescence__lt,0.9,'\n",
    "       '~session__extended_qc___task_error_trial_event_sequence__lt,0.9,'\n",
    "       '~session__extended_qc___task_correct_trial_event_sequence__lt,0.9,'\n",
    "       '~session__extended_qc___task_reward_volumes__lt,0.9,'\n",
    "       '~session__extended_qc___task_reward_volume_set__lt,0.9,'\n",
    "       '~session__extended_qc___task_stimulus_move_before_goCue__lt,0.9,'\n",
    "       '~session__extended_qc___task_audio_pre_trial__lt,0.9')                  \n",
    "        \n",
    "    str_query2 = (\n",
    "       'session__project__name__icontains,ibl_neuropixel_brainwide_01,'\n",
    "       'session__json__IS_MOCK,False,session__qc__lt,50,'\n",
    "       '~json__qc,CRITICAL,session__extended_qc__behavior,1,'       \n",
    "       'json__extended_qc__tracing_exists,True,'\n",
    "       'session__extended_qc___experimenter_task,PASS')        \n",
    "            \n",
    "    eids = np.concatenate([one.alyx.rest('insertions', 'list', django = x)\n",
    "                          for x in [str_query, str_query2]])\n",
    "\n",
    "    eid_probe = set([x['session']+'_'+x['name'] for x in ins]) # pid via x['id']\n",
    "    eids = [x.split('_') for x in eid_probe] \n",
    " \n",
    "    return eids"
   ]
  },
  {
   "cell_type": "code",
   "execution_count": 3,
   "id": "4dc73b3b-b802-4761-8dec-fcf4448cc967",
   "metadata": {},
   "outputs": [],
   "source": [
    "# def a function to pull mlapdv coordinates from a PID\n",
    "def get_mlapdv_pid(pid, one, atlas):\n",
    "    ssl = SpikeSortingLoader(pid=pid, one=one)\n",
    "    spikes, clusters, channels = ssl.load_spike_sorting()\n",
    "    if 'x' not in channels.keys():\n",
    "        return\n",
    "\n",
    "    clu = spikes.clusters\n",
    "    st = spikes.times\n",
    "\n",
    "    # convert clu to cha \n",
    "    cha = clusters.channels[clu]\n",
    "    ucha = np.unique(cha)\n",
    "    \n",
    "    df = pd.DataFrame(columns =['eid','pid','clu','ml','ap','dv'])\n",
    "\n",
    "    for i,ch in enumerate(ucha):\n",
    "        x = channels['x'][ch]\n",
    "        y = channels['y'][ch]\n",
    "        z = channels['z'][ch]\n",
    "        mlapdv = atlas.xyz2ccf([x,y,z])\n",
    "        df.loc[i] = [one.pid2eid(pid), pid, i, mlapdv[0], mlapdv[1], mlapdv[2]]\n",
    "        \n",
    "    return df"
   ]
  },
  {
   "cell_type": "code",
   "execution_count": 27,
   "id": "2efafa56-8810-413f-a354-5a95c02fa4c4",
   "metadata": {},
   "outputs": [],
   "source": [
    "# def a function to get the pid for an eid/probe combo\n",
    "def eid2pids(eid):\n",
    "    insertions = one.alyx.rest('insertions', 'list', session=eid)\n",
    "    pids = [i['id'] for i in insertions]\n",
    "    return pids"
   ]
  },
  {
   "cell_type": "code",
   "execution_count": 28,
   "id": "e8d7bdf7-9c8f-470f-847b-099ef228e612",
   "metadata": {},
   "outputs": [],
   "source": [
    "# convenience function for colors\n",
    "import random\n",
    "r = lambda: random.randint(0,255)\n",
    "randHexColor = lambda : '#%02X%02X%02X' % (r(),r(),r())"
   ]
  },
  {
   "cell_type": "markdown",
   "id": "c5cfba36-905b-4e23-8959-27ce8a679c18",
   "metadata": {},
   "source": [
    "# Load data and save to csv"
   ]
  },
  {
   "cell_type": "code",
   "execution_count": 7,
   "id": "c71bdfa1-3320-4d5c-b993-0337d5d4389d",
   "metadata": {},
   "outputs": [],
   "source": [
    "ins = get_bwm_sessions()"
   ]
  },
  {
   "cell_type": "code",
   "execution_count": 8,
   "id": "308d65eb-0f57-4eff-bb66-3320050f3b18",
   "metadata": {},
   "outputs": [],
   "source": [
    "ins = ins[0:2]"
   ]
  },
  {
   "cell_type": "code",
   "execution_count": 9,
   "id": "b160be86-d3be-4279-ae7c-ee15406ba85f",
   "metadata": {},
   "outputs": [
    {
     "data": {
      "text/plain": [
       "[['d832d9f7-c96a-4f63-8921-516ba4a7b61f', 'probe01'],\n",
       " ['948fd27b-507b-41b3-bdf8-f9f5f0af8e0b', 'probe01']]"
      ]
     },
     "execution_count": 9,
     "metadata": {},
     "output_type": "execute_result"
    }
   ],
   "source": [
    "ins"
   ]
  },
  {
   "cell_type": "code",
   "execution_count": 11,
   "id": "e072cd6e-2c76-49c6-81a1-ecc4653e0d64",
   "metadata": {},
   "outputs": [
    {
     "name": "stderr",
     "output_type": "stream",
     "text": [
      "C:\\Users\\Dan\\Downloads\\ONE\\alyx.internationalbrainlab.org\\wittenlab\\Subjects\\ibl_witten_17\\2020-07-22\\003\\alf\\probe00\\p\n",
      "C:\\Users\\Dan\\Downloads\\ONE\\alyx.internationalbrainlab.org\\wittenlab\\Subjects\\ibl_witten_17\\2020-07-22\\003\\alf\\probe00\\p\n",
      "C:\\Users\\Dan\\Downloads\\ONE\\alyx.internationalbrainlab.org\\wittenlab\\Subjects\\ibl_witten_17\\2020-07-22\\003\\alf\\probe00\\p\n",
      "C:\\Users\\Dan\\Downloads\\ONE\\alyx.internationalbrainlab.org\\wittenlab\\Subjects\\ibl_witten_17\\2020-07-22\\003\\alf\\probe00\\p\n",
      "C:\\Users\\Dan\\Downloads\\ONE\\alyx.internationalbrainlab.org\\wittenlab\\Subjects\\ibl_witten_17\\2020-07-22\\003\\alf\\probe00\\p\n",
      "C:\\Users\\Dan\\Downloads\\ONE\\alyx.internationalbrainlab.org\\wittenlab\\Subjects\\ibl_witten_17\\2020-07-22\\003\\alf\\probe00\\p\n",
      "C:\\Users\\Dan\\Downloads\\ONE\\alyx.internationalbrainlab.org\\wittenlab\\Subjects\\ibl_witten_17\\2020-07-22\\003\\alf\\probe00\\p\n",
      "C:\\Users\\Dan\\Downloads\\ONE\\alyx.internationalbrainlab.org\\wittenlab\\Subjects\\ibl_witten_17\\2020-07-22\\003\\alf\\probe00\\p\n",
      "C:\\Users\\Dan\\Downloads\\ONE\\alyx.internationalbrainlab.org\\wittenlab\\Subjects\\ibl_witten_17\\2020-07-22\\003\\alf\\probe00\\p\n",
      "\u001b[1;33m2022-06-24 13:43:30.123 WARNING  [one.py:344] Histology tracing for probe00 does not exist. No channels for probe00\u001b[0m\n",
      "\u001b[1;33m2022-06-24 13:43:32.468 WARNING  [one.py:344] Histology tracing for probe00 does not exist. No channels for probe00\u001b[0m\n",
      "C:\\Users\\Dan\\Downloads\\ONE\\alyx.internationalbrainlab.org\\danlab\\Subjects\\DY_020\\2020-10-05\\001\\alf\\probe00\\pykilosort\\\n",
      "C:\\Users\\Dan\\Downloads\\ONE\\alyx.internationalbrainlab.org\\danlab\\Subjects\\DY_020\\2020-10-05\\001\\alf\\probe00\\pykilosort\\\n",
      "C:\\Users\\Dan\\Downloads\\ONE\\alyx.internationalbrainlab.org\\danlab\\Subjects\\DY_020\\2020-10-05\\001\\alf\\probe00\\pykilosort\\\n",
      "C:\\Users\\Dan\\Downloads\\ONE\\alyx.internationalbrainlab.org\\danlab\\Subjects\\DY_020\\2020-10-05\\001\\alf\\probe00\\pykilosort\\\n",
      "C:\\Users\\Dan\\Downloads\\ONE\\alyx.internationalbrainlab.org\\danlab\\Subjects\\DY_020\\2020-10-05\\001\\alf\\probe00\\pykilosort\\\n",
      "C:\\Users\\Dan\\Downloads\\ONE\\alyx.internationalbrainlab.org\\danlab\\Subjects\\DY_020\\2020-10-05\\001\\alf\\probe00\\pykilosort\\\n",
      "C:\\Users\\Dan\\Downloads\\ONE\\alyx.internationalbrainlab.org\\danlab\\Subjects\\DY_020\\2020-10-05\\001\\alf\\probe00\\pykilosort\\\n",
      "C:\\Users\\Dan\\Downloads\\ONE\\alyx.internationalbrainlab.org\\danlab\\Subjects\\DY_020\\2020-10-05\\001\\alf\\probe00\\pykilosort\\\n",
      "C:\\Users\\Dan\\Downloads\\ONE\\alyx.internationalbrainlab.org\\danlab\\Subjects\\DY_020\\2020-10-05\\001\\alf\\probe00\\pykilosort\\\n",
      "C:\\Users\\Dan\\Downloads\\ONE\\alyx.internationalbrainlab.org\\danlab\\Subjects\\DY_020\\2020-10-05\\001\\alf\\probe00\\pykilosort\\\n",
      "C:\\Users\\Dan\\Downloads\\ONE\\alyx.internationalbrainlab.org\\danlab\\Subjects\\DY_020\\2020-10-05\\001\\alf\\probe00\\pykilosort\\\n"
     ]
    }
   ],
   "source": [
    "alldata = pd.DataFrame(columns =['eid','pid','clu','ml','ap','dv'])\n",
    "for i, (eid,probe) in enumerate(ins):\n",
    "    pids = eid2pids(eid)\n",
    "    for pid in pids:\n",
    "        data = get_mlapdv_pid(pids[0],one,atlas)\n",
    "        alldata = pd.concat([alldata, data], axis=0)"
   ]
  },
  {
   "cell_type": "code",
   "execution_count": 12,
   "id": "4827ab37-0c33-4f42-a816-7ad9d356e2a3",
   "metadata": {},
   "outputs": [],
   "source": [
    "alldata.to_csv('insertions.csv')"
   ]
  },
  {
   "cell_type": "code",
   "execution_count": 31,
   "id": "6dee2b52-b137-4dc4-9295-ef3305ff8df8",
   "metadata": {},
   "outputs": [],
   "source": [
    "alldata = pd.read_csv('insertions.csv')"
   ]
  },
  {
   "cell_type": "code",
   "execution_count": 32,
   "id": "57c9a06b-c3db-4909-a2cf-a5084795ced2",
   "metadata": {},
   "outputs": [
    {
     "data": {
      "text/html": [
       "<div>\n",
       "<style scoped>\n",
       "    .dataframe tbody tr th:only-of-type {\n",
       "        vertical-align: middle;\n",
       "    }\n",
       "\n",
       "    .dataframe tbody tr th {\n",
       "        vertical-align: top;\n",
       "    }\n",
       "\n",
       "    .dataframe thead th {\n",
       "        text-align: right;\n",
       "    }\n",
       "</style>\n",
       "<table border=\"1\" class=\"dataframe\">\n",
       "  <thead>\n",
       "    <tr style=\"text-align: right;\">\n",
       "      <th></th>\n",
       "      <th>Unnamed: 0</th>\n",
       "      <th>eid</th>\n",
       "      <th>pid</th>\n",
       "      <th>clu</th>\n",
       "      <th>ml</th>\n",
       "      <th>ap</th>\n",
       "      <th>dv</th>\n",
       "    </tr>\n",
       "  </thead>\n",
       "  <tbody>\n",
       "    <tr>\n",
       "      <th>0</th>\n",
       "      <td>0</td>\n",
       "      <td>('948fd27b-507b-41b3-bdf8-f9f5f0af8e0b', 'prob...</td>\n",
       "      <td>b939cc85-6028-404a-995d-28c8405a07db</td>\n",
       "      <td>0</td>\n",
       "      <td>4794.0</td>\n",
       "      <td>9792.0</td>\n",
       "      <td>4411.0</td>\n",
       "    </tr>\n",
       "    <tr>\n",
       "      <th>1</th>\n",
       "      <td>1</td>\n",
       "      <td>('948fd27b-507b-41b3-bdf8-f9f5f0af8e0b', 'prob...</td>\n",
       "      <td>b939cc85-6028-404a-995d-28c8405a07db</td>\n",
       "      <td>1</td>\n",
       "      <td>4794.0</td>\n",
       "      <td>9792.0</td>\n",
       "      <td>4411.0</td>\n",
       "    </tr>\n",
       "    <tr>\n",
       "      <th>2</th>\n",
       "      <td>2</td>\n",
       "      <td>('948fd27b-507b-41b3-bdf8-f9f5f0af8e0b', 'prob...</td>\n",
       "      <td>b939cc85-6028-404a-995d-28c8405a07db</td>\n",
       "      <td>2</td>\n",
       "      <td>4792.0</td>\n",
       "      <td>9790.0</td>\n",
       "      <td>4391.0</td>\n",
       "    </tr>\n",
       "    <tr>\n",
       "      <th>3</th>\n",
       "      <td>3</td>\n",
       "      <td>('948fd27b-507b-41b3-bdf8-f9f5f0af8e0b', 'prob...</td>\n",
       "      <td>b939cc85-6028-404a-995d-28c8405a07db</td>\n",
       "      <td>3</td>\n",
       "      <td>4791.0</td>\n",
       "      <td>9789.0</td>\n",
       "      <td>4371.0</td>\n",
       "    </tr>\n",
       "    <tr>\n",
       "      <th>4</th>\n",
       "      <td>4</td>\n",
       "      <td>('948fd27b-507b-41b3-bdf8-f9f5f0af8e0b', 'prob...</td>\n",
       "      <td>b939cc85-6028-404a-995d-28c8405a07db</td>\n",
       "      <td>4</td>\n",
       "      <td>4787.0</td>\n",
       "      <td>9785.0</td>\n",
       "      <td>4331.0</td>\n",
       "    </tr>\n",
       "    <tr>\n",
       "      <th>...</th>\n",
       "      <td>...</td>\n",
       "      <td>...</td>\n",
       "      <td>...</td>\n",
       "      <td>...</td>\n",
       "      <td>...</td>\n",
       "      <td>...</td>\n",
       "      <td>...</td>\n",
       "    </tr>\n",
       "    <tr>\n",
       "      <th>417</th>\n",
       "      <td>206</td>\n",
       "      <td>('948fd27b-507b-41b3-bdf8-f9f5f0af8e0b', 'prob...</td>\n",
       "      <td>b939cc85-6028-404a-995d-28c8405a07db</td>\n",
       "      <td>206</td>\n",
       "      <td>4167.0</td>\n",
       "      <td>9592.0</td>\n",
       "      <td>1044.0</td>\n",
       "    </tr>\n",
       "    <tr>\n",
       "      <th>418</th>\n",
       "      <td>207</td>\n",
       "      <td>('948fd27b-507b-41b3-bdf8-f9f5f0af8e0b', 'prob...</td>\n",
       "      <td>b939cc85-6028-404a-995d-28c8405a07db</td>\n",
       "      <td>207</td>\n",
       "      <td>4159.0</td>\n",
       "      <td>9590.0</td>\n",
       "      <td>1005.0</td>\n",
       "    </tr>\n",
       "    <tr>\n",
       "      <th>419</th>\n",
       "      <td>208</td>\n",
       "      <td>('948fd27b-507b-41b3-bdf8-f9f5f0af8e0b', 'prob...</td>\n",
       "      <td>b939cc85-6028-404a-995d-28c8405a07db</td>\n",
       "      <td>208</td>\n",
       "      <td>4155.0</td>\n",
       "      <td>9590.0</td>\n",
       "      <td>985.0</td>\n",
       "    </tr>\n",
       "    <tr>\n",
       "      <th>420</th>\n",
       "      <td>209</td>\n",
       "      <td>('948fd27b-507b-41b3-bdf8-f9f5f0af8e0b', 'prob...</td>\n",
       "      <td>b939cc85-6028-404a-995d-28c8405a07db</td>\n",
       "      <td>209</td>\n",
       "      <td>4147.0</td>\n",
       "      <td>9588.0</td>\n",
       "      <td>946.0</td>\n",
       "    </tr>\n",
       "    <tr>\n",
       "      <th>421</th>\n",
       "      <td>210</td>\n",
       "      <td>('948fd27b-507b-41b3-bdf8-f9f5f0af8e0b', 'prob...</td>\n",
       "      <td>b939cc85-6028-404a-995d-28c8405a07db</td>\n",
       "      <td>210</td>\n",
       "      <td>4123.0</td>\n",
       "      <td>9583.0</td>\n",
       "      <td>828.0</td>\n",
       "    </tr>\n",
       "  </tbody>\n",
       "</table>\n",
       "<p>422 rows × 7 columns</p>\n",
       "</div>"
      ],
      "text/plain": [
       "     Unnamed: 0                                                eid  \\\n",
       "0             0  ('948fd27b-507b-41b3-bdf8-f9f5f0af8e0b', 'prob...   \n",
       "1             1  ('948fd27b-507b-41b3-bdf8-f9f5f0af8e0b', 'prob...   \n",
       "2             2  ('948fd27b-507b-41b3-bdf8-f9f5f0af8e0b', 'prob...   \n",
       "3             3  ('948fd27b-507b-41b3-bdf8-f9f5f0af8e0b', 'prob...   \n",
       "4             4  ('948fd27b-507b-41b3-bdf8-f9f5f0af8e0b', 'prob...   \n",
       "..          ...                                                ...   \n",
       "417         206  ('948fd27b-507b-41b3-bdf8-f9f5f0af8e0b', 'prob...   \n",
       "418         207  ('948fd27b-507b-41b3-bdf8-f9f5f0af8e0b', 'prob...   \n",
       "419         208  ('948fd27b-507b-41b3-bdf8-f9f5f0af8e0b', 'prob...   \n",
       "420         209  ('948fd27b-507b-41b3-bdf8-f9f5f0af8e0b', 'prob...   \n",
       "421         210  ('948fd27b-507b-41b3-bdf8-f9f5f0af8e0b', 'prob...   \n",
       "\n",
       "                                      pid  clu      ml      ap      dv  \n",
       "0    b939cc85-6028-404a-995d-28c8405a07db    0  4794.0  9792.0  4411.0  \n",
       "1    b939cc85-6028-404a-995d-28c8405a07db    1  4794.0  9792.0  4411.0  \n",
       "2    b939cc85-6028-404a-995d-28c8405a07db    2  4792.0  9790.0  4391.0  \n",
       "3    b939cc85-6028-404a-995d-28c8405a07db    3  4791.0  9789.0  4371.0  \n",
       "4    b939cc85-6028-404a-995d-28c8405a07db    4  4787.0  9785.0  4331.0  \n",
       "..                                    ...  ...     ...     ...     ...  \n",
       "417  b939cc85-6028-404a-995d-28c8405a07db  206  4167.0  9592.0  1044.0  \n",
       "418  b939cc85-6028-404a-995d-28c8405a07db  207  4159.0  9590.0  1005.0  \n",
       "419  b939cc85-6028-404a-995d-28c8405a07db  208  4155.0  9590.0   985.0  \n",
       "420  b939cc85-6028-404a-995d-28c8405a07db  209  4147.0  9588.0   946.0  \n",
       "421  b939cc85-6028-404a-995d-28c8405a07db  210  4123.0  9583.0   828.0  \n",
       "\n",
       "[422 rows x 7 columns]"
      ]
     },
     "execution_count": 32,
     "metadata": {},
     "output_type": "execute_result"
    }
   ],
   "source": [
    "alldata"
   ]
  },
  {
   "cell_type": "markdown",
   "id": "e2951e7d-e326-4ccd-a8bc-e47179bc8b04",
   "metadata": {
    "tags": []
   },
   "source": [
    "# Build the renderer scene"
   ]
  },
  {
   "cell_type": "code",
   "execution_count": 33,
   "id": "223ba545-5393-4e3a-acc0-85098bcdd2a3",
   "metadata": {},
   "outputs": [
    {
     "name": "stdout",
     "output_type": "stream",
     "text": [
      "(URN) disconnected from server\n"
     ]
    }
   ],
   "source": [
    "urn.close()"
   ]
  },
  {
   "cell_type": "code",
   "execution_count": 34,
   "id": "b4f98a5b-4568-4530-87c3-501241ab0263",
   "metadata": {},
   "outputs": [
    {
     "name": "stdout",
     "output_type": "stream",
     "text": [
      "(URN) connected to server\n",
      "Login sent with ID: Dan\n"
     ]
    }
   ],
   "source": [
    "urn.setup()"
   ]
  },
  {
   "cell_type": "code",
   "execution_count": 36,
   "id": "fd67a172-9855-4389-aa72-26e8973495d4",
   "metadata": {},
   "outputs": [
    {
     "ename": "AttributeError",
     "evalue": "'Series' object has no attribute 'probe'",
     "output_type": "error",
     "traceback": [
      "\u001b[1;31m---------------------------------------------------------------------------\u001b[0m",
      "\u001b[1;31mAttributeError\u001b[0m                            Traceback (most recent call last)",
      "Input \u001b[1;32mIn [36]\u001b[0m, in \u001b[0;36m<cell line: 17>\u001b[1;34m()\u001b[0m\n\u001b[0;32m     16\u001b[0m i \u001b[38;5;241m=\u001b[39m \u001b[38;5;241m0\u001b[39m\n\u001b[0;32m     17\u001b[0m \u001b[38;5;28;01mfor\u001b[39;00m _, row \u001b[38;5;129;01min\u001b[39;00m alldata\u001b[38;5;241m.\u001b[39miterrows():\n\u001b[1;32m---> 19\u001b[0m     \u001b[38;5;28;01mif\u001b[39;00m \u001b[38;5;129;01mnot\u001b[39;00m \u001b[43mrow\u001b[49m\u001b[38;5;241;43m.\u001b[39;49m\u001b[43mprobe\u001b[49m \u001b[38;5;129;01min\u001b[39;00m probeColors\u001b[38;5;241m.\u001b[39mkeys():\n\u001b[0;32m     20\u001b[0m         probeColors[row\u001b[38;5;241m.\u001b[39mprobe] \u001b[38;5;241m=\u001b[39m randHexColor()\n\u001b[0;32m     21\u001b[0m     color \u001b[38;5;241m=\u001b[39m probeColors[row\u001b[38;5;241m.\u001b[39mprobe]\n",
      "File \u001b[1;32m~\\.conda\\envs\\iblenv\\lib\\site-packages\\pandas\\core\\generic.py:5583\u001b[0m, in \u001b[0;36mNDFrame.__getattr__\u001b[1;34m(self, name)\u001b[0m\n\u001b[0;32m   5576\u001b[0m \u001b[38;5;28;01mif\u001b[39;00m (\n\u001b[0;32m   5577\u001b[0m     name \u001b[38;5;129;01mnot\u001b[39;00m \u001b[38;5;129;01min\u001b[39;00m \u001b[38;5;28mself\u001b[39m\u001b[38;5;241m.\u001b[39m_internal_names_set\n\u001b[0;32m   5578\u001b[0m     \u001b[38;5;129;01mand\u001b[39;00m name \u001b[38;5;129;01mnot\u001b[39;00m \u001b[38;5;129;01min\u001b[39;00m \u001b[38;5;28mself\u001b[39m\u001b[38;5;241m.\u001b[39m_metadata\n\u001b[0;32m   5579\u001b[0m     \u001b[38;5;129;01mand\u001b[39;00m name \u001b[38;5;129;01mnot\u001b[39;00m \u001b[38;5;129;01min\u001b[39;00m \u001b[38;5;28mself\u001b[39m\u001b[38;5;241m.\u001b[39m_accessors\n\u001b[0;32m   5580\u001b[0m     \u001b[38;5;129;01mand\u001b[39;00m \u001b[38;5;28mself\u001b[39m\u001b[38;5;241m.\u001b[39m_info_axis\u001b[38;5;241m.\u001b[39m_can_hold_identifiers_and_holds_name(name)\n\u001b[0;32m   5581\u001b[0m ):\n\u001b[0;32m   5582\u001b[0m     \u001b[38;5;28;01mreturn\u001b[39;00m \u001b[38;5;28mself\u001b[39m[name]\n\u001b[1;32m-> 5583\u001b[0m \u001b[38;5;28;01mreturn\u001b[39;00m \u001b[38;5;28;43mobject\u001b[39;49m\u001b[38;5;241;43m.\u001b[39;49m\u001b[38;5;21;43m__getattribute__\u001b[39;49m\u001b[43m(\u001b[49m\u001b[38;5;28;43mself\u001b[39;49m\u001b[43m,\u001b[49m\u001b[43m \u001b[49m\u001b[43mname\u001b[49m\u001b[43m)\u001b[49m\n",
      "\u001b[1;31mAttributeError\u001b[0m: 'Series' object has no attribute 'probe'"
     ]
    },
    {
     "name": "stdout",
     "output_type": "stream",
     "text": [
      "(URN) disconnected from server\n",
      "(URN) connected to server\n",
      "Login sent with ID: Dan\n",
      "(URN) disconnected from server\n",
      "(URN) connected to server\n",
      "Login sent with ID: Dan\n",
      "(URN) disconnected from server\n",
      "(URN) connected to server\n",
      "Login sent with ID: Dan\n",
      "(URN) disconnected from server\n",
      "(URN) connected to server\n",
      "Login sent with ID: Dan\n",
      "(URN) disconnected from server\n",
      "(URN) connected to server\n",
      "Login sent with ID: Dan\n",
      "(URN) disconnected from server\n",
      "(URN) connected to server\n",
      "Login sent with ID: Dan\n",
      "(URN) disconnected from server\n",
      "(URN) connected to server\n",
      "Login sent with ID: Dan\n",
      "(URN) disconnected from server\n",
      "(URN) connected to server\n",
      "Login sent with ID: Dan\n",
      "(URN) disconnected from server\n",
      "(URN) connected to server\n",
      "Login sent with ID: Dan\n",
      "(URN) disconnected from server\n",
      "(URN) connected to server\n",
      "Login sent with ID: Dan\n"
     ]
    }
   ],
   "source": [
    "urn.clear()\n",
    "\n",
    "# urn.load_beryl_areas()\n",
    "# urn.set_allen_volume_visibility(True)\n",
    "# # rotate the camera to look down from the front\n",
    "# urn.set_camera_rotation(45,0,135)\n",
    "\n",
    "# # add the insertions\n",
    "# neuronNames = []\n",
    "# neuronPos = {}\n",
    "# neuronColor = {}\n",
    "# neuronShape = {}\n",
    "\n",
    "# probeColors = {}\n",
    "\n",
    "# i = 0\n",
    "# for _, row in alldata.iterrows():\n",
    "    \n",
    "#     if not row.probe in probeColors.keys():\n",
    "#         probeColors[row.probe] = randHexColor()\n",
    "#     color = probeColors[row.probe]\n",
    "#     # get a new random color\n",
    "#     name = 'n'+str(i)\n",
    "#     i+=1\n",
    "    \n",
    "#     neuronNames.append(name)\n",
    "#     neuronPos[name] = [row.ml, row.ap, row.dv]\n",
    "#     neuronColor[name] = hexColor\n",
    "#     neuronShape[name] = 'sphere'\n",
    "\n",
    "# urn.create_neurons(neuronNames)\n",
    "# urn.set_neuron_positions(neuronPos)\n",
    "# urn.set_neuron_colors(neuronColor)\n",
    "# urn.set_neuron_shapes(neuronShape)"
   ]
  },
  {
   "cell_type": "code",
   "execution_count": null,
   "id": "f753c392-79ec-4a17-8e0d-ea473c84b207",
   "metadata": {},
   "outputs": [],
   "source": []
  }
 ],
 "metadata": {
  "kernelspec": {
   "display_name": "Python 3 (ipykernel)",
   "language": "python",
   "name": "python3"
  },
  "language_info": {
   "codemirror_mode": {
    "name": "ipython",
    "version": 3
   },
   "file_extension": ".py",
   "mimetype": "text/x-python",
   "name": "python",
   "nbconvert_exporter": "python",
   "pygments_lexer": "ipython3",
   "version": "3.9.10"
  }
 },
 "nbformat": 4,
 "nbformat_minor": 5
}
