{
 "cells": [
  {
   "cell_type": "code",
   "execution_count": 1,
   "metadata": {},
   "outputs": [
    {
     "ename": "ModuleNotFoundError",
     "evalue": "No module named 'brainwidemap'",
     "output_type": "error",
     "traceback": [
      "\u001b[1;31m---------------------------------------------------------------------------\u001b[0m",
      "\u001b[1;31mModuleNotFoundError\u001b[0m                       Traceback (most recent call last)",
      "Cell \u001b[1;32mIn[1], line 5\u001b[0m\n\u001b[0;32m      3\u001b[0m \u001b[38;5;28;01mimport\u001b[39;00m \u001b[38;5;21;01mnumpy\u001b[39;00m \u001b[38;5;28;01mas\u001b[39;00m \u001b[38;5;21;01mnp\u001b[39;00m\n\u001b[0;32m      4\u001b[0m \u001b[38;5;28;01mimport\u001b[39;00m \u001b[38;5;21;01mtime\u001b[39;00m\n\u001b[1;32m----> 5\u001b[0m \u001b[38;5;28;01mfrom\u001b[39;00m \u001b[38;5;21;01mbrainwidemap\u001b[39;00m \u001b[38;5;28;01mimport\u001b[39;00m download_aggregate_tables\n\u001b[0;32m      6\u001b[0m \u001b[38;5;28;01mfrom\u001b[39;00m \u001b[38;5;21;01mone\u001b[39;00m\u001b[38;5;21;01m.\u001b[39;00m\u001b[38;5;21;01mapi\u001b[39;00m \u001b[38;5;28;01mimport\u001b[39;00m ONE\n\u001b[0;32m      7\u001b[0m one \u001b[38;5;241m=\u001b[39m ONE(base_url\u001b[38;5;241m=\u001b[39m\u001b[38;5;124m\"\u001b[39m\u001b[38;5;124mhttps://alyx.internationalbrainlab.org\u001b[39m\u001b[38;5;124m\"\u001b[39m, mode\u001b[38;5;241m=\u001b[39m\u001b[38;5;124m'\u001b[39m\u001b[38;5;124monline\u001b[39m\u001b[38;5;124m'\u001b[39m)\n",
      "\u001b[1;31mModuleNotFoundError\u001b[0m: No module named 'brainwidemap'"
     ]
    }
   ],
   "source": [
    "import pandas as pd\n",
    "import oursin as urchin\n",
    "import numpy as np\n",
    "import time\n",
    "from brainwidemap import download_aggregate_tables\n",
    "from one.api import ONE\n",
    "one = ONE(base_url=\"https://alyx.internationalbrainlab.org\", mode='online')\n",
    "\n",
    "import iblatlas.atlas as atlas\n",
    "from iblatlas.regions import BrainRegions\n",
    "br = BrainRegions\n",
    "CCFAtlas = atlas.AllenAtlas(25)"
   ]
  },
  {
   "cell_type": "code",
   "execution_count": 2,
   "metadata": {},
   "outputs": [],
   "source": [
    "clusters_table = download_aggregate_tables(one, type='clusters')\n",
    "clusters = pd.read_parquet(clusters_table)\n"
   ]
  },
  {
   "cell_type": "code",
   "execution_count": 3,
   "metadata": {},
   "outputs": [
    {
     "name": "stdout",
     "output_type": "stream",
     "text": [
      "(URN) connected to server\n",
      "Login sent with ID: 30d349a0, copy this ID into the renderer to connect.\n"
     ]
    }
   ],
   "source": [
    "urchin.setup()"
   ]
  },
  {
   "cell_type": "code",
   "execution_count": 4,
   "metadata": {},
   "outputs": [],
   "source": [
    "xyz = clusters[['x','y','z']].values\n",
    "mlapdv = CCFAtlas.xyz2ccf(xyz)\n",
    "clusters['ml'] = mlapdv[:,0]\n",
    "clusters['ap'] = mlapdv[:,1]\n",
    "clusters['dv'] = mlapdv[:,2]"
   ]
  },
  {
   "cell_type": "code",
   "execution_count": 5,
   "metadata": {},
   "outputs": [
    {
     "data": {
      "text/html": [
       "<div>\n",
       "<style scoped>\n",
       "    .dataframe tbody tr th:only-of-type {\n",
       "        vertical-align: middle;\n",
       "    }\n",
       "\n",
       "    .dataframe tbody tr th {\n",
       "        vertical-align: top;\n",
       "    }\n",
       "\n",
       "    .dataframe thead th {\n",
       "        text-align: right;\n",
       "    }\n",
       "</style>\n",
       "<table border=\"1\" class=\"dataframe\">\n",
       "  <thead>\n",
       "    <tr style=\"text-align: right;\">\n",
       "      <th></th>\n",
       "      <th>uuids</th>\n",
       "      <th>depths</th>\n",
       "      <th>channels</th>\n",
       "      <th>cluster_id</th>\n",
       "      <th>amp_max</th>\n",
       "      <th>amp_min</th>\n",
       "      <th>amp_median</th>\n",
       "      <th>amp_std_dB</th>\n",
       "      <th>contamination</th>\n",
       "      <th>contamination_alt</th>\n",
       "      <th>...</th>\n",
       "      <th>z</th>\n",
       "      <th>acronym</th>\n",
       "      <th>atlas_id</th>\n",
       "      <th>axial_um</th>\n",
       "      <th>lateral_um</th>\n",
       "      <th>pid</th>\n",
       "      <th>eid</th>\n",
       "      <th>ml</th>\n",
       "      <th>ap</th>\n",
       "      <th>dv</th>\n",
       "    </tr>\n",
       "  </thead>\n",
       "  <tbody>\n",
       "    <tr>\n",
       "      <th>0</th>\n",
       "      <td>918eb59c-2d17-4b4e-bbd2-7946d3604d2f</td>\n",
       "      <td>20.0</td>\n",
       "      <td>0</td>\n",
       "      <td>0</td>\n",
       "      <td>0.000520</td>\n",
       "      <td>0.000118</td>\n",
       "      <td>0.000186</td>\n",
       "      <td>2.231017</td>\n",
       "      <td>0.083911</td>\n",
       "      <td>0.072965</td>\n",
       "      <td>...</td>\n",
       "      <td>-0.003595</td>\n",
       "      <td>TH</td>\n",
       "      <td>549</td>\n",
       "      <td>20.0</td>\n",
       "      <td>43.0</td>\n",
       "      <td>56f2a378-78d2-4132-b3c8-8c1ba82be598</td>\n",
       "      <td>6713a4a7-faed-4df2-acab-ee4e63326f8d</td>\n",
       "      <td>3450.0</td>\n",
       "      <td>7937.0</td>\n",
       "      <td>3927.0</td>\n",
       "    </tr>\n",
       "    <tr>\n",
       "      <th>1</th>\n",
       "      <td>83a77b50-f409-4c3f-b992-782ebde32dbb</td>\n",
       "      <td>20.0</td>\n",
       "      <td>0</td>\n",
       "      <td>1</td>\n",
       "      <td>0.000369</td>\n",
       "      <td>0.000086</td>\n",
       "      <td>0.000162</td>\n",
       "      <td>1.829977</td>\n",
       "      <td>0.054216</td>\n",
       "      <td>0.043135</td>\n",
       "      <td>...</td>\n",
       "      <td>-0.003595</td>\n",
       "      <td>TH</td>\n",
       "      <td>549</td>\n",
       "      <td>20.0</td>\n",
       "      <td>43.0</td>\n",
       "      <td>56f2a378-78d2-4132-b3c8-8c1ba82be598</td>\n",
       "      <td>6713a4a7-faed-4df2-acab-ee4e63326f8d</td>\n",
       "      <td>3450.0</td>\n",
       "      <td>7937.0</td>\n",
       "      <td>3927.0</td>\n",
       "    </tr>\n",
       "    <tr>\n",
       "      <th>2</th>\n",
       "      <td>b4f7da58-9bf6-494e-a4cb-8d6934dcc928</td>\n",
       "      <td>20.0</td>\n",
       "      <td>0</td>\n",
       "      <td>2</td>\n",
       "      <td>0.000450</td>\n",
       "      <td>0.000143</td>\n",
       "      <td>0.000187</td>\n",
       "      <td>1.949605</td>\n",
       "      <td>0.436803</td>\n",
       "      <td>0.310567</td>\n",
       "      <td>...</td>\n",
       "      <td>-0.003595</td>\n",
       "      <td>TH</td>\n",
       "      <td>549</td>\n",
       "      <td>20.0</td>\n",
       "      <td>43.0</td>\n",
       "      <td>56f2a378-78d2-4132-b3c8-8c1ba82be598</td>\n",
       "      <td>6713a4a7-faed-4df2-acab-ee4e63326f8d</td>\n",
       "      <td>3450.0</td>\n",
       "      <td>7937.0</td>\n",
       "      <td>3927.0</td>\n",
       "    </tr>\n",
       "    <tr>\n",
       "      <th>3</th>\n",
       "      <td>8db87ffd-bea0-481e-91cb-8317b8da1563</td>\n",
       "      <td>20.0</td>\n",
       "      <td>0</td>\n",
       "      <td>3</td>\n",
       "      <td>0.000459</td>\n",
       "      <td>0.000162</td>\n",
       "      <td>0.000181</td>\n",
       "      <td>1.487011</td>\n",
       "      <td>0.141639</td>\n",
       "      <td>0.118156</td>\n",
       "      <td>...</td>\n",
       "      <td>-0.003595</td>\n",
       "      <td>TH</td>\n",
       "      <td>549</td>\n",
       "      <td>20.0</td>\n",
       "      <td>43.0</td>\n",
       "      <td>56f2a378-78d2-4132-b3c8-8c1ba82be598</td>\n",
       "      <td>6713a4a7-faed-4df2-acab-ee4e63326f8d</td>\n",
       "      <td>3450.0</td>\n",
       "      <td>7937.0</td>\n",
       "      <td>3927.0</td>\n",
       "    </tr>\n",
       "    <tr>\n",
       "      <th>4</th>\n",
       "      <td>3a2f08b3-0459-48ba-81fa-1d87a1086b62</td>\n",
       "      <td>20.0</td>\n",
       "      <td>0</td>\n",
       "      <td>4</td>\n",
       "      <td>0.000219</td>\n",
       "      <td>0.000130</td>\n",
       "      <td>0.000147</td>\n",
       "      <td>0.968083</td>\n",
       "      <td>0.000000</td>\n",
       "      <td>0.000000</td>\n",
       "      <td>...</td>\n",
       "      <td>-0.003595</td>\n",
       "      <td>TH</td>\n",
       "      <td>549</td>\n",
       "      <td>20.0</td>\n",
       "      <td>43.0</td>\n",
       "      <td>56f2a378-78d2-4132-b3c8-8c1ba82be598</td>\n",
       "      <td>6713a4a7-faed-4df2-acab-ee4e63326f8d</td>\n",
       "      <td>3450.0</td>\n",
       "      <td>7937.0</td>\n",
       "      <td>3927.0</td>\n",
       "    </tr>\n",
       "  </tbody>\n",
       "</table>\n",
       "<p>5 rows × 31 columns</p>\n",
       "</div>"
      ],
      "text/plain": [
       "                                  uuids  depths  channels  cluster_id  \\\n",
       "0  918eb59c-2d17-4b4e-bbd2-7946d3604d2f    20.0         0           0   \n",
       "1  83a77b50-f409-4c3f-b992-782ebde32dbb    20.0         0           1   \n",
       "2  b4f7da58-9bf6-494e-a4cb-8d6934dcc928    20.0         0           2   \n",
       "3  8db87ffd-bea0-481e-91cb-8317b8da1563    20.0         0           3   \n",
       "4  3a2f08b3-0459-48ba-81fa-1d87a1086b62    20.0         0           4   \n",
       "\n",
       "    amp_max   amp_min  amp_median  amp_std_dB  contamination  \\\n",
       "0  0.000520  0.000118    0.000186    2.231017       0.083911   \n",
       "1  0.000369  0.000086    0.000162    1.829977       0.054216   \n",
       "2  0.000450  0.000143    0.000187    1.949605       0.436803   \n",
       "3  0.000459  0.000162    0.000181    1.487011       0.141639   \n",
       "4  0.000219  0.000130    0.000147    0.968083       0.000000   \n",
       "\n",
       "   contamination_alt  ...         z  acronym  atlas_id  axial_um  lateral_um  \\\n",
       "0           0.072965  ... -0.003595       TH       549      20.0        43.0   \n",
       "1           0.043135  ... -0.003595       TH       549      20.0        43.0   \n",
       "2           0.310567  ... -0.003595       TH       549      20.0        43.0   \n",
       "3           0.118156  ... -0.003595       TH       549      20.0        43.0   \n",
       "4           0.000000  ... -0.003595       TH       549      20.0        43.0   \n",
       "\n",
       "                                    pid                                   eid  \\\n",
       "0  56f2a378-78d2-4132-b3c8-8c1ba82be598  6713a4a7-faed-4df2-acab-ee4e63326f8d   \n",
       "1  56f2a378-78d2-4132-b3c8-8c1ba82be598  6713a4a7-faed-4df2-acab-ee4e63326f8d   \n",
       "2  56f2a378-78d2-4132-b3c8-8c1ba82be598  6713a4a7-faed-4df2-acab-ee4e63326f8d   \n",
       "3  56f2a378-78d2-4132-b3c8-8c1ba82be598  6713a4a7-faed-4df2-acab-ee4e63326f8d   \n",
       "4  56f2a378-78d2-4132-b3c8-8c1ba82be598  6713a4a7-faed-4df2-acab-ee4e63326f8d   \n",
       "\n",
       "       ml      ap      dv  \n",
       "0  3450.0  7937.0  3927.0  \n",
       "1  3450.0  7937.0  3927.0  \n",
       "2  3450.0  7937.0  3927.0  \n",
       "3  3450.0  7937.0  3927.0  \n",
       "4  3450.0  7937.0  3927.0  \n",
       "\n",
       "[5 rows x 31 columns]"
      ]
     },
     "execution_count": 5,
     "metadata": {},
     "output_type": "execute_result"
    }
   ],
   "source": [
    "\n",
    "clusters.head()"
   ]
  },
  {
   "cell_type": "code",
   "execution_count": 6,
   "metadata": {},
   "outputs": [],
   "source": [
    "urchin.atlas.ccf25.load()\n",
    "# urchin.ccf25.set_allen_volume_visibility(True)"
   ]
  },
  {
   "cell_type": "code",
   "execution_count": 8,
   "metadata": {},
   "outputs": [],
   "source": [
    "urchin.camera.main.set_rotation((45,0,135))"
   ]
  },
  {
   "cell_type": "code",
   "execution_count": 9,
   "metadata": {},
   "outputs": [
    {
     "name": "stdout",
     "output_type": "stream",
     "text": [
      "(Warning): Area 22 couldnt be found in this atlas!\n",
      "(Warning): Area 31 couldnt be found in this atlas!\n",
      "(Warning): Area 44 couldnt be found in this atlas!\n",
      "(Warning): Area 95 couldnt be found in this atlas!\n",
      "(Warning): Area 184 couldnt be found in this atlas!\n",
      "(Warning): Area 247 couldnt be found in this atlas!\n",
      "(Warning): Area 254 couldnt be found in this atlas!\n",
      "(Warning): Area 343 couldnt be found in this atlas!\n",
      "(Warning): Area 453 couldnt be found in this atlas!\n",
      "(Warning): Area 500 couldnt be found in this atlas!\n",
      "(Warning): Area 512 couldnt be found in this atlas!\n",
      "(Warning): Area 541 couldnt be found in this atlas!\n",
      "(Warning): Area 623 couldnt be found in this atlas!\n",
      "(Warning): Area 669 couldnt be found in this atlas!\n",
      "(Warning): Area 677 couldnt be found in this atlas!\n",
      "(Warning): Area 698 couldnt be found in this atlas!\n",
      "(Warning): Area 703 couldnt be found in this atlas!\n",
      "(Warning): Area 714 couldnt be found in this atlas!\n",
      "(Warning): Area 895 couldnt be found in this atlas!\n",
      "(Warning): Area 922 couldnt be found in this atlas!\n",
      "(Warning): Area 972 couldnt be found in this atlas!\n",
      "(Warning): Area 1057 couldnt be found in this atlas!\n",
      "(Warning): Area 1089 couldnt be found in this atlas!\n"
     ]
    },
    {
     "ename": "AttributeError",
     "evalue": "module 'oursin' has no attribute 'set_area_visibility'",
     "output_type": "error",
     "traceback": [
      "\u001b[1;31m---------------------------------------------------------------------------\u001b[0m",
      "\u001b[1;31mAttributeError\u001b[0m                            Traceback (most recent call last)",
      "Input \u001b[1;32mIn [9]\u001b[0m, in \u001b[0;36m<cell line: 6>\u001b[1;34m()\u001b[0m\n\u001b[0;32m      3\u001b[0m areas \u001b[38;5;241m=\u001b[39m [\u001b[38;5;241m22\u001b[39m, \u001b[38;5;241m31\u001b[39m, \u001b[38;5;241m44\u001b[39m, \u001b[38;5;241m95\u001b[39m, \u001b[38;5;241m184\u001b[39m, \u001b[38;5;241m247\u001b[39m, \u001b[38;5;241m254\u001b[39m, \u001b[38;5;241m343\u001b[39m, \u001b[38;5;241m453\u001b[39m, \u001b[38;5;241m500\u001b[39m, \u001b[38;5;241m512\u001b[39m, \u001b[38;5;241m541\u001b[39m, \u001b[38;5;241m623\u001b[39m, \u001b[38;5;241m669\u001b[39m, \u001b[38;5;241m677\u001b[39m, \u001b[38;5;241m698\u001b[39m, \u001b[38;5;241m703\u001b[39m, \u001b[38;5;241m714\u001b[39m, \u001b[38;5;241m895\u001b[39m, \u001b[38;5;241m922\u001b[39m, \u001b[38;5;241m972\u001b[39m, \u001b[38;5;241m1057\u001b[39m, \u001b[38;5;241m1089\u001b[39m]\n\u001b[0;32m      4\u001b[0m area_list \u001b[38;5;241m=\u001b[39m urchin\u001b[38;5;241m.\u001b[39mccf25\u001b[38;5;241m.\u001b[39mget_areas(areas)\n\u001b[1;32m----> 6\u001b[0m \u001b[43murchin\u001b[49m\u001b[38;5;241;43m.\u001b[39;49m\u001b[43mset_area_visibility\u001b[49m(area_list, \u001b[38;5;28;01mTrue\u001b[39;00m)\n\u001b[0;32m      7\u001b[0m urchin\u001b[38;5;241m.\u001b[39mset_area_material(area_list, \u001b[38;5;124m'\u001b[39m\u001b[38;5;124mtransparent-unlit\u001b[39m\u001b[38;5;124m'\u001b[39m)\n\u001b[0;32m      8\u001b[0m urchin\u001b[38;5;241m.\u001b[39mset_area_alpha(area_list, \u001b[38;5;241m0.15\u001b[39m)\n",
      "\u001b[1;31mAttributeError\u001b[0m: module 'oursin' has no attribute 'set_area_visibility'"
     ]
    }
   ],
   "source": [
    "# urn.clear_areas()\n",
    "\n",
    "areas = [22, 31, 44, 95, 184, 247, 254, 343, 453, 500, 512, 541, 623, 669, 677, 698, 703, 714, 895, 922, 972, 1057, 1089]\n",
    "\n",
    "\n",
    "\n",
    "area_list = urchin.ccf25.get_areas(areas)\n",
    "\n",
    "urchin.ccf25.set_visibilities(area_list, True)\n",
    "urchin.ccf25.set_materials(area_list, 'transparent-unlit')\n",
    "urchin.ccf25.set_alphas(area_list, 0.15)"
   ]
  },
  {
   "cell_type": "code",
   "execution_count": 79,
   "metadata": {},
   "outputs": [
    {
     "name": "stdout",
     "output_type": "stream",
     "text": [
      "(URN) disconnected from server\n",
      "(URN) connected to server\n",
      "Login sent with ID: Dan\n"
     ]
    }
   ],
   "source": [
    "urn.set_area_visibility({'grey':True})\n",
    "urn.set_area_material({'grey':'transparent-unlit'})\n",
    "urn.set_area_alpha({'grey':0.15})"
   ]
  },
  {
   "cell_type": "code",
   "execution_count": 74,
   "metadata": {},
   "outputs": [],
   "source": [
    "urchin.clear_neurons()\n",
    "\n",
    "neuron_names = []\n",
    "neuron_pos = {}\n",
    "neuron_size = {}\n",
    "neuron_mat = {}\n",
    "neuron_color = {}\n",
    "\n",
    "count = 0\n",
    "\n",
    "for (i, row) in clusters.iterrows():\n",
    "  # if (row.label==1):\n",
    "  count+=1\n",
    "  nn = 'n' + str(i)\n",
    "\n",
    "  neuron_names.append(nn)\n",
    "  neuron_pos[nn] = [round(row.ml), round(row.ap), round(row.dv)]\n",
    "  neuron_size[nn] = 0.02\n",
    "  neuron_mat[nn] = 'unlit'\n",
    "  neuron_color[nn] = '#808080'\n",
    "  \n",
    "  if i % 100 == 0:      \n",
    "    urchin.meshes.create(neuron_names)\n",
    "    urchin.set_neuron_positions(neuron_pos)\n",
    "    urchin.set_neuron_sizes(neuron_size)\n",
    "    # urn.set_neuron_materials(neuron_mat)\n",
    "    urchin.set_neuron_colors(neuron_color)\n",
    "    \n",
    "    neuron_names = []\n",
    "    neuron_pos = {}\n",
    "    neuron_size = {}\n",
    "    neuron_mat = {}\n",
    "    neuron_color = {}\n"
   ]
  },
  {
   "cell_type": "code",
   "execution_count": 60,
   "metadata": {},
   "outputs": [
    {
     "name": "stdout",
     "output_type": "stream",
     "text": [
      "32784\n"
     ]
    }
   ],
   "source": [
    "print(count)"
   ]
  },
  {
   "cell_type": "code",
   "execution_count": null,
   "metadata": {},
   "outputs": [],
   "source": []
  }
 ],
 "metadata": {
  "kernelspec": {
   "display_name": "Python 3.9.10 ('iblenv')",
   "language": "python",
   "name": "python3"
  },
  "language_info": {
   "codemirror_mode": {
    "name": "ipython",
    "version": 3
   },
   "file_extension": ".py",
   "mimetype": "text/x-python",
   "name": "python",
   "nbconvert_exporter": "python",
   "pygments_lexer": "ipython3",
   "version": "3.10.14"
  },
  "orig_nbformat": 4,
  "vscode": {
   "interpreter": {
    "hash": "4225be81b5357c529c38c12afdf9f4987fe9414ca9962627f4f2d77123f1f35a"
   }
  }
 },
 "nbformat": 4,
 "nbformat_minor": 2
}
