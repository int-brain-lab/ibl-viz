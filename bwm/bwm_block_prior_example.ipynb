{
 "cells": [
  {
   "cell_type": "code",
   "execution_count": 27,
   "id": "4fe56323-17eb-4512-8568-c34f874ff632",
   "metadata": {},
   "outputs": [],
   "source": [
    "import pickle\n",
    "import unityneuro.render as urn\n",
    "import numpy as np\n",
    "import pandas as pd\n",
    "from ibllib.atlas import AllenAtlas\n",
    "atlas = AllenAtlas(25)"
   ]
  },
  {
   "cell_type": "markdown",
   "id": "6f148df0-01cd-431c-aa6d-ac41805cdfdc",
   "metadata": {},
   "source": [
    "# Load data"
   ]
  },
  {
   "cell_type": "code",
   "execution_count": 2,
   "id": "71229d1c-ab16-4832-87f5-7078d1c2d0dc",
   "metadata": {},
   "outputs": [],
   "source": [
    "with open('./data/Block_BWM_2022-06-01.p', 'rb') as file:\n",
    "    data = pickle.load(file)"
   ]
  },
  {
   "cell_type": "code",
   "execution_count": 3,
   "id": "95df980e-3f0a-4b2e-8ff0-a65842291796",
   "metadata": {},
   "outputs": [
    {
     "data": {
      "text/plain": [
       "{'author': 'Brandon Benson',\n",
       " 'date': '2022-06-01',\n",
       " 'description': 'Logistic regression is used to decode the block from neural data.  accuracy values are reported after performing regression.  A 5-fold interleaved cross-validation is used to determine hyper-parameters on 80 percent of the data and predictions are made on the held-out 20 percent.  This is repeated 5 times with different held-out sets to cover all trials.  accuracy performance is then evaluated using the predictions across all trials.  The same process is used to decode 100 block pseudo-sessions which are used to evaluate the p-value of the reported accuracy value.',\n",
       " 'inclusion_crit': 'Sessions must have 400 or more trials.  Trials with reaction time (firstMovement_time-goCue_time) less than 80ms are excluded. Unbiased blocks are excluded.  Regions with less than 10 units are excluded.  QC criteria is 3/3',\n",
       " 'data':      probe                           session_eid acronym  score_accuracy  \\\n",
       " 0        0  1e45d992-c356-40e1-9be1-a506d944896f     APN        0.560811   \n",
       " 1        0  1e45d992-c356-40e1-9be1-a506d944896f      DG        0.596847   \n",
       " 2        1  1e45d992-c356-40e1-9be1-a506d944896f     ACB        0.484234   \n",
       " 3        1  1e45d992-c356-40e1-9be1-a506d944896f      CP        0.614865   \n",
       " 4        1  1e45d992-c356-40e1-9be1-a506d944896f     MOs        0.596847   \n",
       " ..     ...                                   ...     ...             ...   \n",
       " 867      1  fa704052-147e-46f6-b190-a65b837e605e     NLL        0.538564   \n",
       " 868      1  fa704052-147e-46f6-b190-a65b837e605e    root        0.566489   \n",
       " 869      0  fa704052-147e-46f6-b190-a65b837e605e  RSPagl        0.569149   \n",
       " 870      0  fa704052-147e-46f6-b190-a65b837e605e    RSPv        0.537234   \n",
       " 871      0  fa704052-147e-46f6-b190-a65b837e605e     SCm        0.541223   \n",
       " \n",
       "      pvalue  \n",
       " 0      0.69  \n",
       " 1      0.23  \n",
       " 2      0.95  \n",
       " 3      0.32  \n",
       " 4      0.72  \n",
       " ..      ...  \n",
       " 867    0.61  \n",
       " 868    0.55  \n",
       " 869    0.23  \n",
       " 870    0.43  \n",
       " 871    0.57  \n",
       " \n",
       " [872 rows x 5 columns]}"
      ]
     },
     "execution_count": 3,
     "metadata": {},
     "output_type": "execute_result"
    }
   ],
   "source": [
    "data"
   ]
  },
  {
   "cell_type": "code",
   "execution_count": 35,
   "id": "ba513295-58dc-4bef-8fa5-b19caa5d2a3f",
   "metadata": {},
   "outputs": [],
   "source": [
    "areas = data['data']"
   ]
  },
  {
   "cell_type": "markdown",
   "id": "4576d7ae-7d48-4cc2-ba5e-850538c61811",
   "metadata": {},
   "source": [
    "# Setup data for renderer"
   ]
  },
  {
   "cell_type": "code",
   "execution_count": 136,
   "id": "95b42642-4abb-4f4b-b8ed-9e259783f36a",
   "metadata": {},
   "outputs": [],
   "source": [
    "# load beryl atlas, we only want areas in beryl (and we want *all* areas in beryl)\n",
    "allenCCF = pd.read_csv('ontology_structure_minimal.csv')\n",
    "berylIDs = np.unique(allenCCF.beryl_id.values)\n",
    "berylAcronyms = atlas.regions.id2acronym(berylIDs,mapping='Beryl')\n",
    "berylAcronyms = np.delete(berylAcronyms, np.argwhere(berylAcronyms=='root')[0][0])"
   ]
  },
  {
   "cell_type": "code",
   "execution_count": 137,
   "id": "ac49883a-2984-4eab-94c5-88944a3ce56f",
   "metadata": {},
   "outputs": [],
   "source": [
    "# re-organize so that we have the accuracy/p-value per area\n",
    "accData = {}\n",
    "pvalData = {}\n",
    "for i, row in areas.iterrows():\n",
    "    if row.acronym in berylAcronyms:\n",
    "        if row.acronym in accData.keys():\n",
    "            accData[row.acronym].append(row.score_accuracy)\n",
    "            pvalData[row.acronym].append(row.pvalue)\n",
    "        else:\n",
    "            accData[row.acronym] = [row.score_accuracy]\n",
    "            pvalData[row.acronym] = [row.pvalue]"
   ]
  },
  {
   "cell_type": "code",
   "execution_count": 138,
   "id": "db2e8c4a-7a11-42a6-98f8-33ce4e1a609e",
   "metadata": {},
   "outputs": [
    {
     "name": "stdout",
     "output_type": "stream",
     "text": [
      "0.4076557971683311 0.682917012366165\n"
     ]
    }
   ],
   "source": [
    "# get the median value\n",
    "areaIntensity = {}\n",
    "for area in accData.keys():\n",
    "    areaIntensity[area] = np.median(accData[area])\n",
    "minAcc = np.min(list(areaIntensity.values()))\n",
    "maxAcc = np.max(list(areaIntensity.values()))\n",
    "print(minAcc, maxAcc)\n",
    "# get the percentage less than 0.05 p-value\n",
    "pvalProportion = {}\n",
    "for area in pvalData.keys():\n",
    "    pvalProportion[area] = len(np.argwhere(np.array(pvalData[area])<0.05))/len(pvalData[area])"
   ]
  },
  {
   "cell_type": "code",
   "execution_count": 139,
   "id": "868ecd7c-a1d6-4a2b-9cb8-3c0290ac1064",
   "metadata": {},
   "outputs": [],
   "source": [
    "# rescale intensity\n",
    "for area in areaIntensity.keys():\n",
    "    areaIntensity[area] = (areaIntensity[area]-minAcc) / (maxAcc-minAcc) + 0.01"
   ]
  },
  {
   "cell_type": "code",
   "execution_count": 140,
   "id": "1afea6ee-82f4-4021-8346-63d4a4b27751",
   "metadata": {},
   "outputs": [],
   "source": [
    "for acronym in berylAcronyms:\n",
    "    if not acronym in areaIntensity.keys():\n",
    "        areaIntensity[acronym] = 0\n",
    "    if not acronym in pvalProportion.keys():\n",
    "        pvalProportion[acronym] = 0"
   ]
  },
  {
   "cell_type": "code",
   "execution_count": 141,
   "id": "62572340-226f-42f4-ad37-1cc3988ae4e0",
   "metadata": {},
   "outputs": [],
   "source": [
    "areaNames = {}\n",
    "areaMaterials = {}\n",
    "\n",
    "for acronym in berylAcronyms:\n",
    "    areaNames[acronym] = True\n",
    "    areaMaterials[acronym] = \"opaque-unlit\""
   ]
  },
  {
   "cell_type": "markdown",
   "id": "0b2d18ed-f721-4413-9d57-482b2d30d1a7",
   "metadata": {},
   "source": [
    "# Render"
   ]
  },
  {
   "cell_type": "code",
   "execution_count": 54,
   "id": "ad0cf037-f1a7-453c-93e4-04c72d1ccd8d",
   "metadata": {},
   "outputs": [
    {
     "name": "stdout",
     "output_type": "stream",
     "text": [
      "(URN) connected to server\n",
      "Login sent with ID: Dan\n"
     ]
    }
   ],
   "source": [
    "urn.setup(standalone=True)"
   ]
  },
  {
   "cell_type": "code",
   "execution_count": 121,
   "id": "c5806b04-4259-49e8-b691-5a4f57aa1008",
   "metadata": {},
   "outputs": [],
   "source": [
    "urn.clear()"
   ]
  },
  {
   "cell_type": "code",
   "execution_count": 155,
   "id": "8ea97758-689a-47ab-91a5-949b51c6052d",
   "metadata": {},
   "outputs": [],
   "source": [
    "urn.set_area_visibility(areaNames)"
   ]
  },
  {
   "cell_type": "code",
   "execution_count": 156,
   "id": "5c0281fc-65b9-4079-a317-7e22466c097f",
   "metadata": {},
   "outputs": [],
   "source": [
    "urn.set_area_colormap(\"grey-purple\")\n",
    "urn.set_area_intensity(areaIntensity)"
   ]
  },
  {
   "cell_type": "code",
   "execution_count": 149,
   "id": "51e92922-755d-4925-be1b-7572f0e46af2",
   "metadata": {},
   "outputs": [],
   "source": [
    "urn.set_area_intensity(pvalProportion)"
   ]
  },
  {
   "cell_type": "code",
   "execution_count": 157,
   "id": "86f9b30f-4c0f-4c28-a8aa-0c9c155d94e0",
   "metadata": {},
   "outputs": [],
   "source": [
    "urn.set_area_intensity(areaIntensity)\n",
    "urn.set_area_material(areaMaterials)"
   ]
  },
  {
   "cell_type": "code",
   "execution_count": 158,
   "id": "eb773955-dcf1-4c60-aba3-7c50e776a5a0",
   "metadata": {},
   "outputs": [],
   "source": [
    "urn.set_area_colormap(\"grey-red\")\n",
    "urn.set_area_intensity(pvalProportion)"
   ]
  },
  {
   "cell_type": "code",
   "execution_count": null,
   "id": "bd80120c-e357-4694-94b4-2eaf116a2f0e",
   "metadata": {},
   "outputs": [],
   "source": []
  }
 ],
 "metadata": {
  "kernelspec": {
   "display_name": "Python 3 (ipykernel)",
   "language": "python",
   "name": "python3"
  },
  "language_info": {
   "codemirror_mode": {
    "name": "ipython",
    "version": 3
   },
   "file_extension": ".py",
   "mimetype": "text/x-python",
   "name": "python",
   "nbconvert_exporter": "python",
   "pygments_lexer": "ipython3",
   "version": "3.9.0"
  }
 },
 "nbformat": 4,
 "nbformat_minor": 5
}
