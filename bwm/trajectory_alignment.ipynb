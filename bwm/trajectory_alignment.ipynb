{
 "cells": [
  {
   "cell_type": "markdown",
   "id": "d8471f3f-385f-401d-a0df-e1c53f05dac1",
   "metadata": {
    "tags": []
   },
   "source": [
    "# Plot the planned/micro-manip/ephys trajectories for each mouse"
   ]
  },
  {
   "cell_type": "code",
   "execution_count": 1,
   "id": "1c0fbb76-c643-4a5e-b22d-e0b4394ee596",
   "metadata": {},
   "outputs": [
    {
     "name": "stderr",
     "output_type": "stream",
     "text": [
      "C:\\Users\\Dan\\.conda\\envs\\iblenv\\lib\\site-packages\\numpy\\_distributor_init.py:30: UserWarning: loaded more than 1 DLL from .libs:\n",
      "C:\\Users\\Dan\\.conda\\envs\\iblenv\\lib\\site-packages\\numpy\\.libs\\libopenblas.FB5AE2TYXYH2IJRDKGDGQ3XBKLKTF43H.gfortran-win_amd64.dll\n",
      "C:\\Users\\Dan\\.conda\\envs\\iblenv\\lib\\site-packages\\numpy\\.libs\\libopenblas.GK7GX5KEQ4F6UYO3P26ULGBQYHGQO7J4.gfortran-win_amd64.dll\n",
      "  warnings.warn(\"loaded more than 1 DLL from .libs:\"\n"
     ]
    }
   ],
   "source": [
    "import unityneuro.render as urn\n",
    "from one.api import ONE\n",
    "one = ONE(base_url='https://alyx.internationalbrainlab.org')\n",
    "import ibllib.atlas as atlas\n",
    "NeedlesAtlas = atlas.NeedlesAtlas(25)\n",
    "\n",
    "import random\n",
    "r = lambda: random.randint(0,255)\n",
    "randHexColor = lambda : '#%02X%02X%02X' % (r(),r(),r())\n",
    "\n",
    "TEXT_X = -600\n",
    "TEXT_Y_INC = 30"
   ]
  },
  {
   "cell_type": "code",
   "execution_count": 17,
   "id": "9dc67415-45a8-4f44-bfea-4b4e7fa7c4ee",
   "metadata": {},
   "outputs": [],
   "source": [
    "def getCoords(ins, coord_transform):\n",
    "    entry_coords = coord_transform.xyz2ccf(ins.entry)\n",
    "    tip_coords = coord_transform.xyz2ccf(ins.tip)\n",
    "    angles = [ins.phi, ins.theta, ins.beta]\n",
    "    # depth = vec_dist(entry_coords, tip_coords)\n",
    "    return (entry_coords, tip_coords, angles)\n",
    "\n",
    "def traj2coords(traj, coord_transform):\n",
    "    insertion = atlas.Insertion.from_dict(traj)\n",
    "    return getCoords(insertion, coord_transform)\n",
    "\n",
    "def plot_session_histology(mouse):\n",
    "    bwm_mm = one.alyx.rest('trajectories', 'list', provenance='Micro-manipulator', subject=mouse,\n",
    "                          project='ibl_neuropixel_brainwide_01', use_cache=False)\n",
    "\n",
    "    urn.clear()\n",
    "\n",
    "    # get all the insertions for this mouse\n",
    "    urn.set_area_visibility({'8':True})\n",
    "    urn.set_area_material({'8':'transparent-unlit'})\n",
    "    urn.set_area_alpha({'8':0.15})\n",
    "    \n",
    "    probe_names = []\n",
    "    probet_texts = {}\n",
    "    probet_colors = {}\n",
    "    probet_positions = {}\n",
    "\n",
    "    for i, ins in enumerate(bwm_mm):\n",
    "        # get the coords\n",
    "        (entry, tip, angles) = traj2coords(ins, NeedlesAtlas)\n",
    "        \n",
    "        pname = 'mm'+str(i)\n",
    "        urn.create_probes([pname])\n",
    "        urn.set_probe_positions({pname:list(tip)})\n",
    "        urn.set_probe_angles({pname:list(angles)})\n",
    "        color = randHexColor()\n",
    "        urn.set_probe_colors({pname:color})\n",
    "        probe_names.append(pname)\n",
    "        probet_texts[pname] = ins['datetime'][0:10] + '/' + ins['probe_name']\n",
    "        probet_colors[pname] = color\n",
    "        probet_positions[pname] = [TEXT_X,i*TEXT_Y_INC]\n",
    "        \n",
    "    urn.create_text(probe_names)\n",
    "    urn.set_text(probet_texts)\n",
    "    urn.set_text_colors(probet_colors)\n",
    "    urn.set_text_positions(probet_positions)\n",
    "        \n",
    "    urn.create_text(['mouse_name'])\n",
    "    urn.set_text({'mouse_name':mouse})\n",
    "    urn.set_text_colors({'mouse_name':'#FFA500'})\n",
    "\n",
    "    urn.set_camera_rotation(45,0,0)\n",
    "    \n",
    "    return bwm_mm"
   ]
  },
  {
   "cell_type": "code",
   "execution_count": 3,
   "id": "a26ebd03-53ce-4cbd-9f4c-bdf812fe22cb",
   "metadata": {},
   "outputs": [
    {
     "name": "stdout",
     "output_type": "stream",
     "text": [
      "(URN) connected to server\n",
      "Login sent with ID: Dan\n"
     ]
    }
   ],
   "source": [
    "urn.setup()"
   ]
  },
  {
   "cell_type": "code",
   "execution_count": 19,
   "id": "1cd3dc8c-b5f9-4226-814a-0a107a50ada8",
   "metadata": {},
   "outputs": [],
   "source": [
    "bwm_mm = plot_session_histology('NR_0020')"
   ]
  }
 ],
 "metadata": {
  "kernelspec": {
   "display_name": "Python 3 (ipykernel)",
   "language": "python",
   "name": "python3"
  },
  "language_info": {
   "codemirror_mode": {
    "name": "ipython",
    "version": 3
   },
   "file_extension": ".py",
   "mimetype": "text/x-python",
   "name": "python",
   "nbconvert_exporter": "python",
   "pygments_lexer": "ipython3",
   "version": "3.9.10"
  }
 },
 "nbformat": 4,
 "nbformat_minor": 5
}
