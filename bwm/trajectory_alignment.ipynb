{
 "cells": [
  {
   "cell_type": "markdown",
   "id": "d8471f3f-385f-401d-a0df-e1c53f05dac1",
   "metadata": {
    "tags": []
   },
   "source": [
    "# Plot the planned/micro-manip/ephys trajectories for each mouse"
   ]
  },
  {
   "cell_type": "code",
   "execution_count": 1,
   "id": "1c0fbb76-c643-4a5e-b22d-e0b4394ee596",
   "metadata": {},
   "outputs": [],
   "source": [
    "import unityneuro.render as urn\n",
    "from one.api import ONE\n",
    "one = ONE(base_url='https://alyx.internationalbrainlab.org')\n",
    "import iblatlas.atlas as atlas\n",
    "NeedlesAtlas = atlas.NeedlesAtlas(25)\n",
    "CCFAtlas = atlas.AllenAtlas(25)\n",
    "\n",
    "import random\n",
    "r = lambda: random.randint(0,255)\n",
    "randHexColor = lambda : '#%02X%02X%02X' % (r(),r(),r())\n",
    "\n",
    "TEXT_X = -600\n",
    "TEXT_Y_INC = 30"
   ]
  },
  {
   "cell_type": "code",
   "execution_count": 2,
   "id": "9dc67415-45a8-4f44-bfea-4b4e7fa7c4ee",
   "metadata": {},
   "outputs": [],
   "source": [
    "def getCoords(ins, coord_transform):\n",
    "    entry_coords = coord_transform.xyz2ccf(ins.entry, mode='wrap')\n",
    "    tip_coords = coord_transform.xyz2ccf(ins.tip, mode='wrap')\n",
    "    angles = [ins.phi, ins.theta, ins.beta]\n",
    "    # depth = vec_dist(entry_coords, tip_coords)\n",
    "    return (entry_coords, tip_coords, angles)\n",
    "\n",
    "def traj2coords(traj, coord_transform):\n",
    "    insertion = atlas.Insertion.from_dict(traj)\n",
    "    return getCoords(insertion, coord_transform)\n",
    "\n",
    "def plot_session_micromanip(mouse):\n",
    "    bwm_mm = one.alyx.rest('trajectories', 'list', provenance='Micro-manipulator', subject=mouse,\n",
    "                          project='ibl_neuropixel_brainwide_01', use_cache=False)\n",
    "\n",
    "    urn.clear()\n",
    "\n",
    "    # get all the insertions for this mouse\n",
    "    urn.set_area_visibility({'8':True})\n",
    "    urn.set_area_material({'8':'transparent-unlit'})\n",
    "    urn.set_area_alpha({'8':0.15})\n",
    "    \n",
    "    probe_names = []\n",
    "    probet_texts = {}\n",
    "    probet_colors = {}\n",
    "    probet_positions = {}\n",
    "\n",
    "    for i, ins in enumerate(bwm_mm):\n",
    "        # get the coords\n",
    "        (entry, tip, angles) = traj2coords(ins, NeedlesAtlas)\n",
    "        \n",
    "        pname = 'mm'+str(i)\n",
    "        urn.create_probes([pname])\n",
    "        urn.set_probe_positions({pname:list(tip)})\n",
    "        urn.set_probe_angles({pname:list(angles)})\n",
    "        color = randHexColor()\n",
    "        urn.set_probe_colors({pname:color})\n",
    "        probe_names.append(pname)\n",
    "        probet_texts[pname] = ins['session']['start_time'][0:10] + '/' + ins['probe_name']\n",
    "        probet_colors[pname] = color\n",
    "        probet_positions[pname] = [TEXT_X,i*TEXT_Y_INC]\n",
    "        \n",
    "    urn.create_text(probe_names)\n",
    "    urn.set_text(probet_texts)\n",
    "    urn.set_text_colors(probet_colors)\n",
    "    urn.set_text_positions(probet_positions)\n",
    "        \n",
    "    urn.create_text(['mouse_name'])\n",
    "    urn.set_text({'mouse_name':mouse})\n",
    "    urn.set_text_colors({'mouse_name':'#FFA500'})\n",
    "\n",
    "    urn.set_camera_rotation(45,0,0)\n",
    "    \n",
    "    return bwm_mm"
   ]
  },
  {
   "cell_type": "code",
   "execution_count": 3,
   "id": "a26ebd03-53ce-4cbd-9f4c-bdf812fe22cb",
   "metadata": {},
   "outputs": [
    {
     "name": "stdout",
     "output_type": "stream",
     "text": [
      "(URN) connected to server\n",
      "Login sent with ID: Dan\n"
     ]
    }
   ],
   "source": [
    "urn.setup()"
   ]
  },
  {
   "cell_type": "code",
   "execution_count": 4,
   "id": "1cd3dc8c-b5f9-4226-814a-0a107a50ada8",
   "metadata": {},
   "outputs": [],
   "source": [
    "bwm_mm = plot_session_micromanip('ZFM-01576')"
   ]
  },
  {
   "cell_type": "code",
   "execution_count": 5,
   "id": "cd549d72-f9cc-4526-ac8b-7312cd6af1de",
   "metadata": {},
   "outputs": [],
   "source": [
    "def plot_session(mouse, pid):\n",
    "    color_opts = {'planned':'#0000ff', 'Micro-manipulator':'#00ff00', 'Histology track':'#ff0000', 'Ephys-aligned histology track':'#ff00ff'}\n",
    "    atlas_opts = {'planned':NeedlesAtlas, 'Micro-manipulator':NeedlesAtlas, 'Histology track':CCFAtlas, 'Ephys-aligned histology track':CCFAtlas}\n",
    "\n",
    "    bwm_trajs = one.alyx.rest('trajectories', 'list', subject=mouse, probe_insertion=pid,\n",
    "                          project='ibl_neuropixel_brainwide_01', use_cache=False)\n",
    "\n",
    "    urn.clear()\n",
    "    \n",
    "    urn.set_area_visibility({'8':True})\n",
    "    urn.set_area_material({'8':'transparent-unlit'})\n",
    "    urn.set_area_alpha({'8':0.15})\n",
    "    \n",
    "    # group data by EIDs\n",
    "    data = {}\n",
    "\n",
    "    for traj in bwm_trajs:\n",
    "        data[traj['provenance']] = traj\n",
    "\n",
    "    info_text = data['Micro-manipulator']['datetime'][:10] + '/' + data['Micro-manipulator']['probe_name']\n",
    "    urn.create_text(['eid_info'])\n",
    "    urn.set_text({'eid_info':info_text})\n",
    "\n",
    "    # create the legend\n",
    "\n",
    "    urn.create_text(list(color_opts.keys()))\n",
    "    urn.set_text({'planned':'planned', 'Micro-manipulator':'Micro-manipulator', 'Histology track':'Histology', 'Ephys-aligned histology track':'Ephys-aligned histology'})\n",
    "    urn.set_text_positions({'planned':[TEXT_X,TEXT_Y_INC*1], 'Micro-manipulator':[TEXT_X,TEXT_Y_INC*2], 'Histology track':[TEXT_X,TEXT_Y_INC*3], 'Ephys-aligned histology track':[TEXT_X,TEXT_Y_INC*4]})\n",
    "    urn.set_text_colors(color_opts)\n",
    "\n",
    "    probe_names = []\n",
    "    probet_texts = {}\n",
    "    probet_colors = {}\n",
    "    probet_positions = {}\n",
    "\n",
    "    probe_positions = {}\n",
    "    probe_angles = {}\n",
    "    probe_colors = {}\n",
    "\n",
    "    for ins_type in color_opts.keys():\n",
    "        if ins_type in data.keys():\n",
    "            probe_names.append(ins_type)\n",
    "\n",
    "            (entry, tip, angles) = traj2coords(data[ins_type], atlas_opts[ins_type])\n",
    "\n",
    "            probe_positions[ins_type] = list(tip)\n",
    "            probe_angles[ins_type] = list(angles)\n",
    "            probe_colors[ins_type] = color_opts[ins_type]\n",
    "\n",
    "    urn.create_probes(probe_names)\n",
    "    urn.set_probe_positions(probe_positions)\n",
    "    urn.set_probe_angles(probe_angles)\n",
    "    urn.set_probe_colors(probe_colors)"
   ]
  },
  {
   "cell_type": "code",
   "execution_count": 6,
   "id": "54078fb0-1b7e-4563-afc0-05751e964d76",
   "metadata": {},
   "outputs": [],
   "source": [
    "plot_session('NR_0020','dac5defe-62b8-4cc0-96cb-b9f923957c7f')"
   ]
  },
  {
   "cell_type": "code",
   "execution_count": 7,
   "id": "a5241754-da5e-4fe3-acab-8950485f0a6a",
   "metadata": {},
   "outputs": [],
   "source": [
    "plot_session('ZFM-01576','6eb8be8d-d089-43c6-b2e4-a6558ca16dcf')"
   ]
  },
  {
   "cell_type": "code",
   "execution_count": null,
   "id": "5aa8a6e0-bbc9-47e0-b1c4-82cd937ac27b",
   "metadata": {},
   "outputs": [],
   "source": []
  }
 ],
 "metadata": {
  "kernelspec": {
   "display_name": "Python 3 (ipykernel)",
   "language": "python",
   "name": "python3"
  },
  "language_info": {
   "codemirror_mode": {
    "name": "ipython",
    "version": 3
   },
   "file_extension": ".py",
   "mimetype": "text/x-python",
   "name": "python",
   "nbconvert_exporter": "python",
   "pygments_lexer": "ipython3",
   "version": "3.9.0"
  }
 },
 "nbformat": 4,
 "nbformat_minor": 5
}
