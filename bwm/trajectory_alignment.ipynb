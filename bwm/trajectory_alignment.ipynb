{
 "cells": [
  {
   "cell_type": "markdown",
   "id": "d8471f3f-385f-401d-a0df-e1c53f05dac1",
   "metadata": {
    "tags": []
   },
   "source": [
    "# Plot the planned/micro-manip/ephys trajectories for each mouse"
   ]
  },
  {
   "cell_type": "code",
   "execution_count": null,
   "id": "9dc67415-45a8-4f44-bfea-4b4e7fa7c4ee",
   "metadata": {},
   "outputs": [],
   "source": [
    "for i, mouse in enumerate(umice):\n",
    "    idx = np.mod(i,25)\n",
    "    if idx==0:\n",
    "        fig, axs = plt.subplots(5, 5, figsize=(10,10))\n",
    "        axs = axs.flatten()\n",
    "    \n",
    "    # get all the insertions for this mouse\n",
    "    pids = ins[ins['subject']==mouse]['pid']\n",
    "    # get the entry coordinates for micro-manip and ephys for this mouse\n",
    "\n",
    "    # plt.title(mouse)\n",
    "    for pid in pids.values:\n",
    "        mdata = traj_data[traj_data['pid']==pid]\n",
    "        color = randHexColor()\n",
    "        axs[idx].plot(mdata['ml_e_m'],mdata['ap_e_m'],'o',color='#ff0000')\n",
    "        axs[idx].plot(mdata['ml_e_e'],mdata['ap_e_e'],'o',color='#000000')\n",
    "        coordx = [mdata['ml_e_m'],mdata['ml_e_e']]\n",
    "        coordy = [mdata['ap_e_m'],mdata['ap_e_e']]\n",
    "        axs[idx].plot(coordx,coordy,'-',color=color)\n",
    "    axs[idx].title.set_text(mouse)\n",
    "    # axs[i].axis('equal')\n",
    "# plt.xlim([0,11400])\n",
    "# plt.ylim([0,13200])\n",
    "# plt.axis('equal')"
   ]
  }
 ],
 "metadata": {
  "kernelspec": {
   "display_name": "Python 3 (ipykernel)",
   "language": "python",
   "name": "python3"
  },
  "language_info": {
   "codemirror_mode": {
    "name": "ipython",
    "version": 3
   },
   "file_extension": ".py",
   "mimetype": "text/x-python",
   "name": "python",
   "nbconvert_exporter": "python",
   "pygments_lexer": "ipython3",
   "version": "3.9.0"
  }
 },
 "nbformat": 4,
 "nbformat_minor": 5
}
