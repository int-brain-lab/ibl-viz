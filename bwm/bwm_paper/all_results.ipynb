{
 "cells": [
  {
   "attachments": {},
   "cell_type": "markdown",
   "metadata": {},
   "source": [
    "This notebook creates a single visualization showing all of the results from the BWM paper in one \"view\" so to speak\n",
    "\n",
    "It first generates just the left sided areas. The user explodes them, and then it captures a screenshot.\n",
    "\n",
    "Then using the same point of view, it plots all of the major results"
   ]
  },
  {
   "cell_type": "code",
   "execution_count": 1,
   "metadata": {},
   "outputs": [],
   "source": [
    "import pandas as pd\n",
    "import oursin as urchin\n",
    "import matplotlib.pyplot as plt\n",
    "import numpy as np"
   ]
  },
  {
   "cell_type": "code",
   "execution_count": 2,
   "metadata": {},
   "outputs": [
    {
     "name": "stdout",
     "output_type": "stream",
     "text": [
      "(URN) connected to server\n",
      "Login sent with ID: root\n"
     ]
    }
   ],
   "source": [
    "urchin.setup()"
   ]
  },
  {
   "cell_type": "code",
   "execution_count": 3,
   "metadata": {},
   "outputs": [],
   "source": [
    "ds_block_prior = pd.read_csv('./block_prior_paper.csv')"
   ]
  },
  {
   "cell_type": "code",
   "execution_count": 4,
   "metadata": {},
   "outputs": [],
   "source": [
    "ds_block_prior.drop(ds_block_prior[ds_block_prior.region=='root'].index, inplace=True)\n",
    "ds_block_prior.drop(ds_block_prior[ds_block_prior.region=='void'].index, inplace=True)"
   ]
  },
  {
   "cell_type": "code",
   "execution_count": 5,
   "metadata": {},
   "outputs": [],
   "source": [
    "ds_stim = pd.read_parquet('./stimulus_bwm.pqt')\n",
    "ds_choice = pd.read_parquet('./choice_bwm.pqt')\n",
    "ds_feedback = pd.read_parquet('./feedback_bwm.pqt')\n",
    "ds_wheel_spd = pd.read_parquet('./wheel_speed_bwm.pqt')\n",
    "ds_block = pd.read_parquet('./block_bwm.pqt')"
   ]
  },
  {
   "cell_type": "code",
   "execution_count": 6,
   "metadata": {},
   "outputs": [
    {
     "data": {
      "text/html": [
       "<div>\n",
       "<style scoped>\n",
       "    .dataframe tbody tr th:only-of-type {\n",
       "        vertical-align: middle;\n",
       "    }\n",
       "\n",
       "    .dataframe tbody tr th {\n",
       "        vertical-align: top;\n",
       "    }\n",
       "\n",
       "    .dataframe thead th {\n",
       "        text-align: right;\n",
       "    }\n",
       "</style>\n",
       "<table border=\"1\" class=\"dataframe\">\n",
       "  <thead>\n",
       "    <tr style=\"text-align: right;\">\n",
       "      <th></th>\n",
       "      <th>region</th>\n",
       "      <th>R2_test</th>\n",
       "      <th>corrected_R2_test</th>\n",
       "      <th>fisher_p_value</th>\n",
       "      <th>significant</th>\n",
       "    </tr>\n",
       "  </thead>\n",
       "  <tbody>\n",
       "    <tr>\n",
       "      <th>0</th>\n",
       "      <td>ACAd</td>\n",
       "      <td>0.037425</td>\n",
       "      <td>0.028904</td>\n",
       "      <td>0.016465</td>\n",
       "      <td>True</td>\n",
       "    </tr>\n",
       "    <tr>\n",
       "      <th>1</th>\n",
       "      <td>ACAv</td>\n",
       "      <td>0.012078</td>\n",
       "      <td>0.003473</td>\n",
       "      <td>0.488579</td>\n",
       "      <td>False</td>\n",
       "    </tr>\n",
       "    <tr>\n",
       "      <th>2</th>\n",
       "      <td>ACB</td>\n",
       "      <td>0.001825</td>\n",
       "      <td>0.008099</td>\n",
       "      <td>0.154024</td>\n",
       "      <td>False</td>\n",
       "    </tr>\n",
       "    <tr>\n",
       "      <th>3</th>\n",
       "      <td>AId</td>\n",
       "      <td>0.060093</td>\n",
       "      <td>0.044334</td>\n",
       "      <td>0.001808</td>\n",
       "      <td>True</td>\n",
       "    </tr>\n",
       "    <tr>\n",
       "      <th>4</th>\n",
       "      <td>AIp</td>\n",
       "      <td>0.046470</td>\n",
       "      <td>0.036076</td>\n",
       "      <td>0.018729</td>\n",
       "      <td>True</td>\n",
       "    </tr>\n",
       "    <tr>\n",
       "      <th>...</th>\n",
       "      <td>...</td>\n",
       "      <td>...</td>\n",
       "      <td>...</td>\n",
       "      <td>...</td>\n",
       "      <td>...</td>\n",
       "    </tr>\n",
       "    <tr>\n",
       "      <th>154</th>\n",
       "      <td>VPL</td>\n",
       "      <td>0.046896</td>\n",
       "      <td>0.048411</td>\n",
       "      <td>0.000701</td>\n",
       "      <td>True</td>\n",
       "    </tr>\n",
       "    <tr>\n",
       "      <th>155</th>\n",
       "      <td>VPLpc</td>\n",
       "      <td>-0.005506</td>\n",
       "      <td>0.001643</td>\n",
       "      <td>0.390000</td>\n",
       "      <td>False</td>\n",
       "    </tr>\n",
       "    <tr>\n",
       "      <th>156</th>\n",
       "      <td>VPM</td>\n",
       "      <td>0.026535</td>\n",
       "      <td>0.025123</td>\n",
       "      <td>0.001464</td>\n",
       "      <td>True</td>\n",
       "    </tr>\n",
       "    <tr>\n",
       "      <th>157</th>\n",
       "      <td>VeCB</td>\n",
       "      <td>-0.006016</td>\n",
       "      <td>-0.002951</td>\n",
       "      <td>0.750000</td>\n",
       "      <td>False</td>\n",
       "    </tr>\n",
       "    <tr>\n",
       "      <th>158</th>\n",
       "      <td>ZI</td>\n",
       "      <td>0.031849</td>\n",
       "      <td>0.036181</td>\n",
       "      <td>0.004963</td>\n",
       "      <td>True</td>\n",
       "    </tr>\n",
       "  </tbody>\n",
       "</table>\n",
       "<p>159 rows × 5 columns</p>\n",
       "</div>"
      ],
      "text/plain": [
       "    region   R2_test  corrected_R2_test  fisher_p_value  significant\n",
       "0     ACAd  0.037425           0.028904        0.016465         True\n",
       "1     ACAv  0.012078           0.003473        0.488579        False\n",
       "2      ACB  0.001825           0.008099        0.154024        False\n",
       "3      AId  0.060093           0.044334        0.001808         True\n",
       "4      AIp  0.046470           0.036076        0.018729         True\n",
       "..     ...       ...                ...             ...          ...\n",
       "154    VPL  0.046896           0.048411        0.000701         True\n",
       "155  VPLpc -0.005506           0.001643        0.390000        False\n",
       "156    VPM  0.026535           0.025123        0.001464         True\n",
       "157   VeCB -0.006016          -0.002951        0.750000        False\n",
       "158     ZI  0.031849           0.036181        0.004963         True\n",
       "\n",
       "[159 rows x 5 columns]"
      ]
     },
     "execution_count": 6,
     "metadata": {},
     "output_type": "execute_result"
    }
   ],
   "source": [
    "ds_block_prior"
   ]
  },
  {
   "cell_type": "code",
   "execution_count": 7,
   "metadata": {},
   "outputs": [],
   "source": [
    "# before doing anything, load all the areas in their default colors and render\n",
    "# this way we can make a picture w/ just the regions (and put labels on them)\n",
    "area_vis = {}\n",
    "\n",
    "for i, row in ds_block_prior.iterrows():\n",
    "    aname = row.region + '-lh'\n",
    "    area_vis[aname] = True\n",
    "\n",
    "urchin.ccf.set_visibility(area_vis)"
   ]
  },
  {
   "cell_type": "code",
   "execution_count": 8,
   "metadata": {},
   "outputs": [],
   "source": [
    "# before doing anything, load all the areas in their default colors and render\n",
    "# this way we can make a picture w/ just the regions (and put labels on them)\n",
    "# area_vis = {}\n",
    "\n",
    "# for i, row in ds_stim.iterrows():\n",
    "#     aname = row.acronym_b + '-lh'\n",
    "#     area_vis[aname] = True\n",
    "\n",
    "# urchin.ccf.set_visibility(area_vis)"
   ]
  },
  {
   "cell_type": "code",
   "execution_count": 9,
   "metadata": {},
   "outputs": [],
   "source": [
    "# change cerebellum area colors\n",
    "cerebellum_areas = ['CENT2','CUL4 5','SIM','ANcr1','PFL','ANcr2','DEC','FOTU','PRM','COPY','UVU','NOD','FN','CENT3','PYR']\n",
    "area_colors = {}\n",
    "\n",
    "for area in cerebellum_areas:\n",
    "    area_colors[area] = '#BAB86C'\n",
    "\n",
    "urchin.ccf.set_color(area_colors)"
   ]
  },
  {
   "cell_type": "code",
   "execution_count": 10,
   "metadata": {},
   "outputs": [],
   "source": [
    "urchin.camera.set_rotation(35,0,135)\n",
    "# manually set zoom to 11.5"
   ]
  },
  {
   "cell_type": "code",
   "execution_count": 11,
   "metadata": {},
   "outputs": [
    {
     "name": "stdout",
     "output_type": "stream",
     "text": [
      "(Camera receive meta) 2\n",
      "(Camera) received 1000000 bytes\n",
      "(Camera) received 150565 bytes\n",
      "(Camera received all data)\n"
     ]
    }
   ],
   "source": [
    "urchin.camera.capture_image('./imgs/default_exploded.png')"
   ]
  },
  {
   "cell_type": "code",
   "execution_count": 12,
   "metadata": {},
   "outputs": [],
   "source": [
    "def rgb2hex(rgba):\n",
    "    r, g, b, a = rgba\n",
    "    r = int(r * 255)\n",
    "    g = int(g * 255)\n",
    "    b = int(b * 255)\n",
    "    hex_code = \"#{:02x}{:02x}{:02x}\".format(r, g, b)\n",
    "    return hex_code\n",
    "\n",
    "def stim_color(v, cmap, min_val, max_val):\n",
    "    return rgb2hex(cmap((v - min_val) / (max_val - min_val)))\n",
    "\n",
    "min_val = 0"
   ]
  },
  {
   "cell_type": "code",
   "execution_count": 35,
   "metadata": {},
   "outputs": [],
   "source": [
    "# set all areas to white\n",
    "area_colors = {}\n",
    "\n",
    "for i, row in ds_block_prior.iterrows():\n",
    "    aname = row.region + '-lh'\n",
    "    area_colors[aname] = '#ffffff'\n",
    "\n",
    "urchin.ccf.set_color(area_colors)"
   ]
  },
  {
   "cell_type": "code",
   "execution_count": 37,
   "metadata": {},
   "outputs": [
    {
     "name": "stdout",
     "output_type": "stream",
     "text": [
      "0.0239132220864338 0.1630948692226433\n"
     ]
    },
    {
     "name": "stdout",
     "output_type": "stream",
     "text": [
      "(Camera receive meta) 1\n",
      "(Camera) received 916892 bytes\n",
      "(Camera received all data)\n"
     ]
    }
   ],
   "source": [
    "# get the colormap (greens)\n",
    "sig_idxs = np.argwhere(ds_stim.decoding_significant.values == True)\n",
    "min_val = np.min(ds_stim.decoding_effect.values[sig_idxs])\n",
    "max_val = np.max(ds_stim.decoding_effect.values[sig_idxs])\n",
    "print(min_val, max_val)\n",
    "cmap = plt.get_cmap('YlGn')\n",
    "\n",
    "area_vis = {}\n",
    "area_color = {}\n",
    "\n",
    "for i, row in ds_stim.iterrows():\n",
    "    aname = row.acronym_b + '-lh'\n",
    "    area_vis[aname] = True\n",
    "    if row.decoding_significant:\n",
    "        area_color[aname] = stim_color(row.decoding_effect, cmap, min_val, max_val)\n",
    "    else:\n",
    "        area_color[aname] = '#ffffff'\n",
    "\n",
    "urchin.ccf.set_visibility(area_vis)\n",
    "urchin.ccf.set_color(area_color)\n",
    "\n",
    "urchin.camera.capture_image('./imgs/stimulus.png')"
   ]
  },
  {
   "cell_type": "code",
   "execution_count": 16,
   "metadata": {},
   "outputs": [
    {
     "name": "stdout",
     "output_type": "stream",
     "text": [
      "(Camera receive meta) 2\n",
      "(Camera) received 1000000 bytes\n",
      "(Camera) received 32502 bytes\n",
      "(Camera received all data)\n"
     ]
    }
   ],
   "source": [
    "# get the colormap (greens)\n",
    "sig_idxs = np.argwhere(ds_choice.decoding_significant.values == True)\n",
    "min_val = np.min(ds_choice.decoding_effect.values[sig_idxs])\n",
    "max_val = np.max(ds_choice.decoding_effect.values[sig_idxs])\n",
    "cmap = plt.get_cmap('YlOrRd')\n",
    "\n",
    "area_vis = {}\n",
    "area_color = {}\n",
    "\n",
    "for i, row in ds_choice.iterrows():\n",
    "    aname = row.acronym_b + '-lh'\n",
    "    area_vis[aname] = True\n",
    "    if row.decoding_significant:\n",
    "        area_color[aname] = stim_color(row.decoding_effect, cmap, min_val, max_val)\n",
    "    else:\n",
    "        area_color[aname] = '#ffffff'\n",
    "\n",
    "urchin.ccf.set_visibility(area_vis)\n",
    "urchin.ccf.set_color(area_color)\n",
    "\n",
    "urchin.camera.capture_image('./imgs/choice.png')"
   ]
  },
  {
   "cell_type": "code",
   "execution_count": 17,
   "metadata": {},
   "outputs": [
    {
     "name": "stdout",
     "output_type": "stream",
     "text": [
      "(Camera receive meta) 2\n",
      "(Camera) received 1000000 bytes\n",
      "(Camera) received 101165 bytes\n",
      "(Camera received all data)\n"
     ]
    }
   ],
   "source": [
    "# get the colormap (greens)\n",
    "sig_idxs = np.argwhere(ds_feedback.decoding_significant.values == True)\n",
    "min_val = np.min(ds_feedback.decoding_effect.values[sig_idxs])\n",
    "max_val = np.max(ds_feedback.decoding_effect.values[sig_idxs])\n",
    "cmap = plt.get_cmap('Reds')\n",
    "\n",
    "area_vis = {}\n",
    "area_color = {}\n",
    "\n",
    "for i, row in ds_feedback.iterrows():\n",
    "    aname = row.acronym_b + '-lh'\n",
    "    area_vis[aname] = True\n",
    "    if row.decoding_significant:\n",
    "        area_color[aname] = stim_color(row.decoding_effect, cmap, min_val, max_val)\n",
    "    else:\n",
    "        area_color[aname] = '#ffffff'\n",
    "\n",
    "urchin.ccf.set_visibility(area_vis)\n",
    "urchin.ccf.set_color(area_color)\n",
    "\n",
    "urchin.camera.capture_image('./imgs/feedback.png')"
   ]
  },
  {
   "cell_type": "code",
   "execution_count": 36,
   "metadata": {},
   "outputs": [
    {
     "name": "stdout",
     "output_type": "stream",
     "text": [
      "(Camera receive meta) 1\n",
      "(Camera) received 889877 bytes\n",
      "(Camera received all data)\n"
     ]
    }
   ],
   "source": [
    "# get the colormap (greens)\n",
    "sig_idxs = np.argwhere(ds_block.decoding_significant.values == True)\n",
    "min_val = 0\n",
    "max_val = 0.12\n",
    "cmap = plt.get_cmap('Purples')\n",
    "\n",
    "area_vis = {}\n",
    "area_color = {}\n",
    "\n",
    "for i, row in ds_block.iterrows():\n",
    "    aname = row.acronym_b + '-lh'\n",
    "    area_vis[aname] = True\n",
    "    if row.decoding_significant:\n",
    "        area_color[aname] = stim_color(row.decoding_effect, cmap, min_val, max_val)\n",
    "    else:\n",
    "        area_color[aname] = '#ffffff'\n",
    "\n",
    "urchin.ccf.set_visibility(area_vis)\n",
    "urchin.ccf.set_color(area_color)\n",
    "\n",
    "urchin.camera.capture_image('./imgs/block.png')"
   ]
  },
  {
   "cell_type": "code",
   "execution_count": 19,
   "metadata": {},
   "outputs": [
    {
     "name": "stdout",
     "output_type": "stream",
     "text": [
      "(Camera receive meta) 2\n",
      "(Camera) received 1000000 bytes\n",
      "(Camera) received 56441 bytes\n",
      "(Camera received all data)\n"
     ]
    }
   ],
   "source": [
    "# get the colormap (greens)\n",
    "sig_idxs = np.argwhere(ds_wheel_spd.decoding_significant.values == True)\n",
    "min_val = np.min(ds_wheel_spd.decoding_effect.values[sig_idxs])\n",
    "max_val = np.max(ds_wheel_spd.decoding_effect.values[sig_idxs])\n",
    "cmap = plt.get_cmap('Blues')\n",
    "\n",
    "area_vis = {}\n",
    "area_color = {}\n",
    "\n",
    "for i, row in ds_wheel_spd.iterrows():\n",
    "    aname = row.acronym_b + '-lh'\n",
    "    area_vis[aname] = True\n",
    "    if row.decoding_significant:\n",
    "        area_color[aname] = stim_color(row.decoding_effect, cmap, min_val, max_val)\n",
    "    else:\n",
    "        area_color[aname] = '#ffffff'\n",
    "\n",
    "urchin.ccf.set_visibility(area_vis)\n",
    "urchin.ccf.set_color(area_color)\n",
    "\n",
    "urchin.camera.capture_image('./imgs/wheel_spd.png')"
   ]
  },
  {
   "cell_type": "code",
   "execution_count": 31,
   "metadata": {},
   "outputs": [
    {
     "name": "stdout",
     "output_type": "stream",
     "text": [
      "(Camera receive meta) 1\n",
      "(Camera) received 985262 bytes\n",
      "(Camera received all data)\n"
     ]
    }
   ],
   "source": [
    "# get the colormap (greens)\n",
    "sig_idxs = np.argwhere(ds_block.decoding_significant.values == True)\n",
    "min_val = 0\n",
    "max_val = 0.12\n",
    "cmap = plt.get_cmap('Purples')\n",
    "\n",
    "area_vis = {}\n",
    "area_color = {}\n",
    "\n",
    "for i, row in ds_block_prior.iterrows():\n",
    "    aname = row.region + '-lh'\n",
    "    area_vis[aname] = True\n",
    "    if row.significant:\n",
    "        area_color[aname] = stim_color(row.corrected_R2_test, cmap, min_val, max_val)\n",
    "    else:\n",
    "        area_color[aname] = '#ffffff'\n",
    "\n",
    "urchin.ccf.set_visibility(area_vis)\n",
    "urchin.ccf.set_color(area_color)\n",
    "\n",
    "urchin.camera.capture_image('./imgs/block_prior.png')"
   ]
  },
  {
   "cell_type": "code",
   "execution_count": 24,
   "metadata": {},
   "outputs": [
    {
     "data": {
      "text/html": [
       "<div>\n",
       "<style scoped>\n",
       "    .dataframe tbody tr th:only-of-type {\n",
       "        vertical-align: middle;\n",
       "    }\n",
       "\n",
       "    .dataframe tbody tr th {\n",
       "        vertical-align: top;\n",
       "    }\n",
       "\n",
       "    .dataframe thead th {\n",
       "        text-align: right;\n",
       "    }\n",
       "</style>\n",
       "<table border=\"1\" class=\"dataframe\">\n",
       "  <thead>\n",
       "    <tr style=\"text-align: right;\">\n",
       "      <th></th>\n",
       "      <th>region</th>\n",
       "      <th>R2_test</th>\n",
       "      <th>corrected_R2_test</th>\n",
       "      <th>fisher_p_value</th>\n",
       "      <th>significant</th>\n",
       "    </tr>\n",
       "  </thead>\n",
       "  <tbody>\n",
       "    <tr>\n",
       "      <th>0</th>\n",
       "      <td>ACAd</td>\n",
       "      <td>0.037425</td>\n",
       "      <td>0.028904</td>\n",
       "      <td>0.016465</td>\n",
       "      <td>True</td>\n",
       "    </tr>\n",
       "    <tr>\n",
       "      <th>1</th>\n",
       "      <td>ACAv</td>\n",
       "      <td>0.012078</td>\n",
       "      <td>0.003473</td>\n",
       "      <td>0.488579</td>\n",
       "      <td>False</td>\n",
       "    </tr>\n",
       "    <tr>\n",
       "      <th>2</th>\n",
       "      <td>ACB</td>\n",
       "      <td>0.001825</td>\n",
       "      <td>0.008099</td>\n",
       "      <td>0.154024</td>\n",
       "      <td>False</td>\n",
       "    </tr>\n",
       "    <tr>\n",
       "      <th>3</th>\n",
       "      <td>AId</td>\n",
       "      <td>0.060093</td>\n",
       "      <td>0.044334</td>\n",
       "      <td>0.001808</td>\n",
       "      <td>True</td>\n",
       "    </tr>\n",
       "    <tr>\n",
       "      <th>4</th>\n",
       "      <td>AIp</td>\n",
       "      <td>0.046470</td>\n",
       "      <td>0.036076</td>\n",
       "      <td>0.018729</td>\n",
       "      <td>True</td>\n",
       "    </tr>\n",
       "  </tbody>\n",
       "</table>\n",
       "</div>"
      ],
      "text/plain": [
       "  region   R2_test  corrected_R2_test  fisher_p_value  significant\n",
       "0   ACAd  0.037425           0.028904        0.016465         True\n",
       "1   ACAv  0.012078           0.003473        0.488579        False\n",
       "2    ACB  0.001825           0.008099        0.154024        False\n",
       "3    AId  0.060093           0.044334        0.001808         True\n",
       "4    AIp  0.046470           0.036076        0.018729         True"
      ]
     },
     "execution_count": 24,
     "metadata": {},
     "output_type": "execute_result"
    }
   ],
   "source": [
    "ds_block_prior.head()"
   ]
  },
  {
   "cell_type": "code",
   "execution_count": 30,
   "metadata": {},
   "outputs": [
    {
     "data": {
      "text/plain": [
       "1.5107878829976218e-08"
      ]
     },
     "execution_count": 30,
     "metadata": {},
     "output_type": "execute_result"
    }
   ],
   "source": [
    "np.min(ds_block_prior.fisher_p_value.values)"
   ]
  }
 ],
 "metadata": {
  "kernelspec": {
   "display_name": "iblenv",
   "language": "python",
   "name": "python3"
  },
  "language_info": {
   "codemirror_mode": {
    "name": "ipython",
    "version": 3
   },
   "file_extension": ".py",
   "mimetype": "text/x-python",
   "name": "python",
   "nbconvert_exporter": "python",
   "pygments_lexer": "ipython3",
   "version": "3.9.16"
  },
  "orig_nbformat": 4
 },
 "nbformat": 4,
 "nbformat_minor": 2
}
