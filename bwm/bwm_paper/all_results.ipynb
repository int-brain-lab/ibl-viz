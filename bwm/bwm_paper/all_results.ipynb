{
 "cells": [
  {
   "attachments": {},
   "cell_type": "markdown",
   "metadata": {},
   "source": [
    "This notebook creates a single visualization showing all of the results from the BWM paper in one \"view\" so to speak\n",
    "\n",
    "It first generates just the left sided areas. The user explodes them, and then it captures a screenshot.\n",
    "\n",
    "Then using the same point of view, it plots all of the major results"
   ]
  },
  {
   "cell_type": "code",
   "execution_count": 1,
   "metadata": {},
   "outputs": [],
   "source": [
    "import pandas as pd\n",
    "import oursin as urchin\n",
    "import matplotlib.pyplot as plt\n",
    "import numpy as np"
   ]
  },
  {
   "cell_type": "code",
   "execution_count": 2,
   "metadata": {},
   "outputs": [
    {
     "name": "stdout",
     "output_type": "stream",
     "text": [
      "(URN) connected to server\n",
      "Login sent with ID: Dan\n"
     ]
    }
   ],
   "source": [
    "urchin.setup()"
   ]
  },
  {
   "cell_type": "code",
   "execution_count": 4,
   "metadata": {},
   "outputs": [],
   "source": [
    "ds_stim = pd.read_parquet('./stimulus_bwm.pqt')\n",
    "ds_choice = pd.read_parquet('./choice_bwm.pqt')\n",
    "ds_feedback = pd.read_parquet('./feedback_bwm.pqt')\n",
    "ds_wheel_spd = pd.read_parquet('./wheel_speed_bwm.pqt')\n",
    "ds_block = pd.read_parquet('./block_bwm.pqt')"
   ]
  },
  {
   "cell_type": "code",
   "execution_count": 5,
   "metadata": {},
   "outputs": [
    {
     "data": {
      "text/html": [
       "<div>\n",
       "<style scoped>\n",
       "    .dataframe tbody tr th:only-of-type {\n",
       "        vertical-align: middle;\n",
       "    }\n",
       "\n",
       "    .dataframe tbody tr th {\n",
       "        vertical-align: top;\n",
       "    }\n",
       "\n",
       "    .dataframe thead th {\n",
       "        text-align: right;\n",
       "    }\n",
       "</style>\n",
       "<table border=\"1\" class=\"dataframe\">\n",
       "  <thead>\n",
       "    <tr style=\"text-align: right;\">\n",
       "      <th></th>\n",
       "      <th>acronym_b</th>\n",
       "      <th>euclidean_effect</th>\n",
       "      <th>euclidean_latency</th>\n",
       "      <th>euclidean_significant</th>\n",
       "      <th>glm_effect</th>\n",
       "      <th>mannwhitney_effect</th>\n",
       "      <th>mannwhitney_significant</th>\n",
       "      <th>decoding_effect</th>\n",
       "      <th>decoding_frac_significant</th>\n",
       "      <th>decoding_significant</th>\n",
       "      <th>atlas_id_b</th>\n",
       "    </tr>\n",
       "  </thead>\n",
       "  <tbody>\n",
       "    <tr>\n",
       "      <th>0</th>\n",
       "      <td>LP</td>\n",
       "      <td>0.204980</td>\n",
       "      <td>0.044366</td>\n",
       "      <td>True</td>\n",
       "      <td>0.000445</td>\n",
       "      <td>0.012835</td>\n",
       "      <td>True</td>\n",
       "      <td>0.035892</td>\n",
       "      <td>0.363636</td>\n",
       "      <td>True</td>\n",
       "      <td>-218</td>\n",
       "    </tr>\n",
       "    <tr>\n",
       "      <th>1</th>\n",
       "      <td>MG</td>\n",
       "      <td>0.172636</td>\n",
       "      <td>0.050704</td>\n",
       "      <td>False</td>\n",
       "      <td>0.000199</td>\n",
       "      <td>0.000000</td>\n",
       "      <td>False</td>\n",
       "      <td>0.010562</td>\n",
       "      <td>0.142857</td>\n",
       "      <td>False</td>\n",
       "      <td>-475</td>\n",
       "    </tr>\n",
       "    <tr>\n",
       "      <th>2</th>\n",
       "      <td>PoT</td>\n",
       "      <td>0.182038</td>\n",
       "      <td>NaN</td>\n",
       "      <td>False</td>\n",
       "      <td>0.000241</td>\n",
       "      <td>0.000000</td>\n",
       "      <td>False</td>\n",
       "      <td>0.012971</td>\n",
       "      <td>0.000000</td>\n",
       "      <td>False</td>\n",
       "      <td>-563807435</td>\n",
       "    </tr>\n",
       "    <tr>\n",
       "      <th>3</th>\n",
       "      <td>SGN</td>\n",
       "      <td>0.415604</td>\n",
       "      <td>0.050704</td>\n",
       "      <td>True</td>\n",
       "      <td>0.000225</td>\n",
       "      <td>0.000000</td>\n",
       "      <td>False</td>\n",
       "      <td>0.008863</td>\n",
       "      <td>0.400000</td>\n",
       "      <td>False</td>\n",
       "      <td>-325</td>\n",
       "    </tr>\n",
       "    <tr>\n",
       "      <th>4</th>\n",
       "      <td>ACB</td>\n",
       "      <td>0.119662</td>\n",
       "      <td>0.109859</td>\n",
       "      <td>True</td>\n",
       "      <td>0.000557</td>\n",
       "      <td>0.000000</td>\n",
       "      <td>False</td>\n",
       "      <td>0.002423</td>\n",
       "      <td>0.000000</td>\n",
       "      <td>False</td>\n",
       "      <td>-56</td>\n",
       "    </tr>\n",
       "    <tr>\n",
       "      <th>...</th>\n",
       "      <td>...</td>\n",
       "      <td>...</td>\n",
       "      <td>...</td>\n",
       "      <td>...</td>\n",
       "      <td>...</td>\n",
       "      <td>...</td>\n",
       "      <td>...</td>\n",
       "      <td>...</td>\n",
       "      <td>...</td>\n",
       "      <td>...</td>\n",
       "      <td>...</td>\n",
       "    </tr>\n",
       "    <tr>\n",
       "      <th>118</th>\n",
       "      <td>SMT</td>\n",
       "      <td>0.206797</td>\n",
       "      <td>0.069718</td>\n",
       "      <td>False</td>\n",
       "      <td>0.000238</td>\n",
       "      <td>0.000000</td>\n",
       "      <td>False</td>\n",
       "      <td>0.031524</td>\n",
       "      <td>0.500000</td>\n",
       "      <td>False</td>\n",
       "      <td>-366</td>\n",
       "    </tr>\n",
       "    <tr>\n",
       "      <th>119</th>\n",
       "      <td>AM</td>\n",
       "      <td>0.129519</td>\n",
       "      <td>0.111972</td>\n",
       "      <td>False</td>\n",
       "      <td>0.000120</td>\n",
       "      <td>0.000000</td>\n",
       "      <td>False</td>\n",
       "      <td>0.034519</td>\n",
       "      <td>0.000000</td>\n",
       "      <td>False</td>\n",
       "      <td>-127</td>\n",
       "    </tr>\n",
       "    <tr>\n",
       "      <th>120</th>\n",
       "      <td>CEA</td>\n",
       "      <td>0.089291</td>\n",
       "      <td>0.103521</td>\n",
       "      <td>False</td>\n",
       "      <td>0.000055</td>\n",
       "      <td>0.000000</td>\n",
       "      <td>False</td>\n",
       "      <td>0.026964</td>\n",
       "      <td>0.000000</td>\n",
       "      <td>False</td>\n",
       "      <td>-536</td>\n",
       "    </tr>\n",
       "    <tr>\n",
       "      <th>121</th>\n",
       "      <td>EPv</td>\n",
       "      <td>0.146871</td>\n",
       "      <td>0.014789</td>\n",
       "      <td>False</td>\n",
       "      <td>0.000860</td>\n",
       "      <td>0.000000</td>\n",
       "      <td>False</td>\n",
       "      <td>-0.003401</td>\n",
       "      <td>0.000000</td>\n",
       "      <td>False</td>\n",
       "      <td>-966</td>\n",
       "    </tr>\n",
       "    <tr>\n",
       "      <th>122</th>\n",
       "      <td>NOD</td>\n",
       "      <td>0.154856</td>\n",
       "      <td>NaN</td>\n",
       "      <td>False</td>\n",
       "      <td>0.000073</td>\n",
       "      <td>0.000000</td>\n",
       "      <td>False</td>\n",
       "      <td>0.031988</td>\n",
       "      <td>0.500000</td>\n",
       "      <td>False</td>\n",
       "      <td>-968</td>\n",
       "    </tr>\n",
       "  </tbody>\n",
       "</table>\n",
       "<p>123 rows × 11 columns</p>\n",
       "</div>"
      ],
      "text/plain": [
       "    acronym_b  euclidean_effect  euclidean_latency  euclidean_significant  \\\n",
       "0          LP          0.204980           0.044366                   True   \n",
       "1          MG          0.172636           0.050704                  False   \n",
       "2         PoT          0.182038                NaN                  False   \n",
       "3         SGN          0.415604           0.050704                   True   \n",
       "4         ACB          0.119662           0.109859                   True   \n",
       "..        ...               ...                ...                    ...   \n",
       "118       SMT          0.206797           0.069718                  False   \n",
       "119        AM          0.129519           0.111972                  False   \n",
       "120       CEA          0.089291           0.103521                  False   \n",
       "121       EPv          0.146871           0.014789                  False   \n",
       "122       NOD          0.154856                NaN                  False   \n",
       "\n",
       "     glm_effect  mannwhitney_effect  mannwhitney_significant  decoding_effect  \\\n",
       "0      0.000445            0.012835                     True         0.035892   \n",
       "1      0.000199            0.000000                    False         0.010562   \n",
       "2      0.000241            0.000000                    False         0.012971   \n",
       "3      0.000225            0.000000                    False         0.008863   \n",
       "4      0.000557            0.000000                    False         0.002423   \n",
       "..          ...                 ...                      ...              ...   \n",
       "118    0.000238            0.000000                    False         0.031524   \n",
       "119    0.000120            0.000000                    False         0.034519   \n",
       "120    0.000055            0.000000                    False         0.026964   \n",
       "121    0.000860            0.000000                    False        -0.003401   \n",
       "122    0.000073            0.000000                    False         0.031988   \n",
       "\n",
       "     decoding_frac_significant  decoding_significant  atlas_id_b  \n",
       "0                     0.363636                  True        -218  \n",
       "1                     0.142857                 False        -475  \n",
       "2                     0.000000                 False  -563807435  \n",
       "3                     0.400000                 False        -325  \n",
       "4                     0.000000                 False         -56  \n",
       "..                         ...                   ...         ...  \n",
       "118                   0.500000                 False        -366  \n",
       "119                   0.000000                 False        -127  \n",
       "120                   0.000000                 False        -536  \n",
       "121                   0.000000                 False        -966  \n",
       "122                   0.500000                 False        -968  \n",
       "\n",
       "[123 rows x 11 columns]"
      ]
     },
     "execution_count": 5,
     "metadata": {},
     "output_type": "execute_result"
    }
   ],
   "source": [
    "ds_stim"
   ]
  },
  {
   "cell_type": "code",
   "execution_count": 7,
   "metadata": {},
   "outputs": [],
   "source": [
    "# before doing anything, load all the areas in their default colors and render\n",
    "# this way we can make a picture w/ just the regions (and put labels on them)\n",
    "area_vis = {}\n",
    "\n",
    "for i, row in ds_stim.iterrows():\n",
    "    aname = row.acronym_b + '-lh'\n",
    "    area_vis[aname] = True\n",
    "\n",
    "urchin.ccf.set_visibility(area_vis)"
   ]
  },
  {
   "cell_type": "code",
   "execution_count": 9,
   "metadata": {},
   "outputs": [],
   "source": [
    "urchin.camera.set_rotation(35,0,135)"
   ]
  },
  {
   "cell_type": "code",
   "execution_count": 13,
   "metadata": {},
   "outputs": [
    {
     "name": "stdout",
     "output_type": "stream",
     "text": [
      "(Camera receive meta) 2\n",
      "(Camera) received 1000000 bytes\n",
      "(Camera) received 343428 bytes\n",
      "(Camera received all data)\n"
     ]
    }
   ],
   "source": [
    "urchin.camera.capture_image('./imgs/default_exploded.png')"
   ]
  },
  {
   "cell_type": "code",
   "execution_count": 23,
   "metadata": {},
   "outputs": [],
   "source": [
    "def rgb2hex(rgba):\n",
    "    r, g, b, a = rgba\n",
    "    r = int(r * 255)\n",
    "    g = int(g * 255)\n",
    "    b = int(b * 255)\n",
    "    hex_code = \"#{:02x}{:02x}{:02x}\".format(r, g, b)\n",
    "    return hex_code\n",
    "\n",
    "def stim_color(v, cmap, min_val, max_val):\n",
    "    return rgb2hex(cmap((v - min_val) / (max_val - min_val)))"
   ]
  },
  {
   "cell_type": "code",
   "execution_count": 24,
   "metadata": {},
   "outputs": [
    {
     "name": "stdout",
     "output_type": "stream",
     "text": [
      "(Camera receive meta) 2\n",
      "(Camera) received 1000000 bytes\n",
      "(Camera) received 98011 bytes\n",
      "(Camera received all data)\n"
     ]
    }
   ],
   "source": [
    "# get the colormap (greens)\n",
    "sig_idxs = np.argwhere(ds_stim.decoding_significant.values == True)\n",
    "min_val = np.min(ds_stim.decoding_effect.values[sig_idxs])\n",
    "max_val = np.max(ds_stim.decoding_effect.values[sig_idxs])\n",
    "cmap = plt.get_cmap('YlGn')\n",
    "\n",
    "area_vis = {}\n",
    "area_color = {}\n",
    "\n",
    "for i, row in ds_stim.iterrows():\n",
    "    aname = row.acronym_b + '-lh'\n",
    "    area_vis[aname] = True\n",
    "    if row.decoding_significant:\n",
    "        area_color[aname] = stim_color(row.decoding_effect, cmap, min_val, max_val)\n",
    "    else:\n",
    "        area_color[aname] = '#ffffff'\n",
    "\n",
    "urchin.ccf.set_visibility(area_vis)\n",
    "urchin.ccf.set_color(area_color)\n",
    "\n",
    "urchin.camera.capture_image('./imgs/stimulus.png')"
   ]
  },
  {
   "cell_type": "code",
   "execution_count": 25,
   "metadata": {},
   "outputs": [
    {
     "name": "stdout",
     "output_type": "stream",
     "text": [
      "(Camera receive meta) 2\n",
      "(Camera) received 1000000 bytes\n",
      "(Camera) received 260091 bytes\n",
      "(Camera received all data)\n"
     ]
    }
   ],
   "source": [
    "# get the colormap (greens)\n",
    "sig_idxs = np.argwhere(ds_choice.decoding_significant.values == True)\n",
    "min_val = np.min(ds_choice.decoding_effect.values[sig_idxs])\n",
    "max_val = np.max(ds_choice.decoding_effect.values[sig_idxs])\n",
    "cmap = plt.get_cmap('YlOrRd')\n",
    "\n",
    "area_vis = {}\n",
    "area_color = {}\n",
    "\n",
    "for i, row in ds_choice.iterrows():\n",
    "    aname = row.acronym_b + '-lh'\n",
    "    area_vis[aname] = True\n",
    "    if row.decoding_significant:\n",
    "        area_color[aname] = stim_color(row.decoding_effect, cmap, min_val, max_val)\n",
    "    else:\n",
    "        area_color[aname] = '#ffffff'\n",
    "\n",
    "urchin.ccf.set_visibility(area_vis)\n",
    "urchin.ccf.set_color(area_color)\n",
    "\n",
    "urchin.camera.capture_image('./imgs/choice.png')"
   ]
  },
  {
   "cell_type": "code",
   "execution_count": 18,
   "metadata": {},
   "outputs": [
    {
     "name": "stdout",
     "output_type": "stream",
     "text": [
      "(Camera receive meta) 2\n",
      "(Camera) received 1000000 bytes\n",
      "(Camera) received 285366 bytes\n",
      "(Camera received all data)\n"
     ]
    }
   ],
   "source": [
    "# get the colormap (greens)\n",
    "sig_idxs = np.argwhere(ds_feedback.decoding_significant.values == True)\n",
    "min_val = np.min(ds_feedback.decoding_effect.values[sig_idxs])\n",
    "max_val = np.max(ds_feedback.decoding_effect.values[sig_idxs])\n",
    "cmap = plt.get_cmap('Reds')\n",
    "\n",
    "area_vis = {}\n",
    "area_color = {}\n",
    "\n",
    "for i, row in ds_feedback.iterrows():\n",
    "    aname = row.acronym_b + '-lh'\n",
    "    area_vis[aname] = True\n",
    "    if row.decoding_significant:\n",
    "        area_color[aname] = stim_color(row.decoding_effect, cmap, min_val, max_val)\n",
    "    else:\n",
    "        area_color[aname] = '#ffffff'\n",
    "\n",
    "urchin.ccf.set_visibility(area_vis)\n",
    "urchin.ccf.set_color(area_color)\n",
    "\n",
    "urchin.camera.capture_image('./imgs/feedback.png')"
   ]
  },
  {
   "cell_type": "code",
   "execution_count": 28,
   "metadata": {},
   "outputs": [
    {
     "name": "stdout",
     "output_type": "stream",
     "text": [
      "(Camera receive meta) 2\n",
      "(Camera) received 1000000 bytes\n",
      "(Camera) received 47408 bytes\n",
      "(Camera received all data)\n"
     ]
    }
   ],
   "source": [
    "# get the colormap (greens)\n",
    "sig_idxs = np.argwhere(ds_block.decoding_significant.values == True)\n",
    "min_val = 0\n",
    "max_val = np.max(ds_block.decoding_effect.values[sig_idxs])\n",
    "cmap = plt.get_cmap('Purples')\n",
    "\n",
    "area_vis = {}\n",
    "area_color = {}\n",
    "\n",
    "for i, row in ds_block.iterrows():\n",
    "    aname = row.acronym_b + '-lh'\n",
    "    area_vis[aname] = True\n",
    "    if row.decoding_significant:\n",
    "        area_color[aname] = stim_color(row.decoding_effect, cmap, min_val, max_val)\n",
    "    else:\n",
    "        area_color[aname] = '#ffffff'\n",
    "\n",
    "urchin.ccf.set_visibility(area_vis)\n",
    "urchin.ccf.set_color(area_color)\n",
    "\n",
    "urchin.camera.capture_image('./imgs/block.png')"
   ]
  },
  {
   "cell_type": "code",
   "execution_count": 29,
   "metadata": {},
   "outputs": [
    {
     "name": "stdout",
     "output_type": "stream",
     "text": [
      "(Camera receive meta) 2\n",
      "(Camera) received 1000000 bytes\n",
      "(Camera) received 291191 bytes\n",
      "(Camera received all data)\n"
     ]
    }
   ],
   "source": [
    "# get the colormap (greens)\n",
    "sig_idxs = np.argwhere(ds_wheel_spd.decoding_significant.values == True)\n",
    "min_val = np.min(ds_wheel_spd.decoding_effect.values[sig_idxs])\n",
    "max_val = np.max(ds_wheel_spd.decoding_effect.values[sig_idxs])\n",
    "cmap = plt.get_cmap('Blues')\n",
    "\n",
    "area_vis = {}\n",
    "area_color = {}\n",
    "\n",
    "for i, row in ds_wheel_spd.iterrows():\n",
    "    aname = row.acronym_b + '-lh'\n",
    "    area_vis[aname] = True\n",
    "    if row.decoding_significant:\n",
    "        area_color[aname] = stim_color(row.decoding_effect, cmap, min_val, max_val)\n",
    "    else:\n",
    "        area_color[aname] = '#ffffff'\n",
    "\n",
    "urchin.ccf.set_visibility(area_vis)\n",
    "urchin.ccf.set_color(area_color)\n",
    "\n",
    "urchin.camera.capture_image('./imgs/wheel_spd.png')"
   ]
  },
  {
   "cell_type": "code",
   "execution_count": null,
   "metadata": {},
   "outputs": [],
   "source": []
  }
 ],
 "metadata": {
  "kernelspec": {
   "display_name": "iblenv",
   "language": "python",
   "name": "python3"
  },
  "language_info": {
   "codemirror_mode": {
    "name": "ipython",
    "version": 3
   },
   "file_extension": ".py",
   "mimetype": "text/x-python",
   "name": "python",
   "nbconvert_exporter": "python",
   "pygments_lexer": "ipython3",
   "version": "3.9.10"
  },
  "orig_nbformat": 4
 },
 "nbformat": 4,
 "nbformat_minor": 2
}
