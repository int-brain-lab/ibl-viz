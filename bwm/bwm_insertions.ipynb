{
 "cells": [
  {
   "cell_type": "code",
   "execution_count": 1,
   "id": "7be417cf-422f-4bca-a6c2-b82bdce62bd2",
   "metadata": {},
   "outputs": [
    {
     "name": "stderr",
     "output_type": "stream",
     "text": [
      "C:\\Users\\Dan\\.conda\\envs\\iblenv\\lib\\site-packages\\one\\api.py:1416: UserWarning: Newer cache tables require ONE version 1.13.0 or greater\n",
      "  warnings.warn(f'Newer cache tables require ONE version {min_version} or greater')\n"
     ]
    }
   ],
   "source": [
    "# urn and other imports\n",
    "import unityneuro.render as urn\n",
    "import numpy as np\n",
    "import pandas as pd\n",
    "# ibl imports\n",
    "from one.api import ONE\n",
    "one = ONE(base_url='https://alyx.internationalbrainlab.org')\n",
    "from brainbox.io.one import SpikeSortingLoader\n",
    "import ibllib.atlas as atlas\n",
    "ba = atlas.AllenAtlas(25)"
   ]
  },
  {
   "cell_type": "code",
   "execution_count": 108,
   "id": "efdd39c4-be12-40dd-982e-2e0e74e93db8",
   "metadata": {},
   "outputs": [],
   "source": [
    "def get_bwm_sessions():\n",
    "\n",
    "    '''\n",
    "    Gaelle, 06.04.2022\n",
    "    '''\n",
    "\n",
    "    str_query = (  \n",
    "       'session__project__name__icontains,ibl_neuropixel_brainwide_01,'\n",
    "       'session__json__IS_MOCK,False,session__qc__lt'\n",
    "       ',50,~json__qc,CRITICAL,'\n",
    "       'session__extended_qc__behavior,1,'\n",
    "       'json__extended_qc__tracing_exists,True,'\n",
    "       '~session__extended_qc___task_stimOn_goCue_delays__lt,0.9,'\n",
    "       '~session__extended_qc___task_response_feedback_delays__lt,0.9,'\n",
    "       '~session__extended_qc___task_wheel_move_before_feedback__lt,0.9,'\n",
    "       '~session__extended_qc___task_wheel_freeze_during_quiescence__lt,0.9,'\n",
    "       '~session__extended_qc___task_error_trial_event_sequence__lt,0.9,'\n",
    "       '~session__extended_qc___task_correct_trial_event_sequence__lt,0.9,'\n",
    "       '~session__extended_qc___task_reward_volumes__lt,0.9,'\n",
    "       '~session__extended_qc___task_reward_volume_set__lt,0.9,'\n",
    "       '~session__extended_qc___task_stimulus_move_before_goCue__lt,0.9,'\n",
    "       '~session__extended_qc___task_audio_pre_trial__lt,0.9')                  \n",
    "        \n",
    "    str_query2 = (\n",
    "       'session__project__name__icontains,ibl_neuropixel_brainwide_01,'\n",
    "       'session__json__IS_MOCK,False,session__qc__lt,50,'\n",
    "       '~json__qc,CRITICAL,session__extended_qc__behavior,1,'       \n",
    "       'json__extended_qc__tracing_exists,True,'\n",
    "       'session__extended_qc___experimenter_task,PASS')        \n",
    "            \n",
    "    ins = np.concatenate([one.alyx.rest('insertions', 'list', django = x)\n",
    "                          for x in [str_query, str_query2]])\n",
    "\n",
    "    eid_probe = set([x['session']+'_'+x['name'] for x in ins]) # pid via x['id']\n",
    "    ins = [x.split('_') for x in eid_probe] \n",
    " \n",
    "    return ins"
   ]
  },
  {
   "cell_type": "code",
   "execution_count": 153,
   "id": "9acfdf6a-959d-4952-b65e-6f270f93358c",
   "metadata": {},
   "outputs": [],
   "source": [
    "ins = get_bwm_sessions()"
   ]
  },
  {
   "cell_type": "code",
   "execution_count": 10,
   "id": "9e65d405-e6ee-4647-a632-3e3baee4128e",
   "metadata": {},
   "outputs": [],
   "source": [
    "# def a function to get the pid for an eid/probe combo\n",
    "def eid2pids(eid):\n",
    "    insertions = one.alyx.rest('insertions', 'list', session=eid)\n",
    "    pids = [i['id'] for i in insertions]\n",
    "    return pids"
   ]
  },
  {
   "cell_type": "markdown",
   "id": "de9ad20e-5e97-4372-bfa3-e701f13f0ea9",
   "metadata": {
    "tags": []
   },
   "source": [
    "# Collect insertion data (planned/micro-manip/histology)"
   ]
  },
  {
   "cell_type": "code",
   "execution_count": 23,
   "id": "fa4c65fd-0050-47ce-9e4a-00ac5df150de",
   "metadata": {},
   "outputs": [],
   "source": [
    "def getCoords(ins):\n",
    "    entry_coords = ba.xyz2ccf(ins.entry)\n",
    "    tip_coords = ba.xyz2ccf(ins.tip)\n",
    "    angles = [ins.phi, ins.theta, ins.beta]\n",
    "    depth = np.sqrt(np.sum(np.power(entry_coords-tip_coords,2)))\n",
    "    return (entry_coords, tip_coords, angles, depth)\n",
    "\n",
    "def traj2coords(traj):\n",
    "    insertion = atlas.Insertion.from_dict(traj)\n",
    "    return getCoords(insertion)"
   ]
  },
  {
   "cell_type": "code",
   "execution_count": 167,
   "id": "0eecedaf-2416-4bcc-acb5-3347fab08ca7",
   "metadata": {},
   "outputs": [],
   "source": [
    "traj_data = pd.DataFrame(columns=['pid','lab',\n",
    "                                  'ml_e_p','ap_e_p','dv_e_p',\n",
    "                                  'ml_t_p','ap_t_p','dv_t_p',\n",
    "                                  'phi_p','theta_p','depth_p',\n",
    "                                  'ml_e_m','ap_e_m','dv_e_m',\n",
    "                                  'ml_t_m','ap_t_m','dv_t_m',\n",
    "                                  'phi_m','theta_m','depth_m',\n",
    "                                  'ml_e_e','ap_e_e','dv_e_e',\n",
    "                                  'ml_t_e','ap_t_e','dv_t_e',\n",
    "                                  'phi_e','theta_e','depth_e'])"
   ]
  },
  {
   "cell_type": "code",
   "execution_count": 140,
   "id": "4e76533c-22a8-4b3e-8c1e-791e1a956058",
   "metadata": {
    "tags": []
   },
   "outputs": [],
   "source": [
    "prov_planned = 'planned'\n",
    "prov_mm = 'Micro-manipulator'\n",
    "prov_ephys = 'Ephys aligned histology track'\n",
    "\n",
    "bwm_planned = one.alyx.rest('trajectories', 'list', provenance=prov_planned,\n",
    "                          project='ibl_neuropixel_brainwide_01', use_cache=False)\n",
    "bwm_mm = one.alyx.rest('trajectories', 'list', provenance=prov_mm,\n",
    "                          project='ibl_neuropixel_brainwide_01', use_cache=False)\n",
    "bwm_ephys = one.alyx.rest('trajectories', 'list', provenance=prov_ephys,\n",
    "                          project='ibl_neuropixel_brainwide_01', use_cache=False)"
   ]
  },
  {
   "cell_type": "code",
   "execution_count": 151,
   "id": "350d261c-3253-4253-8f07-91f40aa52d1a",
   "metadata": {},
   "outputs": [
    {
     "data": {
      "text/plain": [
       "<one.webclient._PaginatedResponse at 0x12548372bb0>"
      ]
     },
     "execution_count": 151,
     "metadata": {},
     "output_type": "execute_result"
    }
   ],
   "source": [
    "bwm_planned"
   ]
  },
  {
   "cell_type": "code",
   "execution_count": 165,
   "id": "570b7aa6-c49c-4fdb-9515-2947b7a7c27d",
   "metadata": {},
   "outputs": [],
   "source": [
    "# re-organize data into a dictionary\n",
    "data = {}\n",
    "for (eid,probe) in ins:\n",
    "    if not eid in data.keys():\n",
    "        data[eid] = {}\n",
    "    data[eid][probe] = {}\n",
    "    \n",
    "for traj in bwm_planned:\n",
    "    eid = traj['session']['id']\n",
    "    probe_name = traj['probe_name']\n",
    "    \n",
    "    if eid in data.keys() and probe_name in data[eid].keys():\n",
    "        data[eid][probe_name]['planned'] = traj\n",
    "        \n",
    "for traj in bwm_mm:\n",
    "    eid = traj['session']['id']\n",
    "    probe_name = traj['probe_name']\n",
    "    \n",
    "    if eid in data.keys() and probe_name in data[eid].keys():\n",
    "        data[eid][probe_name]['micro-manip'] = traj\n",
    "        \n",
    "for traj in bwm_ephys:\n",
    "    eid = traj['session']['id']\n",
    "    probe_name = traj['probe_name']\n",
    "    \n",
    "    if eid in data.keys() and probe_name in data[eid].keys():\n",
    "        data[eid][probe_name]['ephys'] = traj"
   ]
  },
  {
   "cell_type": "code",
   "execution_count": 177,
   "id": "ed337c83-2c1d-4a11-894a-c58f76a21242",
   "metadata": {},
   "outputs": [
    {
     "name": "stdout",
     "output_type": "stream",
     "text": [
      "c557324b-b95d-414c-888f-6ee1329a2329 probe01 missing planned\n",
      "e45481fa-be22-4365-972c-e7404ed8ab5a probe00 missing ephys\n",
      "edd22318-216c-44ff-bc24-49ce8be78374 probe01 missing planned\n",
      "35ed605c-1a1a-47b1-86ff-2b56144f55af probe01 missing planned\n",
      "35ed605c-1a1a-47b1-86ff-2b56144f55af probe00 missing planned\n",
      "d62a64f4-fdc6-448b-8f2a-53ed08d645a7 probe00 missing ephys\n",
      "20c112a1-8a42-44e0-a4cd-e5b932f7bda9 probe01 missing planned\n",
      "20c112a1-8a42-44e0-a4cd-e5b932f7bda9 probe00 missing planned\n",
      "8c552ddc-813e-4035-81cc-3971b57efe65 probe00 missing ephys\n",
      "8c552ddc-813e-4035-81cc-3971b57efe65 probe01 missing ephys\n",
      "5139ce2c-7d52-44bf-8129-692d61dd6403 probe00 missing planned\n",
      "aa3432cd-62bd-40bc-bc1c-a12d53bcbdcf probe00 missing ephys\n",
      "a9138924-4395-4981-83d1-530f6ff7c8fc probe00 missing planned\n",
      "a9138924-4395-4981-83d1-530f6ff7c8fc probe01 missing planned\n",
      "f99ac31f-171b-4208-a55d-5644c0ad51c3 probe00 missing planned\n",
      "695a6073-eae0-49e0-bb0f-e9e57a9275b9 probe01 missing planned\n",
      "c7e4e6ad-280f-432f-ac85-9be299890d6e probe00 missing ephys\n",
      "c7e4e6ad-280f-432f-ac85-9be299890d6e probe01 missing ephys\n",
      "ee212778-3903-4f5b-ac4b-a72f22debf03 probe01 missing planned\n",
      "ee212778-3903-4f5b-ac4b-a72f22debf03 probe00 missing planned\n",
      "09b2c4d1-058d-4c84-9fd4-97530f85baf6 probe01 missing planned\n",
      "1211f4af-d3e4-4c4e-9d0b-75a0bc2bf1f0 probe01 missing planned\n",
      "69c9a415-f7fa-4208-887b-1417c1479b48 probe00 missing micro-manip\n",
      "69c9a415-f7fa-4208-887b-1417c1479b48 probe00 missing ephys\n",
      "258b4a8b-28e3-4c18-9f86-1ea2bc0dc806 probe00 missing planned\n",
      "258b4a8b-28e3-4c18-9f86-1ea2bc0dc806 probe00 missing micro-manip\n",
      "258b4a8b-28e3-4c18-9f86-1ea2bc0dc806 probe00 missing ephys\n",
      "258b4a8b-28e3-4c18-9f86-1ea2bc0dc806 probe01 missing planned\n",
      "258b4a8b-28e3-4c18-9f86-1ea2bc0dc806 probe01 missing micro-manip\n",
      "258b4a8b-28e3-4c18-9f86-1ea2bc0dc806 probe01 missing ephys\n",
      "fa1f26a1-eb49-4b24-917e-19f02a18ac61 probe01 missing planned\n",
      "fa1f26a1-eb49-4b24-917e-19f02a18ac61 probe00 missing planned\n",
      "ac7d3064-7f09-48a3-88d2-e86a4eb86461 probe01 missing ephys\n",
      "549caacc-3bd7-40f1-913d-e94141816547 probe01 missing planned\n",
      "280ee768-f7b8-4c6c-9ea0-48ca75d6b6f3 probe01 missing planned\n",
      "3e6a97d3-3991-49e2-b346-6948cb4580fb probe00 missing planned\n",
      "1b9e349e-93f2-41cc-a4b5-b212d7ddc8df probe00 missing micro-manip\n",
      "1b9e349e-93f2-41cc-a4b5-b212d7ddc8df probe00 missing ephys\n",
      "5285c561-80da-4563-8694-739da92e5dd0 probe01 missing planned\n",
      "07dc4b76-5b93-4a03-82a0-b3d9cc73f412 probe00 missing micro-manip\n",
      "8c2f7f4d-7346-42a4-a715-4d37a5208535 probe01 missing planned\n",
      "b887df2c-bb9c-44c9-a9c0-538da87b2cab probe00 missing planned\n",
      "b887df2c-bb9c-44c9-a9c0-538da87b2cab probe00 missing ephys\n",
      "1f095590-6669-46c9-986b-ccaf0620c5e9 probe01 missing planned\n",
      "1f095590-6669-46c9-986b-ccaf0620c5e9 probe01 missing micro-manip\n",
      "12dc8b34-b18e-4cdd-90a9-da134a9be79c probe00 missing planned\n",
      "09394481-8dd2-4d5c-9327-f2753ede92d7 probe01 missing planned\n",
      "09394481-8dd2-4d5c-9327-f2753ede92d7 probe00 missing planned\n",
      "85dc2ebd-8aaf-46b0-9284-a197aee8b16f probe00 missing planned\n",
      "e6043c7d-8f6e-4b66-8309-2ec0abac0f79 probe00 missing planned\n",
      "e6043c7d-8f6e-4b66-8309-2ec0abac0f79 probe00 missing ephys\n",
      "9b528ad0-4599-4a55-9148-96cc1d93fb24 probe00 missing planned\n",
      "91a3353a-2da1-420d-8c7c-fad2fedfdd18 probe00 missing planned\n",
      "91a3353a-2da1-420d-8c7c-fad2fedfdd18 probe01 missing planned\n",
      "6fb1e12c-883b-46d1-a745-473cde3232c8 probe01 missing planned\n",
      "6ed57216-498d-48a6-b48b-a243a34710ea probe01 missing planned\n",
      "6ed57216-498d-48a6-b48b-a243a34710ea probe00 missing planned\n",
      "1b715600-0cbc-442c-bd00-5b0ac2865de1 probe01 missing micro-manip\n",
      "1b715600-0cbc-442c-bd00-5b0ac2865de1 probe01 missing ephys\n",
      "8d316998-28c3-4265-b029-e2ca82375b2f probe00 missing ephys\n",
      "dc21e80d-97d7-44ca-a729-a8e3f9b14305 probe00 missing planned\n",
      "37e96d0b-5b4b-4c6e-9b29-7edbdc94bbd0 probe01 missing planned\n"
     ]
    }
   ],
   "source": [
    "count = 0\n",
    "\n",
    "for eid in data.keys():\n",
    "    for probe_name in data[eid].keys():\n",
    "        # print((eid,probe_name))\n",
    "        \n",
    "        \n",
    "        tdata = data[eid][probe_name]\n",
    "        missing = False\n",
    "        \n",
    "        if 'planned' in tdata.keys():\n",
    "            (ecoords_p, tcoords_p, angles_p, depth_p) = traj2coords(tdata['planned'])\n",
    "        else:\n",
    "            print(f\"{eid} {probe_name} missing planned\")\n",
    "            missing = True\n",
    "\n",
    "        if 'micro-manip' in tdata.keys():\n",
    "            (ecoords_m, tcoords_m, angles_m, depth_m) = traj2coords(tdata['micro-manip'])\n",
    "        else:\n",
    "            print(f\"{eid} {probe_name} missing micro-manip\")\n",
    "            missing = True\n",
    "\n",
    "        if 'ephys' in tdata.keys():\n",
    "            (ecoords_e, tcoords_e, angles_e, depth_e) = traj2coords(tdata['ephys'])\n",
    "        else:\n",
    "            print(f\"{eid} {probe_name} missing ephys\")\n",
    "            missing = True\n",
    "\n",
    "        if missing:\n",
    "            continue\n",
    "\n",
    "        traj_data.loc[count] = [tdata['planned']['probe_insertion'],tdata['planned']['session']['lab'],\n",
    "                            ecoords_p[0],ecoords_p[1],ecoords_p[2],\n",
    "                            tcoords_p[0],tcoords_p[1],tcoords_p[2],\n",
    "                            angles_p[0],angles_p[1],depth_p,\n",
    "                            ecoords_m[0],ecoords_m[1],ecoords_m[2],\n",
    "                            tcoords_m[0],tcoords_m[1],tcoords_m[2],\n",
    "                            angles_m[0],angles_m[1],depth_m,\n",
    "                            ecoords_e[0],ecoords_e[1],ecoords_e[2],\n",
    "                            tcoords_e[0],tcoords_e[1],tcoords_e[2],\n",
    "                            angles_e[0],angles_e[1],depth_e]\n",
    "        count+=1\n",
    "\n",
    "traj_data.to_csv('bwm_all_traj.csv',float_format='%.03f')"
   ]
  },
  {
   "cell_type": "code",
   "execution_count": 178,
   "id": "645ccdd4-fc2a-425e-aa7d-4483550accf4",
   "metadata": {},
   "outputs": [
    {
     "data": {
      "text/html": [
       "<div>\n",
       "<style scoped>\n",
       "    .dataframe tbody tr th:only-of-type {\n",
       "        vertical-align: middle;\n",
       "    }\n",
       "\n",
       "    .dataframe tbody tr th {\n",
       "        vertical-align: top;\n",
       "    }\n",
       "\n",
       "    .dataframe thead th {\n",
       "        text-align: right;\n",
       "    }\n",
       "</style>\n",
       "<table border=\"1\" class=\"dataframe\">\n",
       "  <thead>\n",
       "    <tr style=\"text-align: right;\">\n",
       "      <th></th>\n",
       "      <th>pid</th>\n",
       "      <th>lab</th>\n",
       "      <th>ml_e_p</th>\n",
       "      <th>ap_e_p</th>\n",
       "      <th>dv_e_p</th>\n",
       "      <th>ml_t_p</th>\n",
       "      <th>ap_t_p</th>\n",
       "      <th>dv_t_p</th>\n",
       "      <th>phi_p</th>\n",
       "      <th>theta_p</th>\n",
       "      <th>...</th>\n",
       "      <th>depth_m</th>\n",
       "      <th>ml_e_e</th>\n",
       "      <th>ap_e_e</th>\n",
       "      <th>dv_e_e</th>\n",
       "      <th>ml_t_e</th>\n",
       "      <th>ap_t_e</th>\n",
       "      <th>dv_t_e</th>\n",
       "      <th>phi_e</th>\n",
       "      <th>theta_e</th>\n",
       "      <th>depth_e</th>\n",
       "    </tr>\n",
       "  </thead>\n",
       "  <tbody>\n",
       "    <tr>\n",
       "      <th>0</th>\n",
       "      <td>e8129a86-b5a9-4d2e-9e9c-09689c9bf0b3</td>\n",
       "      <td>cortexlab</td>\n",
       "      <td>4435.0</td>\n",
       "      <td>7650.0</td>\n",
       "      <td>264.0</td>\n",
       "      <td>3285.275416</td>\n",
       "      <td>7650.000000</td>\n",
       "      <td>6784.412133</td>\n",
       "      <td>0.0</td>\n",
       "      <td>10.0</td>\n",
       "      <td>...</td>\n",
       "      <td>6348.000</td>\n",
       "      <td>4471.334154</td>\n",
       "      <td>7498.130724</td>\n",
       "      <td>225.0</td>\n",
       "      <td>3206.935707</td>\n",
       "      <td>7586.750803</td>\n",
       "      <td>6931.193545</td>\n",
       "      <td>4.009232</td>\n",
       "      <td>10.702902</td>\n",
       "      <td>6824.924089</td>\n",
       "    </tr>\n",
       "    <tr>\n",
       "      <th>1</th>\n",
       "      <td>adca9242-0725-41d4-8eb1-5655a464431d</td>\n",
       "      <td>cortexlab</td>\n",
       "      <td>4939.0</td>\n",
       "      <td>4400.0</td>\n",
       "      <td>954.0</td>\n",
       "      <td>5974.276180</td>\n",
       "      <td>4400.000000</td>\n",
       "      <td>4817.703305</td>\n",
       "      <td>180.0</td>\n",
       "      <td>15.0</td>\n",
       "      <td>...</td>\n",
       "      <td>4001.000</td>\n",
       "      <td>4900.000000</td>\n",
       "      <td>4150.000000</td>\n",
       "      <td>1075.0</td>\n",
       "      <td>5535.037085</td>\n",
       "      <td>5073.505888</td>\n",
       "      <td>5252.945974</td>\n",
       "      <td>124.513864</td>\n",
       "      <td>15.016596</td>\n",
       "      <td>4325.663855</td>\n",
       "    </tr>\n",
       "    <tr>\n",
       "      <th>2</th>\n",
       "      <td>d4291925-ad00-47fe-baaf-3fdff0991e86</td>\n",
       "      <td>cortexlab</td>\n",
       "      <td>5039.0</td>\n",
       "      <td>8975.0</td>\n",
       "      <td>332.0</td>\n",
       "      <td>5815.457135</td>\n",
       "      <td>8975.000000</td>\n",
       "      <td>3229.777479</td>\n",
       "      <td>180.0</td>\n",
       "      <td>15.0</td>\n",
       "      <td>...</td>\n",
       "      <td>4000.000</td>\n",
       "      <td>5075.000000</td>\n",
       "      <td>8775.000000</td>\n",
       "      <td>275.0</td>\n",
       "      <td>5719.955621</td>\n",
       "      <td>8458.254095</td>\n",
       "      <td>4038.003837</td>\n",
       "      <td>-153.843758</td>\n",
       "      <td>10.810369</td>\n",
       "      <td>3830.991203</td>\n",
       "    </tr>\n",
       "    <tr>\n",
       "      <th>3</th>\n",
       "      <td>4ea45238-55b1-4d54-ba92-efa47feb9f57</td>\n",
       "      <td>cortexlab</td>\n",
       "      <td>3039.0</td>\n",
       "      <td>9900.0</td>\n",
       "      <td>332.0</td>\n",
       "      <td>1778.340982</td>\n",
       "      <td>10010.293373</td>\n",
       "      <td>3808.862697</td>\n",
       "      <td>5.0</td>\n",
       "      <td>20.0</td>\n",
       "      <td>...</td>\n",
       "      <td>3900.000</td>\n",
       "      <td>3175.000000</td>\n",
       "      <td>11200.000000</td>\n",
       "      <td>1475.0</td>\n",
       "      <td>2355.793444</td>\n",
       "      <td>11018.539115</td>\n",
       "      <td>5675.101794</td>\n",
       "      <td>-12.489811</td>\n",
       "      <td>11.297380</td>\n",
       "      <td>4283.092635</td>\n",
       "    </tr>\n",
       "    <tr>\n",
       "      <th>4</th>\n",
       "      <td>c6ba6f8e-c13e-410f-b7df-e193ba0d239d</td>\n",
       "      <td>danlab</td>\n",
       "      <td>3471.0</td>\n",
       "      <td>9900.0</td>\n",
       "      <td>692.0</td>\n",
       "      <td>4506.276180</td>\n",
       "      <td>9900.000000</td>\n",
       "      <td>4555.703305</td>\n",
       "      <td>180.0</td>\n",
       "      <td>15.0</td>\n",
       "      <td>...</td>\n",
       "      <td>4000.000</td>\n",
       "      <td>3300.000000</td>\n",
       "      <td>9750.000000</td>\n",
       "      <td>825.0</td>\n",
       "      <td>4018.222006</td>\n",
       "      <td>9886.012241</td>\n",
       "      <td>4584.740640</td>\n",
       "      <td>169.276680</td>\n",
       "      <td>11.002461</td>\n",
       "      <td>3830.142537</td>\n",
       "    </tr>\n",
       "    <tr>\n",
       "      <th>...</th>\n",
       "      <td>...</td>\n",
       "      <td>...</td>\n",
       "      <td>...</td>\n",
       "      <td>...</td>\n",
       "      <td>...</td>\n",
       "      <td>...</td>\n",
       "      <td>...</td>\n",
       "      <td>...</td>\n",
       "      <td>...</td>\n",
       "      <td>...</td>\n",
       "      <td>...</td>\n",
       "      <td>...</td>\n",
       "      <td>...</td>\n",
       "      <td>...</td>\n",
       "      <td>...</td>\n",
       "      <td>...</td>\n",
       "      <td>...</td>\n",
       "      <td>...</td>\n",
       "      <td>...</td>\n",
       "      <td>...</td>\n",
       "      <td>...</td>\n",
       "    </tr>\n",
       "    <tr>\n",
       "      <th>517</th>\n",
       "      <td>2e720cee-05cc-440e-a24b-13794b1ac01d</td>\n",
       "      <td>churchlandlab_ucla</td>\n",
       "      <td>3279.0</td>\n",
       "      <td>9175.0</td>\n",
       "      <td>332.0</td>\n",
       "      <td>4320.889066</td>\n",
       "      <td>9175.000000</td>\n",
       "      <td>6240.846518</td>\n",
       "      <td>180.0</td>\n",
       "      <td>10.0</td>\n",
       "      <td>...</td>\n",
       "      <td>5999.276</td>\n",
       "      <td>2950.000000</td>\n",
       "      <td>9250.000000</td>\n",
       "      <td>775.0</td>\n",
       "      <td>5256.838358</td>\n",
       "      <td>11711.594108</td>\n",
       "      <td>6311.341791</td>\n",
       "      <td>133.141163</td>\n",
       "      <td>31.356013</td>\n",
       "      <td>6483.211333</td>\n",
       "    </tr>\n",
       "    <tr>\n",
       "      <th>518</th>\n",
       "      <td>8dfb86c8-d45c-46c4-90ec-33078014d434</td>\n",
       "      <td>angelakilab</td>\n",
       "      <td>4935.0</td>\n",
       "      <td>6150.0</td>\n",
       "      <td>332.0</td>\n",
       "      <td>3827.124626</td>\n",
       "      <td>6150.000000</td>\n",
       "      <td>6615.073464</td>\n",
       "      <td>0.0</td>\n",
       "      <td>10.0</td>\n",
       "      <td>...</td>\n",
       "      <td>6380.000</td>\n",
       "      <td>4675.000000</td>\n",
       "      <td>5925.000000</td>\n",
       "      <td>525.0</td>\n",
       "      <td>4401.221324</td>\n",
       "      <td>7186.911353</td>\n",
       "      <td>6718.068479</td>\n",
       "      <td>77.759068</td>\n",
       "      <td>11.777565</td>\n",
       "      <td>6326.252620</td>\n",
       "    </tr>\n",
       "    <tr>\n",
       "      <th>519</th>\n",
       "      <td>94e948c1-f7be-4868-893a-f7cd2df3313e</td>\n",
       "      <td>churchlandlab_ucla</td>\n",
       "      <td>3496.0</td>\n",
       "      <td>7400.0</td>\n",
       "      <td>501.0</td>\n",
       "      <td>4531.276180</td>\n",
       "      <td>7400.000000</td>\n",
       "      <td>4364.703305</td>\n",
       "      <td>180.0</td>\n",
       "      <td>15.0</td>\n",
       "      <td>...</td>\n",
       "      <td>0.000</td>\n",
       "      <td>3475.000000</td>\n",
       "      <td>8350.000000</td>\n",
       "      <td>425.0</td>\n",
       "      <td>4478.592268</td>\n",
       "      <td>8354.150996</td>\n",
       "      <td>5236.127350</td>\n",
       "      <td>179.763018</td>\n",
       "      <td>11.782928</td>\n",
       "      <td>4914.688297</td>\n",
       "    </tr>\n",
       "    <tr>\n",
       "      <th>520</th>\n",
       "      <td>eb99c2c8-e614-4240-931b-169bed23e9f5</td>\n",
       "      <td>danlab</td>\n",
       "      <td>3496.0</td>\n",
       "      <td>6900.0</td>\n",
       "      <td>549.0</td>\n",
       "      <td>4531.276180</td>\n",
       "      <td>6900.000000</td>\n",
       "      <td>4412.703305</td>\n",
       "      <td>180.0</td>\n",
       "      <td>15.0</td>\n",
       "      <td>...</td>\n",
       "      <td>4000.000</td>\n",
       "      <td>2950.000000</td>\n",
       "      <td>7525.000000</td>\n",
       "      <td>625.0</td>\n",
       "      <td>3417.638831</td>\n",
       "      <td>7622.773402</td>\n",
       "      <td>4433.161139</td>\n",
       "      <td>168.190777</td>\n",
       "      <td>7.150651</td>\n",
       "      <td>3838.012112</td>\n",
       "    </tr>\n",
       "    <tr>\n",
       "      <th>521</th>\n",
       "      <td>b7612153-372f-415a-9770-7101fbbbdc59</td>\n",
       "      <td>danlab</td>\n",
       "      <td>3484.0</td>\n",
       "      <td>5900.0</td>\n",
       "      <td>740.0</td>\n",
       "      <td>4519.276180</td>\n",
       "      <td>5900.000000</td>\n",
       "      <td>4603.703305</td>\n",
       "      <td>180.0</td>\n",
       "      <td>15.0</td>\n",
       "      <td>...</td>\n",
       "      <td>4000.000</td>\n",
       "      <td>3550.000000</td>\n",
       "      <td>5875.000000</td>\n",
       "      <td>700.0</td>\n",
       "      <td>4731.858110</td>\n",
       "      <td>6262.927320</td>\n",
       "      <td>4275.745886</td>\n",
       "      <td>161.828348</td>\n",
       "      <td>19.181265</td>\n",
       "      <td>3785.925889</td>\n",
       "    </tr>\n",
       "  </tbody>\n",
       "</table>\n",
       "<p>522 rows × 29 columns</p>\n",
       "</div>"
      ],
      "text/plain": [
       "                                      pid                 lab  ml_e_p  ap_e_p  \\\n",
       "0    e8129a86-b5a9-4d2e-9e9c-09689c9bf0b3           cortexlab  4435.0  7650.0   \n",
       "1    adca9242-0725-41d4-8eb1-5655a464431d           cortexlab  4939.0  4400.0   \n",
       "2    d4291925-ad00-47fe-baaf-3fdff0991e86           cortexlab  5039.0  8975.0   \n",
       "3    4ea45238-55b1-4d54-ba92-efa47feb9f57           cortexlab  3039.0  9900.0   \n",
       "4    c6ba6f8e-c13e-410f-b7df-e193ba0d239d              danlab  3471.0  9900.0   \n",
       "..                                    ...                 ...     ...     ...   \n",
       "517  2e720cee-05cc-440e-a24b-13794b1ac01d  churchlandlab_ucla  3279.0  9175.0   \n",
       "518  8dfb86c8-d45c-46c4-90ec-33078014d434         angelakilab  4935.0  6150.0   \n",
       "519  94e948c1-f7be-4868-893a-f7cd2df3313e  churchlandlab_ucla  3496.0  7400.0   \n",
       "520  eb99c2c8-e614-4240-931b-169bed23e9f5              danlab  3496.0  6900.0   \n",
       "521  b7612153-372f-415a-9770-7101fbbbdc59              danlab  3484.0  5900.0   \n",
       "\n",
       "     dv_e_p       ml_t_p        ap_t_p       dv_t_p  phi_p  theta_p  ...  \\\n",
       "0     264.0  3285.275416   7650.000000  6784.412133    0.0     10.0  ...   \n",
       "1     954.0  5974.276180   4400.000000  4817.703305  180.0     15.0  ...   \n",
       "2     332.0  5815.457135   8975.000000  3229.777479  180.0     15.0  ...   \n",
       "3     332.0  1778.340982  10010.293373  3808.862697    5.0     20.0  ...   \n",
       "4     692.0  4506.276180   9900.000000  4555.703305  180.0     15.0  ...   \n",
       "..      ...          ...           ...          ...    ...      ...  ...   \n",
       "517   332.0  4320.889066   9175.000000  6240.846518  180.0     10.0  ...   \n",
       "518   332.0  3827.124626   6150.000000  6615.073464    0.0     10.0  ...   \n",
       "519   501.0  4531.276180   7400.000000  4364.703305  180.0     15.0  ...   \n",
       "520   549.0  4531.276180   6900.000000  4412.703305  180.0     15.0  ...   \n",
       "521   740.0  4519.276180   5900.000000  4603.703305  180.0     15.0  ...   \n",
       "\n",
       "      depth_m       ml_e_e        ap_e_e  dv_e_e       ml_t_e        ap_t_e  \\\n",
       "0    6348.000  4471.334154   7498.130724   225.0  3206.935707   7586.750803   \n",
       "1    4001.000  4900.000000   4150.000000  1075.0  5535.037085   5073.505888   \n",
       "2    4000.000  5075.000000   8775.000000   275.0  5719.955621   8458.254095   \n",
       "3    3900.000  3175.000000  11200.000000  1475.0  2355.793444  11018.539115   \n",
       "4    4000.000  3300.000000   9750.000000   825.0  4018.222006   9886.012241   \n",
       "..        ...          ...           ...     ...          ...           ...   \n",
       "517  5999.276  2950.000000   9250.000000   775.0  5256.838358  11711.594108   \n",
       "518  6380.000  4675.000000   5925.000000   525.0  4401.221324   7186.911353   \n",
       "519     0.000  3475.000000   8350.000000   425.0  4478.592268   8354.150996   \n",
       "520  4000.000  2950.000000   7525.000000   625.0  3417.638831   7622.773402   \n",
       "521  4000.000  3550.000000   5875.000000   700.0  4731.858110   6262.927320   \n",
       "\n",
       "          dv_t_e       phi_e    theta_e      depth_e  \n",
       "0    6931.193545    4.009232  10.702902  6824.924089  \n",
       "1    5252.945974  124.513864  15.016596  4325.663855  \n",
       "2    4038.003837 -153.843758  10.810369  3830.991203  \n",
       "3    5675.101794  -12.489811  11.297380  4283.092635  \n",
       "4    4584.740640  169.276680  11.002461  3830.142537  \n",
       "..           ...         ...        ...          ...  \n",
       "517  6311.341791  133.141163  31.356013  6483.211333  \n",
       "518  6718.068479   77.759068  11.777565  6326.252620  \n",
       "519  5236.127350  179.763018  11.782928  4914.688297  \n",
       "520  4433.161139  168.190777   7.150651  3838.012112  \n",
       "521  4275.745886  161.828348  19.181265  3785.925889  \n",
       "\n",
       "[522 rows x 29 columns]"
      ]
     },
     "execution_count": 178,
     "metadata": {},
     "output_type": "execute_result"
    }
   ],
   "source": [
    "traj_data"
   ]
  },
  {
   "cell_type": "code",
   "execution_count": null,
   "id": "53ed3999-b84b-40e5-81bd-049956078cdf",
   "metadata": {},
   "outputs": [],
   "source": [
    "traj_data = pd.read_csv('bwm_all_traj.csv')"
   ]
  },
  {
   "cell_type": "markdown",
   "id": "834ec075-b37f-40c6-a5fe-e434c636f35d",
   "metadata": {},
   "source": [
    "# Discrepancy 1: Planned identical to micro-manipulator\n",
    "Analyze the *surface* coordinate and check whether it is identical from planned to micro-manipulator, suggesting the researcher did not enter the real micro-manipulator coordinates"
   ]
  },
  {
   "cell_type": "code",
   "execution_count": 180,
   "id": "d9c0e0c2-5566-4aa3-a16e-6a763c1e7a09",
   "metadata": {},
   "outputs": [],
   "source": [
    "def disc1(row):\n",
    "    planned = (row['ml_e_p'], row['ap_e_p'], row['dv_e_p'])\n",
    "    micro = (row['ml_e_m'], row['ap_e_m'], row['dv_e_m'])\n",
    "    return planned[0]==micro[0] and planned[1]==micro[1] and planned[2]==micro[2]"
   ]
  },
  {
   "cell_type": "code",
   "execution_count": 189,
   "id": "a801e4cf-c8a5-4b94-a008-59baf2a56221",
   "metadata": {},
   "outputs": [],
   "source": [
    "p_identical_mm = []\n",
    "for i, row in traj_data.iterrows():\n",
    "    p_identical_mm.append(disc1(row))\n",
    "\n",
    "traj_data['p_identical_mm'] = p_identical_mm\n",
    "\n",
    "traj_data.to_csv('bwm_all_traj.csv',float_format='%.03f')"
   ]
  },
  {
   "cell_type": "code",
   "execution_count": 190,
   "id": "4f749468-cc4c-43ed-bd79-ad2f433c8376",
   "metadata": {},
   "outputs": [
    {
     "name": "stdout",
     "output_type": "stream",
     "text": [
      "79\n"
     ]
    }
   ],
   "source": [
    "print(np.sum(traj_data['p_identical_mm']))"
   ]
  },
  {
   "cell_type": "markdown",
   "id": "87aa512c-1960-4139-a9b8-50bd3b961490",
   "metadata": {
    "tags": []
   },
   "source": [
    "# Discrepancy 2: >1mm distance from micro-manipulator to ephys\n",
    "Analyze the surface coordinate to check whether the micro-manipulator coordinate is >1mm away from the ephys coordinate\n",
    "we'll use only ap/ml and ignore dv for this"
   ]
  },
  {
   "cell_type": "code",
   "execution_count": 198,
   "id": "6ba1711a-bfeb-445a-b6fa-e15da55a7254",
   "metadata": {},
   "outputs": [],
   "source": [
    "def disc2(row):\n",
    "    micro = (row['ml_e_m'], row['ap_e_m'], row['dv_e_m'])\n",
    "    ephys = (row['ml_e_e'], row['ap_e_e'], row['dv_e_e'])\n",
    "    return np.hypot(micro[0]-ephys[0],micro[1]-ephys[1]) > 1000"
   ]
  },
  {
   "cell_type": "code",
   "execution_count": 200,
   "id": "d567ea96-91fb-40fc-ab3c-b93065e1cbd0",
   "metadata": {},
   "outputs": [],
   "source": [
    "mm_ephys_dist = []\n",
    "for i, row in traj_data.iterrows():\n",
    "    mm_ephys_dist.append(disc2(row))\n",
    "\n",
    "traj_data['mm_ephys_dist'] = mm_ephys_dist\n",
    "\n",
    "traj_data.to_csv('bwm_all_traj.csv',float_format='%.03f')"
   ]
  },
  {
   "cell_type": "code",
   "execution_count": 201,
   "id": "35d929c8-16dc-43f3-9ce9-6a1f5e7bf96c",
   "metadata": {},
   "outputs": [
    {
     "name": "stdout",
     "output_type": "stream",
     "text": [
      "23\n"
     ]
    }
   ],
   "source": [
    "print(np.sum(traj_data['mm_ephys_dist']))"
   ]
  },
  {
   "cell_type": "markdown",
   "id": "0f1bc24e-3c33-42dd-8073-afbd61374acf",
   "metadata": {
    "tags": []
   },
   "source": [
    "# Discrepancy 3: Flipped DV axis\n",
    "Check whether the DV coordinate for micro-manipulator and ephys are flipped relative to zero (suggesting the researcher doesn't know which way is which)"
   ]
  },
  {
   "cell_type": "code",
   "execution_count": 213,
   "id": "f60796e3-63cc-4254-9291-85128a8225cf",
   "metadata": {},
   "outputs": [],
   "source": [
    "def disc3(row):\n",
    "    micro = (row['ml_e_m'], row['ap_e_m'], row['dv_e_m'])\n",
    "    ephys = (row['ml_e_e'], row['ap_e_e'], row['dv_e_e'])\n",
    "    return (micro[2] > 0 and ephys[2] < 0) or (micro[2] < 0 and ephys[2] > 0)"
   ]
  },
  {
   "cell_type": "code",
   "execution_count": 214,
   "id": "dd9f3a4b-72bf-4e23-a994-c511190a1c6b",
   "metadata": {},
   "outputs": [],
   "source": [
    "flipz = []\n",
    "for i, row in traj_data.iterrows():\n",
    "    flipz.append(disc3(row))\n",
    "\n",
    "traj_data['flipz'] = flipz\n",
    "\n",
    "traj_data.to_csv('bwm_all_traj.csv',float_format='%.03f')"
   ]
  },
  {
   "cell_type": "code",
   "execution_count": 216,
   "id": "69b89f45-7c73-431f-8afe-f6ea51ac83db",
   "metadata": {},
   "outputs": [
    {
     "name": "stdout",
     "output_type": "stream",
     "text": [
      "55\n"
     ]
    }
   ],
   "source": [
    "print(np.sum(traj_data['flipz']))"
   ]
  },
  {
   "cell_type": "markdown",
   "id": "2b22fc02-8626-452c-b41f-cf168e5052ec",
   "metadata": {},
   "source": [
    "# Discrepancy 4: 0 in micro-manipulator DV position"
   ]
  },
  {
   "cell_type": "code",
   "execution_count": 218,
   "id": "5b17e8c3-4bd9-442f-b1b6-ad704a94cc09",
   "metadata": {},
   "outputs": [],
   "source": [
    "def disc4(row):\n",
    "    micro = (row['ml_e_m'], row['ap_e_m'], row['dv_e_m'])\n",
    "    return micro[2]==0"
   ]
  },
  {
   "cell_type": "code",
   "execution_count": 219,
   "id": "0f1caf8f-d3e7-4cb0-85fc-05b0b418c9a6",
   "metadata": {},
   "outputs": [],
   "source": [
    "mm_zero_dv = []\n",
    "for i, row in traj_data.iterrows():\n",
    "    mm_zero_dv.append(disc4(row))\n",
    "\n",
    "traj_data['mm_zero_dv'] = mm_zero_dv\n",
    "\n",
    "traj_data.to_csv('bwm_all_traj.csv',float_format='%.03f')"
   ]
  },
  {
   "cell_type": "code",
   "execution_count": 220,
   "id": "d376f428-6c2c-4d8b-a49c-da659ee386b9",
   "metadata": {},
   "outputs": [
    {
     "name": "stdout",
     "output_type": "stream",
     "text": [
      "0\n"
     ]
    }
   ],
   "source": [
    "print(np.sum(traj_data['mm_zero_dv']))"
   ]
  },
  {
   "cell_type": "markdown",
   "id": "9d9dc73a-62de-4a71-84dc-398f28c278bb",
   "metadata": {},
   "source": [
    "# Discrepancy 5: crazy angles"
   ]
  },
  {
   "cell_type": "code",
   "execution_count": 221,
   "id": "5b9d28bd-e970-4925-8ee2-80b24930063b",
   "metadata": {},
   "outputs": [],
   "source": [
    "def disc5(row):\n",
    "    phi_m = row['phi_m']\n",
    "    phi_e = row['phi_e']\n",
    "    return np.abs(phi_m-phi_e) > 45"
   ]
  },
  {
   "cell_type": "code",
   "execution_count": 222,
   "id": "c19e7c8d-30d3-4fdd-894b-0db4d4a2f795",
   "metadata": {},
   "outputs": [],
   "source": [
    "big_phi_em = []\n",
    "for i, row in traj_data.iterrows():\n",
    "    big_phi_em.append(disc5(row))\n",
    "\n",
    "traj_data['big_phi_em'] = big_phi_em\n",
    "\n",
    "traj_data.to_csv('bwm_all_traj.csv',float_format='%.03f')"
   ]
  },
  {
   "cell_type": "code",
   "execution_count": 223,
   "id": "277f6c14-b7a2-45a9-99e1-9b3cb34b744b",
   "metadata": {},
   "outputs": [
    {
     "name": "stdout",
     "output_type": "stream",
     "text": [
      "142\n"
     ]
    }
   ],
   "source": [
    "print(np.sum(traj_data['big_phi_em']))"
   ]
  },
  {
   "cell_type": "markdown",
   "id": "2603ef87-965a-49d2-a595-6e92a0b028fe",
   "metadata": {},
   "source": [
    "# Display data using Urchin"
   ]
  },
  {
   "cell_type": "code",
   "execution_count": 11,
   "id": "0d08d29a-274e-427d-9e84-d670eadb14f5",
   "metadata": {},
   "outputs": [],
   "source": [
    "import random\n",
    "r = lambda: random.randint(0,255)\n",
    "randHexColor = lambda : '#%02X%02X%02X' % (r(),r(),r())"
   ]
  },
  {
   "cell_type": "code",
   "execution_count": 22,
   "id": "052e4c48-642a-4701-a9ad-224de733ae83",
   "metadata": {},
   "outputs": [],
   "source": [
    "colors = {}\n",
    "labs = np.unique(traj_data['lab'].values)\n",
    "\n",
    "for lab in labs:\n",
    "    colors[lab] = randHexColor()"
   ]
  },
  {
   "cell_type": "code",
   "execution_count": 9,
   "id": "92fecf3d-a507-48eb-8115-dfd7eee7d3bb",
   "metadata": {},
   "outputs": [
    {
     "name": "stdout",
     "output_type": "stream",
     "text": [
      "(URN) connected to server\n",
      "Login sent with ID: Dan\n"
     ]
    }
   ],
   "source": [
    "urn.setup()"
   ]
  },
  {
   "cell_type": "code",
   "execution_count": null,
   "id": "61ad5c16-7aef-40f3-8b9f-b141b31dfbad",
   "metadata": {},
   "outputs": [],
   "source": [
    "# VIEW 1: Planned insertions\n",
    "urn.clear()\n",
    "count = 0\n",
    "\n",
    "for i, row in traj_data.iterrows():\n",
    "    probename = 'p'+str(i)\n",
    "    urn.create_probes([probename])\n",
    "    urn.set_probe_positions({probename:[row.ml, row.ap, row.dv]})\n",
    "    urn.set_probe_colors({probename:'#808080'})\n",
    "    urn.set_probe_angles({probename:[row.phi, row.theta, 0]})\n",
    "    urn.set_probe_size({probename:[0.07,3.84,0.02]})\n",
    "\n",
    "# # for some reason 'root' doesn't work?\n",
    "urn.set_area_visibility({8:True})\n",
    "urn.set_area_material({8:'transparent-unlit'})\n",
    "urn.set_area_color({8:'#000000'})\n",
    "urn.set_area_alpha({8:0.025})"
   ]
  },
  {
   "cell_type": "code",
   "execution_count": 56,
   "id": "57f1b296-a86c-48e4-8c40-39b59b4c3a95",
   "metadata": {},
   "outputs": [],
   "source": [
    "urn.clear()"
   ]
  },
  {
   "cell_type": "code",
   "execution_count": null,
   "id": "1a87962d-6414-4b5e-8d5e-262dd6f3cdc6",
   "metadata": {},
   "outputs": [],
   "source": []
  }
 ],
 "metadata": {
  "kernelspec": {
   "display_name": "Python 3 (ipykernel)",
   "language": "python",
   "name": "python3"
  },
  "language_info": {
   "codemirror_mode": {
    "name": "ipython",
    "version": 3
   },
   "file_extension": ".py",
   "mimetype": "text/x-python",
   "name": "python",
   "nbconvert_exporter": "python",
   "pygments_lexer": "ipython3",
   "version": "3.9.10"
  }
 },
 "nbformat": 4,
 "nbformat_minor": 5
}
