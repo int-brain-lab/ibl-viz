{
 "cells": [
  {
   "cell_type": "code",
   "execution_count": 6,
   "id": "7be417cf-422f-4bca-a6c2-b82bdce62bd2",
   "metadata": {},
   "outputs": [],
   "source": [
    "# urn and other imports\n",
    "import unityneuro.render as urn\n",
    "import numpy as np\n",
    "import pandas as pd\n",
    "# ibl imports\n",
    "from one.api import ONE\n",
    "one = ONE(base_url='https://alyx.internationalbrainlab.org')\n",
    "from brainbox.io.one import SpikeSortingLoader\n",
    "import ibllib.atlas as atlas\n",
    "ba = atlas.AllenAtlas(25)"
   ]
  },
  {
   "cell_type": "code",
   "execution_count": 34,
   "id": "efdd39c4-be12-40dd-982e-2e0e74e93db8",
   "metadata": {},
   "outputs": [],
   "source": [
    "def get_bwm_sessions():\n",
    "\n",
    "    '''\n",
    "    Gaelle, 06.04.2022\n",
    "    '''\n",
    "\n",
    "    str_query = (  \n",
    "       'session__project__name__icontains,ibl_neuropixel_brainwide_01,'\n",
    "       'session__json__IS_MOCK,False,session__qc__lt'\n",
    "       ',50,~json__qc,CRITICAL,'\n",
    "       'session__extended_qc__behavior,1,'\n",
    "       'json__extended_qc__tracing_exists,True,'\n",
    "       '~session__extended_qc___task_stimOn_goCue_delays__lt,0.9,'\n",
    "       '~session__extended_qc___task_response_feedback_delays__lt,0.9,'\n",
    "       '~session__extended_qc___task_wheel_move_before_feedback__lt,0.9,'\n",
    "       '~session__extended_qc___task_wheel_freeze_during_quiescence__lt,0.9,'\n",
    "       '~session__extended_qc___task_error_trial_event_sequence__lt,0.9,'\n",
    "       '~session__extended_qc___task_correct_trial_event_sequence__lt,0.9,'\n",
    "       '~session__extended_qc___task_reward_volumes__lt,0.9,'\n",
    "       '~session__extended_qc___task_reward_volume_set__lt,0.9,'\n",
    "       '~session__extended_qc___task_stimulus_move_before_goCue__lt,0.9,'\n",
    "       '~session__extended_qc___task_audio_pre_trial__lt,0.9')                  \n",
    "        \n",
    "    str_query2 = (\n",
    "       'session__project__name__icontains,ibl_neuropixel_brainwide_01,'\n",
    "       'session__json__IS_MOCK,False,session__qc__lt,50,'\n",
    "       '~json__qc,CRITICAL,session__extended_qc__behavior,1,'       \n",
    "       'json__extended_qc__tracing_exists,True,'\n",
    "       'session__extended_qc___experimenter_task,PASS')        \n",
    "            \n",
    "    ins = np.concatenate([one.alyx.rest('insertions', 'list', django = x)\n",
    "                          for x in [str_query, str_query2]])\n",
    "\n",
    "    eid_probe = set([x['session']+'_'+x['name'] for x in ins]) # pid via x['id']\n",
    "    ins = [x.split('_') for x in eid_probe] \n",
    " \n",
    "    return ins"
   ]
  },
  {
   "cell_type": "code",
   "execution_count": 35,
   "id": "9acfdf6a-959d-4952-b65e-6f270f93358c",
   "metadata": {},
   "outputs": [],
   "source": [
    "ins = get_bwm_sessions()"
   ]
  },
  {
   "cell_type": "code",
   "execution_count": 36,
   "id": "d9211bcd-0671-47c9-8a64-34c90dea14ad",
   "metadata": {},
   "outputs": [
    {
     "data": {
      "text/plain": [
       "['57b5ae8f-d446-4161-b439-b191c5e3e77b', 'probe01']"
      ]
     },
     "execution_count": 36,
     "metadata": {},
     "output_type": "execute_result"
    }
   ],
   "source": [
    "ins[0]"
   ]
  },
  {
   "cell_type": "markdown",
   "id": "de9ad20e-5e97-4372-bfa3-e701f13f0ea9",
   "metadata": {
    "tags": []
   },
   "source": [
    "# Planned insertions"
   ]
  },
  {
   "cell_type": "code",
   "execution_count": 25,
   "id": "fa4c65fd-0050-47ce-9e4a-00ac5df150de",
   "metadata": {},
   "outputs": [],
   "source": [
    "def getCoords(ins):\n",
    "    entry_coords = ba.xyz2ccf(ins.entry)\n",
    "    tip_coords = ba.xyz2ccf(ins.tip)\n",
    "    tip_angles = [ins.phi, ins.theta, ins.beta]\n",
    "    recording_size = np.sqrt(np.sum(np.power(entry_coords-tip_coords,2)))\n",
    "    return (tip_coords, tip_angles, recording_size)"
   ]
  },
  {
   "cell_type": "code",
   "execution_count": 44,
   "id": "01c99482-ccfc-4ae8-ac1c-b098cb4089f1",
   "metadata": {},
   "outputs": [],
   "source": [
    "bwm_trajs = one.alyx.rest('trajectories', 'list', provenance='planned',\n",
    "                                   project='ibl_neuropixel_brainwide_01', use_cache=False)\n"
   ]
  },
  {
   "cell_type": "code",
   "execution_count": 53,
   "id": "ed337c83-2c1d-4a11-894a-c58f76a21242",
   "metadata": {},
   "outputs": [],
   "source": [
    "traj_data = pd.DataFrame(columns=['pid','lab','ml','ap','dv','phi','theta','depth'])\n",
    "\n",
    "for i, bwmtraj in enumerate(bwm_trajs):\n",
    "    traj =  one.alyx.rest('trajectories', 'list', provenance='planned',probe_insertion=bwmtraj['probe_insertion'],\n",
    "                          project='ibl_neuropixel_brainwide_01', use_cache=False)\n",
    "    traj = traj[0]\n",
    "    ins = atlas.Insertion.from_dict(traj)\n",
    "\n",
    "    (coords, angles, size) = getCoords(ins)\n",
    "    \n",
    "    traj_data.loc[i] = [traj['probe_insertion'],traj['session']['lab'],coords[0],coords[1],coords[2],angles[0],angles[1],0]\n",
    "traj_data.to_csv('bwm_planned_traj.csv',float_format='%.03f')\n"
   ]
  },
  {
   "cell_type": "code",
   "execution_count": 54,
   "id": "645ccdd4-fc2a-425e-aa7d-4483550accf4",
   "metadata": {},
   "outputs": [
    {
     "data": {
      "text/html": [
       "<div>\n",
       "<style scoped>\n",
       "    .dataframe tbody tr th:only-of-type {\n",
       "        vertical-align: middle;\n",
       "    }\n",
       "\n",
       "    .dataframe tbody tr th {\n",
       "        vertical-align: top;\n",
       "    }\n",
       "\n",
       "    .dataframe thead th {\n",
       "        text-align: right;\n",
       "    }\n",
       "</style>\n",
       "<table border=\"1\" class=\"dataframe\">\n",
       "  <thead>\n",
       "    <tr style=\"text-align: right;\">\n",
       "      <th></th>\n",
       "      <th>pid</th>\n",
       "      <th>lab</th>\n",
       "      <th>ml</th>\n",
       "      <th>ap</th>\n",
       "      <th>dv</th>\n",
       "      <th>phi</th>\n",
       "      <th>theta</th>\n",
       "      <th>depth</th>\n",
       "    </tr>\n",
       "  </thead>\n",
       "  <tbody>\n",
       "    <tr>\n",
       "      <th>0</th>\n",
       "      <td>98d9b1db-e58b-4780-9655-29768e5af716</td>\n",
       "      <td>churchlandlab</td>\n",
       "      <td>5031.276180</td>\n",
       "      <td>3900.0</td>\n",
       "      <td>5174.703305</td>\n",
       "      <td>180.0</td>\n",
       "      <td>15.0</td>\n",
       "      <td>0</td>\n",
       "    </tr>\n",
       "    <tr>\n",
       "      <th>1</th>\n",
       "      <td>232ce83a-4896-4a90-bfb7-1f2c51c2bee5</td>\n",
       "      <td>hausserlab</td>\n",
       "      <td>1423.687197</td>\n",
       "      <td>7550.0</td>\n",
       "      <td>5594.278676</td>\n",
       "      <td>0.0</td>\n",
       "      <td>20.0</td>\n",
       "      <td>0</td>\n",
       "    </tr>\n",
       "    <tr>\n",
       "      <th>2</th>\n",
       "      <td>19c5b0d5-a255-47ff-9f8d-639e634a7b61</td>\n",
       "      <td>cortexlab</td>\n",
       "      <td>5852.920386</td>\n",
       "      <td>3200.0</td>\n",
       "      <td>2695.796439</td>\n",
       "      <td>180.0</td>\n",
       "      <td>19.0</td>\n",
       "      <td>0</td>\n",
       "    </tr>\n",
       "    <tr>\n",
       "      <th>3</th>\n",
       "      <td>ef03e569-2b50-4534-89f4-fb1e56e81461</td>\n",
       "      <td>wittenlab</td>\n",
       "      <td>4531.276180</td>\n",
       "      <td>7400.0</td>\n",
       "      <td>4364.703305</td>\n",
       "      <td>180.0</td>\n",
       "      <td>15.0</td>\n",
       "      <td>0</td>\n",
       "    </tr>\n",
       "    <tr>\n",
       "      <th>4</th>\n",
       "      <td>78cb9d69-a49a-480f-b182-7f7985a5b1dd</td>\n",
       "      <td>churchlandlab</td>\n",
       "      <td>6946.723820</td>\n",
       "      <td>7400.0</td>\n",
       "      <td>4364.703305</td>\n",
       "      <td>0.0</td>\n",
       "      <td>15.0</td>\n",
       "      <td>0</td>\n",
       "    </tr>\n",
       "    <tr>\n",
       "      <th>...</th>\n",
       "      <td>...</td>\n",
       "      <td>...</td>\n",
       "      <td>...</td>\n",
       "      <td>...</td>\n",
       "      <td>...</td>\n",
       "      <td>...</td>\n",
       "      <td>...</td>\n",
       "      <td>...</td>\n",
       "    </tr>\n",
       "    <tr>\n",
       "      <th>932</th>\n",
       "      <td>94283796-548a-4e4e-909a-bd4bd1690d27</td>\n",
       "      <td>wittenlab</td>\n",
       "      <td>5984.723820</td>\n",
       "      <td>2900.0</td>\n",
       "      <td>5364.703305</td>\n",
       "      <td>0.0</td>\n",
       "      <td>15.0</td>\n",
       "      <td>0</td>\n",
       "    </tr>\n",
       "    <tr>\n",
       "      <th>933</th>\n",
       "      <td>ee320f72-b613-4acd-b10d-3ceef332a949</td>\n",
       "      <td>mrsicflogellab</td>\n",
       "      <td>2809.789514</td>\n",
       "      <td>8650.0</td>\n",
       "      <td>6689.344236</td>\n",
       "      <td>0.0</td>\n",
       "      <td>10.0</td>\n",
       "      <td>0</td>\n",
       "    </tr>\n",
       "    <tr>\n",
       "      <th>934</th>\n",
       "      <td>ba291bec-4492-4d7f-a6aa-483ebb64b3c3</td>\n",
       "      <td>danlab</td>\n",
       "      <td>5974.276180</td>\n",
       "      <td>8900.0</td>\n",
       "      <td>4151.703305</td>\n",
       "      <td>180.0</td>\n",
       "      <td>15.0</td>\n",
       "      <td>0</td>\n",
       "    </tr>\n",
       "    <tr>\n",
       "      <th>935</th>\n",
       "      <td>c2363000-27a6-461e-940b-15f681496ed8</td>\n",
       "      <td>danlab</td>\n",
       "      <td>4070.276180</td>\n",
       "      <td>6900.0</td>\n",
       "      <td>4555.703305</td>\n",
       "      <td>180.0</td>\n",
       "      <td>15.0</td>\n",
       "      <td>0</td>\n",
       "    </tr>\n",
       "    <tr>\n",
       "      <th>936</th>\n",
       "      <td>7a02c052-ce65-4d60-99d7-4723cdb334a3</td>\n",
       "      <td>angelakilab</td>\n",
       "      <td>4582.276180</td>\n",
       "      <td>3400.0</td>\n",
       "      <td>5507.703305</td>\n",
       "      <td>180.0</td>\n",
       "      <td>15.0</td>\n",
       "      <td>0</td>\n",
       "    </tr>\n",
       "  </tbody>\n",
       "</table>\n",
       "<p>937 rows × 8 columns</p>\n",
       "</div>"
      ],
      "text/plain": [
       "                                      pid             lab           ml  \\\n",
       "0    98d9b1db-e58b-4780-9655-29768e5af716   churchlandlab  5031.276180   \n",
       "1    232ce83a-4896-4a90-bfb7-1f2c51c2bee5      hausserlab  1423.687197   \n",
       "2    19c5b0d5-a255-47ff-9f8d-639e634a7b61       cortexlab  5852.920386   \n",
       "3    ef03e569-2b50-4534-89f4-fb1e56e81461       wittenlab  4531.276180   \n",
       "4    78cb9d69-a49a-480f-b182-7f7985a5b1dd   churchlandlab  6946.723820   \n",
       "..                                    ...             ...          ...   \n",
       "932  94283796-548a-4e4e-909a-bd4bd1690d27       wittenlab  5984.723820   \n",
       "933  ee320f72-b613-4acd-b10d-3ceef332a949  mrsicflogellab  2809.789514   \n",
       "934  ba291bec-4492-4d7f-a6aa-483ebb64b3c3          danlab  5974.276180   \n",
       "935  c2363000-27a6-461e-940b-15f681496ed8          danlab  4070.276180   \n",
       "936  7a02c052-ce65-4d60-99d7-4723cdb334a3     angelakilab  4582.276180   \n",
       "\n",
       "         ap           dv    phi  theta  depth  \n",
       "0    3900.0  5174.703305  180.0   15.0      0  \n",
       "1    7550.0  5594.278676    0.0   20.0      0  \n",
       "2    3200.0  2695.796439  180.0   19.0      0  \n",
       "3    7400.0  4364.703305  180.0   15.0      0  \n",
       "4    7400.0  4364.703305    0.0   15.0      0  \n",
       "..      ...          ...    ...    ...    ...  \n",
       "932  2900.0  5364.703305    0.0   15.0      0  \n",
       "933  8650.0  6689.344236    0.0   10.0      0  \n",
       "934  8900.0  4151.703305  180.0   15.0      0  \n",
       "935  6900.0  4555.703305  180.0   15.0      0  \n",
       "936  3400.0  5507.703305  180.0   15.0      0  \n",
       "\n",
       "[937 rows x 8 columns]"
      ]
     },
     "execution_count": 54,
     "metadata": {},
     "output_type": "execute_result"
    }
   ],
   "source": [
    "traj_data"
   ]
  },
  {
   "cell_type": "code",
   "execution_count": 11,
   "id": "0d08d29a-274e-427d-9e84-d670eadb14f5",
   "metadata": {},
   "outputs": [],
   "source": [
    "import random\n",
    "r = lambda: random.randint(0,255)\n",
    "randHexColor = lambda : '#%02X%02X%02X' % (r(),r(),r())"
   ]
  },
  {
   "cell_type": "code",
   "execution_count": 22,
   "id": "052e4c48-642a-4701-a9ad-224de733ae83",
   "metadata": {},
   "outputs": [],
   "source": [
    "colors = {}\n",
    "labs = np.unique(traj_data['lab'].values)\n",
    "\n",
    "for lab in labs:\n",
    "    colors[lab] = randHexColor()"
   ]
  },
  {
   "cell_type": "code",
   "execution_count": 9,
   "id": "92fecf3d-a507-48eb-8115-dfd7eee7d3bb",
   "metadata": {},
   "outputs": [
    {
     "name": "stdout",
     "output_type": "stream",
     "text": [
      "(URN) connected to server\n",
      "Login sent with ID: Dan\n"
     ]
    }
   ],
   "source": [
    "urn.setup()"
   ]
  },
  {
   "cell_type": "code",
   "execution_count": 57,
   "id": "61ad5c16-7aef-40f3-8b9f-b141b31dfbad",
   "metadata": {},
   "outputs": [],
   "source": [
    "# VIEW 1: Planned insertions\n",
    "urn.clear()\n",
    "count = 0\n",
    "\n",
    "for i, row in traj_data.iterrows():\n",
    "    probename = 'p'+str(i)\n",
    "    urn.create_probes([probename])\n",
    "    urn.set_probe_positions({probename:[row.ml, row.ap, row.dv]})\n",
    "    urn.set_probe_colors({probename:'#808080'})\n",
    "    urn.set_probe_angles({probename:[row.phi, row.theta, 0]})\n",
    "    urn.set_probe_size({probename:[0.07,3.84,0.02]})\n",
    "\n",
    "# # for some reason 'root' doesn't work?\n",
    "urn.set_area_visibility({8:True})\n",
    "urn.set_area_material({8:'transparent-unlit'})\n",
    "urn.set_area_color({8:'#000000'})\n",
    "urn.set_area_alpha({8:0.025})"
   ]
  },
  {
   "cell_type": "code",
   "execution_count": 56,
   "id": "57f1b296-a86c-48e4-8c40-39b59b4c3a95",
   "metadata": {},
   "outputs": [],
   "source": [
    "urn.clear()"
   ]
  },
  {
   "cell_type": "code",
   "execution_count": null,
   "id": "1a87962d-6414-4b5e-8d5e-262dd6f3cdc6",
   "metadata": {},
   "outputs": [],
   "source": []
  }
 ],
 "metadata": {
  "kernelspec": {
   "display_name": "Python 3 (ipykernel)",
   "language": "python",
   "name": "python3"
  },
  "language_info": {
   "codemirror_mode": {
    "name": "ipython",
    "version": 3
   },
   "file_extension": ".py",
   "mimetype": "text/x-python",
   "name": "python",
   "nbconvert_exporter": "python",
   "pygments_lexer": "ipython3",
   "version": "3.9.10"
  }
 },
 "nbformat": 4,
 "nbformat_minor": 5
}
