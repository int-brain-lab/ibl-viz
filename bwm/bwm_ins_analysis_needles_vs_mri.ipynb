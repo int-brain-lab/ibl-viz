{
 "cells": [
  {
   "cell_type": "code",
   "execution_count": 85,
   "id": "7be417cf-422f-4bca-a6c2-b82bdce62bd2",
   "metadata": {},
   "outputs": [],
   "source": [
    "# urn and other imports\n",
    "import unityneuro.render as urn\n",
    "import numpy as np\n",
    "import pandas as pd\n",
    "# ibl imports\n",
    "from one.api import ONE\n",
    "one = ONE(base_url='https://alyx.internationalbrainlab.org')\n",
    "from brainbox.io.one import SpikeSortingLoader\n",
    "import ibllib.atlas as atlas\n",
    "CCFAtlas = atlas.AllenAtlas(25)\n",
    "NeedlesAtlas = atlas.NeedlesAtlas(25)\n",
    "MRITorontoAtlas = atlas.MRITorontoAtlas(25)\n",
    "\n",
    "import matplotlib.pyplot as plt"
   ]
  },
  {
   "cell_type": "code",
   "execution_count": 86,
   "id": "efdd39c4-be12-40dd-982e-2e0e74e93db8",
   "metadata": {},
   "outputs": [],
   "source": [
    "def get_bwm_sessions():\n",
    "\n",
    "    '''\n",
    "    Gaelle, 06.04.2022\n",
    "    '''\n",
    "\n",
    "    str_query = (  \n",
    "       'session__project__name__icontains,ibl_neuropixel_brainwide_01,'\n",
    "       'session__json__IS_MOCK,False,session__qc__lt'\n",
    "       ',50,~json__qc,CRITICAL,'\n",
    "       'session__extended_qc__behavior,1,'\n",
    "       'json__extended_qc__tracing_exists,True,'\n",
    "       '~session__extended_qc___task_stimOn_goCue_delays__lt,0.9,'\n",
    "       '~session__extended_qc___task_response_feedback_delays__lt,0.9,'\n",
    "       '~session__extended_qc___task_wheel_move_before_feedback__lt,0.9,'\n",
    "       '~session__extended_qc___task_wheel_freeze_during_quiescence__lt,0.9,'\n",
    "       '~session__extended_qc___task_error_trial_event_sequence__lt,0.9,'\n",
    "       '~session__extended_qc___task_correct_trial_event_sequence__lt,0.9,'\n",
    "       '~session__extended_qc___task_reward_volumes__lt,0.9,'\n",
    "       '~session__extended_qc___task_reward_volume_set__lt,0.9,'\n",
    "       '~session__extended_qc___task_stimulus_move_before_goCue__lt,0.9,'\n",
    "       '~session__extended_qc___task_audio_pre_trial__lt,0.9')                  \n",
    "        \n",
    "    str_query2 = (\n",
    "       'session__project__name__icontains,ibl_neuropixel_brainwide_01,'\n",
    "       'session__json__IS_MOCK,False,session__qc__lt,50,'\n",
    "       '~json__qc,CRITICAL,session__extended_qc__behavior,1,'       \n",
    "       'json__extended_qc__tracing_exists,True,'\n",
    "       'session__extended_qc___experimenter_task,PASS')        \n",
    "            \n",
    "    ins = np.concatenate([one.alyx.rest('insertions', 'list', django = x)\n",
    "                          for x in [str_query, str_query2]])\n",
    "\n",
    "    eid_probe = set([x['session']+'_'+x['name'] for x in ins]) # pid via x['id']\n",
    "    ins = [x.split('_') for x in eid_probe] \n",
    " \n",
    "    return ins"
   ]
  },
  {
   "cell_type": "code",
   "execution_count": 87,
   "id": "9acfdf6a-959d-4952-b65e-6f270f93358c",
   "metadata": {},
   "outputs": [],
   "source": [
    "ins = get_bwm_sessions()"
   ]
  },
  {
   "cell_type": "markdown",
   "id": "de9ad20e-5e97-4372-bfa3-e701f13f0ea9",
   "metadata": {
    "tags": []
   },
   "source": [
    "# Collect insertion data (planned/micro-manip/histology)"
   ]
  },
  {
   "cell_type": "code",
   "execution_count": 88,
   "id": "fa4c65fd-0050-47ce-9e4a-00ac5df150de",
   "metadata": {},
   "outputs": [],
   "source": [
    "def vec_dist(coord0, coord1):\n",
    "    return np.sqrt(np.sum(np.power([coord0[0]-coord1[0],coord0[1]-coord1[1],coord0[2]-coord1[2]],2)))\n",
    "def vec_dist_apml(coord0, coord1):\n",
    "    return np.sqrt(np.sum(np.power([coord0[0]-coord1[0],coord0[1]-coord1[1]],2)))\n",
    "\n",
    "def getCoords(ins, coord_transform):\n",
    "    entry_coords = coord_transform.xyz2ccf(ins.entry)\n",
    "    tip_coords = coord_transform.xyz2ccf(ins.tip)\n",
    "    angles = [ins.phi, ins.theta, ins.beta]\n",
    "    depth = vec_dist(entry_coords, tip_coords)\n",
    "    return (entry_coords, tip_coords, angles, depth)\n",
    "\n",
    "def traj2coords(traj, coord_transform):\n",
    "    insertion = atlas.Insertion.from_dict(traj)\n",
    "    return getCoords(insertion, coord_transform)\n"
   ]
  },
  {
   "cell_type": "code",
   "execution_count": 89,
   "id": "4e76533c-22a8-4b3e-8c1e-791e1a956058",
   "metadata": {
    "tags": []
   },
   "outputs": [],
   "source": [
    "prov_planned = 'planned'\n",
    "prov_mm = 'Micro-manipulator'\n",
    "prov_ephys = 'Ephys aligned histology track'\n",
    "\n",
    "bwm_planned = one.alyx.rest('trajectories', 'list', provenance=prov_planned,\n",
    "                          project='ibl_neuropixel_brainwide_01', use_cache=False)\n",
    "bwm_mm = one.alyx.rest('trajectories', 'list', provenance=prov_mm,\n",
    "                          project='ibl_neuropixel_brainwide_01', use_cache=False)\n",
    "bwm_ephys = one.alyx.rest('trajectories', 'list', provenance=prov_ephys,\n",
    "                          project='ibl_neuropixel_brainwide_01', use_cache=False)"
   ]
  },
  {
   "cell_type": "code",
   "execution_count": 90,
   "id": "0eecedaf-2416-4bcc-acb5-3347fab08ca7",
   "metadata": {},
   "outputs": [],
   "source": [
    "traj_data = pd.DataFrame(columns=['pid','lab',\n",
    "                                  'ml_e_p','ap_e_p','dv_e_p',\n",
    "                                  'ml_t_p','ap_t_p','dv_t_p',\n",
    "                                  'phi_p','theta_p','depth_p',\n",
    "                                  'ml_e_m','ap_e_m','dv_e_m',\n",
    "                                  'ml_t_m','ap_t_m','dv_t_m',\n",
    "                                  'phi_m','theta_m','depth_m',\n",
    "                                  'ml_e_e','ap_e_e','dv_e_e',\n",
    "                                  'ml_t_e','ap_t_e','dv_t_e',\n",
    "                                  'phi_e','theta_e','depth_e'])\n",
    "mri_data = pd.DataFrame(columns=['pid','ml_e_m','ap_e_m','dv_e_m',\n",
    "                                 'ml_t_m','ap_t_m','dv_t_m'])"
   ]
  },
  {
   "cell_type": "code",
   "execution_count": 91,
   "id": "570b7aa6-c49c-4fdb-9515-2947b7a7c27d",
   "metadata": {},
   "outputs": [],
   "source": [
    "# re-organize data into a dictionary\n",
    "data = {}\n",
    "for (eid,probe) in ins:\n",
    "    if not eid in data.keys():\n",
    "        data[eid] = {}\n",
    "    data[eid][probe] = {}\n",
    "    \n",
    "for traj in bwm_planned:\n",
    "    eid = traj['session']['id']\n",
    "    probe_name = traj['probe_name']\n",
    "    \n",
    "    if eid in data.keys() and probe_name in data[eid].keys():\n",
    "        data[eid][probe_name]['planned'] = traj\n",
    "        \n",
    "for traj in bwm_mm:\n",
    "    eid = traj['session']['id']\n",
    "    probe_name = traj['probe_name']\n",
    "    \n",
    "    if eid in data.keys() and probe_name in data[eid].keys():\n",
    "        data[eid][probe_name]['micro-manip'] = traj\n",
    "        \n",
    "for traj in bwm_ephys:\n",
    "    eid = traj['session']['id']\n",
    "    probe_name = traj['probe_name']\n",
    "    \n",
    "    if eid in data.keys() and probe_name in data[eid].keys():\n",
    "        data[eid][probe_name]['ephys'] = traj"
   ]
  },
  {
   "cell_type": "code",
   "execution_count": 92,
   "id": "ed337c83-2c1d-4a11-894a-c58f76a21242",
   "metadata": {},
   "outputs": [
    {
     "name": "stdout",
     "output_type": "stream",
     "text": [
      "549caacc-3bd7-40f1-913d-e94141816547 probe01 missing planned\n",
      "6fb1e12c-883b-46d1-a745-473cde3232c8 probe01 missing planned\n",
      "1211f4af-d3e4-4c4e-9d0b-75a0bc2bf1f0 probe01 missing planned\n",
      "09394481-8dd2-4d5c-9327-f2753ede92d7 probe00 missing planned\n",
      "09394481-8dd2-4d5c-9327-f2753ede92d7 probe01 missing planned\n",
      "09b2c4d1-058d-4c84-9fd4-97530f85baf6 probe01 missing planned\n",
      "5285c561-80da-4563-8694-739da92e5dd0 probe01 missing planned\n",
      "8c2f7f4d-7346-42a4-a715-4d37a5208535 probe01 missing planned\n",
      "6ed57216-498d-48a6-b48b-a243a34710ea probe00 missing planned\n",
      "6ed57216-498d-48a6-b48b-a243a34710ea probe01 missing planned\n",
      "37e96d0b-5b4b-4c6e-9b29-7edbdc94bbd0 probe01 missing planned\n",
      "258b4a8b-28e3-4c18-9f86-1ea2bc0dc806 probe01 missing planned\n",
      "258b4a8b-28e3-4c18-9f86-1ea2bc0dc806 probe01 missing micro-manip\n",
      "258b4a8b-28e3-4c18-9f86-1ea2bc0dc806 probe01 missing ephys\n",
      "258b4a8b-28e3-4c18-9f86-1ea2bc0dc806 probe00 missing planned\n",
      "258b4a8b-28e3-4c18-9f86-1ea2bc0dc806 probe00 missing micro-manip\n",
      "258b4a8b-28e3-4c18-9f86-1ea2bc0dc806 probe00 missing ephys\n",
      "b887df2c-bb9c-44c9-a9c0-538da87b2cab probe00 missing planned\n",
      "fa1f26a1-eb49-4b24-917e-19f02a18ac61 probe01 missing planned\n",
      "fa1f26a1-eb49-4b24-917e-19f02a18ac61 probe00 missing planned\n",
      "3e6a97d3-3991-49e2-b346-6948cb4580fb probe00 missing planned\n",
      "e6043c7d-8f6e-4b66-8309-2ec0abac0f79 probe00 missing planned\n",
      "edd22318-216c-44ff-bc24-49ce8be78374 probe01 missing planned\n",
      "ee212778-3903-4f5b-ac4b-a72f22debf03 probe01 missing planned\n",
      "ee212778-3903-4f5b-ac4b-a72f22debf03 probe00 missing planned\n",
      "695a6073-eae0-49e0-bb0f-e9e57a9275b9 probe01 missing planned\n",
      "35ed605c-1a1a-47b1-86ff-2b56144f55af probe00 missing planned\n",
      "35ed605c-1a1a-47b1-86ff-2b56144f55af probe01 missing planned\n",
      "5139ce2c-7d52-44bf-8129-692d61dd6403 probe00 missing planned\n",
      "20c112a1-8a42-44e0-a4cd-e5b932f7bda9 probe00 missing planned\n",
      "20c112a1-8a42-44e0-a4cd-e5b932f7bda9 probe01 missing planned\n",
      "f99ac31f-171b-4208-a55d-5644c0ad51c3 probe00 missing planned\n",
      "1f095590-6669-46c9-986b-ccaf0620c5e9 probe01 missing planned\n",
      "1f095590-6669-46c9-986b-ccaf0620c5e9 probe01 missing micro-manip\n",
      "1b9e349e-93f2-41cc-a4b5-b212d7ddc8df probe00 missing ephys\n",
      "a9138924-4395-4981-83d1-530f6ff7c8fc probe01 missing planned\n",
      "a9138924-4395-4981-83d1-530f6ff7c8fc probe00 missing planned\n",
      "280ee768-f7b8-4c6c-9ea0-48ca75d6b6f3 probe01 missing planned\n",
      "c557324b-b95d-414c-888f-6ee1329a2329 probe01 missing planned\n",
      "91a3353a-2da1-420d-8c7c-fad2fedfdd18 probe00 missing planned\n",
      "91a3353a-2da1-420d-8c7c-fad2fedfdd18 probe01 missing planned\n",
      "85dc2ebd-8aaf-46b0-9284-a197aee8b16f probe00 missing planned\n",
      "12dc8b34-b18e-4cdd-90a9-da134a9be79c probe00 missing planned\n",
      "dc21e80d-97d7-44ca-a729-a8e3f9b14305 probe00 missing planned\n",
      "9b528ad0-4599-4a55-9148-96cc1d93fb24 probe00 missing planned\n"
     ]
    }
   ],
   "source": [
    "count = 0\n",
    "\n",
    "for eid in data.keys():\n",
    "    for probe_name in data[eid].keys():\n",
    "        # print((eid,probe_name))\n",
    "        \n",
    "        \n",
    "        tdata = data[eid][probe_name]\n",
    "        missing = False\n",
    "        \n",
    "        if 'planned' in tdata.keys():\n",
    "            (ecoords_p, tcoords_p, angles_p, depth_p) = traj2coords(tdata['planned'], NeedlesAtlas)\n",
    "        else:\n",
    "            print(f\"{eid} {probe_name} missing planned\")\n",
    "            missing = True\n",
    "\n",
    "        if 'micro-manip' in tdata.keys():\n",
    "            (ecoords_m, tcoords_m, angles_m, depth_m) = traj2coords(tdata['micro-manip'], NeedlesAtlas)\n",
    "            # also compute the micro-manip -> CCF using the MRI-linear transform\n",
    "            # we'll do this by hand\n",
    "            (ecoords_m_mri, tcoords_m_mri, angles_m_mri, depth_m_mri) = traj2coords(tdata['micro-manip'], MRITorontoAtlas)\n",
    "        else:\n",
    "            print(f\"{eid} {probe_name} missing micro-manip\")\n",
    "            missing = True\n",
    "\n",
    "        if 'ephys' in tdata.keys():\n",
    "            (ecoords_e, tcoords_e, angles_e, depth_e) = traj2coords(tdata['ephys'], CCFAtlas)\n",
    "        else:\n",
    "            print(f\"{eid} {probe_name} missing ephys\")\n",
    "            missing = True\n",
    "\n",
    "        if missing:\n",
    "            continue\n",
    "\n",
    "        traj_data.loc[count] = [tdata['planned']['probe_insertion'],tdata['planned']['session']['lab'],\n",
    "                            ecoords_p[0],ecoords_p[1],ecoords_p[2],\n",
    "                            tcoords_p[0],tcoords_p[1],tcoords_p[2],\n",
    "                            angles_p[0],angles_p[1],depth_p,\n",
    "                            ecoords_m[0],ecoords_m[1],ecoords_m[2],\n",
    "                            tcoords_m[0],tcoords_m[1],tcoords_m[2],\n",
    "                            angles_m[0],angles_m[1],depth_m,\n",
    "                            ecoords_e[0],ecoords_e[1],ecoords_e[2],\n",
    "                            tcoords_e[0],tcoords_e[1],tcoords_e[2],\n",
    "                            angles_e[0],angles_e[1],depth_e]\n",
    "        mri_data.loc[count] = [tdata['planned']['probe_insertion'],\n",
    "                               ecoords_m_mri[0], ecoords_m_mri[1], ecoords_m_mri[2],\n",
    "                               tcoords_m_mri[0], tcoords_m_mri[1], tcoords_m_mri[2]]\n",
    "        \n",
    "        count+=1\n",
    "\n",
    "traj_data.to_csv('bwm_all_traj.csv',float_format='%.03f')\n",
    "mri_data.to_csv('bwm_mri_coords.csv',float_format='%.03f')"
   ]
  },
  {
   "cell_type": "code",
   "execution_count": 93,
   "id": "645ccdd4-fc2a-425e-aa7d-4483550accf4",
   "metadata": {},
   "outputs": [
    {
     "data": {
      "text/html": [
       "<div>\n",
       "<style scoped>\n",
       "    .dataframe tbody tr th:only-of-type {\n",
       "        vertical-align: middle;\n",
       "    }\n",
       "\n",
       "    .dataframe tbody tr th {\n",
       "        vertical-align: top;\n",
       "    }\n",
       "\n",
       "    .dataframe thead th {\n",
       "        text-align: right;\n",
       "    }\n",
       "</style>\n",
       "<table border=\"1\" class=\"dataframe\">\n",
       "  <thead>\n",
       "    <tr style=\"text-align: right;\">\n",
       "      <th></th>\n",
       "      <th>pid</th>\n",
       "      <th>lab</th>\n",
       "      <th>ml_e_p</th>\n",
       "      <th>ap_e_p</th>\n",
       "      <th>dv_e_p</th>\n",
       "      <th>ml_t_p</th>\n",
       "      <th>ap_t_p</th>\n",
       "      <th>dv_t_p</th>\n",
       "      <th>phi_p</th>\n",
       "      <th>theta_p</th>\n",
       "      <th>...</th>\n",
       "      <th>depth_m</th>\n",
       "      <th>ml_e_e</th>\n",
       "      <th>ap_e_e</th>\n",
       "      <th>dv_e_e</th>\n",
       "      <th>ml_t_e</th>\n",
       "      <th>ap_t_e</th>\n",
       "      <th>dv_t_e</th>\n",
       "      <th>phi_e</th>\n",
       "      <th>theta_e</th>\n",
       "      <th>depth_e</th>\n",
       "    </tr>\n",
       "  </thead>\n",
       "  <tbody>\n",
       "    <tr>\n",
       "      <th>0</th>\n",
       "      <td>8dfb86c8-d45c-46c4-90ec-33078014d434</td>\n",
       "      <td>angelakilab</td>\n",
       "      <td>4935.0</td>\n",
       "      <td>6089.972401</td>\n",
       "      <td>332.000000</td>\n",
       "      <td>3827.124626</td>\n",
       "      <td>6089.972401</td>\n",
       "      <td>6931.867084</td>\n",
       "      <td>0.0</td>\n",
       "      <td>10.0</td>\n",
       "      <td>...</td>\n",
       "      <td>6692.206914</td>\n",
       "      <td>4675.0</td>\n",
       "      <td>5925.0</td>\n",
       "      <td>525.0</td>\n",
       "      <td>4401.221324</td>\n",
       "      <td>7186.911353</td>\n",
       "      <td>6718.068479</td>\n",
       "      <td>77.759068</td>\n",
       "      <td>11.777565</td>\n",
       "      <td>6326.252620</td>\n",
       "    </tr>\n",
       "    <tr>\n",
       "      <th>1</th>\n",
       "      <td>362823e7-5514-41d3-a31d-4b73f91ad3d0</td>\n",
       "      <td>zadorlab</td>\n",
       "      <td>6739.0</td>\n",
       "      <td>7929.898804</td>\n",
       "      <td>235.361345</td>\n",
       "      <td>4927.464918</td>\n",
       "      <td>7929.898804</td>\n",
       "      <td>6459.378433</td>\n",
       "      <td>0.0</td>\n",
       "      <td>17.0</td>\n",
       "      <td>...</td>\n",
       "      <td>5717.511274</td>\n",
       "      <td>6525.0</td>\n",
       "      <td>8775.0</td>\n",
       "      <td>250.0</td>\n",
       "      <td>5029.273706</td>\n",
       "      <td>9412.200367</td>\n",
       "      <td>6784.342317</td>\n",
       "      <td>23.074684</td>\n",
       "      <td>13.971963</td>\n",
       "      <td>6733.561537</td>\n",
       "    </tr>\n",
       "    <tr>\n",
       "      <th>2</th>\n",
       "      <td>57656bee-e32e-4848-b924-0f6f18cfdfb1</td>\n",
       "      <td>zadorlab</td>\n",
       "      <td>3496.0</td>\n",
       "      <td>7239.926403</td>\n",
       "      <td>509.521008</td>\n",
       "      <td>4531.276180</td>\n",
       "      <td>7239.926403</td>\n",
       "      <td>4568.032884</td>\n",
       "      <td>180.0</td>\n",
       "      <td>15.0</td>\n",
       "      <td>...</td>\n",
       "      <td>4084.181109</td>\n",
       "      <td>3625.0</td>\n",
       "      <td>7650.0</td>\n",
       "      <td>375.0</td>\n",
       "      <td>4639.760284</td>\n",
       "      <td>8379.857455</td>\n",
       "      <td>3977.570488</td>\n",
       "      <td>144.274754</td>\n",
       "      <td>19.135073</td>\n",
       "      <td>3813.259034</td>\n",
       "    </tr>\n",
       "    <tr>\n",
       "      <th>3</th>\n",
       "      <td>e42e948c-3154-45cb-bf52-408b7cda0f2f</td>\n",
       "      <td>churchlandlab_ucla</td>\n",
       "      <td>3496.0</td>\n",
       "      <td>7239.926403</td>\n",
       "      <td>509.521008</td>\n",
       "      <td>4531.276180</td>\n",
       "      <td>7239.926403</td>\n",
       "      <td>4568.032884</td>\n",
       "      <td>180.0</td>\n",
       "      <td>15.0</td>\n",
       "      <td>...</td>\n",
       "      <td>5370.252086</td>\n",
       "      <td>3525.0</td>\n",
       "      <td>8050.0</td>\n",
       "      <td>425.0</td>\n",
       "      <td>4164.419198</td>\n",
       "      <td>8637.391136</td>\n",
       "      <td>4669.309954</td>\n",
       "      <td>137.428414</td>\n",
       "      <td>11.561574</td>\n",
       "      <td>4332.211011</td>\n",
       "    </tr>\n",
       "    <tr>\n",
       "      <th>4</th>\n",
       "      <td>99086aba-f671-42b5-bdc0-e665c61f5452</td>\n",
       "      <td>zadorlab</td>\n",
       "      <td>4445.0</td>\n",
       "      <td>7699.908004</td>\n",
       "      <td>260.571429</td>\n",
       "      <td>5480.276180</td>\n",
       "      <td>7699.908004</td>\n",
       "      <td>4319.083304</td>\n",
       "      <td>180.0</td>\n",
       "      <td>15.0</td>\n",
       "      <td>...</td>\n",
       "      <td>4186.798725</td>\n",
       "      <td>4300.0</td>\n",
       "      <td>7775.0</td>\n",
       "      <td>225.0</td>\n",
       "      <td>5240.989654</td>\n",
       "      <td>8674.384829</td>\n",
       "      <td>3874.884733</td>\n",
       "      <td>136.295049</td>\n",
       "      <td>19.627973</td>\n",
       "      <td>3875.050086</td>\n",
       "    </tr>\n",
       "    <tr>\n",
       "      <th>...</th>\n",
       "      <td>...</td>\n",
       "      <td>...</td>\n",
       "      <td>...</td>\n",
       "      <td>...</td>\n",
       "      <td>...</td>\n",
       "      <td>...</td>\n",
       "      <td>...</td>\n",
       "      <td>...</td>\n",
       "      <td>...</td>\n",
       "      <td>...</td>\n",
       "      <td>...</td>\n",
       "      <td>...</td>\n",
       "      <td>...</td>\n",
       "      <td>...</td>\n",
       "      <td>...</td>\n",
       "      <td>...</td>\n",
       "      <td>...</td>\n",
       "      <td>...</td>\n",
       "      <td>...</td>\n",
       "      <td>...</td>\n",
       "      <td>...</td>\n",
       "    </tr>\n",
       "    <tr>\n",
       "      <th>529</th>\n",
       "      <td>e8f9fba4-d151-4b00-bee7-447f0f3e752c</td>\n",
       "      <td>mainenlab</td>\n",
       "      <td>4426.0</td>\n",
       "      <td>6549.954002</td>\n",
       "      <td>410.781513</td>\n",
       "      <td>3242.587669</td>\n",
       "      <td>6549.954002</td>\n",
       "      <td>7460.639534</td>\n",
       "      <td>0.0</td>\n",
       "      <td>10.0</td>\n",
       "      <td>...</td>\n",
       "      <td>7148.493749</td>\n",
       "      <td>4300.0</td>\n",
       "      <td>6825.0</td>\n",
       "      <td>325.0</td>\n",
       "      <td>2986.222025</td>\n",
       "      <td>7105.292009</td>\n",
       "      <td>7193.793610</td>\n",
       "      <td>12.043383</td>\n",
       "      <td>11.065790</td>\n",
       "      <td>6998.921477</td>\n",
       "    </tr>\n",
       "    <tr>\n",
       "      <th>530</th>\n",
       "      <td>9b3ad89a-177f-4242-9a96-2fd98721e47f</td>\n",
       "      <td>hoferlab</td>\n",
       "      <td>2859.0</td>\n",
       "      <td>7469.917203</td>\n",
       "      <td>710.151261</td>\n",
       "      <td>1784.812373</td>\n",
       "      <td>7469.917203</td>\n",
       "      <td>7109.332731</td>\n",
       "      <td>0.0</td>\n",
       "      <td>10.0</td>\n",
       "      <td>...</td>\n",
       "      <td>5611.803603</td>\n",
       "      <td>2725.0</td>\n",
       "      <td>7875.0</td>\n",
       "      <td>700.0</td>\n",
       "      <td>1542.361217</td>\n",
       "      <td>8272.179112</td>\n",
       "      <td>5887.647942</td>\n",
       "      <td>18.564185</td>\n",
       "      <td>13.522009</td>\n",
       "      <td>5335.548417</td>\n",
       "    </tr>\n",
       "    <tr>\n",
       "      <th>531</th>\n",
       "      <td>8aba5f8c-4438-4588-9bb0-b20d2fd3eca5</td>\n",
       "      <td>wittenlab</td>\n",
       "      <td>4939.0</td>\n",
       "      <td>3100.091996</td>\n",
       "      <td>1485.361345</td>\n",
       "      <td>5974.276180</td>\n",
       "      <td>3100.091996</td>\n",
       "      <td>5543.873220</td>\n",
       "      <td>180.0</td>\n",
       "      <td>15.0</td>\n",
       "      <td>...</td>\n",
       "      <td>4188.474115</td>\n",
       "      <td>4750.0</td>\n",
       "      <td>2400.0</td>\n",
       "      <td>1825.0</td>\n",
       "      <td>5477.796003</td>\n",
       "      <td>3524.730610</td>\n",
       "      <td>4630.006473</td>\n",
       "      <td>122.906289</td>\n",
       "      <td>25.529062</td>\n",
       "      <td>3108.499201</td>\n",
       "    </tr>\n",
       "    <tr>\n",
       "      <th>532</th>\n",
       "      <td>c16b8e98-100f-40ce-b417-b1524c7e1270</td>\n",
       "      <td>danlab</td>\n",
       "      <td>2162.0</td>\n",
       "      <td>8619.871205</td>\n",
       "      <td>1160.781513</td>\n",
       "      <td>3197.276180</td>\n",
       "      <td>8619.871205</td>\n",
       "      <td>5219.293388</td>\n",
       "      <td>180.0</td>\n",
       "      <td>15.0</td>\n",
       "      <td>...</td>\n",
       "      <td>4188.474115</td>\n",
       "      <td>2050.0</td>\n",
       "      <td>8950.0</td>\n",
       "      <td>1250.0</td>\n",
       "      <td>3163.674464</td>\n",
       "      <td>8982.307524</td>\n",
       "      <td>5388.921030</td>\n",
       "      <td>178.338324</td>\n",
       "      <td>15.066140</td>\n",
       "      <td>4286.254995</td>\n",
       "    </tr>\n",
       "    <tr>\n",
       "      <th>533</th>\n",
       "      <td>bbf6a51e-2999-4982-803f-8769db095dd2</td>\n",
       "      <td>mainenlab</td>\n",
       "      <td>4598.0</td>\n",
       "      <td>9999.816007</td>\n",
       "      <td>1509.521008</td>\n",
       "      <td>5633.276180</td>\n",
       "      <td>9999.816007</td>\n",
       "      <td>5568.032884</td>\n",
       "      <td>180.0</td>\n",
       "      <td>15.0</td>\n",
       "      <td>...</td>\n",
       "      <td>4188.474115</td>\n",
       "      <td>4525.0</td>\n",
       "      <td>10450.0</td>\n",
       "      <td>1150.0</td>\n",
       "      <td>5749.516971</td>\n",
       "      <td>10541.422974</td>\n",
       "      <td>4795.821021</td>\n",
       "      <td>175.730194</td>\n",
       "      <td>18.613702</td>\n",
       "      <td>3847.052233</td>\n",
       "    </tr>\n",
       "  </tbody>\n",
       "</table>\n",
       "<p>534 rows × 29 columns</p>\n",
       "</div>"
      ],
      "text/plain": [
       "                                      pid                 lab  ml_e_p  \\\n",
       "0    8dfb86c8-d45c-46c4-90ec-33078014d434         angelakilab  4935.0   \n",
       "1    362823e7-5514-41d3-a31d-4b73f91ad3d0            zadorlab  6739.0   \n",
       "2    57656bee-e32e-4848-b924-0f6f18cfdfb1            zadorlab  3496.0   \n",
       "3    e42e948c-3154-45cb-bf52-408b7cda0f2f  churchlandlab_ucla  3496.0   \n",
       "4    99086aba-f671-42b5-bdc0-e665c61f5452            zadorlab  4445.0   \n",
       "..                                    ...                 ...     ...   \n",
       "529  e8f9fba4-d151-4b00-bee7-447f0f3e752c           mainenlab  4426.0   \n",
       "530  9b3ad89a-177f-4242-9a96-2fd98721e47f            hoferlab  2859.0   \n",
       "531  8aba5f8c-4438-4588-9bb0-b20d2fd3eca5           wittenlab  4939.0   \n",
       "532  c16b8e98-100f-40ce-b417-b1524c7e1270              danlab  2162.0   \n",
       "533  bbf6a51e-2999-4982-803f-8769db095dd2           mainenlab  4598.0   \n",
       "\n",
       "          ap_e_p       dv_e_p       ml_t_p       ap_t_p       dv_t_p  phi_p  \\\n",
       "0    6089.972401   332.000000  3827.124626  6089.972401  6931.867084    0.0   \n",
       "1    7929.898804   235.361345  4927.464918  7929.898804  6459.378433    0.0   \n",
       "2    7239.926403   509.521008  4531.276180  7239.926403  4568.032884  180.0   \n",
       "3    7239.926403   509.521008  4531.276180  7239.926403  4568.032884  180.0   \n",
       "4    7699.908004   260.571429  5480.276180  7699.908004  4319.083304  180.0   \n",
       "..           ...          ...          ...          ...          ...    ...   \n",
       "529  6549.954002   410.781513  3242.587669  6549.954002  7460.639534    0.0   \n",
       "530  7469.917203   710.151261  1784.812373  7469.917203  7109.332731    0.0   \n",
       "531  3100.091996  1485.361345  5974.276180  3100.091996  5543.873220  180.0   \n",
       "532  8619.871205  1160.781513  3197.276180  8619.871205  5219.293388  180.0   \n",
       "533  9999.816007  1509.521008  5633.276180  9999.816007  5568.032884  180.0   \n",
       "\n",
       "     theta_p  ...      depth_m  ml_e_e   ap_e_e  dv_e_e       ml_t_e  \\\n",
       "0       10.0  ...  6692.206914  4675.0   5925.0   525.0  4401.221324   \n",
       "1       17.0  ...  5717.511274  6525.0   8775.0   250.0  5029.273706   \n",
       "2       15.0  ...  4084.181109  3625.0   7650.0   375.0  4639.760284   \n",
       "3       15.0  ...  5370.252086  3525.0   8050.0   425.0  4164.419198   \n",
       "4       15.0  ...  4186.798725  4300.0   7775.0   225.0  5240.989654   \n",
       "..       ...  ...          ...     ...      ...     ...          ...   \n",
       "529     10.0  ...  7148.493749  4300.0   6825.0   325.0  2986.222025   \n",
       "530     10.0  ...  5611.803603  2725.0   7875.0   700.0  1542.361217   \n",
       "531     15.0  ...  4188.474115  4750.0   2400.0  1825.0  5477.796003   \n",
       "532     15.0  ...  4188.474115  2050.0   8950.0  1250.0  3163.674464   \n",
       "533     15.0  ...  4188.474115  4525.0  10450.0  1150.0  5749.516971   \n",
       "\n",
       "           ap_t_e       dv_t_e       phi_e    theta_e      depth_e  \n",
       "0     7186.911353  6718.068479   77.759068  11.777565  6326.252620  \n",
       "1     9412.200367  6784.342317   23.074684  13.971963  6733.561537  \n",
       "2     8379.857455  3977.570488  144.274754  19.135073  3813.259034  \n",
       "3     8637.391136  4669.309954  137.428414  11.561574  4332.211011  \n",
       "4     8674.384829  3874.884733  136.295049  19.627973  3875.050086  \n",
       "..            ...          ...         ...        ...          ...  \n",
       "529   7105.292009  7193.793610   12.043383  11.065790  6998.921477  \n",
       "530   8272.179112  5887.647942   18.564185  13.522009  5335.548417  \n",
       "531   3524.730610  4630.006473  122.906289  25.529062  3108.499201  \n",
       "532   8982.307524  5388.921030  178.338324  15.066140  4286.254995  \n",
       "533  10541.422974  4795.821021  175.730194  18.613702  3847.052233  \n",
       "\n",
       "[534 rows x 29 columns]"
      ]
     },
     "execution_count": 93,
     "metadata": {},
     "output_type": "execute_result"
    }
   ],
   "source": [
    "traj_data"
   ]
  },
  {
   "cell_type": "code",
   "execution_count": 94,
   "id": "05e9ca68-7c74-40b0-9c82-a3b8428cb019",
   "metadata": {},
   "outputs": [
    {
     "data": {
      "text/html": [
       "<div>\n",
       "<style scoped>\n",
       "    .dataframe tbody tr th:only-of-type {\n",
       "        vertical-align: middle;\n",
       "    }\n",
       "\n",
       "    .dataframe tbody tr th {\n",
       "        vertical-align: top;\n",
       "    }\n",
       "\n",
       "    .dataframe thead th {\n",
       "        text-align: right;\n",
       "    }\n",
       "</style>\n",
       "<table border=\"1\" class=\"dataframe\">\n",
       "  <thead>\n",
       "    <tr style=\"text-align: right;\">\n",
       "      <th></th>\n",
       "      <th>pid</th>\n",
       "      <th>ml_e_m</th>\n",
       "      <th>ap_e_m</th>\n",
       "      <th>dv_e_m</th>\n",
       "      <th>ml_t_m</th>\n",
       "      <th>ap_t_m</th>\n",
       "      <th>dv_t_m</th>\n",
       "    </tr>\n",
       "  </thead>\n",
       "  <tbody>\n",
       "    <tr>\n",
       "      <th>0</th>\n",
       "      <td>8dfb86c8-d45c-46c4-90ec-33078014d434</td>\n",
       "      <td>4894.462185</td>\n",
       "      <td>6127.449079</td>\n",
       "      <td>332.000000</td>\n",
       "      <td>3730.727549</td>\n",
       "      <td>6127.449079</td>\n",
       "      <td>7431.518039</td>\n",
       "    </tr>\n",
       "    <tr>\n",
       "      <th>1</th>\n",
       "      <td>362823e7-5514-41d3-a31d-4b73f91ad3d0</td>\n",
       "      <td>6790.995798</td>\n",
       "      <td>8070.223084</td>\n",
       "      <td>1961.604520</td>\n",
       "      <td>5112.622514</td>\n",
       "      <td>8070.223084</td>\n",
       "      <td>7866.921459</td>\n",
       "    </tr>\n",
       "    <tr>\n",
       "      <th>2</th>\n",
       "      <td>57656bee-e32e-4848-b924-0f6f18cfdfb1</td>\n",
       "      <td>3236.584034</td>\n",
       "      <td>7101.163919</td>\n",
       "      <td>1184.203390</td>\n",
       "      <td>4296.980886</td>\n",
       "      <td>7101.163919</td>\n",
       "      <td>5441.262252</td>\n",
       "    </tr>\n",
       "    <tr>\n",
       "      <th>3</th>\n",
       "      <td>e42e948c-3154-45cb-bf52-408b7cda0f2f</td>\n",
       "      <td>3351.394958</td>\n",
       "      <td>7366.440349</td>\n",
       "      <td>493.581921</td>\n",
       "      <td>4745.701003</td>\n",
       "      <td>7366.440349</td>\n",
       "      <td>6091.149370</td>\n",
       "    </tr>\n",
       "    <tr>\n",
       "      <th>4</th>\n",
       "      <td>99086aba-f671-42b5-bdc0-e665c61f5452</td>\n",
       "      <td>4376.500000</td>\n",
       "      <td>7734.432590</td>\n",
       "      <td>992.903955</td>\n",
       "      <td>5463.539989</td>\n",
       "      <td>7734.432590</td>\n",
       "      <td>5356.924095</td>\n",
       "    </tr>\n",
       "    <tr>\n",
       "      <th>...</th>\n",
       "      <td>...</td>\n",
       "      <td>...</td>\n",
       "      <td>...</td>\n",
       "      <td>...</td>\n",
       "      <td>...</td>\n",
       "      <td>...</td>\n",
       "      <td>...</td>\n",
       "    </tr>\n",
       "    <tr>\n",
       "      <th>529</th>\n",
       "      <td>e8f9fba4-d151-4b00-bee7-447f0f3e752c</td>\n",
       "      <td>4355.596639</td>\n",
       "      <td>6615.324927</td>\n",
       "      <td>619.005650</td>\n",
       "      <td>3112.516459</td>\n",
       "      <td>6615.324927</td>\n",
       "      <td>8202.581736</td>\n",
       "    </tr>\n",
       "    <tr>\n",
       "      <th>530</th>\n",
       "      <td>9b3ad89a-177f-4242-9a96-2fd98721e47f</td>\n",
       "      <td>2719.042017</td>\n",
       "      <td>7582.347236</td>\n",
       "      <td>738.779661</td>\n",
       "      <td>1743.183035</td>\n",
       "      <td>7582.347236</td>\n",
       "      <td>6692.137264</td>\n",
       "    </tr>\n",
       "    <tr>\n",
       "      <th>531</th>\n",
       "      <td>8aba5f8c-4438-4588-9bb0-b20d2fd3eca5</td>\n",
       "      <td>4720.302521</td>\n",
       "      <td>3297.769156</td>\n",
       "      <td>1182.960452</td>\n",
       "      <td>5807.777500</td>\n",
       "      <td>3297.769156</td>\n",
       "      <td>5548.726898</td>\n",
       "    </tr>\n",
       "    <tr>\n",
       "      <th>532</th>\n",
       "      <td>c16b8e98-100f-40ce-b417-b1524c7e1270</td>\n",
       "      <td>1981.647059</td>\n",
       "      <td>8794.762367</td>\n",
       "      <td>1223.525424</td>\n",
       "      <td>3069.122038</td>\n",
       "      <td>8794.762367</td>\n",
       "      <td>5589.291870</td>\n",
       "    </tr>\n",
       "    <tr>\n",
       "      <th>533</th>\n",
       "      <td>bbf6a51e-2999-4982-803f-8769db095dd2</td>\n",
       "      <td>4431.226891</td>\n",
       "      <td>10385.451018</td>\n",
       "      <td>1167.028249</td>\n",
       "      <td>5518.701870</td>\n",
       "      <td>10385.451018</td>\n",
       "      <td>5532.794695</td>\n",
       "    </tr>\n",
       "  </tbody>\n",
       "</table>\n",
       "<p>534 rows × 7 columns</p>\n",
       "</div>"
      ],
      "text/plain": [
       "                                      pid       ml_e_m        ap_e_m  \\\n",
       "0    8dfb86c8-d45c-46c4-90ec-33078014d434  4894.462185   6127.449079   \n",
       "1    362823e7-5514-41d3-a31d-4b73f91ad3d0  6790.995798   8070.223084   \n",
       "2    57656bee-e32e-4848-b924-0f6f18cfdfb1  3236.584034   7101.163919   \n",
       "3    e42e948c-3154-45cb-bf52-408b7cda0f2f  3351.394958   7366.440349   \n",
       "4    99086aba-f671-42b5-bdc0-e665c61f5452  4376.500000   7734.432590   \n",
       "..                                    ...          ...           ...   \n",
       "529  e8f9fba4-d151-4b00-bee7-447f0f3e752c  4355.596639   6615.324927   \n",
       "530  9b3ad89a-177f-4242-9a96-2fd98721e47f  2719.042017   7582.347236   \n",
       "531  8aba5f8c-4438-4588-9bb0-b20d2fd3eca5  4720.302521   3297.769156   \n",
       "532  c16b8e98-100f-40ce-b417-b1524c7e1270  1981.647059   8794.762367   \n",
       "533  bbf6a51e-2999-4982-803f-8769db095dd2  4431.226891  10385.451018   \n",
       "\n",
       "          dv_e_m       ml_t_m        ap_t_m       dv_t_m  \n",
       "0     332.000000  3730.727549   6127.449079  7431.518039  \n",
       "1    1961.604520  5112.622514   8070.223084  7866.921459  \n",
       "2    1184.203390  4296.980886   7101.163919  5441.262252  \n",
       "3     493.581921  4745.701003   7366.440349  6091.149370  \n",
       "4     992.903955  5463.539989   7734.432590  5356.924095  \n",
       "..           ...          ...           ...          ...  \n",
       "529   619.005650  3112.516459   6615.324927  8202.581736  \n",
       "530   738.779661  1743.183035   7582.347236  6692.137264  \n",
       "531  1182.960452  5807.777500   3297.769156  5548.726898  \n",
       "532  1223.525424  3069.122038   8794.762367  5589.291870  \n",
       "533  1167.028249  5518.701870  10385.451018  5532.794695  \n",
       "\n",
       "[534 rows x 7 columns]"
      ]
     },
     "execution_count": 94,
     "metadata": {},
     "output_type": "execute_result"
    }
   ],
   "source": [
    "mri_data"
   ]
  },
  {
   "cell_type": "markdown",
   "id": "834ec075-b37f-40c6-a5fe-e434c636f35d",
   "metadata": {},
   "source": [
    "# Discrepancy 1: Planned identical to micro-manipulator\n",
    "Analyze the *surface* coordinate and check whether it is identical from planned to micro-manipulator, suggesting the researcher did not enter the real micro-manipulator coordinates"
   ]
  },
  {
   "cell_type": "code",
   "execution_count": 95,
   "id": "d9c0e0c2-5566-4aa3-a16e-6a763c1e7a09",
   "metadata": {},
   "outputs": [],
   "source": [
    "def disc1(row):\n",
    "    planned = (row['ml_e_p'], row['ap_e_p'], row['dv_e_p'])\n",
    "    micro = (row['ml_e_m'], row['ap_e_m'], row['dv_e_m'])\n",
    "    return planned[0]==micro[0] and planned[1]==micro[1] and planned[2]==micro[2]"
   ]
  },
  {
   "cell_type": "code",
   "execution_count": 96,
   "id": "a801e4cf-c8a5-4b94-a008-59baf2a56221",
   "metadata": {},
   "outputs": [],
   "source": [
    "p_identical_mm = []\n",
    "for i, row in traj_data.iterrows():\n",
    "    p_identical_mm.append(disc1(row))\n",
    "\n",
    "traj_data['p_identical_mm'] = p_identical_mm\n",
    "\n",
    "traj_data.to_csv('bwm_all_traj_discrep.csv',float_format='%.03f')"
   ]
  },
  {
   "cell_type": "code",
   "execution_count": 97,
   "id": "4f749468-cc4c-43ed-bd79-ad2f433c8376",
   "metadata": {},
   "outputs": [
    {
     "name": "stdout",
     "output_type": "stream",
     "text": [
      "82\n"
     ]
    }
   ],
   "source": [
    "print(np.sum(traj_data['p_identical_mm']))"
   ]
  },
  {
   "cell_type": "markdown",
   "id": "87aa512c-1960-4139-a9b8-50bd3b961490",
   "metadata": {
    "tags": []
   },
   "source": [
    "# Discrepancy 2: >1mm distance from micro-manipulator to ephys\n",
    "Analyze the surface coordinate to check whether the micro-manipulator coordinate is >1mm away from the ephys coordinate\n",
    "we'll use only ap/ml and ignore dv for this"
   ]
  },
  {
   "cell_type": "code",
   "execution_count": 98,
   "id": "6ba1711a-bfeb-445a-b6fa-e15da55a7254",
   "metadata": {},
   "outputs": [],
   "source": [
    "def disc2(row):\n",
    "    micro = (row['ml_e_m'], row['ap_e_m'], row['dv_e_m'])\n",
    "    ephys = (row['ml_e_e'], row['ap_e_e'], row['dv_e_e'])\n",
    "    return np.hypot(micro[0]-ephys[0],micro[1]-ephys[1]) > 1000"
   ]
  },
  {
   "cell_type": "code",
   "execution_count": 99,
   "id": "d567ea96-91fb-40fc-ab3c-b93065e1cbd0",
   "metadata": {},
   "outputs": [],
   "source": [
    "mm_ephys_dist = []\n",
    "for i, row in traj_data.iterrows():\n",
    "    mm_ephys_dist.append(disc2(row))\n",
    "\n",
    "traj_data['mm_ephys_dist'] = mm_ephys_dist\n",
    "\n",
    "traj_data.to_csv('bwm_all_traj_discrep.csv',float_format='%.03f')"
   ]
  },
  {
   "cell_type": "code",
   "execution_count": 100,
   "id": "35d929c8-16dc-43f3-9ce9-6a1f5e7bf96c",
   "metadata": {},
   "outputs": [
    {
     "name": "stdout",
     "output_type": "stream",
     "text": [
      "45\n"
     ]
    }
   ],
   "source": [
    "print(np.sum(traj_data['mm_ephys_dist']))"
   ]
  },
  {
   "cell_type": "markdown",
   "id": "0f1bc24e-3c33-42dd-8073-afbd61374acf",
   "metadata": {
    "tags": []
   },
   "source": [
    "# Discrepancy 3: Flipped DV axis\n",
    "Check whether the DV coordinate for micro-manipulator and ephys are flipped relative to zero (suggesting the researcher doesn't know which way is which)"
   ]
  },
  {
   "cell_type": "code",
   "execution_count": 101,
   "id": "f60796e3-63cc-4254-9291-85128a8225cf",
   "metadata": {},
   "outputs": [],
   "source": [
    "def disc3(row):\n",
    "    micro = (row['ml_e_m'], row['ap_e_m'], row['dv_e_m'])\n",
    "    ephys = (row['ml_e_e'], row['ap_e_e'], row['dv_e_e'])\n",
    "    return (micro[2] > 0 and ephys[2] < 0) or (micro[2] < 0 and ephys[2] > 0)"
   ]
  },
  {
   "cell_type": "code",
   "execution_count": 102,
   "id": "dd9f3a4b-72bf-4e23-a994-c511190a1c6b",
   "metadata": {},
   "outputs": [],
   "source": [
    "flipz = []\n",
    "for i, row in traj_data.iterrows():\n",
    "    flipz.append(disc3(row))\n",
    "\n",
    "traj_data['flipz'] = flipz\n",
    "\n",
    "traj_data.to_csv('bwm_all_traj_discrep.csv',float_format='%.03f')"
   ]
  },
  {
   "cell_type": "code",
   "execution_count": 103,
   "id": "69b89f45-7c73-431f-8afe-f6ea51ac83db",
   "metadata": {},
   "outputs": [
    {
     "name": "stdout",
     "output_type": "stream",
     "text": [
      "60\n"
     ]
    }
   ],
   "source": [
    "print(np.sum(traj_data['flipz']))"
   ]
  },
  {
   "cell_type": "markdown",
   "id": "2b22fc02-8626-452c-b41f-cf168e5052ec",
   "metadata": {},
   "source": [
    "# Discrepancy 4: 0 in micro-manipulator DV position"
   ]
  },
  {
   "cell_type": "code",
   "execution_count": 104,
   "id": "5b17e8c3-4bd9-442f-b1b6-ad704a94cc09",
   "metadata": {},
   "outputs": [],
   "source": [
    "def disc4(row):\n",
    "    micro = (row['ml_e_m'], row['ap_e_m'], row['dv_e_m'])\n",
    "    return micro[2]==0"
   ]
  },
  {
   "cell_type": "code",
   "execution_count": 105,
   "id": "0f1caf8f-d3e7-4cb0-85fc-05b0b418c9a6",
   "metadata": {},
   "outputs": [],
   "source": [
    "mm_zero_dv = []\n",
    "for i, row in traj_data.iterrows():\n",
    "    mm_zero_dv.append(disc4(row))\n",
    "\n",
    "traj_data['mm_zero_dv'] = mm_zero_dv\n",
    "\n",
    "traj_data.to_csv('bwm_all_traj_discrep.csv',float_format='%.03f')"
   ]
  },
  {
   "cell_type": "code",
   "execution_count": 106,
   "id": "d376f428-6c2c-4d8b-a49c-da659ee386b9",
   "metadata": {},
   "outputs": [
    {
     "name": "stdout",
     "output_type": "stream",
     "text": [
      "0\n"
     ]
    }
   ],
   "source": [
    "print(np.sum(traj_data['mm_zero_dv']))"
   ]
  },
  {
   "cell_type": "markdown",
   "id": "9d9dc73a-62de-4a71-84dc-398f28c278bb",
   "metadata": {},
   "source": [
    "# Discrepancy 5: crazy angles"
   ]
  },
  {
   "cell_type": "code",
   "execution_count": 107,
   "id": "5b9d28bd-e970-4925-8ee2-80b24930063b",
   "metadata": {},
   "outputs": [],
   "source": [
    "def disc5(row):\n",
    "    phi_m = row['phi_m']\n",
    "    phi_e = row['phi_e']\n",
    "    return np.abs(phi_m-phi_e) > 45"
   ]
  },
  {
   "cell_type": "code",
   "execution_count": 108,
   "id": "c19e7c8d-30d3-4fdd-894b-0db4d4a2f795",
   "metadata": {},
   "outputs": [],
   "source": [
    "big_phi_em = []\n",
    "for i, row in traj_data.iterrows():\n",
    "    big_phi_em.append(disc5(row))\n",
    "\n",
    "traj_data['big_phi_em'] = big_phi_em\n",
    "\n",
    "traj_data.to_csv('bwm_all_traj_discrep.csv',float_format='%.03f')"
   ]
  },
  {
   "cell_type": "code",
   "execution_count": 109,
   "id": "277f6c14-b7a2-45a9-99e1-9b3cb34b744b",
   "metadata": {},
   "outputs": [
    {
     "name": "stdout",
     "output_type": "stream",
     "text": [
      "145\n"
     ]
    }
   ],
   "source": [
    "print(np.sum(traj_data['big_phi_em']))"
   ]
  },
  {
   "cell_type": "markdown",
   "id": "9b7dd644-5762-468f-b947-7b9f9bbfe380",
   "metadata": {
    "tags": []
   },
   "source": [
    "# Comparison of Needles vs. MRI coordinates\n",
    "Load the trajectory data and MRI data and compare the entry and tip coordinates in CCF space against the ephys estimated coordinates. The goal here is to understand whether the Needles transform or the MRI transform did a better job of giving us the real positions of the CCF data. \n",
    "\n",
    "We can also ask here what the \"real\" transform was?"
   ]
  },
  {
   "cell_type": "code",
   "execution_count": 46,
   "id": "f48442fa-251c-4b6c-8a9b-fb6128a2f5c3",
   "metadata": {},
   "outputs": [],
   "source": [
    "traj_data = pd.read_csv('bwm_all_traj.csv')\n",
    "mri_data = pd.read_csv('bwm_mri_coords.csv')"
   ]
  },
  {
   "cell_type": "markdown",
   "id": "296a9c1c-69e1-4e9c-bb3d-a7e04356c579",
   "metadata": {},
   "source": [
    "## Compute the NeedlesAtlas to MRIToronto comparison"
   ]
  },
  {
   "cell_type": "code",
   "execution_count": 75,
   "id": "1accf514-604e-4def-a5de-06b973f4f7d6",
   "metadata": {},
   "outputs": [],
   "source": [
    "def compareNA_MRI(tr, mr):\n",
    "    needles_coord = (tr['ml_e_m'],tr['ap_e_m'],tr['dv_e_m'])\n",
    "    mri_coord = (mr['ml_e_m'],mr['ap_e_m'],mr['dv_e_m'])\n",
    "    ephys_coord = (tr['ml_e_e'],tr['ap_e_e'],tr['dv_e_e'])\n",
    "    na_dist = vec_dist_apml(needles_coord,ephys_coord)\n",
    "    mri_dist = vec_dist_apml(mri_coord, ephys_coord)\n",
    "    return (na_dist, mri_dist)\n",
    "\n",
    "def compareNA_MRI_tip(tr, mr):\n",
    "    needles_coord = (tr['ml_t_m'],tr['ap_t_m'],tr['dv_t_m'])\n",
    "    mri_coord = (mr['ml_t_m'],mr['ap_t_m'],mr['dv_t_m'])\n",
    "    ephys_coord = (tr['ml_t_e'],tr['ap_t_e'],tr['dv_t_e'])\n",
    "    na_dist = vec_dist_apml(needles_coord,ephys_coord)\n",
    "    mri_dist = vec_dist_apml(mri_coord, ephys_coord)\n",
    "    return (na_dist, mri_dist)"
   ]
  },
  {
   "cell_type": "code",
   "execution_count": 80,
   "id": "7b6892cd-edff-4697-8816-43274a5f3933",
   "metadata": {},
   "outputs": [],
   "source": [
    "# Pull the data from the dataframes, lets start with the basic analysis:\n",
    "# compute the distance from the NeedlesAtlas CCF entry/tip points and the ephys point\n",
    "# and compare these with the values from the MRITorontoAtlas\n",
    "na_dists = []\n",
    "mri_dists = []\n",
    "\n",
    "for i, trow in traj_data.iterrows():\n",
    "    nrow = mri_data.iloc[i]\n",
    "    \n",
    "    (na_dist, mri_dist) = compareNA_MRI_tip(trow, nrow)\n",
    "    na_dists.append(na_dist)\n",
    "    mri_dists.append(mri_dist)"
   ]
  },
  {
   "cell_type": "code",
   "execution_count": 81,
   "id": "ccd05ea2-1f0a-4b34-bc20-1d0395f89421",
   "metadata": {},
   "outputs": [
    {
     "data": {
      "image/png": "[encoded data removed]",
      "text/plain": [
       "<Figure size 432x288 with 1 Axes>"
      ]
     },
     "metadata": {
      "needs_background": "light"
     },
     "output_type": "display_data"
    }
   ],
   "source": [
    "fig = plt.figure()\n",
    "ax = fig.add_subplot()\n",
    "plt.plot(na_dists,mri_dists,'o')\n",
    "plt.plot([0,1200],[0,1200],'-k')\n",
    "plt.xlim([0, 1200])\n",
    "plt.ylim([0, 1200])\n",
    "plt.xlabel('NeedlesAtlas to Ephys APML distance (um)')\n",
    "plt.ylabel('MRITorontoAtlas to Ephys APML distance (um)')\n",
    "ax.set_aspect('equal', adjustable='box')"
   ]
  },
  {
   "cell_type": "code",
   "execution_count": 82,
   "id": "70005b54-5e15-4eaa-aa9b-68d1ccfbb51c",
   "metadata": {},
   "outputs": [
    {
     "data": {
      "text/plain": [
       "752.4760926379181"
      ]
     },
     "execution_count": 82,
     "metadata": {},
     "output_type": "execute_result"
    }
   ],
   "source": [
    "np.median(na_dists)"
   ]
  },
  {
   "cell_type": "code",
   "execution_count": 83,
   "id": "e66c9446-db22-4ae9-bdc4-db315f7b409a",
   "metadata": {},
   "outputs": [
    {
     "data": {
      "text/plain": [
       "696.0461646552819"
      ]
     },
     "execution_count": 83,
     "metadata": {},
     "output_type": "execute_result"
    }
   ],
   "source": [
    "np.median(mri_dists)"
   ]
  },
  {
   "cell_type": "code",
   "execution_count": 84,
   "id": "a942d4c7-7af8-42a8-aafa-9f2de1eead13",
   "metadata": {},
   "outputs": [
    {
     "data": {
      "text/plain": [
       "Text(0.5, 0, 'NeedlesAtlas to ephys distance minus MRITorontoAtlas to ephys distance (um)')"
      ]
     },
     "execution_count": 84,
     "metadata": {},
     "output_type": "execute_result"
    },
    {
     "data": {
      "image/png": "[encoded data removed]",
      "text/plain": [
       "<Figure size 432x288 with 1 Axes>"
      ]
     },
     "metadata": {
      "needs_background": "light"
     },
     "output_type": "display_data"
    }
   ],
   "source": [
    "plt.hist(np.subtract(na_dists,mri_dists),bins=100)\n",
    "plt.title('APML Distances between micro-manipulator and ephys')\n",
    "plt.xlabel('NeedlesAtlas to ephys distance minus MRITorontoAtlas to ephys distance (um)')"
   ]
  },
  {
   "cell_type": "markdown",
   "id": "2603ef87-965a-49d2-a595-6e92a0b028fe",
   "metadata": {},
   "source": [
    "# Display data using Urchin"
   ]
  },
  {
   "cell_type": "code",
   "execution_count": 11,
   "id": "0d08d29a-274e-427d-9e84-d670eadb14f5",
   "metadata": {},
   "outputs": [],
   "source": [
    "import random\n",
    "r = lambda: random.randint(0,255)\n",
    "randHexColor = lambda : '#%02X%02X%02X' % (r(),r(),r())"
   ]
  },
  {
   "cell_type": "code",
   "execution_count": 22,
   "id": "052e4c48-642a-4701-a9ad-224de733ae83",
   "metadata": {},
   "outputs": [],
   "source": [
    "colors = {}\n",
    "labs = np.unique(traj_data['lab'].values)\n",
    "\n",
    "for lab in labs:\n",
    "    colors[lab] = randHexColor()"
   ]
  },
  {
   "cell_type": "code",
   "execution_count": 9,
   "id": "92fecf3d-a507-48eb-8115-dfd7eee7d3bb",
   "metadata": {},
   "outputs": [
    {
     "name": "stdout",
     "output_type": "stream",
     "text": [
      "(URN) connected to server\n",
      "Login sent with ID: Dan\n"
     ]
    }
   ],
   "source": [
    "urn.setup()"
   ]
  },
  {
   "cell_type": "code",
   "execution_count": null,
   "id": "61ad5c16-7aef-40f3-8b9f-b141b31dfbad",
   "metadata": {},
   "outputs": [],
   "source": [
    "# VIEW 1: Planned insertions\n",
    "urn.clear()\n",
    "count = 0\n",
    "\n",
    "for i, row in traj_data.iterrows():\n",
    "    probename = 'p'+str(i)\n",
    "    urn.create_probes([probename])\n",
    "    urn.set_probe_positions({probename:[row.ml, row.ap, row.dv]})\n",
    "    urn.set_probe_colors({probename:'#808080'})\n",
    "    urn.set_probe_angles({probename:[row.phi, row.theta, 0]})\n",
    "    urn.set_probe_size({probename:[0.07,3.84,0.02]})\n",
    "\n",
    "# # for some reason 'root' doesn't work?\n",
    "urn.set_area_visibility({8:True})\n",
    "urn.set_area_material({8:'transparent-unlit'})\n",
    "urn.set_area_color({8:'#000000'})\n",
    "urn.set_area_alpha({8:0.025})"
   ]
  },
  {
   "cell_type": "code",
   "execution_count": 56,
   "id": "57f1b296-a86c-48e4-8c40-39b59b4c3a95",
   "metadata": {},
   "outputs": [],
   "source": [
    "urn.clear()"
   ]
  },
  {
   "cell_type": "code",
   "execution_count": 224,
   "id": "1a87962d-6414-4b5e-8d5e-262dd6f3cdc6",
   "metadata": {},
   "outputs": [
    {
     "data": {
      "text/plain": [
       "array(['angelakilab', 'churchlandlab', 'churchlandlab_ucla', 'cortexlab',\n",
       "       'danlab', 'hoferlab', 'mainenlab', 'mrsicflogellab', 'wittenlab',\n",
       "       'zadorlab'], dtype=object)"
      ]
     },
     "execution_count": 224,
     "metadata": {},
     "output_type": "execute_result"
    }
   ],
   "source": [
    "np.unique(traj_data['lab'].values)"
   ]
  },
  {
   "cell_type": "code",
   "execution_count": null,
   "id": "3d924cb1-ef4e-4008-9d89-57ba4e179933",
   "metadata": {},
   "outputs": [],
   "source": []
  }
 ],
 "metadata": {
  "kernelspec": {
   "display_name": "Python 3 (ipykernel)",
   "language": "python",
   "name": "python3"
  },
  "language_info": {
   "codemirror_mode": {
    "name": "ipython",
    "version": 3
   },
   "file_extension": ".py",
   "mimetype": "text/x-python",
   "name": "python",
   "nbconvert_exporter": "python",
   "pygments_lexer": "ipython3",
   "version": "3.9.10"
  }
 },
 "nbformat": 4,
 "nbformat_minor": 5
}
