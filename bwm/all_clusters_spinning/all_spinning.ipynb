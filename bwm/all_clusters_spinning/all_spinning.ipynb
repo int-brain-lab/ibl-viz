{
 "cells": [
  {
   "cell_type": "markdown",
   "metadata": {},
   "source": [
    "# Video of brain spinning with all clusters, organized by insertion"
   ]
  },
  {
   "cell_type": "code",
   "execution_count": 1,
   "metadata": {},
   "outputs": [
    {
     "name": "stderr",
     "output_type": "stream",
     "text": [
      "c:\\Users\\Dan\\anaconda3\\envs\\iblenv\\lib\\site-packages\\ibllib\\atlas\\__init__.py:202: DeprecationWarning: ibllib.atlas is deprecated. Please install iblatlas using \"pip install iblatlas\" and use this module instead\n",
      "  warnings.warn('ibllib.atlas is deprecated. Please install iblatlas using \"pip install iblatlas\" and use '\n"
     ]
    },
    {
     "name": "stdout",
     "output_type": "stream",
     "text": [
      "Loading bwm_query results from fixtures/2023_12_bwm_release.csv\n",
      "Loading bwm_query results from fixtures/2023_12_bwm_release.csv\n"
     ]
    },
    {
     "name": "stderr",
     "output_type": "stream",
     "text": [
      "c:\\Users\\Dan\\anaconda3\\envs\\iblenv\\lib\\site-packages\\ibllib\\atlas\\atlas.py:13: DeprecationWarning: ibllib.atlas.regions.BrainRegions is deprecated. Use iblatlas.regions.BrainRegions instead\n",
      "  warnings.warn(warning_text, DeprecationWarning)\n"
     ]
    }
   ],
   "source": [
    "from brainwidemap import bwm_query, bwm_units\n",
    "from one.api import ONE\n",
    "\n",
    "one = ONE(base_url='https://openalyx.internationalbrainlab.org')\n",
    "# Dataframe with info on all sessions and probes released for the BWM\n",
    "bwm_df = bwm_query(one)\n",
    "# Dataframe with information on all neurons used in the analyses in the BWM paper\n",
    "unit_df = bwm_units(one)"
   ]
  },
  {
   "cell_type": "code",
   "execution_count": null,
   "metadata": {},
   "outputs": [],
   "source": [
    "# Use this code instead to load ephys atlas data\n",
    "# https://github.com/int-brain-lab/paper-ephys-atlas/blob/main/sources/examples/00_load_clusters_tables.py"
   ]
  },
  {
   "cell_type": "code",
   "execution_count": 2,
   "metadata": {},
   "outputs": [],
   "source": [
    "from iblatlas import atlas\n",
    "aa = atlas.AllenAtlas()\n",
    "from iblatlas.regions import BrainRegions\n",
    "br = BrainRegions()\n",
    "import numpy as np\n",
    "import pandas as pd\n",
    "import time\n",
    "import seaborn as sns"
   ]
  },
  {
   "cell_type": "code",
   "execution_count": 3,
   "metadata": {},
   "outputs": [
    {
     "data": {
      "text/html": [
       "<div>\n",
       "<style scoped>\n",
       "    .dataframe tbody tr th:only-of-type {\n",
       "        vertical-align: middle;\n",
       "    }\n",
       "\n",
       "    .dataframe tbody tr th {\n",
       "        vertical-align: top;\n",
       "    }\n",
       "\n",
       "    .dataframe thead th {\n",
       "        text-align: right;\n",
       "    }\n",
       "</style>\n",
       "<table border=\"1\" class=\"dataframe\">\n",
       "  <thead>\n",
       "    <tr style=\"text-align: right;\">\n",
       "      <th></th>\n",
       "      <th>pid</th>\n",
       "      <th>eid</th>\n",
       "      <th>probe_name</th>\n",
       "      <th>session_number</th>\n",
       "      <th>date</th>\n",
       "      <th>subject</th>\n",
       "      <th>lab</th>\n",
       "    </tr>\n",
       "  </thead>\n",
       "  <tbody>\n",
       "    <tr>\n",
       "      <th>0</th>\n",
       "      <td>56f2a378-78d2-4132-b3c8-8c1ba82be598</td>\n",
       "      <td>6713a4a7-faed-4df2-acab-ee4e63326f8d</td>\n",
       "      <td>probe00</td>\n",
       "      <td>1</td>\n",
       "      <td>2020-02-18</td>\n",
       "      <td>NYU-11</td>\n",
       "      <td>angelakilab</td>\n",
       "    </tr>\n",
       "    <tr>\n",
       "      <th>1</th>\n",
       "      <td>47be9ae4-290f-46ab-b047-952bc3a1a509</td>\n",
       "      <td>56956777-dca5-468c-87cb-78150432cc57</td>\n",
       "      <td>probe01</td>\n",
       "      <td>1</td>\n",
       "      <td>2020-02-21</td>\n",
       "      <td>NYU-11</td>\n",
       "      <td>angelakilab</td>\n",
       "    </tr>\n",
       "    <tr>\n",
       "      <th>2</th>\n",
       "      <td>6be21156-33b0-4f70-9a0f-65b3e3cd6d4a</td>\n",
       "      <td>56956777-dca5-468c-87cb-78150432cc57</td>\n",
       "      <td>probe00</td>\n",
       "      <td>1</td>\n",
       "      <td>2020-02-21</td>\n",
       "      <td>NYU-11</td>\n",
       "      <td>angelakilab</td>\n",
       "    </tr>\n",
       "    <tr>\n",
       "      <th>3</th>\n",
       "      <td>8dfb86c8-d45c-46c4-90ec-33078014d434</td>\n",
       "      <td>4364a246-f8d7-4ce7-ba23-a098104b96e4</td>\n",
       "      <td>probe01</td>\n",
       "      <td>1</td>\n",
       "      <td>2020-01-20</td>\n",
       "      <td>NYU-12</td>\n",
       "      <td>angelakilab</td>\n",
       "    </tr>\n",
       "    <tr>\n",
       "      <th>4</th>\n",
       "      <td>c893c0a3-5597-49cf-baa1-60efdfdef542</td>\n",
       "      <td>b182b754-3c3e-4942-8144-6ee790926b58</td>\n",
       "      <td>probe01</td>\n",
       "      <td>1</td>\n",
       "      <td>2020-01-21</td>\n",
       "      <td>NYU-12</td>\n",
       "      <td>angelakilab</td>\n",
       "    </tr>\n",
       "  </tbody>\n",
       "</table>\n",
       "</div>"
      ],
      "text/plain": [
       "                                    pid                                   eid  \\\n",
       "0  56f2a378-78d2-4132-b3c8-8c1ba82be598  6713a4a7-faed-4df2-acab-ee4e63326f8d   \n",
       "1  47be9ae4-290f-46ab-b047-952bc3a1a509  56956777-dca5-468c-87cb-78150432cc57   \n",
       "2  6be21156-33b0-4f70-9a0f-65b3e3cd6d4a  56956777-dca5-468c-87cb-78150432cc57   \n",
       "3  8dfb86c8-d45c-46c4-90ec-33078014d434  4364a246-f8d7-4ce7-ba23-a098104b96e4   \n",
       "4  c893c0a3-5597-49cf-baa1-60efdfdef542  b182b754-3c3e-4942-8144-6ee790926b58   \n",
       "\n",
       "  probe_name  session_number        date subject          lab  \n",
       "0    probe00               1  2020-02-18  NYU-11  angelakilab  \n",
       "1    probe01               1  2020-02-21  NYU-11  angelakilab  \n",
       "2    probe00               1  2020-02-21  NYU-11  angelakilab  \n",
       "3    probe01               1  2020-01-20  NYU-12  angelakilab  \n",
       "4    probe01               1  2020-01-21  NYU-12  angelakilab  "
      ]
     },
     "execution_count": 3,
     "metadata": {},
     "output_type": "execute_result"
    }
   ],
   "source": [
    "bwm_df.head()"
   ]
  },
  {
   "cell_type": "code",
   "execution_count": 4,
   "metadata": {},
   "outputs": [
    {
     "data": {
      "text/html": [
       "<div>\n",
       "<style scoped>\n",
       "    .dataframe tbody tr th:only-of-type {\n",
       "        vertical-align: middle;\n",
       "    }\n",
       "\n",
       "    .dataframe tbody tr th {\n",
       "        vertical-align: top;\n",
       "    }\n",
       "\n",
       "    .dataframe thead th {\n",
       "        text-align: right;\n",
       "    }\n",
       "</style>\n",
       "<table border=\"1\" class=\"dataframe\">\n",
       "  <thead>\n",
       "    <tr style=\"text-align: right;\">\n",
       "      <th></th>\n",
       "      <th>Beryl</th>\n",
       "      <th>eid</th>\n",
       "      <th>channels</th>\n",
       "      <th>depths</th>\n",
       "      <th>uuids</th>\n",
       "      <th>cluster_id</th>\n",
       "      <th>amp_max</th>\n",
       "      <th>amp_min</th>\n",
       "      <th>amp_median</th>\n",
       "      <th>amp_std_dB</th>\n",
       "      <th>...</th>\n",
       "      <th>label</th>\n",
       "      <th>x</th>\n",
       "      <th>y</th>\n",
       "      <th>z</th>\n",
       "      <th>acronym</th>\n",
       "      <th>atlas_id</th>\n",
       "      <th>axial_um</th>\n",
       "      <th>lateral_um</th>\n",
       "      <th>pid</th>\n",
       "      <th>ks2_label</th>\n",
       "    </tr>\n",
       "  </thead>\n",
       "  <tbody>\n",
       "    <tr>\n",
       "      <th>0</th>\n",
       "      <td>ACAd</td>\n",
       "      <td>0f77ca5d-73c2-45bd-aa4c-4c5ed275dbde</td>\n",
       "      <td>306</td>\n",
       "      <td>3080.0</td>\n",
       "      <td>9ce7d244-4cfa-429c-a1bd-6ea7d771f87b</td>\n",
       "      <td>310</td>\n",
       "      <td>0.000137</td>\n",
       "      <td>0.000044</td>\n",
       "      <td>0.000080</td>\n",
       "      <td>1.120884</td>\n",
       "      <td>...</td>\n",
       "      <td>1.0</td>\n",
       "      <td>-0.000988</td>\n",
       "      <td>0.001474</td>\n",
       "      <td>-0.002444</td>\n",
       "      <td>ACAd6a</td>\n",
       "      <td>919</td>\n",
       "      <td>3080.0</td>\n",
       "      <td>59.0</td>\n",
       "      <td>1ab86a7f-578b-4a46-9c9c-df3be97abcca</td>\n",
       "      <td>None</td>\n",
       "    </tr>\n",
       "    <tr>\n",
       "      <th>1</th>\n",
       "      <td>ACAd</td>\n",
       "      <td>0f77ca5d-73c2-45bd-aa4c-4c5ed275dbde</td>\n",
       "      <td>307</td>\n",
       "      <td>3080.0</td>\n",
       "      <td>c51feba4-3b4e-4999-aef6-f1f50f903af6</td>\n",
       "      <td>311</td>\n",
       "      <td>0.000137</td>\n",
       "      <td>0.000039</td>\n",
       "      <td>0.000073</td>\n",
       "      <td>1.505985</td>\n",
       "      <td>...</td>\n",
       "      <td>1.0</td>\n",
       "      <td>-0.000988</td>\n",
       "      <td>0.001474</td>\n",
       "      <td>-0.002444</td>\n",
       "      <td>ACAd6a</td>\n",
       "      <td>919</td>\n",
       "      <td>3080.0</td>\n",
       "      <td>27.0</td>\n",
       "      <td>1ab86a7f-578b-4a46-9c9c-df3be97abcca</td>\n",
       "      <td>None</td>\n",
       "    </tr>\n",
       "    <tr>\n",
       "      <th>2</th>\n",
       "      <td>ACAd</td>\n",
       "      <td>0f77ca5d-73c2-45bd-aa4c-4c5ed275dbde</td>\n",
       "      <td>308</td>\n",
       "      <td>3100.0</td>\n",
       "      <td>1c585cde-5dbd-48cb-b446-1df386b87f2c</td>\n",
       "      <td>313</td>\n",
       "      <td>0.000200</td>\n",
       "      <td>0.000071</td>\n",
       "      <td>0.000126</td>\n",
       "      <td>1.146507</td>\n",
       "      <td>...</td>\n",
       "      <td>1.0</td>\n",
       "      <td>-0.000988</td>\n",
       "      <td>0.001474</td>\n",
       "      <td>-0.002424</td>\n",
       "      <td>ACAd6a</td>\n",
       "      <td>919</td>\n",
       "      <td>3100.0</td>\n",
       "      <td>43.0</td>\n",
       "      <td>1ab86a7f-578b-4a46-9c9c-df3be97abcca</td>\n",
       "      <td>None</td>\n",
       "    </tr>\n",
       "    <tr>\n",
       "      <th>3</th>\n",
       "      <td>ACAd</td>\n",
       "      <td>0f77ca5d-73c2-45bd-aa4c-4c5ed275dbde</td>\n",
       "      <td>311</td>\n",
       "      <td>3120.0</td>\n",
       "      <td>4f637be0-a5ff-4867-84a4-66bbbc7264e0</td>\n",
       "      <td>320</td>\n",
       "      <td>0.000111</td>\n",
       "      <td>0.000052</td>\n",
       "      <td>0.000070</td>\n",
       "      <td>1.296398</td>\n",
       "      <td>...</td>\n",
       "      <td>1.0</td>\n",
       "      <td>-0.000988</td>\n",
       "      <td>0.001476</td>\n",
       "      <td>-0.002404</td>\n",
       "      <td>ACAd6a</td>\n",
       "      <td>919</td>\n",
       "      <td>3120.0</td>\n",
       "      <td>27.0</td>\n",
       "      <td>1ab86a7f-578b-4a46-9c9c-df3be97abcca</td>\n",
       "      <td>None</td>\n",
       "    </tr>\n",
       "    <tr>\n",
       "      <th>4</th>\n",
       "      <td>ACAd</td>\n",
       "      <td>0f77ca5d-73c2-45bd-aa4c-4c5ed275dbde</td>\n",
       "      <td>313</td>\n",
       "      <td>3140.0</td>\n",
       "      <td>abef29c9-ca03-4cb1-902c-089bec2060f7</td>\n",
       "      <td>323</td>\n",
       "      <td>0.000139</td>\n",
       "      <td>0.000055</td>\n",
       "      <td>0.000082</td>\n",
       "      <td>1.176087</td>\n",
       "      <td>...</td>\n",
       "      <td>1.0</td>\n",
       "      <td>-0.000988</td>\n",
       "      <td>0.001480</td>\n",
       "      <td>-0.002384</td>\n",
       "      <td>ACAd6a</td>\n",
       "      <td>919</td>\n",
       "      <td>3140.0</td>\n",
       "      <td>11.0</td>\n",
       "      <td>1ab86a7f-578b-4a46-9c9c-df3be97abcca</td>\n",
       "      <td>None</td>\n",
       "    </tr>\n",
       "  </tbody>\n",
       "</table>\n",
       "<p>5 rows × 30 columns</p>\n",
       "</div>"
      ],
      "text/plain": [
       "  Beryl                                   eid  channels  depths  \\\n",
       "0  ACAd  0f77ca5d-73c2-45bd-aa4c-4c5ed275dbde       306  3080.0   \n",
       "1  ACAd  0f77ca5d-73c2-45bd-aa4c-4c5ed275dbde       307  3080.0   \n",
       "2  ACAd  0f77ca5d-73c2-45bd-aa4c-4c5ed275dbde       308  3100.0   \n",
       "3  ACAd  0f77ca5d-73c2-45bd-aa4c-4c5ed275dbde       311  3120.0   \n",
       "4  ACAd  0f77ca5d-73c2-45bd-aa4c-4c5ed275dbde       313  3140.0   \n",
       "\n",
       "                                  uuids  cluster_id   amp_max   amp_min  \\\n",
       "0  9ce7d244-4cfa-429c-a1bd-6ea7d771f87b         310  0.000137  0.000044   \n",
       "1  c51feba4-3b4e-4999-aef6-f1f50f903af6         311  0.000137  0.000039   \n",
       "2  1c585cde-5dbd-48cb-b446-1df386b87f2c         313  0.000200  0.000071   \n",
       "3  4f637be0-a5ff-4867-84a4-66bbbc7264e0         320  0.000111  0.000052   \n",
       "4  abef29c9-ca03-4cb1-902c-089bec2060f7         323  0.000139  0.000055   \n",
       "\n",
       "   amp_median  amp_std_dB  ...  label         x         y         z  acronym  \\\n",
       "0    0.000080    1.120884  ...    1.0 -0.000988  0.001474 -0.002444   ACAd6a   \n",
       "1    0.000073    1.505985  ...    1.0 -0.000988  0.001474 -0.002444   ACAd6a   \n",
       "2    0.000126    1.146507  ...    1.0 -0.000988  0.001474 -0.002424   ACAd6a   \n",
       "3    0.000070    1.296398  ...    1.0 -0.000988  0.001476 -0.002404   ACAd6a   \n",
       "4    0.000082    1.176087  ...    1.0 -0.000988  0.001480 -0.002384   ACAd6a   \n",
       "\n",
       "   atlas_id  axial_um  lateral_um                                   pid  \\\n",
       "0       919    3080.0        59.0  1ab86a7f-578b-4a46-9c9c-df3be97abcca   \n",
       "1       919    3080.0        27.0  1ab86a7f-578b-4a46-9c9c-df3be97abcca   \n",
       "2       919    3100.0        43.0  1ab86a7f-578b-4a46-9c9c-df3be97abcca   \n",
       "3       919    3120.0        27.0  1ab86a7f-578b-4a46-9c9c-df3be97abcca   \n",
       "4       919    3140.0        11.0  1ab86a7f-578b-4a46-9c9c-df3be97abcca   \n",
       "\n",
       "   ks2_label  \n",
       "0       None  \n",
       "1       None  \n",
       "2       None  \n",
       "3       None  \n",
       "4       None  \n",
       "\n",
       "[5 rows x 30 columns]"
      ]
     },
     "execution_count": 4,
     "metadata": {},
     "output_type": "execute_result"
    }
   ],
   "source": [
    "unit_df.head()"
   ]
  },
  {
   "cell_type": "code",
   "execution_count": 5,
   "metadata": {},
   "outputs": [],
   "source": [
    "def hex_to_rgb(hex_color):\n",
    "    # Remove '#' if present\n",
    "    if hex_color.startswith('#'):\n",
    "        hex_color = hex_color[1:]\n",
    "\n",
    "    # Convert hex to RGB\n",
    "    red = int(hex_color[0:2], 16) / 255.0\n",
    "    green = int(hex_color[2:4], 16) / 255.0\n",
    "    blue = int(hex_color[4:6], 16) / 255.0\n",
    "\n",
    "    return red, green, blue"
   ]
  },
  {
   "cell_type": "code",
   "execution_count": 6,
   "metadata": {},
   "outputs": [],
   "source": [
    "ulabs = np.unique(bwm_df.lab)"
   ]
  },
  {
   "cell_type": "code",
   "execution_count": 7,
   "metadata": {},
   "outputs": [],
   "source": [
    "lab_data = []\n",
    "\n",
    "id2color = {}\n",
    "\n",
    "for lab in ulabs:\n",
    "    pids = bwm_df.pid[bwm_df.lab == lab]\n",
    "    \n",
    "    # print((lab, len(pids)))\n",
    "\n",
    "\n",
    "    coords = []\n",
    "\n",
    "    for pid in pids:\n",
    "        units = unit_df[unit_df.pid==pid]\n",
    "        # print(len(units))\n",
    "        for i, unit in units.iterrows():\n",
    "            coord = aa.xyz2ccf([unit.x, unit.y, unit.z])\n",
    "            if unit.atlas_id in id2color.keys():\n",
    "                color = id2color[unit.atlas_id]\n",
    "            else:\n",
    "                color = hex_to_rgb(aa.regions.hexcolor[aa.regions.id2index(unit.atlas_id)[1][0][0]])\n",
    "                id2color[unit.atlas_id] = color\n",
    "            coords.append([coord, color])\n",
    "\n",
    "    lab_df = pd.DataFrame(columns=['mlapdv', 'color'], data=coords)\n",
    "\n",
    "    lab_data.append(lab_df)"
   ]
  },
  {
   "cell_type": "code",
   "execution_count": 8,
   "metadata": {},
   "outputs": [],
   "source": [
    "institution_map = {'cortexlab': 'UCL', 'mainenlab': 'CCU', 'zadorlab': 'CSHL (Z)',\n",
    "                       'churchlandlab': 'CSHL (C)', 'angelakilab': 'NYU',\n",
    "                       'wittenlab': 'Princeton', 'hoferlab': 'SWC', 'mrsicflogellab': 'SWC',\n",
    "                       'danlab': 'Berkeley', 'steinmetzlab': 'UW', 'churchlandlab_ucla': 'UCLA', 'hausserlab':'UCL'}\n",
    "colors = np.concatenate([sns.color_palette(\"Dark2\"), sns.color_palette('Set2')[0:2]])\n",
    "institutions = ['UCL', 'CCU', 'CSHL (C)', 'NYU', 'Princeton', 'SWC', 'Berkeley', 'CSHL (Z)',\n",
    "                'UW', 'UCLA']\n",
    "institution_colors = {}\n",
    "for i, inst in enumerate(institutions):\n",
    "    institution_colors[inst] = colors[i]"
   ]
  },
  {
   "cell_type": "code",
   "execution_count": 9,
   "metadata": {},
   "outputs": [
    {
     "data": {
      "text/plain": [
       "array(['angelakilab', 'churchlandlab', 'churchlandlab_ucla', 'cortexlab',\n",
       "       'danlab', 'hausserlab', 'hoferlab', 'mainenlab', 'mrsicflogellab',\n",
       "       'steinmetzlab', 'wittenlab', 'zadorlab'], dtype=object)"
      ]
     },
     "execution_count": 9,
     "metadata": {},
     "output_type": "execute_result"
    }
   ],
   "source": [
    "ulabs"
   ]
  },
  {
   "cell_type": "code",
   "execution_count": 10,
   "metadata": {},
   "outputs": [],
   "source": [
    "names_clean = [institution_map[lab] for lab in ulabs]"
   ]
  },
  {
   "cell_type": "code",
   "execution_count": 11,
   "metadata": {},
   "outputs": [],
   "source": [
    "lab_colors = [institution_colors[institution_map[lab]] for lab in ulabs]"
   ]
  },
  {
   "cell_type": "code",
   "execution_count": 12,
   "metadata": {},
   "outputs": [],
   "source": [
    "lab_colors = np.concatenate([sns.color_palette(\"Dark2\"), sns.color_palette('Set2')])"
   ]
  },
  {
   "cell_type": "code",
   "execution_count": 27,
   "metadata": {},
   "outputs": [],
   "source": [
    "def tick(start):\n",
    "    t = time.time() - start\n",
    "    urchin.camera.set_brain_rotation(t * 5)\n",
    "    time.sleep(1/30)"
   ]
  },
  {
   "cell_type": "code",
   "execution_count": 13,
   "metadata": {},
   "outputs": [
    {
     "name": "stdout",
     "output_type": "stream",
     "text": [
      "(URN) connected to server\n",
      "Login sent with ID: efe446f4, copy this ID into the renderer to connect.\n"
     ]
    }
   ],
   "source": [
    "import oursin as urchin\n",
    "urchin.setup()"
   ]
  },
  {
   "cell_type": "code",
   "execution_count": 34,
   "metadata": {},
   "outputs": [
    {
     "name": "stdout",
     "output_type": "stream",
     "text": [
      "(Warning) Atlas was already loaded, the renderer can have issues if you try to load an atlas twice.\n"
     ]
    }
   ],
   "source": [
    "# Load roo\n",
    "urchin.ccf25.load()"
   ]
  },
  {
   "cell_type": "code",
   "execution_count": 35,
   "metadata": {},
   "outputs": [],
   "source": [
    "urchin.ccf25.root.set_visibility(True, side=urchin.utils.Side.FULL)\n",
    "urchin.ccf25.root.set_color([0,0,0])\n",
    "urchin.ccf25.root.set_material('transparent-lit')\n",
    "urchin.ccf25.root.set_alpha(0.15)"
   ]
  },
  {
   "cell_type": "code",
   "execution_count": 36,
   "metadata": {},
   "outputs": [],
   "source": [
    "urchin.camera.main.set_rotation([-45, 0, 0])\n",
    "urchin.camera.set_brain_rotation(0)\n",
    "urchin.camera.main.set_mode('perspective')"
   ]
  },
  {
   "cell_type": "code",
   "execution_count": 37,
   "metadata": {},
   "outputs": [],
   "source": [
    "text = urchin.text.Text()\n",
    "text.set_position([0.25, -0.8])\n",
    "text.set_color('#000000')\n",
    "text.set_font_size(72)"
   ]
  },
  {
   "cell_type": "code",
   "execution_count": 38,
   "metadata": {},
   "outputs": [
    {
     "name": "stdout",
     "output_type": "stream",
     "text": [
      "(URN) disconnected from server\n",
      "(URN) connected to server\n",
      "Login sent with ID: efe446f4, copy this ID into the renderer to connect.\n"
     ]
    },
    {
     "name": "stderr",
     "output_type": "stream",
     "text": [
      "packet queue is empty, aborting\n"
     ]
    },
    {
     "name": "stdout",
     "output_type": "stream",
     "text": [
      "(URN) disconnected from server\n",
      "(URN) connected to server\n",
      "Login sent with ID: efe446f4, copy this ID into the renderer to connect.\n"
     ]
    },
    {
     "name": "stderr",
     "output_type": "stream",
     "text": [
      "packet queue is empty, aborting\n"
     ]
    },
    {
     "name": "stdout",
     "output_type": "stream",
     "text": [
      "(URN) disconnected from server\n",
      "(URN) connected to server\n",
      "Login sent with ID: efe446f4, copy this ID into the renderer to connect.\n"
     ]
    },
    {
     "name": "stderr",
     "output_type": "stream",
     "text": [
      "packet queue is empty, aborting\n"
     ]
    },
    {
     "name": "stdout",
     "output_type": "stream",
     "text": [
      "(URN) disconnected from server\n",
      "(URN) connected to server\n",
      "Login sent with ID: efe446f4, copy this ID into the renderer to connect.\n"
     ]
    },
    {
     "name": "stderr",
     "output_type": "stream",
     "text": [
      "packet queue is empty, aborting\n"
     ]
    },
    {
     "name": "stdout",
     "output_type": "stream",
     "text": [
      "(URN) disconnected from server\n",
      "(URN) connected to server\n",
      "Login sent with ID: efe446f4, copy this ID into the renderer to connect.\n"
     ]
    },
    {
     "name": "stderr",
     "output_type": "stream",
     "text": [
      "packet queue is empty, aborting\n"
     ]
    },
    {
     "name": "stdout",
     "output_type": "stream",
     "text": [
      "(URN) disconnected from server\n",
      "(URN) connected to server\n",
      "Login sent with ID: efe446f4, copy this ID into the renderer to connect.\n",
      "(URN) disconnected from server\n",
      "(URN) connected to server\n",
      "Login sent with ID: efe446f4, copy this ID into the renderer to connect.\n"
     ]
    },
    {
     "name": "stderr",
     "output_type": "stream",
     "text": [
      "packet queue is empty, aborting\n"
     ]
    },
    {
     "name": "stdout",
     "output_type": "stream",
     "text": [
      "(URN) disconnected from server\n",
      "(URN) connected to server\n",
      "Login sent with ID: efe446f4, copy this ID into the renderer to connect.\n"
     ]
    },
    {
     "name": "stderr",
     "output_type": "stream",
     "text": [
      "packet queue is empty, aborting\n"
     ]
    },
    {
     "name": "stdout",
     "output_type": "stream",
     "text": [
      "(URN) disconnected from server\n",
      "(URN) connected to server\n",
      "Login sent with ID: efe446f4, copy this ID into the renderer to connect.\n"
     ]
    },
    {
     "name": "stderr",
     "output_type": "stream",
     "text": [
      "packet queue is empty, aborting\n"
     ]
    },
    {
     "name": "stdout",
     "output_type": "stream",
     "text": [
      "(URN) disconnected from server\n",
      "(URN) connected to server\n",
      "Login sent with ID: efe446f4, copy this ID into the renderer to connect.\n"
     ]
    },
    {
     "name": "stderr",
     "output_type": "stream",
     "text": [
      "packet queue is empty, aborting\n"
     ]
    },
    {
     "name": "stdout",
     "output_type": "stream",
     "text": [
      "(URN) disconnected from server\n",
      "(URN) connected to server\n",
      "Login sent with ID: efe446f4, copy this ID into the renderer to connect.\n"
     ]
    }
   ],
   "source": [
    "all_meshes = []\n",
    "all_colors = []\n",
    "\n",
    "start = time.time()\n",
    "\n",
    "for i, lab_df in enumerate(lab_data):\n",
    "\n",
    "    positions = []\n",
    "    colors = []\n",
    "    scales = []\n",
    "\n",
    "    ccolor = list(lab_colors[i])\n",
    "    \n",
    "    text.set_text(names_clean[i])\n",
    "    text.set_color(urchin.utils.rgb_to_hex((int(ccolor[0]*255), int(ccolor[1]*255), int(ccolor[2]*255))))\n",
    "\n",
    "    lab_meshes = []\n",
    "\n",
    "    for j, row in lab_df.iterrows():\n",
    "        positions.append([row.mlapdv[1], row.mlapdv[0], row.mlapdv[2]])\n",
    "        colors.append(ccolor)\n",
    "        scales.append([0.03, 0.03, 0.03])\n",
    "\n",
    "        all_colors.append(row.color)\n",
    "\n",
    "        if len(positions) == 50:\n",
    "            meshes = urchin.meshes.create(50)\n",
    "            urchin.meshes.set_positions(meshes, positions)\n",
    "            urchin.meshes.set_colors(meshes, colors)\n",
    "            urchin.meshes.set_scales(meshes, scales)\n",
    "\n",
    "            all_meshes += meshes\n",
    "            lab_meshes += meshes\n",
    "\n",
    "            positions = []\n",
    "            colors = []\n",
    "            scales = []\n",
    "\n",
    "            tick(start)\n",
    "\n",
    "    for i in np.arange(30):\n",
    "        tick(start)\n",
    "    urchin.meshes.set_colors(lab_meshes, [[0,0,0]]*len(lab_meshes))\n",
    "    urchin.meshes.set_scales(lab_meshes, [[0.01,0.01,0.01]]*len(lab_meshes))\n",
    "    \n",
    "    for i in np.arange(6):\n",
    "        tick(start)\n",
    "    \n",
    "urchin.meshes.set_colors(all_meshes, all_colors)\n",
    "urchin.meshes.set_scales(all_meshes, [[0.02,0.02,0.02]]*len(all_meshes))\n",
    "text.set_position([2,2])"
   ]
  },
  {
   "cell_type": "code",
   "execution_count": 17,
   "metadata": {},
   "outputs": [],
   "source": [
    "urchin.camera.main.set_rotation([-45, 0, 0])\n",
    "for i in np.arange(0,500):\n",
    "    urchin.camera.set_brain_rotation(i)\n",
    "    time.sleep(1/30)"
   ]
  }
 ],
 "metadata": {
  "kernelspec": {
   "display_name": "brainwidemap",
   "language": "python",
   "name": "python3"
  },
  "language_info": {
   "codemirror_mode": {
    "name": "ipython",
    "version": 3
   },
   "file_extension": ".py",
   "mimetype": "text/x-python",
   "name": "python",
   "nbconvert_exporter": "python",
   "pygments_lexer": "ipython3",
   "version": "3.10.13"
  }
 },
 "nbformat": 4,
 "nbformat_minor": 2
}
