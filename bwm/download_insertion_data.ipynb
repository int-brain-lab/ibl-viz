{
 "cells": [
  {
   "cell_type": "markdown",
   "id": "0b0a03a4-29dc-4087-9744-34cc82523ee6",
   "metadata": {},
   "source": [
    "# Download insertion ap/ml/dv coordinates and PIDs\n",
    "The data for this analysis was pulled from the electrophysiology atlas tables. Details can be found here:\n",
    "https://docs.google.com/document/d/1_B-h9YHKmM5ggd5pA_qhWr8MQdgnX2PuZyidDdvauZk/edit"
   ]
  },
  {
   "cell_type": "markdown",
   "id": "7f599d5a-90b4-49fe-8d3f-c68cfcd0849d",
   "metadata": {},
   "source": [
    "## Download pqt tables locally"
   ]
  },
  {
   "cell_type": "code",
   "execution_count": 1,
   "id": "b05d9146-2954-4714-bca9-92ae8ec5248f",
   "metadata": {},
   "outputs": [
    {
     "name": "stdout",
     "output_type": "stream",
     "text": [
      "Downloading: C:\\Users\\Dan\\Downloads\\ONE\\alyx.internationalbrainlab.org\\tmpufqrvkfv\\cache.zip Bytes: 84038324\n"
     ]
    },
    {
     "name": "stderr",
     "output_type": "stream",
     "text": [
      "100%|████████████████████████████████████████████████████| 80.14519119262695/80.14519119262695 [00:06<00:00, 13.15it/s]\n",
      "ephys_atlas\\tables\\channels.pqt: 100%|████████████████████████████████████████████| 1.91M/1.91M [00:00<00:00, 2.49MB/s]\n",
      "ephys_atlas\\tables\\clusters.pqt: 100%|████████████████████████████████████████████| 32.4M/32.4M [00:10<00:00, 3.04MB/s]\n",
      "ephys_atlas\\tables\\depths.pqt: 100%|██████████████████████████████████████████████| 3.27M/3.27M [00:01<00:00, 2.73MB/s]\n",
      "ephys_atlas\\tables\\probes.pqt: 100%|███████████████████████████████████████████████| 41.4k/41.4k [00:00<00:00, 208kB/s]\n",
      "ephys_atlas\\tables\\raw_ephys_features.pqt: 100%|██████████████████████████████████| 23.9M/23.9M [00:02<00:00, 9.24MB/s]\n",
      "ephys_atlas\\tables\\xyz_picks.pqt: 100%|██████████████████████████████████████████████| 311k/311k [00:00<00:00, 872kB/s]\n"
     ]
    },
    {
     "data": {
      "text/plain": [
       "<AxesSubplot:xlabel='label', ylabel='count'>"
      ]
     },
     "execution_count": 1,
     "metadata": {},
     "output_type": "execute_result"
    },
    {
     "data": {
      "image/png": "[encoded data removed]",
      "text/plain": [
       "<Figure size 432x288 with 1 Axes>"
      ]
     },
     "metadata": {
      "needs_background": "light"
     },
     "output_type": "display_data"
    },
    {
     "data": {
      "image/png": "[encoded data removed]",
      "text/plain": [
       "<Figure size 432x288 with 1 Axes>"
      ]
     },
     "metadata": {
      "needs_background": "light"
     },
     "output_type": "display_data"
    }
   ],
   "source": [
    "import pandas as pd\n",
    "\n",
    "from pathlib import Path\n",
    "from one.remote import aws\n",
    "from one.api import ONE\n",
    "\n",
    "LOCAL_DATA_PATH = Path(\"./ephys_atlas/tables/\")\n",
    "\n",
    "# The AWS private credentials are stored in Alyx, so that only one authentication is required\n",
    "one = ONE(base_url=\"https://alyx.internationalbrainlab.org\", mode='online')\n",
    "s3, bucket_name = aws.get_s3_from_alyx(alyx=one.alyx)\n",
    "aws.s3_download_folder(\"aggregates/bwm\",\n",
    "                       LOCAL_DATA_PATH,\n",
    "                       s3=s3, bucket_name=bucket_name)\n",
    "\n",
    "df_clusters = pd.read_parquet(LOCAL_DATA_PATH.joinpath('clusters.pqt'))\n",
    "df_probes = pd.read_parquet(LOCAL_DATA_PATH.joinpath('probes.pqt'))\n",
    "df_channels = pd.read_parquet(LOCAL_DATA_PATH.joinpath('channels.pqt'))\n",
    "df_depths = pd.read_parquet(LOCAL_DATA_PATH.joinpath('depths.pqt'))\n",
    "df_voltage = pd.read_parquet(LOCAL_DATA_PATH.joinpath('raw_ephys_features.pqt'))\n",
    "\n",
    "## %%\n",
    "import seaborn as sns\n",
    "import matplotlib.pyplot as plt\n",
    "plt.figure()\n",
    "sns.countplot(data=df_probes, x='histology', palette='deep')\n",
    "\n",
    "plt.figure()\n",
    "sns.countplot(data=df_clusters, x='label',  palette='deep')"
   ]
  },
  {
   "cell_type": "markdown",
   "id": "4b8a3b5f-a587-4989-982b-071c7589062f",
   "metadata": {},
   "source": [
    "## Convert clusters table to CSV, drop columns, and add ml/ap/dv coordinates"
   ]
  },
  {
   "cell_type": "code",
   "execution_count": 2,
   "id": "220f72be-c25b-4d7c-a9f5-7d1e930007bb",
   "metadata": {},
   "outputs": [],
   "source": [
    "clusters = pd.read_parquet('./ephys_atlas/tables/clusters.pqt')\n",
    "channels = pd.read_parquet('./ephys_atlas/tables/channels.pqt')"
   ]
  },
  {
   "cell_type": "code",
   "execution_count": 4,
   "id": "c7bbed4f-548f-4bdc-bd12-5acc9a3dce1c",
   "metadata": {},
   "outputs": [],
   "source": [
    "import ibllib.atlas as atlas\n",
    "CCFAtlas = atlas.AllenAtlas(25)"
   ]
  },
  {
   "cell_type": "code",
   "execution_count": 8,
   "id": "3f2d3b3a-c7b7-4ae5-86a6-1eb01b097cde",
   "metadata": {},
   "outputs": [],
   "source": [
    "# convert xyz to ml/ap/dv coordinates\n",
    "xyz = clusters[['x','y','z']].values"
   ]
  },
  {
   "cell_type": "code",
   "execution_count": 11,
   "id": "01cc11d3-05b1-4e60-acf1-fa42a4748931",
   "metadata": {},
   "outputs": [],
   "source": [
    "mlapdv = CCFAtlas.xyz2ccf(xyz)"
   ]
  },
  {
   "cell_type": "code",
   "execution_count": 12,
   "id": "390687a6-c65f-4c59-baa4-dd86e6af4f25",
   "metadata": {},
   "outputs": [],
   "source": [
    "clusters['ml'] = mlapdv[:,0]\n",
    "clusters['ap'] = mlapdv[:,1]\n",
    "clusters['dv'] = mlapdv[:,2]"
   ]
  },
  {
   "cell_type": "code",
   "execution_count": null,
   "id": "b9d0a110-da86-43f2-a014-5a569248a567",
   "metadata": {},
   "outputs": [],
   "source": [
    "clusters.to_csv('./clusters.csv'"
   ]
  }
 ],
 "metadata": {
  "kernelspec": {
   "display_name": "Python 3 (ipykernel)",
   "language": "python",
   "name": "python3"
  },
  "language_info": {
   "codemirror_mode": {
    "name": "ipython",
    "version": 3
   },
   "file_extension": ".py",
   "mimetype": "text/x-python",
   "name": "python",
   "nbconvert_exporter": "python",
   "pygments_lexer": "ipython3",
   "version": "3.9.0"
  }
 },
 "nbformat": 4,
 "nbformat_minor": 5
}
