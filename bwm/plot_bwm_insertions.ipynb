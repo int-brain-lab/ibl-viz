{
 "cells": [
  {
   "attachments": {},
   "cell_type": "markdown",
   "id": "1f6265ca",
   "metadata": {},
   "source": [
    "# BWM Paper Figure 1 coverage\n",
    "\n",
    "This code depends on the bwm trajectories, which are pre-computed in bwm_all_traj.csv (or can be re-computed using the relevant scripts)"
   ]
  },
  {
   "cell_type": "code",
   "id": "4b31c198-751b-4319-bffe-7f857b88d961",
   "metadata": {
    "ExecuteTime": {
     "end_time": "2024-09-24T14:58:43.228067Z",
     "start_time": "2024-09-24T14:58:43.219406Z"
    }
   },
   "source": [
    "import oursin as urchin\n",
    "import pandas as pd\n",
    "import numpy as np\n",
    "from iblatlas.atlas import Insertion, AllenAtlas\n",
    "from one.api import ONE\n",
    "from brainwidemap import bwm_query"
   ],
   "outputs": [],
   "execution_count": 19
  },
  {
   "cell_type": "code",
   "id": "fe6a9179-d487-4b29-9b8b-70aa87bf897e",
   "metadata": {
    "ExecuteTime": {
     "end_time": "2024-09-24T14:58:45.014306Z",
     "start_time": "2024-09-24T14:58:45.011252Z"
    }
   },
   "source": [
    "def rgb_to_hex(rgb):\n",
    "    return '#%02x%02x%02x' % rgb\n",
    "\n",
    "\n",
    "def vec_dist(coord0, coord1):\n",
    "    return np.sqrt(np.sum(np.power([coord0[0]-coord1[0],coord0[1]-coord1[1],coord0[2]-coord1[2]],2)))\n"
   ],
   "outputs": [],
   "execution_count": 20
  },
  {
   "cell_type": "code",
   "id": "19e33bd4-c7a7-49f2-a42b-0a39fed6a666",
   "metadata": {
    "ExecuteTime": {
     "end_time": "2024-09-24T14:58:48.671062Z",
     "start_time": "2024-09-24T14:58:48.021751Z"
    }
   },
   "source": [
    "\n",
    "ba = AllenAtlas(25)\n",
    "one = ONE()\n",
    "# one = ONE(base_url='https://openalyx.internationalbrainlab.org',\n",
    "#           password='international', silent=True)\n",
    "df = bwm_query(one)\n",
    "len(df)"
   ],
   "outputs": [
    {
     "name": "stdout",
     "output_type": "stream",
     "text": [
      "Loading bwm_query results from fixtures/2023_12_bwm_release.csv\n"
     ]
    },
    {
     "data": {
      "text/plain": [
       "699"
      ]
     },
     "execution_count": 21,
     "metadata": {},
     "output_type": "execute_result"
    }
   ],
   "execution_count": 21
  },
  {
   "cell_type": "code",
   "id": "ad9b45d0-2a9f-4c2c-a254-3402c2da22bc",
   "metadata": {
    "ExecuteTime": {
     "end_time": "2024-09-24T14:58:50.499631Z",
     "start_time": "2024-09-24T14:58:50.492955Z"
    }
   },
   "source": "df",
   "outputs": [
    {
     "data": {
      "text/plain": [
       "                                      pid  \\\n",
       "0    56f2a378-78d2-4132-b3c8-8c1ba82be598   \n",
       "1    47be9ae4-290f-46ab-b047-952bc3a1a509   \n",
       "2    6be21156-33b0-4f70-9a0f-65b3e3cd6d4a   \n",
       "3    8dfb86c8-d45c-46c4-90ec-33078014d434   \n",
       "4    c893c0a3-5597-49cf-baa1-60efdfdef542   \n",
       "..                                    ...   \n",
       "694  8bf0f1a4-0d8c-4df3-a99e-f7c81c809652   \n",
       "695  5d570bf6-a4c6-4bf1-a14b-2c878c84ef0e   \n",
       "696  f7c93877-ec05-4091-a003-e69fae0f2fa8   \n",
       "697  675952a4-e8b3-4e82-a179-cc970d5a8b01   \n",
       "698  79f44ba1-c931-4346-82eb-f628a9374045   \n",
       "\n",
       "                                      eid probe_name  session_number  \\\n",
       "0    6713a4a7-faed-4df2-acab-ee4e63326f8d    probe00               1   \n",
       "1    56956777-dca5-468c-87cb-78150432cc57    probe01               1   \n",
       "2    56956777-dca5-468c-87cb-78150432cc57    probe00               1   \n",
       "3    4364a246-f8d7-4ce7-ba23-a098104b96e4    probe01               1   \n",
       "4    b182b754-3c3e-4942-8144-6ee790926b58    probe01               1   \n",
       "..                                    ...        ...             ...   \n",
       "694  993c7024-0abc-4028-ad30-d397ad55b084    probe01               1   \n",
       "695  fece187f-b47f-4870-a1d6-619afe942a7d    probe01               1   \n",
       "696  fece187f-b47f-4870-a1d6-619afe942a7d    probe00               1   \n",
       "697  c7bd79c9-c47e-4ea5-aea3-74dda991b48e    probe01               1   \n",
       "698  c7bd79c9-c47e-4ea5-aea3-74dda991b48e    probe00               1   \n",
       "\n",
       "           date      subject          lab  \n",
       "0    2020-02-18       NYU-11  angelakilab  \n",
       "1    2020-02-21       NYU-11  angelakilab  \n",
       "2    2020-02-21       NYU-11  angelakilab  \n",
       "3    2020-01-20       NYU-12  angelakilab  \n",
       "4    2020-01-21       NYU-12  angelakilab  \n",
       "..          ...          ...          ...  \n",
       "694  2020-09-16  CSH_ZAD_029     zadorlab  \n",
       "695  2020-09-17  CSH_ZAD_029     zadorlab  \n",
       "696  2020-09-17  CSH_ZAD_029     zadorlab  \n",
       "697  2020-09-19  CSH_ZAD_029     zadorlab  \n",
       "698  2020-09-19  CSH_ZAD_029     zadorlab  \n",
       "\n",
       "[699 rows x 7 columns]"
      ],
      "text/html": [
       "<div>\n",
       "<style scoped>\n",
       "    .dataframe tbody tr th:only-of-type {\n",
       "        vertical-align: middle;\n",
       "    }\n",
       "\n",
       "    .dataframe tbody tr th {\n",
       "        vertical-align: top;\n",
       "    }\n",
       "\n",
       "    .dataframe thead th {\n",
       "        text-align: right;\n",
       "    }\n",
       "</style>\n",
       "<table border=\"1\" class=\"dataframe\">\n",
       "  <thead>\n",
       "    <tr style=\"text-align: right;\">\n",
       "      <th></th>\n",
       "      <th>pid</th>\n",
       "      <th>eid</th>\n",
       "      <th>probe_name</th>\n",
       "      <th>session_number</th>\n",
       "      <th>date</th>\n",
       "      <th>subject</th>\n",
       "      <th>lab</th>\n",
       "    </tr>\n",
       "  </thead>\n",
       "  <tbody>\n",
       "    <tr>\n",
       "      <th>0</th>\n",
       "      <td>56f2a378-78d2-4132-b3c8-8c1ba82be598</td>\n",
       "      <td>6713a4a7-faed-4df2-acab-ee4e63326f8d</td>\n",
       "      <td>probe00</td>\n",
       "      <td>1</td>\n",
       "      <td>2020-02-18</td>\n",
       "      <td>NYU-11</td>\n",
       "      <td>angelakilab</td>\n",
       "    </tr>\n",
       "    <tr>\n",
       "      <th>1</th>\n",
       "      <td>47be9ae4-290f-46ab-b047-952bc3a1a509</td>\n",
       "      <td>56956777-dca5-468c-87cb-78150432cc57</td>\n",
       "      <td>probe01</td>\n",
       "      <td>1</td>\n",
       "      <td>2020-02-21</td>\n",
       "      <td>NYU-11</td>\n",
       "      <td>angelakilab</td>\n",
       "    </tr>\n",
       "    <tr>\n",
       "      <th>2</th>\n",
       "      <td>6be21156-33b0-4f70-9a0f-65b3e3cd6d4a</td>\n",
       "      <td>56956777-dca5-468c-87cb-78150432cc57</td>\n",
       "      <td>probe00</td>\n",
       "      <td>1</td>\n",
       "      <td>2020-02-21</td>\n",
       "      <td>NYU-11</td>\n",
       "      <td>angelakilab</td>\n",
       "    </tr>\n",
       "    <tr>\n",
       "      <th>3</th>\n",
       "      <td>8dfb86c8-d45c-46c4-90ec-33078014d434</td>\n",
       "      <td>4364a246-f8d7-4ce7-ba23-a098104b96e4</td>\n",
       "      <td>probe01</td>\n",
       "      <td>1</td>\n",
       "      <td>2020-01-20</td>\n",
       "      <td>NYU-12</td>\n",
       "      <td>angelakilab</td>\n",
       "    </tr>\n",
       "    <tr>\n",
       "      <th>4</th>\n",
       "      <td>c893c0a3-5597-49cf-baa1-60efdfdef542</td>\n",
       "      <td>b182b754-3c3e-4942-8144-6ee790926b58</td>\n",
       "      <td>probe01</td>\n",
       "      <td>1</td>\n",
       "      <td>2020-01-21</td>\n",
       "      <td>NYU-12</td>\n",
       "      <td>angelakilab</td>\n",
       "    </tr>\n",
       "    <tr>\n",
       "      <th>...</th>\n",
       "      <td>...</td>\n",
       "      <td>...</td>\n",
       "      <td>...</td>\n",
       "      <td>...</td>\n",
       "      <td>...</td>\n",
       "      <td>...</td>\n",
       "      <td>...</td>\n",
       "    </tr>\n",
       "    <tr>\n",
       "      <th>694</th>\n",
       "      <td>8bf0f1a4-0d8c-4df3-a99e-f7c81c809652</td>\n",
       "      <td>993c7024-0abc-4028-ad30-d397ad55b084</td>\n",
       "      <td>probe01</td>\n",
       "      <td>1</td>\n",
       "      <td>2020-09-16</td>\n",
       "      <td>CSH_ZAD_029</td>\n",
       "      <td>zadorlab</td>\n",
       "    </tr>\n",
       "    <tr>\n",
       "      <th>695</th>\n",
       "      <td>5d570bf6-a4c6-4bf1-a14b-2c878c84ef0e</td>\n",
       "      <td>fece187f-b47f-4870-a1d6-619afe942a7d</td>\n",
       "      <td>probe01</td>\n",
       "      <td>1</td>\n",
       "      <td>2020-09-17</td>\n",
       "      <td>CSH_ZAD_029</td>\n",
       "      <td>zadorlab</td>\n",
       "    </tr>\n",
       "    <tr>\n",
       "      <th>696</th>\n",
       "      <td>f7c93877-ec05-4091-a003-e69fae0f2fa8</td>\n",
       "      <td>fece187f-b47f-4870-a1d6-619afe942a7d</td>\n",
       "      <td>probe00</td>\n",
       "      <td>1</td>\n",
       "      <td>2020-09-17</td>\n",
       "      <td>CSH_ZAD_029</td>\n",
       "      <td>zadorlab</td>\n",
       "    </tr>\n",
       "    <tr>\n",
       "      <th>697</th>\n",
       "      <td>675952a4-e8b3-4e82-a179-cc970d5a8b01</td>\n",
       "      <td>c7bd79c9-c47e-4ea5-aea3-74dda991b48e</td>\n",
       "      <td>probe01</td>\n",
       "      <td>1</td>\n",
       "      <td>2020-09-19</td>\n",
       "      <td>CSH_ZAD_029</td>\n",
       "      <td>zadorlab</td>\n",
       "    </tr>\n",
       "    <tr>\n",
       "      <th>698</th>\n",
       "      <td>79f44ba1-c931-4346-82eb-f628a9374045</td>\n",
       "      <td>c7bd79c9-c47e-4ea5-aea3-74dda991b48e</td>\n",
       "      <td>probe00</td>\n",
       "      <td>1</td>\n",
       "      <td>2020-09-19</td>\n",
       "      <td>CSH_ZAD_029</td>\n",
       "      <td>zadorlab</td>\n",
       "    </tr>\n",
       "  </tbody>\n",
       "</table>\n",
       "<p>699 rows × 7 columns</p>\n",
       "</div>"
      ]
     },
     "execution_count": 22,
     "metadata": {},
     "output_type": "execute_result"
    }
   ],
   "execution_count": 22
  },
  {
   "metadata": {
    "ExecuteTime": {
     "end_time": "2024-09-24T15:05:48.809842Z",
     "start_time": "2024-09-24T15:05:48.379839Z"
    }
   },
   "cell_type": "code",
   "source": [
    "# Create bw dataframe containing columns on insertion position\n",
    "COLUMN_NAMES = ['pid', 'phi_e', 'theta_e',\n",
    "                'ml_t_e', 'ap_t_e', 'dv_t_e',\n",
    "                'ml_e_e', 'ap_e_e', 'dv_e_e']\n",
    "bwm = pd.DataFrame(columns=COLUMN_NAMES)\n",
    "bwm['pid'] = df['pid']\n",
    "\n",
    "# from needles2.probe_model import ProbeModel\n",
    "# pr = ProbeModel(ba=ba, lazy=True)\n",
    "\n",
    "for i,row in df.iterrows():\n",
    "    # Get trajectory (TODO assumed here all have histology track)\n",
    "    traj = one.alyx.rest('trajectories', 'list', provenance='Histology track', probe_insertion=row['pid'])[0]\n",
    "    # Note: Some can be Nan, take Planned instead\n",
    "    if np.isnan(traj['x']):\n",
    "        traj = one.alyx.rest('trajectories', 'list', provenance='Planned', probe_insertion=row['pid'])[0]\n",
    "    \n",
    "    # Create insertion from traj to get entry/tip points\n",
    "    ins = Insertion(x=traj['x']/1e6, y=traj['y']/1e6, z=traj['z']/1e6, phi=traj['phi'], theta=traj['theta'], depth=traj['depth'], label='', beta=0)\n",
    "    # Convert ins.entry, ins.tip into CCF coordinate framework\n",
    "    bregma_mlapdv = np.array([ins.entry, ins.tip]) / 1e6 \n",
    "    ccf_mlapdv = ba.xyz2ccf(bregma_mlapdv, ccf_order='mlapdv')\n",
    "    # Save values in dataframe\n",
    "    bwm.at[i, 'phi_e'] = traj['phi']  # TODO this is not in CCF\n",
    "    bwm.at[i, 'theta_e'] = traj['theta']  # TODO this is not in CCF\n",
    "    # Entry\n",
    "    bwm.at[i, 'ml_e_e'] = ccf_mlapdv[0][0]\n",
    "    bwm.at[i, 'ap_e_e'] = ccf_mlapdv[0][1]\n",
    "    bwm.at[i, 'dv_e_e'] = ccf_mlapdv[0][2]\n",
    "    # Tip\n",
    "    bwm.at[i, 'ml_t_e'] = ccf_mlapdv[0][0]\n",
    "    bwm.at[i, 'ap_t_e'] = ccf_mlapdv[0][1]\n",
    "    bwm.at[i, 'dv_t_e'] = ccf_mlapdv[0][2]"
   ],
   "id": "79072f3ea93201af",
   "outputs": [],
   "execution_count": 26
  },
  {
   "cell_type": "code",
   "id": "21b7400c-44bd-4ec2-a4c2-a9da4aa3395f",
   "metadata": {
    "ExecuteTime": {
     "end_time": "2024-09-24T15:05:54.783551Z",
     "start_time": "2024-09-24T15:05:54.750994Z"
    }
   },
   "source": [
    "probeNames = []\n",
    "probePos = {}\n",
    "probeAngle = {}\n",
    "probeColor = {}\n",
    "probeMaterial = {}\n",
    "probeDepth = {}\n",
    "\n",
    "for i,row in bwm.iterrows():\n",
    "    name = 'p'+str(i)\n",
    "    probeNames.append(name)\n",
    "    \n",
    "    probePos[name] = [row['ml_t_e'],row['ap_t_e'],row['dv_t_e']]\n",
    "    probeAngle[name] = [row['phi_e'],row['theta_e'],0]\n",
    "    probeColor[name] = rgb_to_hex((180,180,180))\n",
    "    \n",
    "    depth = vec_dist((row['ml_t_e'],row['ap_t_e'],row['dv_t_e']),(row['ml_e_e'],row['ap_e_e'],row['dv_e_e'])) \n",
    "    probeDepth[name] = [0.070, int(np.round(depth)/1000), 0.020]\n",
    "    \n",
    "    probeMaterial[name] = 'opaque-unlit'"
   ],
   "outputs": [],
   "execution_count": 27
  },
  {
   "cell_type": "code",
   "id": "f813036f-8935-43b7-ab50-c89b9e9b0beb",
   "metadata": {
    "ExecuteTime": {
     "end_time": "2024-09-24T15:06:00.339637Z",
     "start_time": "2024-09-24T15:05:58.992321Z"
    }
   },
   "source": [
    "urchin.setup()"
   ],
   "outputs": [
    {
     "name": "stdout",
     "output_type": "stream",
     "text": [
      "(URN) connected to server\n",
      "Login sent with ID: d82d8814, copy this ID into the renderer to connect.\n"
     ]
    }
   ],
   "execution_count": 28
  },
  {
   "cell_type": "code",
   "id": "16389e67-3fe4-4b05-85cf-1273791ad2d7",
   "metadata": {
    "ExecuteTime": {
     "end_time": "2024-09-24T15:06:11.518042Z",
     "start_time": "2024-09-24T15:06:11.484484Z"
    }
   },
   "source": "# urchin.clear()",
   "outputs": [
    {
     "ename": "UnboundLocalError",
     "evalue": "local variable 'lines' referenced before assignment",
     "output_type": "error",
     "traceback": [
      "\u001B[0;31m---------------------------------------------------------------------------\u001B[0m",
      "\u001B[0;31mUnboundLocalError\u001B[0m                         Traceback (most recent call last)",
      "Cell \u001B[0;32mIn[29], line 1\u001B[0m\n\u001B[0;32m----> 1\u001B[0m \u001B[43murchin\u001B[49m\u001B[38;5;241;43m.\u001B[39;49m\u001B[43mclear\u001B[49m\u001B[43m(\u001B[49m\u001B[43m)\u001B[49m\n",
      "File \u001B[0;32m/opt/anaconda3/envs/iblenv/lib/python3.10/site-packages/oursin/renderer.py:67\u001B[0m, in \u001B[0;36mclear\u001B[0;34m()\u001B[0m\n\u001B[1;32m     65\u001B[0m camera\u001B[38;5;241m.\u001B[39mclear()\n\u001B[1;32m     66\u001B[0m custom\u001B[38;5;241m.\u001B[39mclear()\n\u001B[0;32m---> 67\u001B[0m \u001B[43mlines\u001B[49m\u001B[38;5;241;43m.\u001B[39;49m\u001B[43mclear\u001B[49m\u001B[43m(\u001B[49m\u001B[43m)\u001B[49m\n\u001B[1;32m     68\u001B[0m meshes\u001B[38;5;241m.\u001B[39mclear()\n\u001B[1;32m     69\u001B[0m particles\u001B[38;5;241m.\u001B[39mclear()\n",
      "File \u001B[0;32m/opt/anaconda3/envs/iblenv/lib/python3.10/site-packages/oursin/lines.py:123\u001B[0m, in \u001B[0;36mclear\u001B[0;34m()\u001B[0m\n\u001B[1;32m    119\u001B[0m \u001B[38;5;250m\u001B[39m\u001B[38;5;124;03m\"\"\"Clear all Line objects that have been created\u001B[39;00m\n\u001B[1;32m    120\u001B[0m \u001B[38;5;124;03m\"\"\"\u001B[39;00m\n\u001B[1;32m    121\u001B[0m \u001B[38;5;28;01mglobal\u001B[39;00m line\n\u001B[0;32m--> 123\u001B[0m \u001B[38;5;28;01mfor\u001B[39;00m line \u001B[38;5;129;01min\u001B[39;00m \u001B[43mlines\u001B[49m:\n\u001B[1;32m    124\u001B[0m   line\u001B[38;5;241m.\u001B[39mdelete()\n\u001B[1;32m    126\u001B[0m lines \u001B[38;5;241m=\u001B[39m []\n",
      "\u001B[0;31mUnboundLocalError\u001B[0m: local variable 'lines' referenced before assignment"
     ]
    }
   ],
   "execution_count": 29
  },
  {
   "cell_type": "code",
   "id": "90db2e0a-d3b4-4e33-97a3-ed8222401d5a",
   "metadata": {
    "ExecuteTime": {
     "end_time": "2024-09-24T15:06:14.688140Z",
     "start_time": "2024-09-24T15:06:14.683239Z"
    }
   },
   "source": [
    "areas = [22, 31, 44, 95, 184, 247, 254, 343, 453, 500, 512, 541, 623, 669, 677, 698, 703, 714, 895, 922, 972, 1057, 1089]\n",
    "\n",
    "area_vis = {}\n",
    "area_mat = {}\n",
    "area_alpha = {}\n",
    "\n",
    "for area in areas:\n",
    "  area_vis[area] = True\n",
    "  area_mat[area] = 'transparent-unlit'\n",
    "  area_alpha[area] = 0.15"
   ],
   "outputs": [],
   "execution_count": 30
  },
  {
   "cell_type": "code",
   "id": "c547a2fc",
   "metadata": {
    "ExecuteTime": {
     "end_time": "2024-09-24T15:06:21.468818Z",
     "start_time": "2024-09-24T15:06:21.450019Z"
    }
   },
   "source": [
    "urchin.ccf.set_visibility(area_vis)\n",
    "urchin.ccf.set_material(area_mat)\n",
    "urchin.ccf.set_alpha(area_alpha)\n",
    "\n",
    "urchin.ccf.set_color({'512':'#6D712E'})"
   ],
   "outputs": [
    {
     "ename": "AttributeError",
     "evalue": "module 'oursin' has no attribute 'ccf'",
     "output_type": "error",
     "traceback": [
      "\u001B[0;31m---------------------------------------------------------------------------\u001B[0m",
      "\u001B[0;31mAttributeError\u001B[0m                            Traceback (most recent call last)",
      "Cell \u001B[0;32mIn[31], line 1\u001B[0m\n\u001B[0;32m----> 1\u001B[0m \u001B[43murchin\u001B[49m\u001B[38;5;241;43m.\u001B[39;49m\u001B[43mccf\u001B[49m\u001B[38;5;241m.\u001B[39mset_visibility(area_vis)\n\u001B[1;32m      2\u001B[0m urchin\u001B[38;5;241m.\u001B[39mccf\u001B[38;5;241m.\u001B[39mset_material(area_mat)\n\u001B[1;32m      3\u001B[0m urchin\u001B[38;5;241m.\u001B[39mccf\u001B[38;5;241m.\u001B[39mset_alpha(area_alpha)\n",
      "\u001B[0;31mAttributeError\u001B[0m: module 'oursin' has no attribute 'ccf'"
     ]
    }
   ],
   "execution_count": 31
  },
  {
   "cell_type": "code",
   "execution_count": 51,
   "id": "1142c45a-e027-4969-a52a-c6209c61abdd",
   "metadata": {},
   "outputs": [],
   "source": [
    "urchin.clear_probes()"
   ]
  },
  {
   "cell_type": "code",
   "execution_count": 14,
   "id": "8d97b4c9-0fa1-4f8a-bda3-4e949fdeca2c",
   "metadata": {},
   "outputs": [],
   "source": [
    "urchin.probes.create(probeNames)\n",
    "urchin.probes.set_position(probePos)\n",
    "urchin.probes.set_angle(probeAngle)\n",
    "urchin.probes.set_color(probeColor)\n",
    "urchin.probes.set_size(probeDepth)"
   ]
  },
  {
   "cell_type": "code",
   "execution_count": 15,
   "id": "d46571d8-5914-46a4-89b0-c49eb7ae132e",
   "metadata": {},
   "outputs": [],
   "source": [
    "urchin.camera.set_rotation(45,0,135)"
   ]
  },
  {
   "cell_type": "code",
   "execution_count": null,
   "id": "7099a32b",
   "metadata": {},
   "outputs": [],
   "source": []
  }
 ],
 "metadata": {
  "kernelspec": {
   "display_name": "Python 3.9.10 ('iblenv')",
   "language": "python",
   "name": "python3"
  },
  "language_info": {
   "codemirror_mode": {
    "name": "ipython",
    "version": 3
   },
   "file_extension": ".py",
   "mimetype": "text/x-python",
   "name": "python",
   "nbconvert_exporter": "python",
   "pygments_lexer": "ipython3",
   "version": "3.10.13"
  },
  "vscode": {
   "interpreter": {
    "hash": "4225be81b5357c529c38c12afdf9f4987fe9414ca9962627f4f2d77123f1f35a"
   }
  }
 },
 "nbformat": 4,
 "nbformat_minor": 5
}
