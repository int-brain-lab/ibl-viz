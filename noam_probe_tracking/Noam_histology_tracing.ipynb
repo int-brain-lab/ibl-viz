{
 "cells": [
  {
   "cell_type": "code",
   "execution_count": 1,
   "id": "540f237f",
   "metadata": {
    "scrolled": true
   },
   "outputs": [
    {
     "name": "stderr",
     "output_type": "stream",
     "text": [
      "C:\\Users\\noamroth\\anaconda3\\envs\\iblenv\\lib\\site-packages\\ibllib\\atlas\\regions.py:439: RuntimeWarning: invalid value encountered in cast\n",
      "  level=df_regions.depth.to_numpy().astype(np.uint16),\n",
      "C:\\Users\\noamroth\\anaconda3\\envs\\iblenv\\lib\\site-packages\\ibllib\\atlas\\regions.py:441: RuntimeWarning: invalid value encountered in cast\n",
      "  order=df_regions.graph_order.to_numpy().astype(np.uint16))\n"
     ]
    }
   ],
   "source": [
    "import json\n",
    "import sys\n",
    "import os\n",
    "import numpy as np\n",
    "import oursin as urchin\n",
    "\n",
    "from one.api import ONE\n",
    "one = ONE()\n",
    "one.alyx.clear_rest_cache()\n",
    "one = ONE()\n",
    "import ibllib.atlas as atlas\n",
    "ba = atlas.AllenAtlas(25)\n",
    "\n",
    "\n"
   ]
  },
  {
   "cell_type": "code",
   "execution_count": 2,
   "id": "80e05381",
   "metadata": {},
   "outputs": [
    {
     "name": "stdout",
     "output_type": "stream",
     "text": [
      "(URN) connected to server\n",
      "Login sent with ID: 445e9f27, copy this ID into the renderer to connect.\n"
     ]
    }
   ],
   "source": [
    "urchin.setup()"
   ]
  },
  {
   "cell_type": "code",
   "execution_count": 32,
   "id": "f26949b4",
   "metadata": {},
   "outputs": [
    {
     "name": "stdout",
     "output_type": "stream",
     "text": [
      "(Warning) Atlas was already loaded, the renderer can have issues if you try to load an atlas twice.\n"
     ]
    }
   ],
   "source": [
    "urchin.ccf25.load()"
   ]
  },
  {
   "cell_type": "code",
   "execution_count": 4,
   "id": "71c7e0b3",
   "metadata": {},
   "outputs": [
    {
     "name": "stdout",
     "output_type": "stream",
     "text": [
      "Number of micromanipulator trajectories in this mouse:  7\n"
     ]
    }
   ],
   "source": [
    "#change subject name here:\n",
    "subject = 'NR_0028'\n",
    "traj_subj_micro = one.alyx.rest('trajectories', 'list', subject=subject, provenance = 'Micro-manipulator')\n",
    "\n",
    "print('Number of micromanipulator trajectories in this mouse: ', len(traj_subj_micro))"
   ]
  },
  {
   "cell_type": "code",
   "execution_count": 35,
   "id": "c7740b72",
   "metadata": {},
   "outputs": [
    {
     "name": "stdout",
     "output_type": "stream",
     "text": [
      "[90.0, 75.0, 0]\n",
      "[90.0, 75.0, 0]\n",
      "[90.0, 75.0, 0]\n",
      "[-90.0, 75.0, 0]\n",
      "[90.0, 75.0, 0]\n",
      "[-90.0, 75.0, 0]\n",
      "[90.0, 75.0, 0]\n"
     ]
    }
   ],
   "source": [
    "#Loop through all of the trajectories, get the entry/tip coordinates and angles, and plot\n",
    "import random\n",
    "no_of_colors=len(traj_subj_micro)\n",
    "color=[\"#\"+''.join([random.choice('0123456789ABCDEF') for i in range(6)])\n",
    "       for j in range(no_of_colors)]\n",
    "\n",
    "count = 0\n",
    "probe_list = urchin.probes.create(len(traj_subj_micro)) #create a list of probes with length trajectories\n",
    "probe_names = []\n",
    "session_numbers = []\n",
    "probe_entry_coords = []\n",
    "probe_depth_coords = []\n",
    "probe_angle_coords = []\n",
    "for traj_micro in traj_subj_micro:\n",
    "\n",
    "    if len(traj_micro)>0: # skip empty trajectories, so these will just be blank in the probe_list\n",
    "    \n",
    "        ins_micro = atlas.Insertion.from_dict(traj_micro)\n",
    "        probe_name = traj_micro['session']['start_time'][0:10] + '  ' + traj_micro['probe_name']\n",
    "        session_number = traj_micro['session']['number']\n",
    "       \n",
    "        try:                      \n",
    "            entry_coords_micro = ba.xyz2ccf(ins_micro.entry, mode='wrap')\n",
    "            tip_coords_micro = ba.xyz2ccf(ins_micro.tip,mode='wrap')\n",
    "            tip_coords_micro = [tip_coords_micro[1], tip_coords_micro[0], tip_coords_micro[-1]] #swap X/Y from IBL (X,Y,Z) to be compatible with urchin (AP,ML,DV)\n",
    "           \n",
    "            if ins_micro.phi ==15: #this means user error swapped phi and theta\n",
    "                theta = ins_micro.phi\n",
    "                phi = ins_micro.theta\n",
    "                ins_micro.theta = theta\n",
    "                ins_micro.phi = phi\n",
    "                \n",
    "            tip_angles_micro = [ins_micro.phi-90, 90-ins_micro.theta, ins_micro.beta]\n",
    "            print(tip_angles_micro)\n",
    "        except Exception as error:\n",
    "            print('Not able to display this trajectory, pid ={}, {} '.format( traj_micro['probe_insertion'], probe_name))\n",
    "            print(error)\n",
    "            continue                \n",
    "        \n",
    "        \n",
    "        probe_list[count].set_position(tip_coords_micro)\n",
    "        probe_list[count].set_color(color[count])\n",
    "        probe_list[count].set_angle(tip_angles_micro)\n",
    "        probe_names.append(probe_name)\n",
    "        session_numbers.append(session_number)\n",
    "        probe_entry_coords.append(ins_micro.entry * 1e6)\n",
    "        probe_depth_coords.append(ins_micro.depth*1e6)\n",
    "        probe_angle_coords.append(ins_micro.theta)\n",
    "            \n",
    "            \n",
    "        count+=1\n",
    "    else:\n",
    "        print('Empty trajectory')\n",
    "        continue\n",
    "\n",
    "full_probe_details = [probe_names[i] + '  00'+ str(session_numbers[i]) + '  ' + str(probe_entry_coords[i]) + ' ' +  str(probe_depth_coords[i]) + \n",
    "                      '  ' + str(probe_angle_coords[i]) for i in range(len(probe_names))]\n"
   ]
  },
  {
   "cell_type": "code",
   "execution_count": 34,
   "id": "09deab6f",
   "metadata": {},
   "outputs": [],
   "source": [
    "\n",
    "urchin.ccf25.grey.set_visibility(True)\n",
    "urchin.ccf25.grey.set_material(\"transparent-unlit\")\n",
    "urchin.ccf25.grey.set_alpha(0.3)\n",
    "\n",
    "#Creating legend (text to list probe names, session numbers, and entry/angle/depth) \n",
    "text_list = urchin.text.create(len(traj_subj_micro))\n",
    "urchin.text.set_texts(text_list, full_probe_details)\n",
    "y_positions = np.arange(1,1-0.1*len(traj_subj_micro),-.1)\n",
    "\n",
    "urchin.text.set_positions(text_list, [[-1,y_positions[i]] for i in range(len(y_positions))])\n",
    "urchin.text.set_font_sizes(text_list, [24]*len(text_list))\n",
    "urchin.text.set_colors(text_list, color)"
   ]
  },
  {
   "cell_type": "code",
   "execution_count": null,
   "id": "34947ea6-ed20-4719-b970-99c968f90096",
   "metadata": {},
   "outputs": [],
   "source": []
  },
  {
   "cell_type": "code",
   "execution_count": null,
   "id": "8ea21e2f-acb1-4e1d-a8b9-ef2af6e20096",
   "metadata": {},
   "outputs": [],
   "source": []
  },
  {
   "cell_type": "code",
   "execution_count": null,
   "id": "f2c6f065-cebc-4ea4-beff-40b77957d9ee",
   "metadata": {},
   "outputs": [],
   "source": []
  },
  {
   "cell_type": "code",
   "execution_count": null,
   "id": "5ff3bbee-3912-490d-a6cd-0f34eec3b0dd",
   "metadata": {},
   "outputs": [],
   "source": [
    "[ins_micro.tip[1], ins_micro.tip[0], ins_micro.tip[-1]]"
   ]
  },
  {
   "cell_type": "code",
   "execution_count": null,
   "id": "1b797ff0-0999-4798-b357-6a4f33df45f3",
   "metadata": {},
   "outputs": [],
   "source": [
    "ins_micro.tip"
   ]
  },
  {
   "cell_type": "code",
   "execution_count": null,
   "id": "b3e9c9d8-ea59-4b37-8739-a9f1616a72cf",
   "metadata": {},
   "outputs": [],
   "source": [
    "ins_micro"
   ]
  },
  {
   "cell_type": "code",
   "execution_count": 12,
   "id": "0dda0371-bb1f-4e2d-afe7-23f986e55cf5",
   "metadata": {},
   "outputs": [
    {
     "data": {
      "text/plain": [
       "[-1783.0000000000002, 46.91427061512461, -5935.55495773441]"
      ]
     },
     "execution_count": 12,
     "metadata": {},
     "output_type": "execute_result"
    }
   ],
   "source": [
    "tip_coords_micro"
   ]
  },
  {
   "cell_type": "code",
   "execution_count": 14,
   "id": "8bb553fb-4313-45e3-a9b2-57916c441b4b",
   "metadata": {},
   "outputs": [
    {
     "data": {
      "text/plain": [
       "['2023-03-20  probe00  001  [-1914. -3575.     0.] 6400.0  15.0',\n",
       " '2023-03-14  probe00  001  [-1714.4 -1783.1  -251.9] 6316.4  15.0',\n",
       " '2023-03-07  probe00  001  [-2243.6 -2000.6  1062.3] 3977.3000000000006  15.0',\n",
       " '2023-03-07  probe01  001  [ 2122.  -2000.2  1131.5] 3965.9000000000005  0.0',\n",
       " '2023-03-15  probe00  003  [-1506.5 -1783.4  -147.1] 6024.7  15.0',\n",
       " '2023-03-15  probe01  003  [-2950.8 -2241.5  1127.8] 4397.0  0.0',\n",
       " '2023-03-10  probe00  001  [-1506. -1783.  -140.] 6000.0  15.0']"
      ]
     },
     "execution_count": 14,
     "metadata": {},
     "output_type": "execute_result"
    }
   ],
   "source": [
    "full_probe_details"
   ]
  }
 ],
 "metadata": {
  "kernelspec": {
   "display_name": "Python 3 (ipykernel)",
   "language": "python",
   "name": "python3"
  },
  "language_info": {
   "codemirror_mode": {
    "name": "ipython",
    "version": 3
   },
   "file_extension": ".py",
   "mimetype": "text/x-python",
   "name": "python",
   "nbconvert_exporter": "python",
   "pygments_lexer": "ipython3",
   "version": "3.10.12"
  }
 },
 "nbformat": 4,
 "nbformat_minor": 5
}
