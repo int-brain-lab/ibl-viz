{
 "cells": [
  {
   "cell_type": "code",
   "execution_count": 1,
   "metadata": {},
   "outputs": [
    {
     "name": "stderr",
     "output_type": "stream",
     "text": [
      "c:\\Users\\Dan\\.conda\\envs\\iblenv\\lib\\site-packages\\numpy\\_distributor_init.py:30: UserWarning: loaded more than 1 DLL from .libs:\n",
      "c:\\Users\\Dan\\.conda\\envs\\iblenv\\lib\\site-packages\\numpy\\.libs\\libopenblas.FB5AE2TYXYH2IJRDKGDGQ3XBKLKTF43H.gfortran-win_amd64.dll\n",
      "c:\\Users\\Dan\\.conda\\envs\\iblenv\\lib\\site-packages\\numpy\\.libs\\libopenblas.GK7GX5KEQ4F6UYO3P26ULGBQYHGQO7J4.gfortran-win_amd64.dll\n",
      "  warnings.warn(\"loaded more than 1 DLL from .libs:\"\n"
     ]
    }
   ],
   "source": [
    "import iblatlas.atlas as atlas\n",
    "from ibllib.plots import color_cycle\n",
    "from one.api import ONE\n",
    "import oursin as urchin\n",
    "\n",
    "one = ONE()\n",
    "ba = atlas.AllenAtlas(25)\n",
    "ba.compute_surface()"
   ]
  },
  {
   "cell_type": "code",
   "execution_count": 23,
   "metadata": {},
   "outputs": [],
   "source": [
    "def rgb2hex(rgb):\n",
    "  return '#%02x%02x%02x' % rgb"
   ]
  },
  {
   "cell_type": "code",
   "execution_count": 2,
   "metadata": {},
   "outputs": [],
   "source": [
    "\n",
    "pid = '3c283107-7012-48fc-a6c2-ed096b23974f'\n",
    "\n",
    "django_str = f'probe_insertion__id,{pid}'\n",
    "trajs = one.alyx.rest('trajectories', 'list', django=django_str, provenance='Micro-manipulator')\n",
    "traj = trajs[0]\n",
    "\n",
    "# fig = rendering.figure(grid=False)\n",
    "\n",
    "ins = atlas.Insertion.from_dict(traj, brain_atlas=ba)\n",
    "mlapdv = ba.xyz2ccf(ins.xyz)\n",
    "angles = [ins.phi, ins.theta, 0]\n",
    "# display the trajectory\n",
    "color = color_cycle(1)\n",
    "# mlab.plot3d(mlapdv[:, 1], mlapdv[:, 2], mlapdv[:, 0],\n",
    "#             line_width=1, tube_radius=20, color=color)"
   ]
  },
  {
   "cell_type": "code",
   "execution_count": 3,
   "metadata": {},
   "outputs": [
    {
     "name": "stdout",
     "output_type": "stream",
     "text": [
      "(URN) connected to server\n",
      "Login sent with ID: Dan\n"
     ]
    }
   ],
   "source": [
    "urchin.setup()"
   ]
  },
  {
   "cell_type": "code",
   "execution_count": 26,
   "metadata": {},
   "outputs": [],
   "source": [
    "urchin.ccf.set_visibility({'grey':True})\n",
    "urchin.ccf.set_material({'grey':'transparent-unlit'})\n",
    "urchin.ccf.set_alpha({'grey':0.2})\n",
    "\n",
    "urchin.camera.set_rotation(45,0,135)"
   ]
  },
  {
   "cell_type": "code",
   "execution_count": 27,
   "metadata": {},
   "outputs": [],
   "source": [
    "urchin.probes.create(['p1'])\n",
    "urchin.probes.set_position({'p1':list(mlapdv[1,:])})\n",
    "urchin.probes.set_angle({'p1':angles})\n",
    "urchin.probes.set_color({'p1':rgb2hex((int(255*color[0]), int(255*color[1]), int(255*color[2])))})"
   ]
  }
 ],
 "metadata": {
  "kernelspec": {
   "display_name": "iblenv",
   "language": "python",
   "name": "python3"
  },
  "language_info": {
   "codemirror_mode": {
    "name": "ipython",
    "version": 3
   },
   "file_extension": ".py",
   "mimetype": "text/x-python",
   "name": "python",
   "nbconvert_exporter": "python",
   "pygments_lexer": "ipython3",
   "version": "3.9.10"
  },
  "orig_nbformat": 4
 },
 "nbformat": 4,
 "nbformat_minor": 2
}
