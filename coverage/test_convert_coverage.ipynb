{
 "cells": [
  {
   "cell_type": "code",
   "execution_count": null,
   "metadata": {},
   "outputs": [],
   "source": [
    "from pathlib import Path\n",
    "from one.api import ONE\n",
    "from one.remote import aws\n",
    "\n",
    "LOCAL_DATA_PATH = Path.home().joinpath('/Users/gaelle/Desktop/Reports/Coverage/test/')\n",
    "\n",
    "one = ONE(base_url='https://alyx.internationalbrainlab.org')\n",
    "s3, bucket_name = aws.get_s3_from_alyx(alyx=one.alyx)\n",
    "# aws.s3_download_folder(\"resources/ephys-atlas-sample\", LOCAL_DATA_PATH, s3=s3, bucket_name=bucket_name)\n",
    "\n",
    "aws.s3_download_file('resources/physcoverage/coverage.npy',\n",
    "                     LOCAL_DATA_PATH.joinpath('coverage.npy'), s3=s3, bucket_name=bucket_name)"
   ]
  },
  {
   "cell_type": "code",
   "execution_count": 1,
   "metadata": {},
   "outputs": [],
   "source": [
    "import numpy as np"
   ]
  },
  {
   "cell_type": "code",
   "execution_count": 2,
   "metadata": {},
   "outputs": [
    {
     "name": "stdout",
     "output_type": "stream",
     "text": [
      "(528, 456, 320)\n"
     ]
    }
   ],
   "source": [
    "coverage = np.load('./data/coverage_brainreg_combined_SPmask_2023-05-10.npy')\n",
    "print(coverage.shape)"
   ]
  },
  {
   "cell_type": "code",
   "execution_count": 5,
   "metadata": {},
   "outputs": [],
   "source": []
  },
  {
   "cell_type": "code",
   "execution_count": 12,
   "metadata": {},
   "outputs": [],
   "source": [
    "coverage[np.isnan(coverage)] = 0\n",
    "with open('./data/coverage_compressed_raw.bytes', 'wb') as f:\n",
    "    f.write(coverage.astype(np.uint8).flatten().tobytes())"
   ]
  }
 ],
 "metadata": {
  "kernelspec": {
   "display_name": "iblenv",
   "language": "python",
   "name": "python3"
  },
  "language_info": {
   "codemirror_mode": {
    "name": "ipython",
    "version": 3
   },
   "file_extension": ".py",
   "mimetype": "text/x-python",
   "name": "python",
   "nbconvert_exporter": "python",
   "pygments_lexer": "ipython3",
   "version": "3.9.0"
  },
  "orig_nbformat": 4
 },
 "nbformat": 4,
 "nbformat_minor": 2
}
